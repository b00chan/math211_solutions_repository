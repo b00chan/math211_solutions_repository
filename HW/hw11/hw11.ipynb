{
 "cells": [
  {
   "cell_type": "markdown",
   "id": "144d5305",
   "metadata": {},
   "source": [
    "```\n",
    "BEGIN ASSIGNMENT \n",
    "init_cell: true \n",
    "export_cell: true \n",
    "files:\n",
    "    - plover_and_chick.jpeg\n",
    "    - plover_and_eggs.jpeg\n",
    "    - snowy_plover.csv\n",
    "    - d8error.py\n",
    "    - errorConfig.json\n",
    "export_cell:\n",
    "    pdf: false\n",
    "    force_save: false\n",
    "solutions_pdf: true\n",
    "template_pdf: true\n",
    "generate:\n",
    "    points_possible: 60.0\n",
    "    show_stdout: true\n",
    "    filtering: true\n",
    "    pagebreaks: true\n",
    "    zips: false\n",
    "```\n"
   ]
  },
  {
   "cell_type": "markdown",
   "id": "3dc2fe8c",
   "metadata": {},
   "source": [
    "# Homework 11: Regression Inference"
   ]
  },
  {
   "cell_type": "markdown",
   "id": "2073b3a0",
   "metadata": {},
   "source": [
    "**Helpful Resource:**\n",
    "\n",
    "- [Python Reference](http://data8.org/sp22/python-reference.html): Cheat sheet of helpful array & table methods used in Data 8!\n",
    "\n",
    "**Recommended Reading**: \n",
    "\n",
    "* [Using Confidence Intervals](https://inferentialthinking.com/chapters/13/4/Using_Confidence_Intervals.html)\n",
    "* [The Regression Line](https://inferentialthinking.com/chapters/15/2/Regression_Line.html#the-regression-line-in-standard-units)\n",
    "* [Inference for Regression](https://www.inferentialthinking.com/chapters/16/Inference_for_Regression.html)"
   ]
  },
  {
   "cell_type": "markdown",
   "id": "6ece9fee",
   "metadata": {},
   "source": [
    "Please complete this notebook by filling in the cells provided. Before you begin, execute the following cell to setup the notebook by importing some helpful libraries. Each time you start your server, you will need to execute this cell again.\n",
    "\n",
    "For all problems that you must write explanations and sentences for, you **must** provide your answer in the designated space. **Moreover, throughout this homework and all future ones, please be sure to not re-assign variables throughout the notebook!** For example, if you use `max_temperature` in your answer to one question, do not reassign it later on. Otherwise, you will fail tests that you thought you were passing previously!\n",
    "\n",
    "\n",
    "**Note: This homework has hidden tests on it. That means even though the tests may say 100% passed, it doesn't mean your final grade will be 100%. We will be running more tests for correctness once everyone turns in the homework.**\n",
    "\n",
    "\n",
    "Directly sharing answers is not okay, but discussing problems with the course staff or with other students is encouraged. \n",
    "\n",
    "You should start early so that you have time to get help if you're stuck."
   ]
  },
  {
   "cell_type": "code",
   "execution_count": 1,
   "id": "16a0f157",
   "metadata": {
    "execution": {
     "iopub.execute_input": "2022-04-14T01:43:21.032149Z",
     "iopub.status.busy": "2022-04-14T01:43:21.031511Z",
     "iopub.status.idle": "2022-04-14T01:43:22.636307Z",
     "shell.execute_reply": "2022-04-14T01:43:22.635635Z"
    }
   },
   "outputs": [],
   "source": [
    "# Don't change this cell; just run it. \n",
    "\n",
    "import numpy as np\n",
    "from datascience import *\n",
    "import d8error\n",
    "\n",
    "# These lines do some fancy plotting magic\n",
    "import matplotlib\n",
    "%matplotlib inline\n",
    "import matplotlib.pyplot as plt\n",
    "plt.style.use('fivethirtyeight')\n",
    "import warnings\n",
    "warnings.simplefilter('ignore')\n",
    "from datetime import datetime"
   ]
  },
  {
   "cell_type": "markdown",
   "id": "b93b99be",
   "metadata": {},
   "source": [
    "## An Introduction to Regression Inference"
   ]
  },
  {
   "cell_type": "markdown",
   "id": "3af9e1e3",
   "metadata": {},
   "source": [
    "Previously in this class, we've used confidence intervals to quantify uncertainty about estimates. We can also run hypothesis tests using a confidence interval under the following procedure:\n",
    "\n",
    "1. Define a null and alternative hypothesis (they must be of the form \"The parameter is X\" and \"The parameter is not X\").\n",
    "2. Choose a p-value cutoff, and call it $q$.\n",
    "3. Construct a $(100-q)\\%$ interval using bootstrap sampling (for example, if your p-value cutoff is 0.01, or 1%, then construct a 99% confidence interval).\n",
    "4. Using the confidence interval, determine if your data are more consistent with your null or alternative hypothesis:\n",
    "   * If the null hypothesis parameter X is in your confidence interval, the data are more consistent with the null hypothesis.\n",
    "   * If the null hypothesis parameter X is *not* in your confidence interval, the data are more consistent with the alternative hypothesis.\n",
    "\n",
    "More recently, we've discussed the use of linear regression to make predictions based on correlated variables. For example, we can predict the height of children based on the heights of their parents.\n",
    "\n",
    "We can combine these two topics to make powerful statements about our population by using the following techniques:\n",
    "\n",
    "- Bootstrapped interval for the true slope\n",
    "- Bootstrapped prediction interval for y (given a particular value of x)\n",
    "\n",
    "This homework explores these two methods."
   ]
  },
  {
   "cell_type": "markdown",
   "id": "ff7bf1bb",
   "metadata": {},
   "source": [
    "## The Data\n",
    "The [Snowy Plover](https://www.audubon.org/field-guide/bird/snowy-plover) is a tiny bird that lives on the coast in parts of California and elsewhere. It is so small that it is vulnerable to many predators, including people and dogs that don't look where they are stepping when they go to the beach. It is considered endangered in many parts of the U.S.\n",
    "\n",
    "The data are about the eggs and newly-hatched chicks of the Snowy Plover. Here's a picture of [a parent bird incubating its eggs](http://cescos.fau.edu/jay/eps/articles/snowyplover.html).\n",
    "\n",
    "<img src=\"plover_and_eggs.jpeg\" alt=\"Plover and Eggs\">\n",
    "\n",
    "The data were collected at the Point Reyes National Seashore by a former [student at Berkeley](https://openlibrary.org/books/OL2038693M/BLSS_the_Berkeley_interactive_statistical_system). The goal was to see how the size of an egg could be used to predict the weight of the resulting chick. The bigger the newly-hatched chick, the more likely it is to survive.\n",
    "\n",
    "<img src=\"plover_and_chick.jpeg\" alt=\"Plover and Chick\">\n",
    "\n",
    "Each row of the table below corresponds to one Snowy Plover egg and the resulting chick. Note how tiny the bird is:\n",
    "\n",
    "- `Egg Length` and `Egg Breadth` (widest diameter) are measured in millimeters\n",
    "- `Egg Weight` and `Bird Weight` are measured in grams; for comparison, a standard paper clip weighs about one gram"
   ]
  },
  {
   "cell_type": "code",
   "execution_count": 2,
   "id": "8ed0fb98",
   "metadata": {
    "execution": {
     "iopub.execute_input": "2022-04-14T01:43:22.640161Z",
     "iopub.status.busy": "2022-04-14T01:43:22.639787Z",
     "iopub.status.idle": "2022-04-14T01:43:22.652951Z",
     "shell.execute_reply": "2022-04-14T01:43:22.652353Z"
    }
   },
   "outputs": [
    {
     "data": {
      "text/html": [
       "<table border=\"1\" class=\"dataframe\">\n",
       "    <thead>\n",
       "        <tr>\n",
       "            <th>Egg Length</th> <th>Egg Breadth</th> <th>Egg Weight</th> <th>Bird Weight</th>\n",
       "        </tr>\n",
       "    </thead>\n",
       "    <tbody>\n",
       "        <tr>\n",
       "            <td>28.8      </td> <td>21.84      </td> <td>7.4       </td> <td>5.2        </td>\n",
       "        </tr>\n",
       "        <tr>\n",
       "            <td>29.04     </td> <td>22.45      </td> <td>7.7       </td> <td>5.4        </td>\n",
       "        </tr>\n",
       "        <tr>\n",
       "            <td>29.36     </td> <td>22.48      </td> <td>7.9       </td> <td>5.6        </td>\n",
       "        </tr>\n",
       "        <tr>\n",
       "            <td>30.1      </td> <td>21.71      </td> <td>7.5       </td> <td>5.3        </td>\n",
       "        </tr>\n",
       "        <tr>\n",
       "            <td>30.17     </td> <td>22.75      </td> <td>8.3       </td> <td>5.9        </td>\n",
       "        </tr>\n",
       "        <tr>\n",
       "            <td>30.34     </td> <td>22.84      </td> <td>8.5       </td> <td>5.8        </td>\n",
       "        </tr>\n",
       "        <tr>\n",
       "            <td>30.36     </td> <td>22.5       </td> <td>8.2       </td> <td>5.8        </td>\n",
       "        </tr>\n",
       "        <tr>\n",
       "            <td>30.46     </td> <td>22.72      </td> <td>8.3       </td> <td>6          </td>\n",
       "        </tr>\n",
       "        <tr>\n",
       "            <td>30.54     </td> <td>23.31      </td> <td>9         </td> <td>6.1        </td>\n",
       "        </tr>\n",
       "        <tr>\n",
       "            <td>30.62     </td> <td>22.94      </td> <td>8.5       </td> <td>6.2        </td>\n",
       "        </tr>\n",
       "    </tbody>\n",
       "</table>\n",
       "<p>... (34 rows omitted)</p>"
      ],
      "text/plain": [
       "Egg Length | Egg Breadth | Egg Weight | Bird Weight\n",
       "28.8       | 21.84       | 7.4        | 5.2\n",
       "29.04      | 22.45       | 7.7        | 5.4\n",
       "29.36      | 22.48       | 7.9        | 5.6\n",
       "30.1       | 21.71       | 7.5        | 5.3\n",
       "30.17      | 22.75       | 8.3        | 5.9\n",
       "30.34      | 22.84       | 8.5        | 5.8\n",
       "30.36      | 22.5        | 8.2        | 5.8\n",
       "30.46      | 22.72       | 8.3        | 6\n",
       "30.54      | 23.31       | 9          | 6.1\n",
       "30.62      | 22.94       | 8.5        | 6.2\n",
       "... (34 rows omitted)"
      ]
     },
     "execution_count": 2,
     "metadata": {},
     "output_type": "execute_result"
    }
   ],
   "source": [
    "birds = Table.read_table('snowy_plover.csv')\n",
    "birds"
   ]
  },
  {
   "cell_type": "markdown",
   "id": "3afa4720",
   "metadata": {},
   "source": [
    "In this investigation, we will be using the egg weight to predict bird weight. Run the cell below to create a scatter plot of the egg weights and bird weights, along with their line of best fit."
   ]
  },
  {
   "cell_type": "code",
   "execution_count": 3,
   "id": "17adfa6b",
   "metadata": {
    "execution": {
     "iopub.execute_input": "2022-04-14T01:43:22.656034Z",
     "iopub.status.busy": "2022-04-14T01:43:22.655803Z",
     "iopub.status.idle": "2022-04-14T01:43:22.939186Z",
     "shell.execute_reply": "2022-04-14T01:43:22.938490Z"
    }
   },
   "outputs": [
    {
     "data": {
      "image/png": "[encoded data removed]",
      "text/plain": [
       "<Figure size 360x360 with 1 Axes>"
      ]
     },
     "metadata": {},
     "output_type": "display_data"
    }
   ],
   "source": [
    "# Just run this cell and examine the scatter plot.\n",
    "birds.scatter('Egg Weight', \"Bird Weight\", fit_line=True)"
   ]
  },
  {
   "cell_type": "markdown",
   "id": "d2e0c790",
   "metadata": {},
   "source": [
    "## 1. Finding the Bootstrap Confidence Interval for the True Slope\n",
    "\n",
    "Looking at the scatter plot of our sample, we observe a linear relationship between egg weight and bird weight. However, relationships that appear in a sample might not exist in the population from which the sample was taken.\n",
    "\n",
    "We want to know if there truly exists a linear relationship between egg weight and bird weight for Snowy Plovers. If there is no linear relationship between the two variables, then we'd expect a correlation of 0. Consequently, the slope of the regression line would also be 0. "
   ]
  },
  {
   "cell_type": "markdown",
   "id": "dcbdeb82",
   "metadata": {},
   "source": [
    "**Question 1.1.** Let's run a hypothesis test using confidence intervals to see if there is a linear relationship between egg weight and bird weight. Define the null and alternative hypotheses that will allow you to conduct this test. **(8 points)**\n",
    "\n",
    "*Note:* Please write your answer **in the cell below** in the following format:\n",
    "- **Null Hypothesis:**\n",
    "- **Alternative Hypothesis:**\n",
    "\n",
    "\n",
    "\n",
    "```\n",
    "BEGIN QUESTION\n",
    "name: q1_1\n",
    "manual: true\n",
    "```"
   ]
  },
  {
   "cell_type": "markdown",
   "id": "c6de9891",
   "metadata": {
    "for_assignment_type": "solution"
   },
   "source": [
    "**SOLUTION:** \n",
    "\n",
    "**Null Hypothesis:** The true slope of the regression line that predicts bird weight from egg weight, computed using the population of all Snowy Plovers, is 0. If the slope of the regression line computed from our sample isn't 0, that is just a result of the particular birds we have in our sample. \n",
    "\n",
    "**Alternative Hypothesis:** The true slope of the regression line is not 0."
   ]
  },
  {
   "cell_type": "markdown",
   "id": "e0bba740",
   "metadata": {},
   "source": [
    "**Question 1.2.** Define the following two functions:\n",
    "\n",
    "1. `standard_units`: This function takes in an array of numbers and returns an array containing those numbers converted to standard units.\n",
    "2. `correlation`: This function takes in a table and two column names (one for *x* and one for *y*) and returns the correlation between these columns. \n",
    "\n",
    "**(8 points)**\n",
    "\n",
    "```\n",
    "BEGIN QUESTION\n",
    "name: q1_2\n",
    "manual: false\n",
    "points:\n",
    " - 0\n",
    " - 4\n",
    " - 4\n",
    "```"
   ]
  },
  {
   "cell_type": "code",
   "execution_count": 4,
   "id": "3c9b4dc9",
   "metadata": {
    "ExecuteTime": {
     "end_time": "2018-04-11T12:05:50.894154Z",
     "start_time": "2018-04-11T12:05:50.889145Z"
    },
    "deletable": false,
    "execution": {
     "iopub.execute_input": "2022-04-14T01:43:22.943100Z",
     "iopub.status.busy": "2022-04-14T01:43:22.942471Z",
     "iopub.status.idle": "2022-04-14T01:43:22.947153Z",
     "shell.execute_reply": "2022-04-14T01:43:22.946390Z"
    }
   },
   "outputs": [],
   "source": [
    "def standard_units(arr):\n",
    "    return (arr - np.mean(arr))/np.std(arr) # SOLUTION\n",
    "\n",
    "def correlation(tbl, x_col, y_col):\n",
    "    return np.mean(standard_units(tbl.column(x_col)) * standard_units(tbl.column(y_col))) # SOLUTION"
   ]
  },
  {
   "cell_type": "code",
   "execution_count": 5,
   "id": "d26662be",
   "metadata": {
    "execution": {
     "iopub.execute_input": "2022-04-14T01:43:22.950351Z",
     "iopub.status.busy": "2022-04-14T01:43:22.949863Z",
     "iopub.status.idle": "2022-04-14T01:43:22.956274Z",
     "shell.execute_reply": "2022-04-14T01:43:22.955558Z"
    }
   },
   "outputs": [
    {
     "data": {
      "text/plain": [
       "True"
      ]
     },
     "execution_count": 5,
     "metadata": {},
     "output_type": "execute_result"
    }
   ],
   "source": [
    "# TEST\n",
    "# Ensure your correlation function returns one number between -1 and 1\n",
    "abs(correlation(Table().with_columns('a', np.random.normal(0, 1, 10),'b', np.random.normal(0, 1, 10)), \"a\", \"b\")) <= 1"
   ]
  },
  {
   "cell_type": "code",
   "execution_count": 6,
   "id": "1c1d128a",
   "metadata": {
    "execution": {
     "iopub.execute_input": "2022-04-14T01:43:22.959668Z",
     "iopub.status.busy": "2022-04-14T01:43:22.959053Z",
     "iopub.status.idle": "2022-04-14T01:43:22.965142Z",
     "shell.execute_reply": "2022-04-14T01:43:22.964438Z"
    }
   },
   "outputs": [
    {
     "data": {
      "text/plain": [
       "True"
      ]
     },
     "execution_count": 6,
     "metadata": {},
     "output_type": "execute_result"
    }
   ],
   "source": [
    "# HIDDEN TEST\n",
    "np.allclose(standard_units(np.arange(5)), np.sqrt(2)/2 * np.arange(-2, 3))"
   ]
  },
  {
   "cell_type": "code",
   "execution_count": 7,
   "id": "8da4ccae",
   "metadata": {
    "execution": {
     "iopub.execute_input": "2022-04-14T01:43:22.968100Z",
     "iopub.status.busy": "2022-04-14T01:43:22.967888Z",
     "iopub.status.idle": "2022-04-14T01:43:22.973505Z",
     "shell.execute_reply": "2022-04-14T01:43:22.972770Z"
    }
   },
   "outputs": [
    {
     "data": {
      "text/plain": [
       "True"
      ]
     },
     "execution_count": 7,
     "metadata": {},
     "output_type": "execute_result"
    }
   ],
   "source": [
    "# HIDDEN TEST\n",
    "np.isclose(round(correlation(birds, \"Egg Weight\", \"Bird Weight\"), 3), 0.847)"
   ]
  },
  {
   "cell_type": "markdown",
   "id": "2f98b3ca",
   "metadata": {},
   "source": [
    "**Question 1.3.** Using the functions you just implemented, create a function called `fit_line`.  It should take a table like `birds` and the column names associated to *x* and *y* as its arguments and return an *array* containing the slope and intercept of the regression line (in that order) that predicts the *y* column in the table using the *x* column. **(8 points)**\n",
    "\n",
    "```\n",
    "BEGIN QUESTION\n",
    "name: q1_3\n",
    "manual: false\n",
    "points:\n",
    " - 0\n",
    " - 0\n",
    " - 2\n",
    " - 6\n",
    "```"
   ]
  },
  {
   "cell_type": "code",
   "execution_count": 8,
   "id": "f081ebf9",
   "metadata": {
    "ExecuteTime": {
     "end_time": "2018-04-11T12:05:51.483516Z",
     "start_time": "2018-04-11T12:05:51.472484Z"
    },
    "execution": {
     "iopub.execute_input": "2022-04-14T01:43:22.977113Z",
     "iopub.status.busy": "2022-04-14T01:43:22.976491Z",
     "iopub.status.idle": "2022-04-14T01:43:22.984086Z",
     "shell.execute_reply": "2022-04-14T01:43:22.983317Z"
    },
    "for_assignment_type": "solution"
   },
   "outputs": [
    {
     "data": {
      "text/plain": [
       "array([ 0.71851534, -0.05827226])"
      ]
     },
     "execution_count": 8,
     "metadata": {},
     "output_type": "execute_result"
    }
   ],
   "source": [
    "def fit_line(tbl, x_col, y_col):\n",
    "    # BEGIN SOLUTION\n",
    "    x = tbl.column(x_col) \n",
    "    y = tbl.column(y_col) \n",
    "    r = correlation(tbl, x_col, y_col) \n",
    "    slope = r * (np.std(y)/np.std(x)) \n",
    "    intercept = np.mean(y) - slope*np.mean(x) \n",
    "    return make_array(slope, intercept) \n",
    "    # END SOLUTION\n",
    "\n",
    "fit_line(birds, \"Egg Weight\", \"Bird Weight\")"
   ]
  },
  {
   "cell_type": "code",
   "execution_count": 9,
   "id": "ad864947",
   "metadata": {
    "execution": {
     "iopub.execute_input": "2022-04-14T01:43:22.987001Z",
     "iopub.status.busy": "2022-04-14T01:43:22.986758Z",
     "iopub.status.idle": "2022-04-14T01:43:22.993055Z",
     "shell.execute_reply": "2022-04-14T01:43:22.992277Z"
    }
   },
   "outputs": [
    {
     "data": {
      "text/plain": [
       "True"
      ]
     },
     "execution_count": 9,
     "metadata": {},
     "output_type": "execute_result"
    }
   ],
   "source": [
    "# TEST\n",
    "type(fit_line(Table().with_columns('x', make_array(0, 1), 'y', make_array(1, 3)), \"x\", \"y\")) == np.ndarray"
   ]
  },
  {
   "cell_type": "code",
   "execution_count": 10,
   "id": "6520dcbd",
   "metadata": {
    "execution": {
     "iopub.execute_input": "2022-04-14T01:43:22.996545Z",
     "iopub.status.busy": "2022-04-14T01:43:22.995899Z",
     "iopub.status.idle": "2022-04-14T01:43:23.001802Z",
     "shell.execute_reply": "2022-04-14T01:43:23.001208Z"
    }
   },
   "outputs": [
    {
     "data": {
      "text/plain": [
       "True"
      ]
     },
     "execution_count": 10,
     "metadata": {},
     "output_type": "execute_result"
    }
   ],
   "source": [
    "# TEST\n",
    "len(fit_line(Table().with_columns('x', make_array(0, 1), 'y', make_array(1, 3)), \"x\", \"y\")) == 2"
   ]
  },
  {
   "cell_type": "code",
   "execution_count": 11,
   "id": "18792aa8",
   "metadata": {
    "execution": {
     "iopub.execute_input": "2022-04-14T01:43:23.005125Z",
     "iopub.status.busy": "2022-04-14T01:43:23.004496Z",
     "iopub.status.idle": "2022-04-14T01:43:23.040646Z",
     "shell.execute_reply": "2022-04-14T01:43:23.039605Z"
    }
   },
   "outputs": [
    {
     "data": {
      "text/plain": [
       "True"
      ]
     },
     "execution_count": 11,
     "metadata": {},
     "output_type": "execute_result"
    }
   ],
   "source": [
    "# TEST\n",
    "np.allclose(np.round(fit_line(Table().with_columns('x', make_array(0, 1), 'y', make_array(1, 3)), \"x\", \"y\"), 5), np.array([2, 1]))"
   ]
  },
  {
   "cell_type": "code",
   "execution_count": 12,
   "id": "991ea406",
   "metadata": {
    "execution": {
     "iopub.execute_input": "2022-04-14T01:43:23.043813Z",
     "iopub.status.busy": "2022-04-14T01:43:23.043578Z",
     "iopub.status.idle": "2022-04-14T01:43:23.049480Z",
     "shell.execute_reply": "2022-04-14T01:43:23.048774Z"
    }
   },
   "outputs": [
    {
     "data": {
      "text/plain": [
       "True"
      ]
     },
     "execution_count": 12,
     "metadata": {},
     "output_type": "execute_result"
    }
   ],
   "source": [
    "# HIDDEN TEST\n",
    "np.allclose(np.round(fit_line(birds, \"Egg Weight\", \"Bird Weight\"), 5), np.array([ 0.71852, -0.05827]))"
   ]
  },
  {
   "cell_type": "markdown",
   "id": "515db0d7",
   "metadata": {},
   "source": [
    "**Run** this cell to plot the line produced by calling `fit_line` on the `birds` table.  \n",
    "\n",
    "**Note:** You are not responsible for the code in the cell below, but make sure that your `fit_line` function generated a reasonable line for the data."
   ]
  },
  {
   "cell_type": "code",
   "execution_count": 13,
   "id": "5bc54801",
   "metadata": {
    "ExecuteTime": {
     "end_time": "2018-04-11T12:05:51.754766Z",
     "start_time": "2018-04-11T12:05:51.624390Z"
    },
    "execution": {
     "iopub.execute_input": "2022-04-14T01:43:23.052393Z",
     "iopub.status.busy": "2022-04-14T01:43:23.052175Z",
     "iopub.status.idle": "2022-04-14T01:43:23.330757Z",
     "shell.execute_reply": "2022-04-14T01:43:23.330016Z"
    }
   },
   "outputs": [
    {
     "data": {
      "image/png": "[encoded data removed]",
      "text/plain": [
       "<Figure size 360x360 with 1 Axes>"
      ]
     },
     "metadata": {},
     "output_type": "display_data"
    }
   ],
   "source": [
    "# Ensure your fit_line function fits a reasonable line \n",
    "# to the data in birds, using the plot below.\n",
    "\n",
    "# Just run this cell\n",
    "slope, intercept = fit_line(birds, \"Egg Weight\", \"Bird Weight\")\n",
    "birds.scatter(\"Egg Weight\", \"Bird Weight\")\n",
    "plt.plot([min(birds.column(\"Egg Weight\")), max(birds.column(\"Egg Weight\"))], \n",
    "         [slope*min(birds.column(\"Egg Weight\"))+intercept, slope*max(birds.column(\"Egg Weight\"))+intercept])\n",
    "plt.show()"
   ]
  },
  {
   "cell_type": "markdown",
   "id": "2e3e6173",
   "metadata": {},
   "source": [
    "Now we have all the tools we need to create a confidence interval that quantifies our uncertainty about the true relationship between egg weight and bird weight."
   ]
  },
  {
   "cell_type": "markdown",
   "id": "2cb0acd4",
   "metadata": {},
   "source": [
    "**Question 1.4.** Create an array called `resampled_slopes` that contains the slope of the best fit line for 1000 bootstrap resamples of `birds`. Plot the distribution of these slopes. **(8 points)**\n",
    "\n",
    "```\n",
    "BEGIN QUESTION\n",
    "name: q1_4\n",
    "manual: true\n",
    "image: true\n",
    "```"
   ]
  },
  {
   "cell_type": "code",
   "execution_count": 14,
   "id": "991ef75b",
   "metadata": {
    "execution": {
     "iopub.execute_input": "2022-04-14T01:43:23.339692Z",
     "iopub.status.busy": "2022-04-14T01:43:23.339096Z",
     "iopub.status.idle": "2022-04-14T01:43:24.061523Z",
     "shell.execute_reply": "2022-04-14T01:43:24.060474Z"
    },
    "for_assignment_type": "solution"
   },
   "outputs": [
    {
     "data": {
      "image/png": "[encoded data removed]",
      "text/plain": [
       "<Figure size 432x288 with 1 Axes>"
      ]
     },
     "metadata": {},
     "output_type": "display_data"
    }
   ],
   "source": [
    "resampled_slopes = make_array() # SOLUTION\n",
    "\n",
    "for i in np.arange(1000): \n",
    "    birds_bootstrap = birds.sample(with_replacement=True) # SOLUTION\n",
    "    bootstrap_line = fit_line(birds_bootstrap, \"Egg Weight\", \"Bird Weight\") # SOLUTION\n",
    "    bootstrap_slope = bootstrap_line.item(0) # SOLUTION\n",
    "    resampled_slopes = np.append(resampled_slopes, bootstrap_slope) # SOLUTION\n",
    "    \n",
    "# DO NOT CHANGE THIS LINE\n",
    "Table().with_column(\"Slope estimate\", resampled_slopes).hist()"
   ]
  },
  {
   "cell_type": "code",
   "execution_count": 15,
   "id": "26f173af",
   "metadata": {
    "execution": {
     "iopub.execute_input": "2022-04-14T01:43:24.067122Z",
     "iopub.status.busy": "2022-04-14T01:43:24.066741Z",
     "iopub.status.idle": "2022-04-14T01:43:24.076590Z",
     "shell.execute_reply": "2022-04-14T01:43:24.075541Z"
    }
   },
   "outputs": [
    {
     "data": {
      "text/plain": [
       "True"
      ]
     },
     "execution_count": 15,
     "metadata": {},
     "output_type": "execute_result"
    }
   ],
   "source": [
    "# TEST\n",
    "len(resampled_slopes) == 1000"
   ]
  },
  {
   "cell_type": "markdown",
   "id": "a2afcf96",
   "metadata": {},
   "source": [
    "**Question 1.5.** Use your resampled slopes to construct an 95% confidence interval for the true value of the slope. **(8 points)**\n",
    "\n",
    "```\n",
    "BEGIN QUESTION\n",
    "name: q1_5\n",
    "manual: false\n",
    "points:\n",
    " - 0\n",
    " - 0\n",
    " - 8\n",
    "```"
   ]
  },
  {
   "cell_type": "code",
   "execution_count": 16,
   "id": "0d77ec89",
   "metadata": {
    "ExecuteTime": {
     "end_time": "2018-04-11T12:05:53.077324Z",
     "start_time": "2018-04-11T12:05:53.072310Z"
    },
    "deletable": false,
    "execution": {
     "iopub.execute_input": "2022-04-14T01:43:24.096078Z",
     "iopub.status.busy": "2022-04-14T01:43:24.095724Z",
     "iopub.status.idle": "2022-04-14T01:43:24.105206Z",
     "shell.execute_reply": "2022-04-14T01:43:24.103702Z"
    }
   },
   "outputs": [
    {
     "name": "stdout",
     "output_type": "stream",
     "text": [
      "95% confidence interval for slope: [0.59908, 0.82905]\n"
     ]
    }
   ],
   "source": [
    "lower_end = percentile(2.5, resampled_slopes) # SOLUTION\n",
    "upper_end = percentile(97.5, resampled_slopes) # SOLUTION\n",
    "print(\"95% confidence interval for slope: [{:g}, {:g}]\".format(lower_end, upper_end))"
   ]
  },
  {
   "cell_type": "code",
   "execution_count": 17,
   "id": "0f2dc61e",
   "metadata": {
    "execution": {
     "iopub.execute_input": "2022-04-14T01:43:24.110935Z",
     "iopub.status.busy": "2022-04-14T01:43:24.109935Z",
     "iopub.status.idle": "2022-04-14T01:43:24.116636Z",
     "shell.execute_reply": "2022-04-14T01:43:24.115761Z"
    }
   },
   "outputs": [
    {
     "data": {
      "text/plain": [
       "True"
      ]
     },
     "execution_count": 17,
     "metadata": {},
     "output_type": "execute_result"
    }
   ],
   "source": [
    "# TEST \n",
    "lower_end > 0"
   ]
  },
  {
   "cell_type": "code",
   "execution_count": 18,
   "id": "3b65e1a4",
   "metadata": {
    "execution": {
     "iopub.execute_input": "2022-04-14T01:43:24.120459Z",
     "iopub.status.busy": "2022-04-14T01:43:24.119724Z",
     "iopub.status.idle": "2022-04-14T01:43:24.125825Z",
     "shell.execute_reply": "2022-04-14T01:43:24.124851Z"
    }
   },
   "outputs": [
    {
     "data": {
      "text/plain": [
       "True"
      ]
     },
     "execution_count": 18,
     "metadata": {},
     "output_type": "execute_result"
    }
   ],
   "source": [
    "# TEST \n",
    "upper_end < 4"
   ]
  },
  {
   "cell_type": "code",
   "execution_count": 19,
   "id": "f917f4f5",
   "metadata": {
    "execution": {
     "iopub.execute_input": "2022-04-14T01:43:24.130016Z",
     "iopub.status.busy": "2022-04-14T01:43:24.129313Z",
     "iopub.status.idle": "2022-04-14T01:43:24.139329Z",
     "shell.execute_reply": "2022-04-14T01:43:24.136475Z"
    }
   },
   "outputs": [
    {
     "data": {
      "text/plain": [
       "True"
      ]
     },
     "execution_count": 19,
     "metadata": {},
     "output_type": "execute_result"
    }
   ],
   "source": [
    "# HIDDEN TEST\n",
    "lower_end > 0 and upper_end < 4"
   ]
  },
  {
   "cell_type": "markdown",
   "id": "fd9c8f51",
   "metadata": {},
   "source": [
    "**Question 1.6.** Based on your confidence interval, would you accept or reject the null hypothesis that the true slope is 0?  Why?  What p-value cutoff are you using? **(8 points)**\n",
    "\n",
    "```\n",
    "BEGIN QUESTION\n",
    "name: q1_6\n",
    "manual: true\n",
    "```"
   ]
  },
  {
   "cell_type": "markdown",
   "id": "17601be0",
   "metadata": {
    "deletable": false,
    "manual_problem_id": "slope_inference_6"
   },
   "source": [
    "**SOLUTION:** We would reject the null, since 0 is not within the approximate 95% confidence interval.  If we use an approximate 95% confidence interval, we're using a 0.05 cutoff."
   ]
  },
  {
   "cell_type": "markdown",
   "id": "8e3e26cc",
   "metadata": {},
   "source": [
    "**Question 1.7.** What do you think the true slope is? You do not need an exact number. How confident are you of this estimate? **(8 points)**\n",
    "\n",
    "*Hint:* Can you provide an interval that you think the true slope falls in?\n",
    "\n",
    "```\n",
    "BEGIN QUESTION\n",
    "name: q1_7\n",
    "manual: true\n",
    "```"
   ]
  },
  {
   "cell_type": "markdown",
   "id": "96940c9f",
   "metadata": {},
   "source": [
    "**SOLUTION:** With 95% confidence, we can say that the true slope is somewhere between \n",
    "\n",
    "$$[0.600944, 0.821622]$$ \n",
    "\n",
    "The confidence interval generated may be different for the student. The approximate 95% confidence interval that we generate in the experiment not only allows us to make a conclusion about whether the true slope is 0, but also allows us to define a range that the true slope falls in!"
   ]
  },
  {
   "cell_type": "markdown",
   "id": "32a24ae5",
   "metadata": {},
   "source": [
    "## 2. Finding the Bootstrap Prediction Interval"
   ]
  },
  {
   "cell_type": "markdown",
   "id": "666a6f77",
   "metadata": {},
   "source": [
    "Suppose we're visiting Point Reyes and stumble upon some Snowy Plover eggs; we'd like to know how heavy they'll be once they hatch. In other words, we want to use our regression line to make predictions about a bird's weight based on the weight of the corresponding egg.\n",
    "\n",
    "However, just as we're uncertain about the slope of the true regression line, we're also uncertain about the predictions made based on the true regression line."
   ]
  },
  {
   "cell_type": "markdown",
   "id": "d93e62b4",
   "metadata": {},
   "source": [
    "**Question 2.1.** Define the function `fitted_value`.  It should take in four arguments:\n",
    "\n",
    "1. `table`: a table like `birds`.  We'll be predicting the values in the second column using the first.\n",
    "2. `x_col`: the name of our x-column within the input `table`\n",
    "3. `y_col`: the name of our y-column within the input `table`\n",
    "2. `given_x`: a number, the value of the predictor variable for which we'd like to make a prediction.\n",
    "  \n",
    "The function should return the line’s prediction for the given x. **(8 points)**\n",
    "\n",
    "*Hint:* Make sure to use the `fit_line` function you defined in Question 1.3.\n",
    "\n",
    "```\n",
    "BEGIN QUESTION\n",
    "name: q2_1\n",
    "manual: false\n",
    "points:\n",
    " - 0\n",
    " - 8\n",
    "```"
   ]
  },
  {
   "cell_type": "code",
   "execution_count": 20,
   "id": "6a73d0bb",
   "metadata": {
    "ExecuteTime": {
     "end_time": "2018-04-11T12:05:53.935846Z",
     "start_time": "2018-04-11T12:05:53.927826Z"
    },
    "execution": {
     "iopub.execute_input": "2022-04-14T01:43:24.145491Z",
     "iopub.status.busy": "2022-04-14T01:43:24.144626Z",
     "iopub.status.idle": "2022-04-14T01:43:24.155627Z",
     "shell.execute_reply": "2022-04-14T01:43:24.154904Z"
    },
    "for_assignment_type": "solution"
   },
   "outputs": [
    {
     "data": {
      "text/plain": [
       "5.689850497215146"
      ]
     },
     "execution_count": 20,
     "metadata": {},
     "output_type": "execute_result"
    }
   ],
   "source": [
    "def fitted_value(table, x_col, y_col, given_x):\n",
    "    line = fit_line(table, x_col, y_col) # SOLUTION\n",
    "    slope = line.item(0) # SOLUTION\n",
    "    intercept = line.item(1) # SOLUTION\n",
    "    return slope * given_x  + intercept #SOLUTION\n",
    "\n",
    "# Here's an example of how fitted_value is used. The code below\n",
    "# computes the prediction for the bird weight, in grams, based on\n",
    "# an egg weight of 8 grams.\n",
    "egg_weight_eight = fitted_value(birds, \"Egg Weight\", \"Bird Weight\", 8)\n",
    "egg_weight_eight"
   ]
  },
  {
   "cell_type": "code",
   "execution_count": 21,
   "id": "fac8419f",
   "metadata": {
    "execution": {
     "iopub.execute_input": "2022-04-14T01:43:24.159951Z",
     "iopub.status.busy": "2022-04-14T01:43:24.159161Z",
     "iopub.status.idle": "2022-04-14T01:43:24.164527Z",
     "shell.execute_reply": "2022-04-14T01:43:24.163783Z"
    }
   },
   "outputs": [
    {
     "data": {
      "text/plain": [
       "True"
      ]
     },
     "execution_count": 21,
     "metadata": {},
     "output_type": "execute_result"
    }
   ],
   "source": [
    "# TEST \n",
    "type(egg_weight_eight) in set([float, np.float32, np.float64])"
   ]
  },
  {
   "cell_type": "code",
   "execution_count": 22,
   "id": "4f14d200",
   "metadata": {
    "execution": {
     "iopub.execute_input": "2022-04-14T01:43:24.168340Z",
     "iopub.status.busy": "2022-04-14T01:43:24.168043Z",
     "iopub.status.idle": "2022-04-14T01:43:24.173729Z",
     "shell.execute_reply": "2022-04-14T01:43:24.173001Z"
    }
   },
   "outputs": [
    {
     "data": {
      "text/plain": [
       "True"
      ]
     },
     "execution_count": 22,
     "metadata": {},
     "output_type": "execute_result"
    }
   ],
   "source": [
    "# HIDDEN TEST\n",
    "np.isclose(round(egg_weight_eight, 5), 5.68985)"
   ]
  },
  {
   "cell_type": "markdown",
   "id": "8b6118e6",
   "metadata": {},
   "source": [
    "**Question 2.2.** Raymond, the resident Snowy Plover expert at Point Reyes, tells us that the egg he has been carefully observing has a weight of 9 grams. Using `fitted_value` above, assign the variable `experts_egg` to the predicted bird weight for Raymond's egg. \n",
    "\n",
    "```\n",
    "BEGIN QUESTION\n",
    "name: q2_2\n",
    "manual: false\n",
    "points:\n",
    " - 0\n",
    " - 8\n",
    "```"
   ]
  },
  {
   "cell_type": "code",
   "execution_count": 23,
   "id": "e2609968",
   "metadata": {
    "ExecuteTime": {
     "end_time": "2018-04-11T12:05:54.430725Z",
     "start_time": "2018-04-11T12:05:54.424720Z"
    },
    "deletable": false,
    "execution": {
     "iopub.execute_input": "2022-04-14T01:43:24.176633Z",
     "iopub.status.busy": "2022-04-14T01:43:24.176382Z",
     "iopub.status.idle": "2022-04-14T01:43:24.186028Z",
     "shell.execute_reply": "2022-04-14T01:43:24.185139Z"
    }
   },
   "outputs": [
    {
     "data": {
      "text/plain": [
       "6.408365842108825"
      ]
     },
     "execution_count": 23,
     "metadata": {},
     "output_type": "execute_result"
    }
   ],
   "source": [
    "experts_egg = fitted_value(birds, \"Egg Weight\", \"Bird Weight\", 9) # SOLUTION\n",
    "experts_egg"
   ]
  },
  {
   "cell_type": "code",
   "execution_count": 24,
   "id": "071e1f72",
   "metadata": {
    "execution": {
     "iopub.execute_input": "2022-04-14T01:43:24.189808Z",
     "iopub.status.busy": "2022-04-14T01:43:24.189578Z",
     "iopub.status.idle": "2022-04-14T01:43:24.196641Z",
     "shell.execute_reply": "2022-04-14T01:43:24.195607Z"
    }
   },
   "outputs": [
    {
     "data": {
      "text/plain": [
       "True"
      ]
     },
     "execution_count": 24,
     "metadata": {},
     "output_type": "execute_result"
    }
   ],
   "source": [
    "# TEST \n",
    "type(experts_egg) in set([float, np.float32, np.float64])"
   ]
  },
  {
   "cell_type": "code",
   "execution_count": 25,
   "id": "31bb80d0",
   "metadata": {
    "execution": {
     "iopub.execute_input": "2022-04-14T01:43:24.201148Z",
     "iopub.status.busy": "2022-04-14T01:43:24.200812Z",
     "iopub.status.idle": "2022-04-14T01:43:24.208038Z",
     "shell.execute_reply": "2022-04-14T01:43:24.207054Z"
    }
   },
   "outputs": [
    {
     "data": {
      "text/plain": [
       "True"
      ]
     },
     "execution_count": 25,
     "metadata": {},
     "output_type": "execute_result"
    }
   ],
   "source": [
    "# HIDDEN TEST \n",
    "np.isclose(round(experts_egg, 5), 6.40837)"
   ]
  },
  {
   "cell_type": "code",
   "execution_count": 26,
   "id": "4cbb4da6",
   "metadata": {
    "execution": {
     "iopub.execute_input": "2022-04-14T01:43:24.235295Z",
     "iopub.status.busy": "2022-04-14T01:43:24.234701Z",
     "iopub.status.idle": "2022-04-14T01:43:24.240238Z",
     "shell.execute_reply": "2022-04-14T01:43:24.239342Z"
    },
    "scrolled": true
   },
   "outputs": [
    {
     "data": {
      "text/plain": [
       "44"
      ]
     },
     "execution_count": 26,
     "metadata": {},
     "output_type": "execute_result"
    }
   ],
   "source": [
    "# Let's look at the number of rows in the birds table.\n",
    "birds.num_rows"
   ]
  },
  {
   "cell_type": "markdown",
   "id": "3531c7db",
   "metadata": {},
   "source": [
    "A fellow parkgoer raises the following objection to your prediction:\n",
    "\n",
    "> \"Your prediction depends on your sample of 44 birds.  Wouldn't your prediction change if you had a different sample of 44 birds?\"\n",
    "\n",
    "Having read section [16.3](https://inferentialthinking.com/chapters/16/3/Prediction_Intervals.html) of the textbook, you know just the response! Had the sample been different, the regression line would have been different too. This would ultimately result in a different prediction. To see how good our prediction is, we must get a sense of how variable the prediction can be."
   ]
  },
  {
   "cell_type": "markdown",
   "id": "8b379d66",
   "metadata": {},
   "source": [
    "**Question 2.3.** Define a function `compute_resampled_line` that takes in a table `tbl`and two column names, `x_col` and `y_col`, and returns an array containing the parameters of the best fit line (slope and intercept) for one bootstrapped resample of the table.\n",
    "\n",
    "```\n",
    "BEGIN QUESTION\n",
    "name: q2_3\n",
    "manual: false\n",
    "points:\n",
    " - 0\n",
    " - 8\n",
    "```"
   ]
  },
  {
   "cell_type": "code",
   "execution_count": 27,
   "id": "207cf6ef",
   "metadata": {
    "execution": {
     "iopub.execute_input": "2022-04-14T01:43:24.244246Z",
     "iopub.status.busy": "2022-04-14T01:43:24.243856Z",
     "iopub.status.idle": "2022-04-14T01:43:24.250061Z",
     "shell.execute_reply": "2022-04-14T01:43:24.248994Z"
    }
   },
   "outputs": [],
   "source": [
    "def compute_resampled_line(tbl, x_col, y_col):\n",
    "    resample = tbl.sample() # SOLUTION\n",
    "    resampled_line = fit_line(resample, x_col, y_col) # SOLUTION\n",
    "    return resampled_line # SOLUTION"
   ]
  },
  {
   "cell_type": "code",
   "execution_count": 28,
   "id": "99e72d7b",
   "metadata": {
    "execution": {
     "iopub.execute_input": "2022-04-14T01:43:24.254741Z",
     "iopub.status.busy": "2022-04-14T01:43:24.254320Z",
     "iopub.status.idle": "2022-04-14T01:43:24.262043Z",
     "shell.execute_reply": "2022-04-14T01:43:24.261277Z"
    }
   },
   "outputs": [
    {
     "data": {
      "text/plain": [
       "True"
      ]
     },
     "execution_count": 28,
     "metadata": {},
     "output_type": "execute_result"
    }
   ],
   "source": [
    "# TEST\n",
    "len(compute_resampled_line(Table().with_columns('x', make_array(0, 1), 'y', make_array(1, 3)), \"x\", \"y\")) == 2"
   ]
  },
  {
   "cell_type": "code",
   "execution_count": 29,
   "id": "ec18394d",
   "metadata": {
    "execution": {
     "iopub.execute_input": "2022-04-14T01:43:24.265822Z",
     "iopub.status.busy": "2022-04-14T01:43:24.265352Z",
     "iopub.status.idle": "2022-04-14T01:43:24.275766Z",
     "shell.execute_reply": "2022-04-14T01:43:24.274851Z"
    }
   },
   "outputs": [
    {
     "data": {
      "text/plain": [
       "True"
      ]
     },
     "execution_count": 29,
     "metadata": {},
     "output_type": "execute_result"
    }
   ],
   "source": [
    "# HIDDEN TEST\n",
    "np.random.seed(0)\n",
    "np.allclose(compute_resampled_line(birds, \"Egg Weight\", \"Bird Weight\"), np.array([0.64163345, 0.53766856]))"
   ]
  },
  {
   "cell_type": "markdown",
   "id": "02f83a5b",
   "metadata": {},
   "source": [
    "**Run** the following cell below in order to define the function `bootstrap_lines`.  It takes in four arguments:\n",
    "1. `tbl`: a table like `birds`\n",
    "2. `x_col`: the name of our x-column within the input `tbl`\n",
    "3. `y_col`: the name of our y-column within the input `tbl`\n",
    "4. `num_bootstraps`: an integer, a number of bootstraps to run.\n",
    "\n",
    "It returns a *table* with one row for each bootstrap resample and the following two columns:\n",
    "1. `Slope`: the bootstrapped slopes \n",
    "2. `Intercept`: the corresponding bootstrapped intercepts "
   ]
  },
  {
   "cell_type": "code",
   "execution_count": 30,
   "id": "600c1a9f",
   "metadata": {
    "ExecuteTime": {
     "end_time": "2018-04-11T12:05:55.698074Z",
     "start_time": "2018-04-11T12:05:55.243866Z"
    },
    "execution": {
     "iopub.execute_input": "2022-04-14T01:43:24.280014Z",
     "iopub.status.busy": "2022-04-14T01:43:24.279421Z",
     "iopub.status.idle": "2022-04-14T01:43:24.711992Z",
     "shell.execute_reply": "2022-04-14T01:43:24.710973Z"
    },
    "for_assignment_type": "solution"
   },
   "outputs": [
    {
     "data": {
      "text/html": [
       "<table border=\"1\" class=\"dataframe\">\n",
       "    <thead>\n",
       "        <tr>\n",
       "            <th>Slope</th> <th>Intercept</th>\n",
       "        </tr>\n",
       "    </thead>\n",
       "    <tbody>\n",
       "        <tr>\n",
       "            <td>0.730301</td> <td>-0.193024 </td>\n",
       "        </tr>\n",
       "        <tr>\n",
       "            <td>0.795006</td> <td>-0.689385 </td>\n",
       "        </tr>\n",
       "        <tr>\n",
       "            <td>0.697291</td> <td>0.100338  </td>\n",
       "        </tr>\n",
       "        <tr>\n",
       "            <td>0.728826</td> <td>-0.17946  </td>\n",
       "        </tr>\n",
       "        <tr>\n",
       "            <td>0.720929</td> <td>-0.0855102</td>\n",
       "        </tr>\n",
       "        <tr>\n",
       "            <td>0.756456</td> <td>-0.374169 </td>\n",
       "        </tr>\n",
       "        <tr>\n",
       "            <td>0.645878</td> <td>0.509795  </td>\n",
       "        </tr>\n",
       "        <tr>\n",
       "            <td>0.747265</td> <td>-0.284245 </td>\n",
       "        </tr>\n",
       "        <tr>\n",
       "            <td>0.740005</td> <td>-0.256814 </td>\n",
       "        </tr>\n",
       "        <tr>\n",
       "            <td>0.71303 </td> <td>-0.0632081</td>\n",
       "        </tr>\n",
       "    </tbody>\n",
       "</table>\n",
       "<p>... (990 rows omitted)</p>"
      ],
      "text/plain": [
       "Slope    | Intercept\n",
       "0.730301 | -0.193024\n",
       "0.795006 | -0.689385\n",
       "0.697291 | 0.100338\n",
       "0.728826 | -0.17946\n",
       "0.720929 | -0.0855102\n",
       "0.756456 | -0.374169\n",
       "0.645878 | 0.509795\n",
       "0.747265 | -0.284245\n",
       "0.740005 | -0.256814\n",
       "0.71303  | -0.0632081\n",
       "... (990 rows omitted)"
      ]
     },
     "execution_count": 30,
     "metadata": {},
     "output_type": "execute_result"
    }
   ],
   "source": [
    "# Just run this cell\n",
    "def bootstrap_lines(tbl, x_col, y_col, num_bootstraps):\n",
    "    resampled_slopes = make_array()\n",
    "    resampled_intercepts = make_array() \n",
    "    for i in np.arange(num_bootstraps): \n",
    "        resampled_line = compute_resampled_line(tbl, x_col, y_col) \n",
    "        resampled_slope = resampled_line.item(0) \n",
    "        resampled_intercept = resampled_line.item(1) \n",
    "        resampled_slopes = np.append(resampled_slopes,resampled_slope)\n",
    "        resampled_intercepts = np.append(resampled_intercepts,resampled_intercept)\n",
    "    tbl_lines = Table().with_columns('Slope', resampled_slopes, 'Intercept', resampled_intercepts)\n",
    "    return tbl_lines\n",
    "\n",
    "regression_lines = bootstrap_lines(birds, \"Egg Weight\", \"Bird Weight\", 1000)\n",
    "regression_lines"
   ]
  },
  {
   "cell_type": "markdown",
   "id": "8b6016d8",
   "metadata": {},
   "source": [
    "**Question 2.4.** Create an array called `predictions_for_eight` that contains the predicted bird weights based on an egg of weight 8 grams for each regression line in `regression_lines`. **(8 points)**\n",
    "\n",
    "```\n",
    "BEGIN QUESTION\n",
    "name: q2_4\n",
    "manual: true\n",
    "image: true\n",
    "```"
   ]
  },
  {
   "cell_type": "code",
   "execution_count": 31,
   "id": "cd0313eb",
   "metadata": {
    "ExecuteTime": {
     "end_time": "2018-04-11T12:05:55.991855Z",
     "start_time": "2018-04-11T12:05:55.759236Z"
    },
    "deletable": false,
    "execution": {
     "iopub.execute_input": "2022-04-14T01:43:24.716835Z",
     "iopub.status.busy": "2022-04-14T01:43:24.716309Z",
     "iopub.status.idle": "2022-04-14T01:43:25.049380Z",
     "shell.execute_reply": "2022-04-14T01:43:25.048385Z"
    },
    "scrolled": true
   },
   "outputs": [
    {
     "data": {
      "image/png": "[encoded data removed]",
      "text/plain": [
       "<Figure size 432x288 with 1 Axes>"
      ]
     },
     "metadata": {},
     "output_type": "display_data"
    }
   ],
   "source": [
    "predictions_for_eight = regression_lines.column('Slope') * 8 + regression_lines.column('Intercept') # SOLUTION\n",
    "\n",
    "# This will make a histogram of your predictions:\n",
    "table_of_predictions = Table().with_column('Predictions at Egg Weight=8', predictions_for_eight)\n",
    "table_of_predictions.hist('Predictions at Egg Weight=8', bins=20)"
   ]
  },
  {
   "cell_type": "code",
   "execution_count": 32,
   "id": "e093e9d7",
   "metadata": {
    "execution": {
     "iopub.execute_input": "2022-04-14T01:43:25.053758Z",
     "iopub.status.busy": "2022-04-14T01:43:25.052915Z",
     "iopub.status.idle": "2022-04-14T01:43:25.059757Z",
     "shell.execute_reply": "2022-04-14T01:43:25.058934Z"
    }
   },
   "outputs": [
    {
     "data": {
      "text/plain": [
       "True"
      ]
     },
     "execution_count": 32,
     "metadata": {},
     "output_type": "execute_result"
    }
   ],
   "source": [
    "# TEST\n",
    "len(predictions_for_eight) == regression_lines.num_rows"
   ]
  },
  {
   "cell_type": "markdown",
   "id": "ada6c99f",
   "metadata": {},
   "source": [
    "**Question 2.5.** Create an approximate 95% confidence interval for these predictions. **(6 points)**\n",
    "\n",
    "```\n",
    "BEGIN QUESTION\n",
    "name: q2_5\n",
    "manual: false\n",
    "points:\n",
    " - 0\n",
    " - 0\n",
    " - 6\n",
    "```"
   ]
  },
  {
   "cell_type": "code",
   "execution_count": 33,
   "id": "d7e33b55",
   "metadata": {
    "ExecuteTime": {
     "end_time": "2018-04-11T12:05:56.097136Z",
     "start_time": "2018-04-11T12:05:56.089117Z"
    },
    "deletable": false,
    "execution": {
     "iopub.execute_input": "2022-04-14T01:43:25.063279Z",
     "iopub.status.busy": "2022-04-14T01:43:25.062954Z",
     "iopub.status.idle": "2022-04-14T01:43:25.072055Z",
     "shell.execute_reply": "2022-04-14T01:43:25.071189Z"
    },
    "scrolled": true
   },
   "outputs": [
    {
     "name": "stdout",
     "output_type": "stream",
     "text": [
      "95% Confidence interval for predictions for x=8: ( 5.62614784137294 , 5.768191268191267 )\n"
     ]
    }
   ],
   "source": [
    "lower_bound = percentile(2.5, predictions_for_eight) # SOLUTION\n",
    "upper_bound = percentile(97.5, predictions_for_eight) # SOLUTION\n",
    "\n",
    "print('95% Confidence interval for predictions for x=8: (', lower_bound,\",\", upper_bound, ')')"
   ]
  },
  {
   "cell_type": "code",
   "execution_count": 34,
   "id": "0339139a",
   "metadata": {
    "execution": {
     "iopub.execute_input": "2022-04-14T01:43:25.076009Z",
     "iopub.status.busy": "2022-04-14T01:43:25.075335Z",
     "iopub.status.idle": "2022-04-14T01:43:25.081985Z",
     "shell.execute_reply": "2022-04-14T01:43:25.080998Z"
    }
   },
   "outputs": [
    {
     "data": {
      "text/plain": [
       "True"
      ]
     },
     "execution_count": 34,
     "metadata": {},
     "output_type": "execute_result"
    }
   ],
   "source": [
    "# TEST \n",
    "lower_bound > 5"
   ]
  },
  {
   "cell_type": "code",
   "execution_count": 35,
   "id": "247cf562",
   "metadata": {
    "execution": {
     "iopub.execute_input": "2022-04-14T01:43:25.085764Z",
     "iopub.status.busy": "2022-04-14T01:43:25.085041Z",
     "iopub.status.idle": "2022-04-14T01:43:25.090949Z",
     "shell.execute_reply": "2022-04-14T01:43:25.089961Z"
    }
   },
   "outputs": [
    {
     "data": {
      "text/plain": [
       "True"
      ]
     },
     "execution_count": 35,
     "metadata": {},
     "output_type": "execute_result"
    }
   ],
   "source": [
    "# TEST \n",
    "upper_bound < 6.5"
   ]
  },
  {
   "cell_type": "code",
   "execution_count": 36,
   "id": "dcf7e8a2",
   "metadata": {
    "execution": {
     "iopub.execute_input": "2022-04-14T01:43:25.095231Z",
     "iopub.status.busy": "2022-04-14T01:43:25.094329Z",
     "iopub.status.idle": "2022-04-14T01:43:25.101215Z",
     "shell.execute_reply": "2022-04-14T01:43:25.100303Z"
    }
   },
   "outputs": [
    {
     "data": {
      "text/plain": [
       "True"
      ]
     },
     "execution_count": 36,
     "metadata": {},
     "output_type": "execute_result"
    }
   ],
   "source": [
    "# HIDDEN TEST\n",
    "lower_bound > 5 and upper_bound < 6.5"
   ]
  },
  {
   "cell_type": "markdown",
   "id": "1912f420",
   "metadata": {},
   "source": [
    "**Question 2.6.** Set `plover_statements` to an array of integer(s) that correspond to statement(s) that are true. **(6 points)**\n",
    "\n",
    "1. The 95% confidence interval covers 95% of the bird weights for eggs that had a weight of eight grams in `birds`.\n",
    "\n",
    "2. The 95% confidence interval gives a sense of how much actual weights differ from your prediction.\n",
    "\n",
    "3. The 95% confidence interval quantifies the uncertainty in our estimate of what the true line would predict.\n",
    "\n",
    "```\n",
    "BEGIN QUESTION\n",
    "name: q2_6\n",
    "manual: false\n",
    "points:\n",
    " - 0\n",
    " - 3\n",
    " - 3\n",
    "```"
   ]
  },
  {
   "cell_type": "code",
   "execution_count": 37,
   "id": "41123351",
   "metadata": {
    "ExecuteTime": {
     "end_time": "2018-04-11T12:05:56.479878Z",
     "start_time": "2018-04-11T12:05:56.476869Z"
    },
    "deletable": false,
    "execution": {
     "iopub.execute_input": "2022-04-14T01:43:25.106109Z",
     "iopub.status.busy": "2022-04-14T01:43:25.105264Z",
     "iopub.status.idle": "2022-04-14T01:43:25.137456Z",
     "shell.execute_reply": "2022-04-14T01:43:25.136452Z"
    }
   },
   "outputs": [],
   "source": [
    "plover_statements = make_array(3) # SOLUTION"
   ]
  },
  {
   "cell_type": "code",
   "execution_count": 38,
   "id": "78ed2d8a",
   "metadata": {
    "execution": {
     "iopub.execute_input": "2022-04-14T01:43:25.142200Z",
     "iopub.status.busy": "2022-04-14T01:43:25.141442Z",
     "iopub.status.idle": "2022-04-14T01:43:25.148011Z",
     "shell.execute_reply": "2022-04-14T01:43:25.147109Z"
    }
   },
   "outputs": [
    {
     "data": {
      "text/plain": [
       "True"
      ]
     },
     "execution_count": 38,
     "metadata": {},
     "output_type": "execute_result"
    }
   ],
   "source": [
    "# TEST \n",
    "type(plover_statements) == np.ndarray"
   ]
  },
  {
   "cell_type": "code",
   "execution_count": 39,
   "id": "3c90ca6b",
   "metadata": {
    "execution": {
     "iopub.execute_input": "2022-04-14T01:43:25.152113Z",
     "iopub.status.busy": "2022-04-14T01:43:25.151812Z",
     "iopub.status.idle": "2022-04-14T01:43:25.157921Z",
     "shell.execute_reply": "2022-04-14T01:43:25.157085Z"
    }
   },
   "outputs": [
    {
     "data": {
      "text/plain": [
       "True"
      ]
     },
     "execution_count": 39,
     "metadata": {},
     "output_type": "execute_result"
    }
   ],
   "source": [
    "# HIDDEN TEST \n",
    "plover_statements.item(0) == 3"
   ]
  },
  {
   "cell_type": "code",
   "execution_count": 40,
   "id": "31b9dcbb",
   "metadata": {
    "execution": {
     "iopub.execute_input": "2022-04-14T01:43:25.162203Z",
     "iopub.status.busy": "2022-04-14T01:43:25.161537Z",
     "iopub.status.idle": "2022-04-14T01:43:25.168478Z",
     "shell.execute_reply": "2022-04-14T01:43:25.167508Z"
    }
   },
   "outputs": [
    {
     "data": {
      "text/plain": [
       "True"
      ]
     },
     "execution_count": 40,
     "metadata": {},
     "output_type": "execute_result"
    }
   ],
   "source": [
    "# HIDDEN TEST\n",
    "set(make_array(3)) == set(plover_statements)"
   ]
  },
  {
   "cell_type": "markdown",
   "id": "c6991792",
   "metadata": {},
   "source": [
    "You're done with Homework 11!  \n",
    "\n",
    "**Important submission steps:** \n",
    "1. Run the tests and verify that they all pass.\n",
    "2. Choose **Save Notebook** from the **File** menu, then **run the final cell**. \n",
    "3. Click the link to download the zip file.\n",
    "4. Then submit the zip file to the corresponding assignment according to your instructor's directions. \n",
    "\n",
    "**It is your responsibility to make sure your work is saved before running the last cell.**"
   ]
  }
 ],
 "metadata": {
  "kernelspec": {
   "display_name": "Python 3 (ipykernel)",
   "language": "python",
   "name": "python3"
  },
  "language_info": {
   "codemirror_mode": {
    "name": "ipython",
    "version": 3
   },
   "file_extension": ".py",
   "mimetype": "text/x-python",
   "name": "python",
   "nbconvert_exporter": "python",
   "pygments_lexer": "ipython3",
   "version": "3.9.10"
  }
 },
 "nbformat": 4,
 "nbformat_minor": 5
}
