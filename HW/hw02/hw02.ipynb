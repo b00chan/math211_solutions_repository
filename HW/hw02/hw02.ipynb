{
 "cells": [
  {
   "cell_type": "markdown",
   "id": "1f934f81",
   "metadata": {},
   "source": [
    "```\n",
    "BEGIN ASSIGNMENT \n",
    "init_cell: true \n",
    "export_cell: true \n",
    "files:\n",
    "    - world_population.csv\n",
    "    - array_diff.png\n",
    "    - array_cumsum.png\n",
    "    - temperatures.csv\n",
    "    - old_faithful.csv\n",
    "    - inventory.csv\n",
    "    - sales.csv\n",
    "    - president_births.csv\n",
    "    - d8error.py\n",
    "    - errorConfig.json\n",
    "export_cell:\n",
    "    pdf: false\n",
    "    force_save: false\n",
    "solutions_pdf: true\n",
    "template_pdf: true\n",
    "generate:\n",
    "    points_possible: 100.0\n",
    "    show_stdout: true\n",
    "    filtering: true\n",
    "    pagebreaks: true\n",
    "    zips: false\n",
    "```\n"
   ]
  },
  {
   "cell_type": "markdown",
   "id": "a6219789",
   "metadata": {},
   "source": [
    "# Homework 2: Arrays and Tables\n",
    "\n",
    "Please complete this notebook by filling in the cells provided. Before you begin, execute the previous cell to load the provided tests."
   ]
  },
  {
   "cell_type": "code",
   "execution_count": 1,
   "id": "1ddcf447",
   "metadata": {
    "execution": {
     "iopub.execute_input": "2022-01-27T05:12:41.675421Z",
     "iopub.status.busy": "2022-01-27T05:12:41.674519Z",
     "iopub.status.idle": "2022-01-27T05:12:42.207153Z",
     "shell.execute_reply": "2022-01-27T05:12:42.207769Z"
    }
   },
   "outputs": [
    {
     "ename": "NameError",
     "evalue": "name 'grader' is not defined",
     "output_type": "error",
     "traceback": [
      "\u001b[0;31m---------------------------------------------------------------------------\u001b[0m",
      "\u001b[0;31mNameError\u001b[0m                                 Traceback (most recent call last)",
      "Input \u001b[0;32mIn [1]\u001b[0m, in \u001b[0;36m<module>\u001b[0;34m\u001b[0m\n\u001b[1;32m      1\u001b[0m \u001b[38;5;66;03m# Run this cell and ignore the output. It is checking to see if you ran the first cell! \u001b[39;00m\n\u001b[1;32m      2\u001b[0m \u001b[38;5;66;03m# If you get a NameError, please run the cell at the very TOP of this notebook!\u001b[39;00m\n\u001b[0;32m----> 4\u001b[0m \u001b[43mgrader\u001b[49m\n",
      "\u001b[0;31mNameError\u001b[0m: name 'grader' is not defined"
     ]
    }
   ],
   "source": [
    "# Run this cell and ignore the output. It is checking to see if you ran the first cell! \n",
    "# If you get a NameError, please run the cell at the very TOP of this notebook!\n",
    "\n",
    "grader"
   ]
  },
  {
   "cell_type": "markdown",
   "id": "0b901c48",
   "metadata": {},
   "source": [
    "**Helpful Resource:**\n",
    "- [Python Reference](http://data8.org/sp22/python-reference.html): Cheat sheet of helpful array & table methods used in Data 8!\n",
    "\n",
    "**Recommended Readings:**\n",
    "- [Arrays](https://inferentialthinking.com/chapters/05/1/Arrays.html)\n",
    "- [What is Data Science?](http://www.inferentialthinking.com/chapters/01/what-is-data-science.html)\n",
    "- [Causality and Experiments](http://www.inferentialthinking.com/chapters/02/causality-and-experiments.html) \n",
    "- [Programming in Python](http://www.inferentialthinking.com/chapters/03/programming-in-python.html)\n",
    "\n",
    "For all problems that you must write explanations and sentences for, you **must** provide your answer in the designated space. Moreover, throughout this homework and all future ones, **please be sure to not re-assign variables throughout the notebook!** For example, if you use `max_temperature` in your answer to one question, do not reassign it later on. Otherwise, you will fail tests that you thought you were passing previously!\n",
    "\n",
    "\n",
    "**Note: This homework has hidden tests on it. That means even though tests may say 100% passed, it doesn't mean your final grade will be 100%. We will be running more tests for correctness once everyone turns in the homework.**\n",
    "\n",
    "Directly sharing answers is not okay, but discussing problems with the course staff or with other students is encouraged. Refer to the policies page to learn more about how to learn cooperatively.\n",
    "\n",
    "You should start early so that you have time to get help if you're stuck."
   ]
  },
  {
   "cell_type": "markdown",
   "id": "01e2c35f",
   "metadata": {},
   "source": [
    "## 1. Creating Arrays"
   ]
  },
  {
   "cell_type": "code",
   "execution_count": 2,
   "id": "1ce2880f",
   "metadata": {
    "execution": {
     "iopub.execute_input": "2022-01-27T05:12:42.214263Z",
     "iopub.status.busy": "2022-01-27T05:12:42.213475Z",
     "iopub.status.idle": "2022-01-27T05:12:43.829444Z",
     "shell.execute_reply": "2022-01-27T05:12:43.828774Z"
    }
   },
   "outputs": [
    {
     "ename": "ModuleNotFoundError",
     "evalue": "No module named 'd8error'",
     "output_type": "error",
     "traceback": [
      "\u001b[0;31m---------------------------------------------------------------------------\u001b[0m",
      "\u001b[0;31mModuleNotFoundError\u001b[0m                       Traceback (most recent call last)",
      "Input \u001b[0;32mIn [2]\u001b[0m, in \u001b[0;36m<module>\u001b[0;34m\u001b[0m\n\u001b[1;32m      3\u001b[0m \u001b[38;5;28;01mimport\u001b[39;00m \u001b[38;5;21;01mnumpy\u001b[39;00m \u001b[38;5;28;01mas\u001b[39;00m \u001b[38;5;21;01mnp\u001b[39;00m\n\u001b[1;32m      4\u001b[0m \u001b[38;5;28;01mfrom\u001b[39;00m \u001b[38;5;21;01mdatascience\u001b[39;00m \u001b[38;5;28;01mimport\u001b[39;00m \u001b[38;5;241m*\u001b[39m\n\u001b[0;32m----> 5\u001b[0m \u001b[38;5;28;01mimport\u001b[39;00m \u001b[38;5;21;01md8error\u001b[39;00m\n\u001b[1;32m      6\u001b[0m \u001b[38;5;28;01mimport\u001b[39;00m \u001b[38;5;21;01mwarnings\u001b[39;00m\n\u001b[1;32m      7\u001b[0m warnings\u001b[38;5;241m.\u001b[39msimplefilter(\u001b[38;5;124m'\u001b[39m\u001b[38;5;124mignore\u001b[39m\u001b[38;5;124m'\u001b[39m, \u001b[38;5;167;01mFutureWarning\u001b[39;00m)\n",
      "\u001b[0;31mModuleNotFoundError\u001b[0m: No module named 'd8error'"
     ]
    }
   ],
   "source": [
    "# Run this cell to set up the notebook, but please don't change it.\n",
    "\n",
    "import numpy as np\n",
    "from datascience import *\n",
    "import d8error\n",
    "import warnings\n",
    "warnings.simplefilter('ignore', FutureWarning)"
   ]
  },
  {
   "cell_type": "markdown",
   "id": "82f1511d",
   "metadata": {},
   "source": [
    "**Question 1.** Make an array called `weird_numbers` containing the following numbers (in the given order) **(4 Points)**:\n",
    "\n",
    "1. -2\n",
    "2. the floor of 12.6\n",
    "3. 3\n",
    "4. 5 to the power of the ceil of 5.3\n",
    "\n",
    "*Hint:* `floor` and `ceil` are functions in the `math` module. Importing modules is covered in Lab 2!\n",
    "\n",
    "*Note:* Python lists are different/behave differently than NumPy arrays. In Data 8, we use NumPy arrays, so please make an **array**, not a Python list.\n",
    "\n",
    "```\n",
    "BEGIN QUESTION\n",
    "name: q1_1\n",
    "points:\n",
    " - 0\n",
    " - 0\n",
    " - 4\n",
    "```"
   ]
  },
  {
   "cell_type": "code",
   "execution_count": 3,
   "id": "6ac8c732",
   "metadata": {
    "execution": {
     "iopub.execute_input": "2022-01-27T05:12:43.843194Z",
     "iopub.status.busy": "2022-01-27T05:12:43.842594Z",
     "iopub.status.idle": "2022-01-27T05:12:43.846666Z",
     "shell.execute_reply": "2022-01-27T05:12:43.846080Z"
    }
   },
   "outputs": [
    {
     "data": {
      "text/plain": [
       "array([   -2,    12,     3, 15625])"
      ]
     },
     "execution_count": 3,
     "metadata": {},
     "output_type": "execute_result"
    }
   ],
   "source": [
    "# Our solution involved one extra line of code before creating\n",
    "# weird_numbers.\n",
    "import math #SOLUTION\n",
    "weird_numbers = make_array(-2, math.floor(12.6), 3, 5**math.ceil(5.3)) #SOLUTION\n",
    "weird_numbers"
   ]
  },
  {
   "cell_type": "code",
   "execution_count": 4,
   "id": "c1b13648",
   "metadata": {
    "execution": {
     "iopub.execute_input": "2022-01-27T05:12:43.852187Z",
     "iopub.status.busy": "2022-01-27T05:12:43.851653Z",
     "iopub.status.idle": "2022-01-27T05:12:43.855964Z",
     "shell.execute_reply": "2022-01-27T05:12:43.855307Z"
    }
   },
   "outputs": [
    {
     "data": {
      "text/plain": [
       "True"
      ]
     },
     "execution_count": 4,
     "metadata": {},
     "output_type": "execute_result"
    }
   ],
   "source": [
    "# TEST\n",
    "import numpy as np\n",
    "# It looks like you didn't make an array.\n",
    "type(weird_numbers) == np.ndarray"
   ]
  },
  {
   "cell_type": "code",
   "execution_count": 5,
   "id": "c184f531",
   "metadata": {
    "execution": {
     "iopub.execute_input": "2022-01-27T05:12:43.861108Z",
     "iopub.status.busy": "2022-01-27T05:12:43.860471Z",
     "iopub.status.idle": "2022-01-27T05:12:43.864191Z",
     "shell.execute_reply": "2022-01-27T05:12:43.863766Z"
    }
   },
   "outputs": [
    {
     "data": {
      "text/plain": [
       "True"
      ]
     },
     "execution_count": 5,
     "metadata": {},
     "output_type": "execute_result"
    }
   ],
   "source": [
    "# TEST\n",
    "len(weird_numbers) == 4"
   ]
  },
  {
   "cell_type": "code",
   "execution_count": 6,
   "id": "ec930e2c",
   "metadata": {
    "deletable": false,
    "execution": {
     "iopub.execute_input": "2022-01-27T05:12:43.869547Z",
     "iopub.status.busy": "2022-01-27T05:12:43.868929Z",
     "iopub.status.idle": "2022-01-27T05:12:43.873170Z",
     "shell.execute_reply": "2022-01-27T05:12:43.872448Z"
    }
   },
   "outputs": [
    {
     "data": {
      "text/plain": [
       "True"
      ]
     },
     "execution_count": 6,
     "metadata": {},
     "output_type": "execute_result"
    }
   ],
   "source": [
    "# HIDDEN TEST\n",
    "np.allclose(weird_numbers, np.array([   -2,    12,     3, 15625]), rtol=1e-03, atol=1e-03)"
   ]
  },
  {
   "cell_type": "markdown",
   "id": "e780cd0c",
   "metadata": {},
   "source": [
    "**Question 2.** Make an array called `book_title_words` containing the following three strings: \"Eats\", \"Shoots\", and \"and Leaves\". **(4 Points)**\n",
    "\n",
    "```\n",
    "BEGIN QUESTION\n",
    "name: q1_2\n",
    "points:\n",
    " - 0\n",
    " - 0\n",
    " - 0\n",
    " - 0\n",
    " - 4\n",
    "```"
   ]
  },
  {
   "cell_type": "code",
   "execution_count": 7,
   "id": "b1c53ca0",
   "metadata": {
    "execution": {
     "iopub.execute_input": "2022-01-27T05:12:43.880231Z",
     "iopub.status.busy": "2022-01-27T05:12:43.876841Z",
     "iopub.status.idle": "2022-01-27T05:12:43.883885Z",
     "shell.execute_reply": "2022-01-27T05:12:43.884487Z"
    }
   },
   "outputs": [
    {
     "data": {
      "text/plain": [
       "array(['Eats', 'Shoots', 'and Leaves'], dtype='<U10')"
      ]
     },
     "execution_count": 7,
     "metadata": {},
     "output_type": "execute_result"
    }
   ],
   "source": [
    "book_title_words = make_array(\"Eats\", \"Shoots\", \"and Leaves\") #SOLUTION\n",
    "book_title_words"
   ]
  },
  {
   "cell_type": "code",
   "execution_count": 8,
   "id": "6137bf48",
   "metadata": {
    "execution": {
     "iopub.execute_input": "2022-01-27T05:12:43.889852Z",
     "iopub.status.busy": "2022-01-27T05:12:43.889274Z",
     "iopub.status.idle": "2022-01-27T05:12:43.926243Z",
     "shell.execute_reply": "2022-01-27T05:12:43.893029Z"
    }
   },
   "outputs": [
    {
     "data": {
      "text/plain": [
       "True"
      ]
     },
     "execution_count": 8,
     "metadata": {},
     "output_type": "execute_result"
    }
   ],
   "source": [
    "# TEST\n",
    "import numpy as np\n",
    "# It looks like you didn't make an array.\n",
    "type(book_title_words) == np.ndarray"
   ]
  },
  {
   "cell_type": "code",
   "execution_count": 9,
   "id": "82135ced",
   "metadata": {
    "deletable": false,
    "execution": {
     "iopub.execute_input": "2022-01-27T05:12:43.932267Z",
     "iopub.status.busy": "2022-01-27T05:12:43.931728Z",
     "iopub.status.idle": "2022-01-27T05:12:43.936011Z",
     "shell.execute_reply": "2022-01-27T05:12:43.935468Z"
    }
   },
   "outputs": [
    {
     "data": {
      "text/plain": [
       "True"
      ]
     },
     "execution_count": 9,
     "metadata": {},
     "output_type": "execute_result"
    }
   ],
   "source": [
    "# TEST\n",
    "# It looks like you included commas in the text.\n",
    "# The three pieces of text in the array should be:\n",
    "#   \"Eats\"\n",
    "#   \"Shoots\"\n",
    "#   \"and Leaves\"\n",
    "not any([',' in text for text in book_title_words])"
   ]
  },
  {
   "cell_type": "code",
   "execution_count": 10,
   "id": "16d63471",
   "metadata": {
    "execution": {
     "iopub.execute_input": "2022-01-27T05:12:43.940860Z",
     "iopub.status.busy": "2022-01-27T05:12:43.940235Z",
     "iopub.status.idle": "2022-01-27T05:12:43.944907Z",
     "shell.execute_reply": "2022-01-27T05:12:43.944433Z"
    }
   },
   "outputs": [
    {
     "data": {
      "text/plain": [
       "True"
      ]
     },
     "execution_count": 10,
     "metadata": {},
     "output_type": "execute_result"
    }
   ],
   "source": [
    "# TEST\n",
    "# It looks like you didn't include both words in the\n",
    "# last piece of text.  It should be the actual string:\n",
    "#   \"and Leaves\"\n",
    "'and ' in book_title_words.item(2)"
   ]
  },
  {
   "cell_type": "code",
   "execution_count": 11,
   "id": "fd40155a",
   "metadata": {
    "execution": {
     "iopub.execute_input": "2022-01-27T05:12:43.949597Z",
     "iopub.status.busy": "2022-01-27T05:12:43.949039Z",
     "iopub.status.idle": "2022-01-27T05:12:43.954118Z",
     "shell.execute_reply": "2022-01-27T05:12:43.953598Z"
    }
   },
   "outputs": [
    {
     "data": {
      "text/plain": [
       "3"
      ]
     },
     "execution_count": 11,
     "metadata": {},
     "output_type": "execute_result"
    }
   ],
   "source": [
    "# TEST\n",
    "len(book_title_words)"
   ]
  },
  {
   "cell_type": "code",
   "execution_count": 12,
   "id": "3f7b049f",
   "metadata": {
    "execution": {
     "iopub.execute_input": "2022-01-27T05:12:43.960757Z",
     "iopub.status.busy": "2022-01-27T05:12:43.960077Z",
     "iopub.status.idle": "2022-01-27T05:12:43.963956Z",
     "shell.execute_reply": "2022-01-27T05:12:43.963303Z"
    }
   },
   "outputs": [
    {
     "data": {
      "text/plain": [
       "True"
      ]
     },
     "execution_count": 12,
     "metadata": {},
     "output_type": "execute_result"
    }
   ],
   "source": [
    "# TEST\n",
    "book_title_words.item(0) == 'Eats' and book_title_words.item(1) == 'Shoots' and book_title_words.item(2) == 'and Leaves'"
   ]
  },
  {
   "cell_type": "markdown",
   "id": "c978a6a5",
   "metadata": {},
   "source": [
    "Strings have a method called `join`.  `join` takes one argument, an array of strings.  It returns a single string.  Specifically, the value of `a_string.join(an_array)` is a single string that's the [concatenation](https://en.wikipedia.org/wiki/Concatenation) (\"putting together\") of all the strings in `an_array`, **except** `a_string` is inserted in between each string.\n",
    "\n",
    "**Question 3.** Use the array `book_title_words` and the method `join` to make two strings **(4 Points)**:\n",
    "\n",
    "1. \"Eats, Shoots, and Leaves\" (call this one `with_commas`)\n",
    "2. \"Eats Shoots and Leaves\" (call this one `without_commas`)\n",
    "\n",
    "*Hint:* If you're not sure what `join` does, first try just calling, for example, `\"data8\".join(book_title_words)` .\n",
    "\n",
    "```\n",
    "BEGIN QUESTION\n",
    "name: q1_3\n",
    "points:\n",
    " - 2\n",
    " - 2\n",
    "```"
   ]
  },
  {
   "cell_type": "code",
   "execution_count": 13,
   "id": "f307649d",
   "metadata": {
    "execution": {
     "iopub.execute_input": "2022-01-27T05:12:43.969569Z",
     "iopub.status.busy": "2022-01-27T05:12:43.968984Z",
     "iopub.status.idle": "2022-01-27T05:12:43.972188Z",
     "shell.execute_reply": "2022-01-27T05:12:43.972636Z"
    }
   },
   "outputs": [
    {
     "name": "stdout",
     "output_type": "stream",
     "text": [
      "with_commas: Eats, Shoots, and Leaves\n",
      "without_commas: Eats Shoots and Leaves\n"
     ]
    }
   ],
   "source": [
    "with_commas = \", \".join(book_title_words) #SOLUTION\n",
    "without_commas = \" \".join(book_title_words) #SOLUTION\n",
    "\n",
    "# These lines are provided just to print out your answers.\n",
    "print('with_commas:', with_commas)\n",
    "print('without_commas:', without_commas)"
   ]
  },
  {
   "cell_type": "code",
   "execution_count": 14,
   "id": "dce17e60",
   "metadata": {
    "deletable": false,
    "execution": {
     "iopub.execute_input": "2022-01-27T05:12:43.978255Z",
     "iopub.status.busy": "2022-01-27T05:12:43.977128Z",
     "iopub.status.idle": "2022-01-27T05:12:43.981455Z",
     "shell.execute_reply": "2022-01-27T05:12:43.980948Z"
    }
   },
   "outputs": [
    {
     "data": {
      "text/plain": [
       "True"
      ]
     },
     "execution_count": 14,
     "metadata": {},
     "output_type": "execute_result"
    }
   ],
   "source": [
    "# TEST\n",
    "with_commas == 'Eats, Shoots, and Leaves'"
   ]
  },
  {
   "cell_type": "code",
   "execution_count": 15,
   "id": "0c9b3f89",
   "metadata": {
    "execution": {
     "iopub.execute_input": "2022-01-27T05:12:43.987402Z",
     "iopub.status.busy": "2022-01-27T05:12:43.986821Z",
     "iopub.status.idle": "2022-01-27T05:12:43.990991Z",
     "shell.execute_reply": "2022-01-27T05:12:43.990538Z"
    }
   },
   "outputs": [
    {
     "data": {
      "text/plain": [
       "True"
      ]
     },
     "execution_count": 15,
     "metadata": {},
     "output_type": "execute_result"
    }
   ],
   "source": [
    "# TEST\n",
    "without_commas == 'Eats Shoots and Leaves'"
   ]
  },
  {
   "cell_type": "markdown",
   "id": "be31df84",
   "metadata": {},
   "source": [
    "## 2. Indexing Arrays"
   ]
  },
  {
   "cell_type": "markdown",
   "id": "c408739e",
   "metadata": {},
   "source": [
    "These exercises give you practice accessing individual elements of arrays.  In Python (and in many programming languages), each element is accessed by its *index*; for example, the first element is the element at index 0. Indices must be **integers**.\n",
    "\n",
    "***Note:* If you have previous coding experience, you may be familiar with bracket notation. DO NOT use bracket notation when indexing (i.e. `arr[0]`), as this can yield different data type outputs than what we will be expecting. This can cause you to fail an autograder test.**\n",
    "\n",
    "Be sure to refer to the [Python Reference](http://data8.org/sp22/python-reference.html) on the website if you feel stuck!"
   ]
  },
  {
   "cell_type": "markdown",
   "id": "767f59a6",
   "metadata": {},
   "source": [
    "**Question 1.** The cell below creates an array of some numbers.  Set `third_element` to the third element of `some_numbers`. **(4 Points)**\n",
    "\n",
    "```\n",
    "BEGIN QUESTION\n",
    "name: q2_1\n",
    "points:\n",
    " - 0\n",
    " - 4\n",
    "```"
   ]
  },
  {
   "cell_type": "code",
   "execution_count": 16,
   "id": "7e3c3cd7",
   "metadata": {
    "execution": {
     "iopub.execute_input": "2022-01-27T05:12:44.030858Z",
     "iopub.status.busy": "2022-01-27T05:12:44.030096Z",
     "iopub.status.idle": "2022-01-27T05:12:44.034640Z",
     "shell.execute_reply": "2022-01-27T05:12:44.034125Z"
    }
   },
   "outputs": [
    {
     "data": {
      "text/plain": [
       "-6"
      ]
     },
     "execution_count": 16,
     "metadata": {},
     "output_type": "execute_result"
    }
   ],
   "source": [
    "some_numbers = make_array(-1, -3, -6, -10, -15)\n",
    "\n",
    "third_element = some_numbers.item(2) #SOLUTION\n",
    "third_element"
   ]
  },
  {
   "cell_type": "code",
   "execution_count": 17,
   "id": "b78bf60d",
   "metadata": {
    "deletable": false,
    "execution": {
     "iopub.execute_input": "2022-01-27T05:12:44.039647Z",
     "iopub.status.busy": "2022-01-27T05:12:44.039012Z",
     "iopub.status.idle": "2022-01-27T05:12:44.042639Z",
     "shell.execute_reply": "2022-01-27T05:12:44.043263Z"
    }
   },
   "outputs": [
    {
     "data": {
      "text/plain": [
       "True"
      ]
     },
     "execution_count": 17,
     "metadata": {},
     "output_type": "execute_result"
    }
   ],
   "source": [
    "# TEST\n",
    "# It looks like you wrote:\n",
    "#   some_numbers.item(3)\n",
    "# But the third element has index 2, not 3.\n",
    "third_element != -10"
   ]
  },
  {
   "cell_type": "code",
   "execution_count": 18,
   "id": "c62e54ca",
   "metadata": {
    "execution": {
     "iopub.execute_input": "2022-01-27T05:12:44.048798Z",
     "iopub.status.busy": "2022-01-27T05:12:44.047957Z",
     "iopub.status.idle": "2022-01-27T05:12:44.052314Z",
     "shell.execute_reply": "2022-01-27T05:12:44.052863Z"
    }
   },
   "outputs": [
    {
     "data": {
      "text/plain": [
       "True"
      ]
     },
     "execution_count": 18,
     "metadata": {},
     "output_type": "execute_result"
    }
   ],
   "source": [
    "# TEST\n",
    "third_element == -6"
   ]
  },
  {
   "cell_type": "markdown",
   "id": "ede6de30",
   "metadata": {},
   "source": [
    "**Question 2.** The next cell creates a table that displays some information about the elements of `some_numbers` and their order.  Run the cell to see the partially-completed table, then fill in the missing information (the cells that say \"Ellipsis\") by assigning `blank_a`, `blank_b`, `blank_c`, and `blank_d` to the correct elements in the table. **(4 Points)**\n",
    "\n",
    "*Hint:* Replace the `...` with strings or numbers. As a reminder, indices should be **integers**.\n",
    "\n",
    "```\n",
    "BEGIN QUESTION\n",
    "name: q2_2\n",
    "points:\n",
    " - 1\n",
    " - 1\n",
    " - 1\n",
    " - 1\n",
    "```"
   ]
  },
  {
   "cell_type": "code",
   "execution_count": 19,
   "id": "058a696e",
   "metadata": {
    "execution": {
     "iopub.execute_input": "2022-01-27T05:12:44.060267Z",
     "iopub.status.busy": "2022-01-27T05:12:44.059680Z",
     "iopub.status.idle": "2022-01-27T05:12:44.064113Z",
     "shell.execute_reply": "2022-01-27T05:12:44.063532Z"
    },
    "for_assignment_type": "student"
   },
   "outputs": [
    {
     "data": {
      "text/html": [
       "<table border=\"1\" class=\"dataframe\">\n",
       "    <thead>\n",
       "        <tr>\n",
       "            <th>English name for position</th> <th>Index</th> <th>Element</th>\n",
       "        </tr>\n",
       "    </thead>\n",
       "    <tbody>\n",
       "        <tr>\n",
       "            <td>first                    </td> <td>0    </td> <td>-1     </td>\n",
       "        </tr>\n",
       "        <tr>\n",
       "            <td>second                   </td> <td>1    </td> <td>-3     </td>\n",
       "        </tr>\n",
       "        <tr>\n",
       "            <td>third                    </td> <td>2    </td> <td>-6     </td>\n",
       "        </tr>\n",
       "        <tr>\n",
       "            <td>fourth                   </td> <td>3    </td> <td>-10    </td>\n",
       "        </tr>\n",
       "        <tr>\n",
       "            <td>fifth                    </td> <td>4    </td> <td>-15    </td>\n",
       "        </tr>\n",
       "    </tbody>\n",
       "</table>"
      ],
      "text/plain": [
       "English name for position | Index | Element\n",
       "first                     | 0     | -1\n",
       "second                    | 1     | -3\n",
       "third                     | 2     | -6\n",
       "fourth                    | 3     | -10\n",
       "fifth                     | 4     | -15"
      ]
     },
     "execution_count": 19,
     "metadata": {},
     "output_type": "execute_result"
    }
   ],
   "source": [
    "blank_a = \"third\" #SOLUTION\n",
    "blank_b = \"fourth\" #SOLUTION\n",
    "blank_c = 0 #SOLUTION\n",
    "blank_d = 3 #SOLUTION\n",
    "elements_of_some_numbers = Table().with_columns(\n",
    "    \"English name for position\", make_array(\"first\", \"second\", blank_a, blank_b, \"fifth\"),\n",
    "    \"Index\",                     make_array(blank_c, 1, 2, blank_d, 4),\n",
    "    \"Element\",                   some_numbers)\n",
    "elements_of_some_numbers"
   ]
  },
  {
   "cell_type": "code",
   "execution_count": 20,
   "id": "e1219304",
   "metadata": {
    "deletable": false,
    "execution": {
     "iopub.execute_input": "2022-01-27T05:12:44.070287Z",
     "iopub.status.busy": "2022-01-27T05:12:44.069368Z",
     "iopub.status.idle": "2022-01-27T05:12:44.074125Z",
     "shell.execute_reply": "2022-01-27T05:12:44.074985Z"
    }
   },
   "outputs": [
    {
     "data": {
      "text/plain": [
       "True"
      ]
     },
     "execution_count": 20,
     "metadata": {},
     "output_type": "execute_result"
    }
   ],
   "source": [
    "# TEST\n",
    "elements_of_some_numbers.column(0).item(2) == \"third\""
   ]
  },
  {
   "cell_type": "code",
   "execution_count": 21,
   "id": "73536ec4",
   "metadata": {
    "execution": {
     "iopub.execute_input": "2022-01-27T05:12:44.080895Z",
     "iopub.status.busy": "2022-01-27T05:12:44.080224Z",
     "iopub.status.idle": "2022-01-27T05:12:44.084606Z",
     "shell.execute_reply": "2022-01-27T05:12:44.085086Z"
    }
   },
   "outputs": [
    {
     "data": {
      "text/plain": [
       "True"
      ]
     },
     "execution_count": 21,
     "metadata": {},
     "output_type": "execute_result"
    }
   ],
   "source": [
    "# TEST\n",
    "elements_of_some_numbers.column(0).item(3) == \"fourth\""
   ]
  },
  {
   "cell_type": "code",
   "execution_count": 22,
   "id": "4e656327",
   "metadata": {
    "execution": {
     "iopub.execute_input": "2022-01-27T05:12:44.129903Z",
     "iopub.status.busy": "2022-01-27T05:12:44.129199Z",
     "iopub.status.idle": "2022-01-27T05:12:44.133201Z",
     "shell.execute_reply": "2022-01-27T05:12:44.132625Z"
    }
   },
   "outputs": [
    {
     "data": {
      "text/plain": [
       "True"
      ]
     },
     "execution_count": 22,
     "metadata": {},
     "output_type": "execute_result"
    }
   ],
   "source": [
    "# TEST\n",
    "elements_of_some_numbers.column(1).item(0) == 0"
   ]
  },
  {
   "cell_type": "code",
   "execution_count": 23,
   "id": "99bf70fe",
   "metadata": {
    "execution": {
     "iopub.execute_input": "2022-01-27T05:12:44.139023Z",
     "iopub.status.busy": "2022-01-27T05:12:44.138364Z",
     "iopub.status.idle": "2022-01-27T05:12:44.141622Z",
     "shell.execute_reply": "2022-01-27T05:12:44.141027Z"
    }
   },
   "outputs": [
    {
     "data": {
      "text/plain": [
       "True"
      ]
     },
     "execution_count": 23,
     "metadata": {},
     "output_type": "execute_result"
    }
   ],
   "source": [
    "# TEST\n",
    "elements_of_some_numbers.column(1).item(3) == 3"
   ]
  },
  {
   "cell_type": "markdown",
   "id": "381a30a0",
   "metadata": {},
   "source": [
    "**Question 3.** You'll sometimes want to find the **last** element of an array.  Suppose an array has 142 elements.  What is the index of its last element? **(4 Points)**\n",
    "\n",
    "```\n",
    "BEGIN QUESTION\n",
    "name: q2_3\n",
    "points:\n",
    " - 4\n",
    "```"
   ]
  },
  {
   "cell_type": "code",
   "execution_count": 24,
   "id": "d590b6c6",
   "metadata": {
    "execution": {
     "iopub.execute_input": "2022-01-27T05:12:44.146528Z",
     "iopub.status.busy": "2022-01-27T05:12:44.145899Z",
     "iopub.status.idle": "2022-01-27T05:12:44.149613Z",
     "shell.execute_reply": "2022-01-27T05:12:44.148795Z"
    }
   },
   "outputs": [],
   "source": [
    "index_of_last_element = 142 - 1 # (or just 141) #SOLUTION"
   ]
  },
  {
   "cell_type": "code",
   "execution_count": 25,
   "id": "53a5efdb",
   "metadata": {
    "deletable": false,
    "execution": {
     "iopub.execute_input": "2022-01-27T05:12:44.154528Z",
     "iopub.status.busy": "2022-01-27T05:12:44.153784Z",
     "iopub.status.idle": "2022-01-27T05:12:44.157934Z",
     "shell.execute_reply": "2022-01-27T05:12:44.157404Z"
    }
   },
   "outputs": [
    {
     "data": {
      "text/plain": [
       "True"
      ]
     },
     "execution_count": 25,
     "metadata": {},
     "output_type": "execute_result"
    }
   ],
   "source": [
    "# TEST\n",
    "index_of_last_element == 141"
   ]
  },
  {
   "cell_type": "markdown",
   "id": "95fee862",
   "metadata": {},
   "source": [
    "More often, you don't know the number of elements in an array, its *length*.  (For example, it might be a large dataset you found on the Internet.)  The function `len` takes a single argument, an array, and returns an integer that represents the `len`gth of that array.\n",
    "\n",
    "**Question 4.** The cell below loads an array called `president_birth_years`.  Calling `tbl.column(...)` on a table returns an array of the column specified, in this case the `Birth Year` column of the `president_births` table. The last element in that array is the most recent among the birth years of all the deceased Presidents. Assign that year to `most_recent_birth_year`. **(4 Points)**\n",
    "\n",
    "```\n",
    "BEGIN QUESTION\n",
    "name: q2_4\n",
    "points:\n",
    " - 4\n",
    "```"
   ]
  },
  {
   "cell_type": "code",
   "execution_count": 26,
   "id": "5b7602ff",
   "metadata": {
    "execution": {
     "iopub.execute_input": "2022-01-27T05:12:44.163586Z",
     "iopub.status.busy": "2022-01-27T05:12:44.162992Z",
     "iopub.status.idle": "2022-01-27T05:12:44.173244Z",
     "shell.execute_reply": "2022-01-27T05:12:44.173740Z"
    }
   },
   "outputs": [
    {
     "data": {
      "text/plain": [
       "1917"
      ]
     },
     "execution_count": 26,
     "metadata": {},
     "output_type": "execute_result"
    }
   ],
   "source": [
    "president_birth_years = Table.read_table(\"president_births.csv\").column('Birth Year')\n",
    "\n",
    "most_recent_birth_year = president_birth_years.item(len(president_birth_years)-1) #SOLUTION\n",
    "most_recent_birth_year"
   ]
  },
  {
   "cell_type": "code",
   "execution_count": 27,
   "id": "c4f46158",
   "metadata": {
    "deletable": false,
    "execution": {
     "iopub.execute_input": "2022-01-27T05:12:44.178777Z",
     "iopub.status.busy": "2022-01-27T05:12:44.178111Z",
     "iopub.status.idle": "2022-01-27T05:12:44.181843Z",
     "shell.execute_reply": "2022-01-27T05:12:44.182261Z"
    }
   },
   "outputs": [
    {
     "data": {
      "text/plain": [
       "True"
      ]
     },
     "execution_count": 27,
     "metadata": {},
     "output_type": "execute_result"
    }
   ],
   "source": [
    "# TEST\n",
    "most_recent_birth_year == 1917"
   ]
  },
  {
   "cell_type": "markdown",
   "id": "a1f07dfd",
   "metadata": {},
   "source": [
    "**Question 5.** Finally, assign `min_of_birth_years` to the minimum of the first, sixteenth, and last birth years listed in `president_birth_years`. **(4 Points)**\n",
    "\n",
    "```\n",
    "BEGIN QUESTION\n",
    "name: q2_5\n",
    "points:\n",
    " - 0\n",
    " - 4\n",
    "```"
   ]
  },
  {
   "cell_type": "code",
   "execution_count": 28,
   "id": "2c139549",
   "metadata": {
    "execution": {
     "iopub.execute_input": "2022-01-27T05:12:44.187984Z",
     "iopub.status.busy": "2022-01-27T05:12:44.187397Z",
     "iopub.status.idle": "2022-01-27T05:12:44.191655Z",
     "shell.execute_reply": "2022-01-27T05:12:44.191065Z"
    }
   },
   "outputs": [
    {
     "data": {
      "text/plain": [
       "1732"
      ]
     },
     "execution_count": 28,
     "metadata": {},
     "output_type": "execute_result"
    }
   ],
   "source": [
    "min_of_birth_years = min(make_array(president_birth_years.item(0), president_birth_years.item(15), president_birth_years.item(len(president_birth_years) - 1))) #SOLUTION\n",
    "min_of_birth_years"
   ]
  },
  {
   "cell_type": "code",
   "execution_count": 29,
   "id": "42e48766",
   "metadata": {
    "execution": {
     "iopub.execute_input": "2022-01-27T05:12:44.229844Z",
     "iopub.status.busy": "2022-01-27T05:12:44.227567Z",
     "iopub.status.idle": "2022-01-27T05:12:44.233888Z",
     "shell.execute_reply": "2022-01-27T05:12:44.233385Z"
    }
   },
   "outputs": [
    {
     "data": {
      "text/plain": [
       "True"
      ]
     },
     "execution_count": 29,
     "metadata": {},
     "output_type": "execute_result"
    }
   ],
   "source": [
    "# TEST\n",
    "min_of_birth_years > 0"
   ]
  },
  {
   "cell_type": "code",
   "execution_count": 30,
   "id": "498ce43a",
   "metadata": {
    "deletable": false,
    "execution": {
     "iopub.execute_input": "2022-01-27T05:12:44.239367Z",
     "iopub.status.busy": "2022-01-27T05:12:44.238521Z",
     "iopub.status.idle": "2022-01-27T05:12:44.242576Z",
     "shell.execute_reply": "2022-01-27T05:12:44.242063Z"
    }
   },
   "outputs": [
    {
     "data": {
      "text/plain": [
       "True"
      ]
     },
     "execution_count": 30,
     "metadata": {},
     "output_type": "execute_result"
    }
   ],
   "source": [
    "# HIDDEN TEST\n",
    "min_of_birth_years == 1732"
   ]
  },
  {
   "cell_type": "markdown",
   "id": "c1da3a64",
   "metadata": {},
   "source": [
    "## 3. Basic Array Arithmetic"
   ]
  },
  {
   "cell_type": "markdown",
   "id": "321b8c94",
   "metadata": {},
   "source": [
    "**Question 1.** Multiply the numbers 42, -4224, 424224242, and 250 by 157. Assign each variable below such that `first_product` is assigned to the result of $42 * 157$, `second_product` is assigned to the result of $-4224 * 157$, and so on. **(4 Points)**\n",
    "\n",
    "*Note*: For this question, **don't** use arrays.\n",
    "\n",
    "```\n",
    "BEGIN QUESTION\n",
    "name: q3_1\n",
    "points:\n",
    " - 0\n",
    " - 4\n",
    "```"
   ]
  },
  {
   "cell_type": "code",
   "execution_count": 31,
   "id": "a3661eb1",
   "metadata": {
    "execution": {
     "iopub.execute_input": "2022-01-27T05:12:44.248606Z",
     "iopub.status.busy": "2022-01-27T05:12:44.247879Z",
     "iopub.status.idle": "2022-01-27T05:12:44.253960Z",
     "shell.execute_reply": "2022-01-27T05:12:44.253499Z"
    }
   },
   "outputs": [
    {
     "name": "stdout",
     "output_type": "stream",
     "text": [
      "First Product: 6594\n",
      "Second Product: -663168\n",
      "Third Product: 66603205994\n",
      "Fourth Product: 39250\n"
     ]
    }
   ],
   "source": [
    "first_product = 42 * 157 #SOLUTION\n",
    "second_product = -4224 * 157 #SOLUTION\n",
    "third_product = 424224242 * 157 #SOLUTION\n",
    "fourth_product = 250 * 157 #SOLUTION\n",
    "print(\"First Product:\", first_product)\n",
    "print(\"Second Product:\", second_product)\n",
    "print(\"Third Product:\", third_product)\n",
    "print(\"Fourth Product:\", fourth_product)"
   ]
  },
  {
   "cell_type": "code",
   "execution_count": 32,
   "id": "75249549",
   "metadata": {
    "execution": {
     "iopub.execute_input": "2022-01-27T05:12:44.259803Z",
     "iopub.status.busy": "2022-01-27T05:12:44.258922Z",
     "iopub.status.idle": "2022-01-27T05:12:44.262904Z",
     "shell.execute_reply": "2022-01-27T05:12:44.263343Z"
    }
   },
   "outputs": [
    {
     "data": {
      "text/plain": [
       "(True, True, True, True)"
      ]
     },
     "execution_count": 32,
     "metadata": {},
     "output_type": "execute_result"
    }
   ],
   "source": [
    "# TEST\n",
    "first_product > 0, second_product < 0, third_product > 0, fourth_product > 0"
   ]
  },
  {
   "cell_type": "code",
   "execution_count": 33,
   "id": "3d344070",
   "metadata": {
    "execution": {
     "iopub.execute_input": "2022-01-27T05:12:44.269986Z",
     "iopub.status.busy": "2022-01-27T05:12:44.269123Z",
     "iopub.status.idle": "2022-01-27T05:12:44.273622Z",
     "shell.execute_reply": "2022-01-27T05:12:44.273115Z"
    }
   },
   "outputs": [
    {
     "data": {
      "text/plain": [
       "True"
      ]
     },
     "execution_count": 33,
     "metadata": {},
     "output_type": "execute_result"
    }
   ],
   "source": [
    "# HIDDEN TEST\n",
    "np.allclose([first_product, second_product, third_product, fourth_product], \\\n",
    "            np.array([6594, -663168, 66603205994, 39250]))"
   ]
  },
  {
   "cell_type": "markdown",
   "id": "0283c246",
   "metadata": {},
   "source": [
    "**Question 2.** Now, do the same calculation, but using an array called `numbers` and only a single multiplication (`*`) operator.  Store the 4 results in an array named `products`. **(4 Points)**\n",
    "\n",
    "```\n",
    "BEGIN QUESTION\n",
    "name: q3_2\n",
    "points:\n",
    " - 0\n",
    " - 4\n",
    "```"
   ]
  },
  {
   "cell_type": "code",
   "execution_count": 34,
   "id": "3ff6b380",
   "metadata": {
    "execution": {
     "iopub.execute_input": "2022-01-27T05:12:44.279657Z",
     "iopub.status.busy": "2022-01-27T05:12:44.278901Z",
     "iopub.status.idle": "2022-01-27T05:12:44.283500Z",
     "shell.execute_reply": "2022-01-27T05:12:44.282978Z"
    }
   },
   "outputs": [
    {
     "data": {
      "text/plain": [
       "array([       6594,     -663168, 66603205994,       39250])"
      ]
     },
     "execution_count": 34,
     "metadata": {},
     "output_type": "execute_result"
    }
   ],
   "source": [
    "numbers = make_array(42, -4224, 424224242, 250) #SOLUTION\n",
    "products = numbers * 157 #SOLUTION\n",
    "products"
   ]
  },
  {
   "cell_type": "code",
   "execution_count": 35,
   "id": "4917d65b",
   "metadata": {
    "execution": {
     "iopub.execute_input": "2022-01-27T05:12:44.328763Z",
     "iopub.status.busy": "2022-01-27T05:12:44.327860Z",
     "iopub.status.idle": "2022-01-27T05:12:44.332255Z",
     "shell.execute_reply": "2022-01-27T05:12:44.331736Z"
    }
   },
   "outputs": [
    {
     "data": {
      "text/plain": [
       "True"
      ]
     },
     "execution_count": 35,
     "metadata": {},
     "output_type": "execute_result"
    }
   ],
   "source": [
    "# TEST\n",
    "# products should be an array!\n",
    "len(products) == 4"
   ]
  },
  {
   "cell_type": "code",
   "execution_count": 36,
   "id": "4bfbc856",
   "metadata": {
    "deletable": false,
    "execution": {
     "iopub.execute_input": "2022-01-27T05:12:44.338977Z",
     "iopub.status.busy": "2022-01-27T05:12:44.338059Z",
     "iopub.status.idle": "2022-01-27T05:12:44.342397Z",
     "shell.execute_reply": "2022-01-27T05:12:44.341826Z"
    }
   },
   "outputs": [
    {
     "data": {
      "text/plain": [
       "True"
      ]
     },
     "execution_count": 36,
     "metadata": {},
     "output_type": "execute_result"
    }
   ],
   "source": [
    "# HIDDEN TEST\n",
    "np.allclose(products, np.array([6594, -663168, 66603205994, 39250]))"
   ]
  },
  {
   "cell_type": "markdown",
   "id": "4476ed65",
   "metadata": {},
   "source": [
    "**Question 3.** Oops, we made a typo!  Instead of 157, we wanted to multiply each number by 1577.  Compute the correct products in the cell below using array arithmetic.  Notice that your job is really easy if you previously defined an array containing the 4 numbers. **(4 Points)**\n",
    "\n",
    "```\n",
    "BEGIN QUESTION\n",
    "name: q3_3\n",
    "points:\n",
    " - 0\n",
    " - 4\n",
    "```"
   ]
  },
  {
   "cell_type": "code",
   "execution_count": 37,
   "id": "e4b9f8ad",
   "metadata": {
    "execution": {
     "iopub.execute_input": "2022-01-27T05:12:44.349544Z",
     "iopub.status.busy": "2022-01-27T05:12:44.348545Z",
     "iopub.status.idle": "2022-01-27T05:12:44.352876Z",
     "shell.execute_reply": "2022-01-27T05:12:44.352263Z"
    }
   },
   "outputs": [
    {
     "data": {
      "text/plain": [
       "array([       66234,     -6661248, 669001629634,       394250])"
      ]
     },
     "execution_count": 37,
     "metadata": {},
     "output_type": "execute_result"
    }
   ],
   "source": [
    "correct_products = numbers * 1577 # SOLUTION\n",
    "correct_products"
   ]
  },
  {
   "cell_type": "code",
   "execution_count": 38,
   "id": "fb4a7cd0",
   "metadata": {
    "execution": {
     "iopub.execute_input": "2022-01-27T05:12:44.358698Z",
     "iopub.status.busy": "2022-01-27T05:12:44.357807Z",
     "iopub.status.idle": "2022-01-27T05:12:44.361686Z",
     "shell.execute_reply": "2022-01-27T05:12:44.362216Z"
    }
   },
   "outputs": [
    {
     "data": {
      "text/plain": [
       "True"
      ]
     },
     "execution_count": 38,
     "metadata": {},
     "output_type": "execute_result"
    }
   ],
   "source": [
    "# TEST\n",
    "len(correct_products) == 4"
   ]
  },
  {
   "cell_type": "code",
   "execution_count": 39,
   "id": "29d48a45",
   "metadata": {
    "deletable": false,
    "execution": {
     "iopub.execute_input": "2022-01-27T05:12:44.368550Z",
     "iopub.status.busy": "2022-01-27T05:12:44.367611Z",
     "iopub.status.idle": "2022-01-27T05:12:44.371836Z",
     "shell.execute_reply": "2022-01-27T05:12:44.371253Z"
    }
   },
   "outputs": [
    {
     "data": {
      "text/plain": [
       "True"
      ]
     },
     "execution_count": 39,
     "metadata": {},
     "output_type": "execute_result"
    }
   ],
   "source": [
    "# HIDDEN TEST\n",
    "np.allclose(correct_products, np.array([66234, -6661248, 669001629634, 394250]))"
   ]
  },
  {
   "cell_type": "markdown",
   "id": "f10fd529",
   "metadata": {},
   "source": [
    "**Question 4.** We've loaded an array of temperatures in the next cell.  Each number is the highest temperature observed on a day at a climate observation station, mostly from the US.  Since they're from the US government agency [NOAA](https://www.noaa.gov/), all the temperatures are in Fahrenheit.\n",
    "\n",
    "Convert all the temperatures to Celsius by first subtracting 32 from them, then multiplying the results by $\\frac{5}{9}$, i.e. $C = (F - 32) * \\frac{5}{9}$. After converting the temperatures to Celsius, make sure to **ROUND** the final result  to the nearest integer using the `np.round` function. **(4 Points)**\n",
    "\n",
    "```\n",
    "BEGIN QUESTION\n",
    "name: q3_4\n",
    "points:\n",
    " - 1\n",
    " - 1\n",
    " - 1\n",
    " - 1\n",
    "```"
   ]
  },
  {
   "cell_type": "code",
   "execution_count": 40,
   "id": "4c431ce4",
   "metadata": {
    "execution": {
     "iopub.execute_input": "2022-01-27T05:12:44.377841Z",
     "iopub.status.busy": "2022-01-27T05:12:44.376856Z",
     "iopub.status.idle": "2022-01-27T05:12:44.450650Z",
     "shell.execute_reply": "2022-01-27T05:12:44.451082Z"
    }
   },
   "outputs": [
    {
     "data": {
      "text/plain": [
       "array([-4., 31., 32., ..., 17., 23., 16.])"
      ]
     },
     "execution_count": 40,
     "metadata": {},
     "output_type": "execute_result"
    }
   ],
   "source": [
    "max_temperatures = Table.read_table(\"temperatures.csv\").column(\"Daily Max Temperature\")\n",
    "\n",
    "celsius_max_temperatures = np.round((max_temperatures - 32) * 5/9) #SOLUTION\n",
    "celsius_max_temperatures"
   ]
  },
  {
   "cell_type": "code",
   "execution_count": 41,
   "id": "9b79d690",
   "metadata": {
    "deletable": false,
    "execution": {
     "iopub.execute_input": "2022-01-27T05:12:44.461612Z",
     "iopub.status.busy": "2022-01-27T05:12:44.460450Z",
     "iopub.status.idle": "2022-01-27T05:12:44.465629Z",
     "shell.execute_reply": "2022-01-27T05:12:44.466108Z"
    }
   },
   "outputs": [
    {
     "data": {
      "text/plain": [
       "True"
      ]
     },
     "execution_count": 41,
     "metadata": {},
     "output_type": "execute_result"
    }
   ],
   "source": [
    "# TEST\n",
    "# It looks like you multiplied and subtracted in the wrong\n",
    "# order.\n",
    "sum(celsius_max_temperatures) != 356705.0"
   ]
  },
  {
   "cell_type": "code",
   "execution_count": 42,
   "id": "59bd281e",
   "metadata": {
    "execution": {
     "iopub.execute_input": "2022-01-27T05:12:44.477110Z",
     "iopub.status.busy": "2022-01-27T05:12:44.476085Z",
     "iopub.status.idle": "2022-01-27T05:12:44.481181Z",
     "shell.execute_reply": "2022-01-27T05:12:44.480623Z"
    }
   },
   "outputs": [
    {
     "data": {
      "text/plain": [
       "1280677.0"
      ]
     },
     "execution_count": 42,
     "metadata": {},
     "output_type": "execute_result"
    }
   ],
   "source": [
    "# TEST\n",
    "sum(celsius_max_temperatures)"
   ]
  },
  {
   "cell_type": "code",
   "execution_count": 43,
   "id": "71ce5b47",
   "metadata": {
    "execution": {
     "iopub.execute_input": "2022-01-27T05:12:44.486915Z",
     "iopub.status.busy": "2022-01-27T05:12:44.485949Z",
     "iopub.status.idle": "2022-01-27T05:12:44.490013Z",
     "shell.execute_reply": "2022-01-27T05:12:44.489522Z"
    }
   },
   "outputs": [
    {
     "data": {
      "text/plain": [
       "65000"
      ]
     },
     "execution_count": 43,
     "metadata": {},
     "output_type": "execute_result"
    }
   ],
   "source": [
    "# TEST\n",
    "len(celsius_max_temperatures)"
   ]
  },
  {
   "cell_type": "code",
   "execution_count": 44,
   "id": "53237a30",
   "metadata": {
    "execution": {
     "iopub.execute_input": "2022-01-27T05:12:44.495050Z",
     "iopub.status.busy": "2022-01-27T05:12:44.494170Z",
     "iopub.status.idle": "2022-01-27T05:12:44.498377Z",
     "shell.execute_reply": "2022-01-27T05:12:44.497900Z"
    }
   },
   "outputs": [
    {
     "data": {
      "text/plain": [
       "20.0"
      ]
     },
     "execution_count": 44,
     "metadata": {},
     "output_type": "execute_result"
    }
   ],
   "source": [
    "# TEST\n",
    "celsius_max_temperatures.item(2003)"
   ]
  },
  {
   "cell_type": "markdown",
   "id": "b5333eaf",
   "metadata": {},
   "source": [
    "**Question 5.** The cell below loads all the *lowest* temperatures from each day (in Fahrenheit).  Compute the daily temperature range for each day. That is, compute the difference between each daily maximum temperature and the corresponding daily minimum temperature.  **Pay attention to the units and give your answer in Celsius!** Make sure **NOT** to round your answer for this question! **(4 Points)**\n",
    "\n",
    "*Note:* Remember that in Question 4, `celsius_max_temperatures` was rounded, so you might not want to use that variable in this question.\n",
    "\n",
    "\n",
    "```\n",
    "BEGIN QUESTION\n",
    "name: q3_5\n",
    "points:\n",
    " - 0\n",
    " - 4\n",
    " - 0\n",
    "```"
   ]
  },
  {
   "cell_type": "code",
   "execution_count": 45,
   "id": "b3d925a3",
   "metadata": {
    "execution": {
     "iopub.execute_input": "2022-01-27T05:12:44.529711Z",
     "iopub.status.busy": "2022-01-27T05:12:44.527097Z",
     "iopub.status.idle": "2022-01-27T05:12:44.564639Z",
     "shell.execute_reply": "2022-01-27T05:12:44.564127Z"
    }
   },
   "outputs": [
    {
     "data": {
      "text/plain": [
       "array([ 6.66666667, 10.        , 12.22222222, ..., 17.22222222,\n",
       "       11.66666667, 11.11111111])"
      ]
     },
     "execution_count": 45,
     "metadata": {},
     "output_type": "execute_result"
    }
   ],
   "source": [
    "min_temperatures = Table.read_table(\"temperatures.csv\").column(\"Daily Min Temperature\")\n",
    "\n",
    "celsius_temperature_ranges = (5/9) * (max_temperatures - min_temperatures) #SOLUTION\n",
    "celsius_temperature_ranges"
   ]
  },
  {
   "cell_type": "code",
   "execution_count": 46,
   "id": "bb6ffd8f",
   "metadata": {
    "execution": {
     "iopub.execute_input": "2022-01-27T05:12:44.570510Z",
     "iopub.status.busy": "2022-01-27T05:12:44.569601Z",
     "iopub.status.idle": "2022-01-27T05:12:44.573390Z",
     "shell.execute_reply": "2022-01-27T05:12:44.572905Z"
    }
   },
   "outputs": [
    {
     "data": {
      "text/plain": [
       "True"
      ]
     },
     "execution_count": 46,
     "metadata": {},
     "output_type": "execute_result"
    }
   ],
   "source": [
    "# TEST\n",
    "# celsius_temperature_ranges should be an array\n",
    "type(celsius_temperature_ranges) is np.ndarray"
   ]
  },
  {
   "cell_type": "code",
   "execution_count": 47,
   "id": "9606d08d",
   "metadata": {
    "deletable": false,
    "execution": {
     "iopub.execute_input": "2022-01-27T05:12:44.584708Z",
     "iopub.status.busy": "2022-01-27T05:12:44.582225Z",
     "iopub.status.idle": "2022-01-27T05:12:44.588392Z",
     "shell.execute_reply": "2022-01-27T05:12:44.588831Z"
    }
   },
   "outputs": [
    {
     "data": {
      "text/plain": [
       "True"
      ]
     },
     "execution_count": 47,
     "metadata": {},
     "output_type": "execute_result"
    }
   ],
   "source": [
    "# TEST\n",
    "np.isclose(round(sum(celsius_temperature_ranges)), 768487)"
   ]
  },
  {
   "cell_type": "code",
   "execution_count": 48,
   "id": "1fca5c9d",
   "metadata": {
    "execution": {
     "iopub.execute_input": "2022-01-27T05:12:44.594368Z",
     "iopub.status.busy": "2022-01-27T05:12:44.593474Z",
     "iopub.status.idle": "2022-01-27T05:12:44.597058Z",
     "shell.execute_reply": "2022-01-27T05:12:44.597636Z"
    }
   },
   "outputs": [
    {
     "data": {
      "text/plain": [
       "65000"
      ]
     },
     "execution_count": 48,
     "metadata": {},
     "output_type": "execute_result"
    }
   ],
   "source": [
    "# TEST\n",
    "len(celsius_temperature_ranges)"
   ]
  },
  {
   "cell_type": "markdown",
   "id": "26a07cb3",
   "metadata": {},
   "source": [
    "## 4. Old Faithful"
   ]
  },
  {
   "cell_type": "markdown",
   "id": "00f74897",
   "metadata": {},
   "source": [
    "Old Faithful is a geyser in Yellowstone that erupts every 44 to 125 minutes (according to [Wikipedia](https://en.wikipedia.org/wiki/Old_Faithful)). People are [often told that the geyser erupts every hour](http://yellowstone.net/geysers/old-faithful/), but in fact the waiting time between eruptions is more variable. Let's take a look."
   ]
  },
  {
   "cell_type": "markdown",
   "id": "351b0315",
   "metadata": {},
   "source": [
    "**Question 1.** The first line below assigns `waiting_times` to an array of 272 consecutive waiting times between eruptions, taken from a classic 1938 dataset. Assign the names `shortest`, `longest`, and `average` so that the `print` statement is correct. **(4 Points)**\n",
    "\n",
    "```\n",
    "BEGIN QUESTION\n",
    "name: q4_1\n",
    "points:\n",
    " - 0\n",
    " - 0\n",
    " - 2\n",
    " - 2\n",
    "```"
   ]
  },
  {
   "cell_type": "code",
   "execution_count": 49,
   "id": "4daa337b",
   "metadata": {
    "execution": {
     "iopub.execute_input": "2022-01-27T05:12:44.603245Z",
     "iopub.status.busy": "2022-01-27T05:12:44.602713Z",
     "iopub.status.idle": "2022-01-27T05:12:44.633708Z",
     "shell.execute_reply": "2022-01-27T05:12:44.634119Z"
    }
   },
   "outputs": [
    {
     "name": "stdout",
     "output_type": "stream",
     "text": [
      "Old Faithful erupts every 43 to 96 minutes and every 70.8970588235294 minutes on average.\n"
     ]
    }
   ],
   "source": [
    "waiting_times = Table.read_table('old_faithful.csv').column('waiting')\n",
    "\n",
    "shortest = min(waiting_times) # SOLUTION\n",
    "longest = max(waiting_times) # SOLUTION\n",
    "average = np.mean(waiting_times) # SOLUTION\n",
    "\n",
    "print(\"Old Faithful erupts every\", shortest, \"to\", longest, \"minutes and every\", average, \"minutes on average.\")"
   ]
  },
  {
   "cell_type": "code",
   "execution_count": 50,
   "id": "c06fed85",
   "metadata": {
    "deletable": false,
    "execution": {
     "iopub.execute_input": "2022-01-27T05:12:44.640810Z",
     "iopub.status.busy": "2022-01-27T05:12:44.640197Z",
     "iopub.status.idle": "2022-01-27T05:12:44.643609Z",
     "shell.execute_reply": "2022-01-27T05:12:44.644040Z"
    }
   },
   "outputs": [
    {
     "data": {
      "text/plain": [
       "True"
      ]
     },
     "execution_count": 50,
     "metadata": {},
     "output_type": "execute_result"
    }
   ],
   "source": [
    "# TEST\n",
    "# Hint: shortest is a number between 40 and 50.\n",
    "40 <= shortest <= 50"
   ]
  },
  {
   "cell_type": "code",
   "execution_count": 51,
   "id": "bfa68a08",
   "metadata": {
    "execution": {
     "iopub.execute_input": "2022-01-27T05:12:44.649550Z",
     "iopub.status.busy": "2022-01-27T05:12:44.648689Z",
     "iopub.status.idle": "2022-01-27T05:12:44.652221Z",
     "shell.execute_reply": "2022-01-27T05:12:44.652642Z"
    }
   },
   "outputs": [
    {
     "data": {
      "text/plain": [
       "True"
      ]
     },
     "execution_count": 51,
     "metadata": {},
     "output_type": "execute_result"
    }
   ],
   "source": [
    "# TEST\n",
    "# Hint: the average is between the shortest and the longest\n",
    "shortest <= average <= longest"
   ]
  },
  {
   "cell_type": "code",
   "execution_count": 52,
   "id": "2f3197e3",
   "metadata": {
    "execution": {
     "iopub.execute_input": "2022-01-27T05:12:44.657471Z",
     "iopub.status.busy": "2022-01-27T05:12:44.656892Z",
     "iopub.status.idle": "2022-01-27T05:12:44.661191Z",
     "shell.execute_reply": "2022-01-27T05:12:44.660714Z"
    }
   },
   "outputs": [
    {
     "data": {
      "text/plain": [
       "True"
      ]
     },
     "execution_count": 52,
     "metadata": {},
     "output_type": "execute_result"
    }
   ],
   "source": [
    "# HIDDEN TEST\n",
    "shortest == 43 and longest == 96"
   ]
  },
  {
   "cell_type": "code",
   "execution_count": 53,
   "id": "ab456c7d",
   "metadata": {
    "execution": {
     "iopub.execute_input": "2022-01-27T05:12:44.666076Z",
     "iopub.status.busy": "2022-01-27T05:12:44.665522Z",
     "iopub.status.idle": "2022-01-27T05:12:44.669211Z",
     "shell.execute_reply": "2022-01-27T05:12:44.669686Z"
    }
   },
   "outputs": [
    {
     "data": {
      "text/plain": [
       "True"
      ]
     },
     "execution_count": 53,
     "metadata": {},
     "output_type": "execute_result"
    }
   ],
   "source": [
    "# HIDDEN TEST\n",
    "np.isclose(average, 70.8970588235)"
   ]
  },
  {
   "cell_type": "markdown",
   "id": "e0746dd0",
   "metadata": {},
   "source": [
    "**Question 2.** Assign `biggest_decrease` to the biggest decrease in waiting time between two consecutive eruptions. For example, the third eruption occurred after 74 minutes and the fourth after 62 minutes, so the decrease in waiting time was 74 - 62 = 12 minutes. **(4 Points)**\n",
    "\n",
    "*Hint*: We want to return the absolute value of the biggest decrease.\n",
    "\n",
    "*Note*: `np.diff()` calculates the difference between subsequent values in an array. For example, calling `np.diff()` on the array `make_array(1, 8, 3, 5)` evaluates to `array([8 - 1, 3 - 8, 5 - 3])`, or `array([7, -5, 2])`.\n",
    "\n",
    "```\n",
    "BEGIN QUESTION\n",
    "name: q4_2\n",
    "points:\n",
    " - 0\n",
    " - 0\n",
    " - 4\n",
    "```"
   ]
  },
  {
   "cell_type": "code",
   "execution_count": 54,
   "id": "27ec197a",
   "metadata": {
    "execution": {
     "iopub.execute_input": "2022-01-27T05:12:44.675299Z",
     "iopub.status.busy": "2022-01-27T05:12:44.674698Z",
     "iopub.status.idle": "2022-01-27T05:12:44.679010Z",
     "shell.execute_reply": "2022-01-27T05:12:44.678524Z"
    }
   },
   "outputs": [
    {
     "data": {
      "text/plain": [
       "45"
      ]
     },
     "execution_count": 54,
     "metadata": {},
     "output_type": "execute_result"
    }
   ],
   "source": [
    "# np.diff() calculates the difference between subsequent values  \n",
    "# in a NumPy array.\n",
    "differences = np.diff(waiting_times)\n",
    "biggest_decrease = abs(min((differences))) # SOLUTION\n",
    "biggest_decrease"
   ]
  },
  {
   "cell_type": "code",
   "execution_count": 55,
   "id": "855b714c",
   "metadata": {
    "deletable": false,
    "execution": {
     "iopub.execute_input": "2022-01-27T05:12:44.683898Z",
     "iopub.status.busy": "2022-01-27T05:12:44.683281Z",
     "iopub.status.idle": "2022-01-27T05:12:44.687693Z",
     "shell.execute_reply": "2022-01-27T05:12:44.687125Z"
    }
   },
   "outputs": [
    {
     "data": {
      "text/plain": [
       "False"
      ]
     },
     "execution_count": 55,
     "metadata": {},
     "output_type": "execute_result"
    }
   ],
   "source": [
    "# TEST\n",
    "# Hint: If you are getting 47 as your answer, you might be computing the biggest change \n",
    "# rather than the biggest decrease!\n",
    "biggest_decrease == 47"
   ]
  },
  {
   "cell_type": "code",
   "execution_count": 56,
   "id": "f049c41c",
   "metadata": {
    "execution": {
     "iopub.execute_input": "2022-01-27T05:12:44.727920Z",
     "iopub.status.busy": "2022-01-27T05:12:44.727240Z",
     "iopub.status.idle": "2022-01-27T05:12:44.731632Z",
     "shell.execute_reply": "2022-01-27T05:12:44.731025Z"
    }
   },
   "outputs": [
    {
     "data": {
      "text/plain": [
       "True"
      ]
     },
     "execution_count": 56,
     "metadata": {},
     "output_type": "execute_result"
    }
   ],
   "source": [
    "# TEST\n",
    "# Hint: biggest decrease is above 30, but not 47.\n",
    "30 <= biggest_decrease < 47"
   ]
  },
  {
   "cell_type": "code",
   "execution_count": 57,
   "id": "05071253",
   "metadata": {
    "execution": {
     "iopub.execute_input": "2022-01-27T05:12:44.736952Z",
     "iopub.status.busy": "2022-01-27T05:12:44.736283Z",
     "iopub.status.idle": "2022-01-27T05:12:44.740759Z",
     "shell.execute_reply": "2022-01-27T05:12:44.739909Z"
    }
   },
   "outputs": [
    {
     "data": {
      "text/plain": [
       "45"
      ]
     },
     "execution_count": 57,
     "metadata": {},
     "output_type": "execute_result"
    }
   ],
   "source": [
    "# HIDDEN TEST\n",
    "biggest_decrease"
   ]
  },
  {
   "cell_type": "markdown",
   "id": "7f39a4cd",
   "metadata": {},
   "source": [
    "**Question 3.** The `faithful_with_eruption_nums` table contains two columns: `eruption_number`, which represents the number of that eruption, and `waiting`, which represents the time spent waiting after that eruption. For example, take the first two rows of the table:\n",
    "\n",
    "| eruption number | waiting |\n",
    "|-----------------|---------|\n",
    "| 1               | 79      |\n",
    "| 2               | 54      |\n",
    "\n",
    "We can read this as follows: after the first eruption, we waited 79 minutes for the second eruption. Then, after the second eruption, we waited 54 minutes for the third eruption.\n",
    "\n",
    "Suppose Oscar and Wendy started watching Old Faithful at the start of the first eruption. Assume that they watch until the end of the tenth eruption. For some of that time they will be watching eruptions, and for the rest of the time they will be waiting for Old Faithful to erupt. How many minutes will they spend waiting for eruptions? **(4 Points)**\n",
    "\n",
    "*Hint #1:* One way to approach this problem is to use the `take` or `where` method on the table `faithful_with_eruption_nums`. \n",
    "\n",
    "*Hint #2:* `first_nine_waiting_times` must be an array.\n",
    "\n",
    "```\n",
    "BEGIN QUESTION\n",
    "name: q4_3\n",
    "points:\n",
    " - 0\n",
    " - 4\n",
    "```"
   ]
  },
  {
   "cell_type": "code",
   "execution_count": 58,
   "id": "0a19ae49",
   "metadata": {
    "execution": {
     "iopub.execute_input": "2022-01-27T05:12:44.748589Z",
     "iopub.status.busy": "2022-01-27T05:12:44.747995Z",
     "iopub.status.idle": "2022-01-27T05:12:44.756387Z",
     "shell.execute_reply": "2022-01-27T05:12:44.755777Z"
    }
   },
   "outputs": [
    {
     "data": {
      "text/plain": [
       "633"
      ]
     },
     "execution_count": 58,
     "metadata": {},
     "output_type": "execute_result"
    }
   ],
   "source": [
    "# The following two lines load in our faithful_with_eruption_nums table\n",
    "faithful = Table.read_table('old_faithful.csv').drop(\"eruptions\")\n",
    "faithful_with_eruption_nums = faithful.with_column(\"eruption number\", np.arange(faithful.num_rows) + 1).select(1, 0)\n",
    "\n",
    "first_nine_waiting_times = faithful_with_eruption_nums.where(\"eruption number\", are.below(10)).column(\"waiting\") # SOLUTION\n",
    "total_waiting_time_until_tenth = sum(first_nine_waiting_times) # SOLUTION\n",
    "total_waiting_time_until_tenth"
   ]
  },
  {
   "cell_type": "code",
   "execution_count": 59,
   "id": "fe18f7eb",
   "metadata": {
    "execution": {
     "iopub.execute_input": "2022-01-27T05:12:44.761378Z",
     "iopub.status.busy": "2022-01-27T05:12:44.760819Z",
     "iopub.status.idle": "2022-01-27T05:12:44.764570Z",
     "shell.execute_reply": "2022-01-27T05:12:44.764976Z"
    }
   },
   "outputs": [
    {
     "data": {
      "text/plain": [
       "9"
      ]
     },
     "execution_count": 59,
     "metadata": {},
     "output_type": "execute_result"
    }
   ],
   "source": [
    "# TEST\n",
    "len(first_nine_waiting_times)"
   ]
  },
  {
   "cell_type": "code",
   "execution_count": 60,
   "id": "eabee323",
   "metadata": {
    "execution": {
     "iopub.execute_input": "2022-01-27T05:12:44.769502Z",
     "iopub.status.busy": "2022-01-27T05:12:44.768952Z",
     "iopub.status.idle": "2022-01-27T05:12:44.773475Z",
     "shell.execute_reply": "2022-01-27T05:12:44.772863Z"
    }
   },
   "outputs": [
    {
     "data": {
      "text/plain": [
       "633"
      ]
     },
     "execution_count": 60,
     "metadata": {},
     "output_type": "execute_result"
    }
   ],
   "source": [
    "# TEST\n",
    "total_waiting_time_until_tenth"
   ]
  },
  {
   "cell_type": "markdown",
   "id": "a8e1f261",
   "metadata": {},
   "source": [
    "**Question 4.** Let’s imagine your guess for the next waiting time was always just the length of the previous waiting time. If you always guessed the previous waiting time, how big would your error in guessing the waiting times be, on average? **(4 Points)**\n",
    "\n",
    "For example, since the first four waiting times are 79, 54, 74, and 62, the average difference between your guess and the actual time for just the second, third, and fourth eruptions would be $\\frac{|79-54|+ |54-74|+ |74-62|}{3} = 19$.\n",
    "\n",
    "```\n",
    "BEGIN QUESTION\n",
    "name: q4_4\n",
    "points:\n",
    " - 0\n",
    " - 4\n",
    "```"
   ]
  },
  {
   "cell_type": "code",
   "execution_count": 61,
   "id": "1f39a3f2",
   "metadata": {
    "execution": {
     "iopub.execute_input": "2022-01-27T05:12:44.779676Z",
     "iopub.status.busy": "2022-01-27T05:12:44.779055Z",
     "iopub.status.idle": "2022-01-27T05:12:44.783450Z",
     "shell.execute_reply": "2022-01-27T05:12:44.782826Z"
    }
   },
   "outputs": [
    {
     "data": {
      "text/plain": [
       "20.52029520295203"
      ]
     },
     "execution_count": 61,
     "metadata": {},
     "output_type": "execute_result"
    }
   ],
   "source": [
    "differences = np.diff(waiting_times)\n",
    "average_error = np.average(abs(differences)) # SOLUTION\n",
    "average_error"
   ]
  },
  {
   "cell_type": "code",
   "execution_count": 62,
   "id": "b656cc07",
   "metadata": {
    "deletable": false,
    "execution": {
     "iopub.execute_input": "2022-01-27T05:12:44.789923Z",
     "iopub.status.busy": "2022-01-27T05:12:44.789037Z",
     "iopub.status.idle": "2022-01-27T05:12:44.793981Z",
     "shell.execute_reply": "2022-01-27T05:12:44.793477Z"
    }
   },
   "outputs": [
    {
     "data": {
      "text/plain": [
       "True"
      ]
     },
     "execution_count": 62,
     "metadata": {},
     "output_type": "execute_result"
    }
   ],
   "source": [
    "# TEST\n",
    "15 <= average_error <= 25"
   ]
  },
  {
   "cell_type": "code",
   "execution_count": 63,
   "id": "ae05bae0",
   "metadata": {
    "execution": {
     "iopub.execute_input": "2022-01-27T05:12:44.833120Z",
     "iopub.status.busy": "2022-01-27T05:12:44.832277Z",
     "iopub.status.idle": "2022-01-27T05:12:44.835685Z",
     "shell.execute_reply": "2022-01-27T05:12:44.836177Z"
    }
   },
   "outputs": [
    {
     "data": {
      "text/plain": [
       "True"
      ]
     },
     "execution_count": 63,
     "metadata": {},
     "output_type": "execute_result"
    }
   ],
   "source": [
    "# HIDDEN TEST\n",
    "np.isclose(average_error, 20.520295202952031)"
   ]
  },
  {
   "cell_type": "markdown",
   "id": "fa62a447",
   "metadata": {},
   "source": [
    "## 5. Tables"
   ]
  },
  {
   "cell_type": "markdown",
   "id": "837ea92a",
   "metadata": {},
   "source": [
    "**Question 1.** Suppose you have 4 apples, 3 oranges, and 3 pineapples.  (Perhaps you're using Python to solve a high school Algebra problem.)  Create a table that contains this information.  It should have two columns: `fruit name` and `count`.  Assign the new table to the variable `fruits`. **(4 Points)**\n",
    "\n",
    "*Note:* Use lower-case and singular words for the name of each fruit, like `\"apple\"`.\n",
    "\n",
    "```\n",
    "BEGIN QUESTION\n",
    "name: q5_1\n",
    "points:\n",
    " - 4\n",
    "```"
   ]
  },
  {
   "cell_type": "code",
   "execution_count": 64,
   "id": "41dc1613",
   "metadata": {
    "execution": {
     "iopub.execute_input": "2022-01-27T05:12:44.843208Z",
     "iopub.status.busy": "2022-01-27T05:12:44.842392Z",
     "iopub.status.idle": "2022-01-27T05:12:44.846572Z",
     "shell.execute_reply": "2022-01-27T05:12:44.845943Z"
    }
   },
   "outputs": [
    {
     "data": {
      "text/html": [
       "<table border=\"1\" class=\"dataframe\">\n",
       "    <thead>\n",
       "        <tr>\n",
       "            <th>fruit name</th> <th>count</th>\n",
       "        </tr>\n",
       "    </thead>\n",
       "    <tbody>\n",
       "        <tr>\n",
       "            <td>apple     </td> <td>4    </td>\n",
       "        </tr>\n",
       "        <tr>\n",
       "            <td>orange    </td> <td>3    </td>\n",
       "        </tr>\n",
       "        <tr>\n",
       "            <td>pineapple </td> <td>3    </td>\n",
       "        </tr>\n",
       "    </tbody>\n",
       "</table>"
      ],
      "text/plain": [
       "fruit name | count\n",
       "apple      | 4\n",
       "orange     | 3\n",
       "pineapple  | 3"
      ]
     },
     "execution_count": 64,
     "metadata": {},
     "output_type": "execute_result"
    }
   ],
   "source": [
    "# Our solution uses 1 statement split over 3 lines.\n",
    "fruits = Table().with_columns( #SOLUTION\n",
    "        \"fruit name\", make_array(\"apple\", \"orange\", \"pineapple\"), #SOLUTION\n",
    "        \"count\",      make_array(4,       3,        3)) #SOLUTION\n",
    "fruits"
   ]
  },
  {
   "cell_type": "code",
   "execution_count": 65,
   "id": "69fdc3fb",
   "metadata": {
    "deletable": false,
    "execution": {
     "iopub.execute_input": "2022-01-27T05:12:44.852825Z",
     "iopub.status.busy": "2022-01-27T05:12:44.851958Z",
     "iopub.status.idle": "2022-01-27T05:12:44.856435Z",
     "shell.execute_reply": "2022-01-27T05:12:44.855927Z"
    }
   },
   "outputs": [
    {
     "data": {
      "text/html": [
       "<table border=\"1\" class=\"dataframe\">\n",
       "    <thead>\n",
       "        <tr>\n",
       "            <th>fruit name</th> <th>count</th>\n",
       "        </tr>\n",
       "    </thead>\n",
       "    <tbody>\n",
       "        <tr>\n",
       "            <td>apple     </td> <td>4    </td>\n",
       "        </tr>\n",
       "        <tr>\n",
       "            <td>orange    </td> <td>3    </td>\n",
       "        </tr>\n",
       "        <tr>\n",
       "            <td>pineapple </td> <td>3    </td>\n",
       "        </tr>\n",
       "    </tbody>\n",
       "</table>"
      ],
      "text/plain": [
       "fruit name | count\n",
       "apple      | 4\n",
       "orange     | 3\n",
       "pineapple  | 3"
      ]
     },
     "execution_count": 65,
     "metadata": {},
     "output_type": "execute_result"
    }
   ],
   "source": [
    "# TEST\n",
    "fruits.sort(0)"
   ]
  },
  {
   "cell_type": "markdown",
   "id": "6e2a0cc6",
   "metadata": {},
   "source": [
    "**Question 2.** The file `inventory.csv` contains information about the inventory at a fruit stand.  Each row represents the contents of one box of fruit. Load it as a table named `inventory` using the `Table.read_table()` function. `Table.read_table(...)` takes one argument (data file name in string format) and returns a table. **(4 Points)**\n",
    "\n",
    "```\n",
    "BEGIN QUESTION\n",
    "name: q5_2\n",
    "points:\n",
    " - 4\n",
    "```"
   ]
  },
  {
   "cell_type": "code",
   "execution_count": 66,
   "id": "952aa370",
   "metadata": {
    "execution": {
     "iopub.execute_input": "2022-01-27T05:12:44.861185Z",
     "iopub.status.busy": "2022-01-27T05:12:44.860639Z",
     "iopub.status.idle": "2022-01-27T05:12:44.871294Z",
     "shell.execute_reply": "2022-01-27T05:12:44.870723Z"
    }
   },
   "outputs": [
    {
     "data": {
      "text/html": [
       "<table border=\"1\" class=\"dataframe\">\n",
       "    <thead>\n",
       "        <tr>\n",
       "            <th>box ID</th> <th>fruit name</th> <th>count</th>\n",
       "        </tr>\n",
       "    </thead>\n",
       "    <tbody>\n",
       "        <tr>\n",
       "            <td>53686 </td> <td>kiwi      </td> <td>45   </td>\n",
       "        </tr>\n",
       "        <tr>\n",
       "            <td>57181 </td> <td>strawberry</td> <td>123  </td>\n",
       "        </tr>\n",
       "        <tr>\n",
       "            <td>25274 </td> <td>apple     </td> <td>20   </td>\n",
       "        </tr>\n",
       "        <tr>\n",
       "            <td>48800 </td> <td>orange    </td> <td>35   </td>\n",
       "        </tr>\n",
       "        <tr>\n",
       "            <td>26187 </td> <td>strawberry</td> <td>255  </td>\n",
       "        </tr>\n",
       "        <tr>\n",
       "            <td>57930 </td> <td>grape     </td> <td>517  </td>\n",
       "        </tr>\n",
       "        <tr>\n",
       "            <td>52357 </td> <td>strawberry</td> <td>102  </td>\n",
       "        </tr>\n",
       "        <tr>\n",
       "            <td>43566 </td> <td>peach     </td> <td>40   </td>\n",
       "        </tr>\n",
       "    </tbody>\n",
       "</table>"
      ],
      "text/plain": [
       "box ID | fruit name | count\n",
       "53686  | kiwi       | 45\n",
       "57181  | strawberry | 123\n",
       "25274  | apple      | 20\n",
       "48800  | orange     | 35\n",
       "26187  | strawberry | 255\n",
       "57930  | grape      | 517\n",
       "52357  | strawberry | 102\n",
       "43566  | peach      | 40"
      ]
     },
     "execution_count": 66,
     "metadata": {},
     "output_type": "execute_result"
    }
   ],
   "source": [
    "inventory = Table.read_table(\"inventory.csv\") #SOLUTION\n",
    "inventory"
   ]
  },
  {
   "cell_type": "code",
   "execution_count": 67,
   "id": "b888217d",
   "metadata": {
    "deletable": false,
    "execution": {
     "iopub.execute_input": "2022-01-27T05:12:44.876553Z",
     "iopub.status.busy": "2022-01-27T05:12:44.875756Z",
     "iopub.status.idle": "2022-01-27T05:12:44.881458Z",
     "shell.execute_reply": "2022-01-27T05:12:44.880929Z"
    }
   },
   "outputs": [
    {
     "data": {
      "text/plain": [
       "25274"
      ]
     },
     "execution_count": 67,
     "metadata": {},
     "output_type": "execute_result"
    }
   ],
   "source": [
    "# TEST\n",
    "inventory.sort(0).column(0).item(0)"
   ]
  },
  {
   "cell_type": "markdown",
   "id": "33943b0f",
   "metadata": {},
   "source": [
    "**Question 3.** Does each box at the fruit stand contain a different fruit? Set `all_different` to `True` if each box contains a different fruit or to `False` if multiple boxes contain the same fruit. **(4 Points)**\n",
    "\n",
    "*Hint:* You don't have to write code to calculate the True/False value for `all_different`. Just look at the `inventory` table and assign `all_different` to either `True` or `False` according to what you can see from the table in answering the question.\n",
    "\n",
    "```\n",
    "BEGIN QUESTION\n",
    "name: q5_3\n",
    "points:\n",
    " - 0\n",
    " - 4\n",
    "```"
   ]
  },
  {
   "cell_type": "code",
   "execution_count": 68,
   "id": "93bb032a",
   "metadata": {
    "execution": {
     "iopub.execute_input": "2022-01-27T05:12:44.887693Z",
     "iopub.status.busy": "2022-01-27T05:12:44.886708Z",
     "iopub.status.idle": "2022-01-27T05:12:44.928420Z",
     "shell.execute_reply": "2022-01-27T05:12:44.928882Z"
    }
   },
   "outputs": [
    {
     "data": {
      "text/plain": [
       "False"
      ]
     },
     "execution_count": 68,
     "metadata": {},
     "output_type": "execute_result"
    }
   ],
   "source": [
    "all_different = False #SOLUTION\n",
    "all_different"
   ]
  },
  {
   "cell_type": "code",
   "execution_count": 69,
   "id": "53de99a9",
   "metadata": {
    "deletable": false,
    "execution": {
     "iopub.execute_input": "2022-01-27T05:12:44.935003Z",
     "iopub.status.busy": "2022-01-27T05:12:44.934131Z",
     "iopub.status.idle": "2022-01-27T05:12:44.938234Z",
     "shell.execute_reply": "2022-01-27T05:12:44.937672Z"
    }
   },
   "outputs": [
    {
     "data": {
      "text/plain": [
       "True"
      ]
     },
     "execution_count": 69,
     "metadata": {},
     "output_type": "execute_result"
    }
   ],
   "source": [
    "# TEST\n",
    "all_different in {True, False}"
   ]
  },
  {
   "cell_type": "code",
   "execution_count": 70,
   "id": "43d5d75d",
   "metadata": {
    "execution": {
     "iopub.execute_input": "2022-01-27T05:12:44.943709Z",
     "iopub.status.busy": "2022-01-27T05:12:44.942886Z",
     "iopub.status.idle": "2022-01-27T05:12:44.946439Z",
     "shell.execute_reply": "2022-01-27T05:12:44.946904Z"
    }
   },
   "outputs": [
    {
     "data": {
      "text/plain": [
       "True"
      ]
     },
     "execution_count": 70,
     "metadata": {},
     "output_type": "execute_result"
    }
   ],
   "source": [
    "# HIDDEN TEST\n",
    "all_different == False"
   ]
  },
  {
   "cell_type": "markdown",
   "id": "a5a0fa80",
   "metadata": {},
   "source": [
    "**Question 4.** The file `sales.csv` contains the number of fruit sold from each box last Saturday.  It has an extra column called `price per fruit ($)` that's the price *per item of fruit* for fruit in that box.  The rows are in the same order as the `inventory` table.  Load these data into a table called `sales`. **(5 Points)**\n",
    "\n",
    "```\n",
    "BEGIN QUESTION\n",
    "name: q5_4\n",
    "points:\n",
    " - 5\n",
    "```"
   ]
  },
  {
   "cell_type": "code",
   "execution_count": 71,
   "id": "64df3bd5",
   "metadata": {
    "execution": {
     "iopub.execute_input": "2022-01-27T05:12:44.952160Z",
     "iopub.status.busy": "2022-01-27T05:12:44.951367Z",
     "iopub.status.idle": "2022-01-27T05:12:44.960652Z",
     "shell.execute_reply": "2022-01-27T05:12:44.961159Z"
    }
   },
   "outputs": [
    {
     "data": {
      "text/html": [
       "<table border=\"1\" class=\"dataframe\">\n",
       "    <thead>\n",
       "        <tr>\n",
       "            <th>box ID</th> <th>fruit name</th> <th>count sold</th> <th>price per fruit ($)</th>\n",
       "        </tr>\n",
       "    </thead>\n",
       "    <tbody>\n",
       "        <tr>\n",
       "            <td>53686 </td> <td>kiwi      </td> <td>3         </td> <td>0.5                </td>\n",
       "        </tr>\n",
       "        <tr>\n",
       "            <td>57181 </td> <td>strawberry</td> <td>101       </td> <td>0.2                </td>\n",
       "        </tr>\n",
       "        <tr>\n",
       "            <td>25274 </td> <td>apple     </td> <td>0         </td> <td>0.8                </td>\n",
       "        </tr>\n",
       "        <tr>\n",
       "            <td>48800 </td> <td>orange    </td> <td>35        </td> <td>0.6                </td>\n",
       "        </tr>\n",
       "        <tr>\n",
       "            <td>26187 </td> <td>strawberry</td> <td>25        </td> <td>0.15               </td>\n",
       "        </tr>\n",
       "        <tr>\n",
       "            <td>57930 </td> <td>grape     </td> <td>355       </td> <td>0.06               </td>\n",
       "        </tr>\n",
       "        <tr>\n",
       "            <td>52357 </td> <td>strawberry</td> <td>102       </td> <td>0.25               </td>\n",
       "        </tr>\n",
       "        <tr>\n",
       "            <td>43566 </td> <td>peach     </td> <td>17        </td> <td>0.8                </td>\n",
       "        </tr>\n",
       "    </tbody>\n",
       "</table>"
      ],
      "text/plain": [
       "box ID | fruit name | count sold | price per fruit ($)\n",
       "53686  | kiwi       | 3          | 0.5\n",
       "57181  | strawberry | 101        | 0.2\n",
       "25274  | apple      | 0          | 0.8\n",
       "48800  | orange     | 35         | 0.6\n",
       "26187  | strawberry | 25         | 0.15\n",
       "57930  | grape      | 355        | 0.06\n",
       "52357  | strawberry | 102        | 0.25\n",
       "43566  | peach      | 17         | 0.8"
      ]
     },
     "execution_count": 71,
     "metadata": {},
     "output_type": "execute_result"
    }
   ],
   "source": [
    "sales = Table.read_table(\"sales.csv\") #SOLUTION\n",
    "sales"
   ]
  },
  {
   "cell_type": "code",
   "execution_count": 72,
   "id": "c70d36c1",
   "metadata": {
    "deletable": false,
    "execution": {
     "iopub.execute_input": "2022-01-27T05:12:44.967686Z",
     "iopub.status.busy": "2022-01-27T05:12:44.966839Z",
     "iopub.status.idle": "2022-01-27T05:12:44.970590Z",
     "shell.execute_reply": "2022-01-27T05:12:44.970019Z"
    }
   },
   "outputs": [
    {
     "data": {
      "text/html": [
       "<table border=\"1\" class=\"dataframe\">\n",
       "    <thead>\n",
       "        <tr>\n",
       "            <th>box ID</th> <th>fruit name</th> <th>count sold</th> <th>price per fruit ($)</th>\n",
       "        </tr>\n",
       "    </thead>\n",
       "    <tbody>\n",
       "        <tr>\n",
       "            <td>25274 </td> <td>apple     </td> <td>0         </td> <td>0.8                </td>\n",
       "        </tr>\n",
       "        <tr>\n",
       "            <td>26187 </td> <td>strawberry</td> <td>25        </td> <td>0.15               </td>\n",
       "        </tr>\n",
       "        <tr>\n",
       "            <td>43566 </td> <td>peach     </td> <td>17        </td> <td>0.8                </td>\n",
       "        </tr>\n",
       "        <tr>\n",
       "            <td>48800 </td> <td>orange    </td> <td>35        </td> <td>0.6                </td>\n",
       "        </tr>\n",
       "        <tr>\n",
       "            <td>52357 </td> <td>strawberry</td> <td>102       </td> <td>0.25               </td>\n",
       "        </tr>\n",
       "        <tr>\n",
       "            <td>53686 </td> <td>kiwi      </td> <td>3         </td> <td>0.5                </td>\n",
       "        </tr>\n",
       "        <tr>\n",
       "            <td>57181 </td> <td>strawberry</td> <td>101       </td> <td>0.2                </td>\n",
       "        </tr>\n",
       "        <tr>\n",
       "            <td>57930 </td> <td>grape     </td> <td>355       </td> <td>0.06               </td>\n",
       "        </tr>\n",
       "    </tbody>\n",
       "</table>"
      ],
      "text/plain": [
       "box ID | fruit name | count sold | price per fruit ($)\n",
       "25274  | apple      | 0          | 0.8\n",
       "26187  | strawberry | 25         | 0.15\n",
       "43566  | peach      | 17         | 0.8\n",
       "48800  | orange     | 35         | 0.6\n",
       "52357  | strawberry | 102        | 0.25\n",
       "53686  | kiwi       | 3          | 0.5\n",
       "57181  | strawberry | 101        | 0.2\n",
       "57930  | grape      | 355        | 0.06"
      ]
     },
     "execution_count": 72,
     "metadata": {},
     "output_type": "execute_result"
    }
   ],
   "source": [
    "# TEST\n",
    "sales.sort(0)"
   ]
  },
  {
   "cell_type": "markdown",
   "id": "23cdfb9c",
   "metadata": {},
   "source": [
    "**Question 5.** How many fruits did the store sell in total on that day? **(5 Points)**\n",
    "\n",
    "```\n",
    "BEGIN QUESTION\n",
    "name: q5_5\n",
    "points:\n",
    " - 0\n",
    " - 5\n",
    "```"
   ]
  },
  {
   "cell_type": "code",
   "execution_count": 73,
   "id": "09cd66dd",
   "metadata": {
    "execution": {
     "iopub.execute_input": "2022-01-27T05:12:44.976215Z",
     "iopub.status.busy": "2022-01-27T05:12:44.975584Z",
     "iopub.status.idle": "2022-01-27T05:12:44.979498Z",
     "shell.execute_reply": "2022-01-27T05:12:44.978966Z"
    }
   },
   "outputs": [
    {
     "data": {
      "text/plain": [
       "638"
      ]
     },
     "execution_count": 73,
     "metadata": {},
     "output_type": "execute_result"
    }
   ],
   "source": [
    "total_fruits_sold = sum(sales.column(\"count sold\")) #SOLUTION\n",
    "total_fruits_sold"
   ]
  },
  {
   "cell_type": "code",
   "execution_count": 74,
   "id": "c997e82c",
   "metadata": {
    "deletable": false,
    "execution": {
     "iopub.execute_input": "2022-01-27T05:12:44.984525Z",
     "iopub.status.busy": "2022-01-27T05:12:44.983915Z",
     "iopub.status.idle": "2022-01-27T05:12:44.988422Z",
     "shell.execute_reply": "2022-01-27T05:12:44.987920Z"
    }
   },
   "outputs": [
    {
     "data": {
      "text/plain": [
       "True"
      ]
     },
     "execution_count": 74,
     "metadata": {},
     "output_type": "execute_result"
    }
   ],
   "source": [
    "# TEST\n",
    "# We're asking for the number of *pieces* of fruit, not the\n",
    "# number of kinds of fruit or the number of boxes from which\n",
    "# there were sales.\n",
    "total_fruits_sold > 10"
   ]
  },
  {
   "cell_type": "code",
   "execution_count": 75,
   "id": "e0c98608",
   "metadata": {
    "execution": {
     "iopub.execute_input": "2022-01-27T05:12:45.025943Z",
     "iopub.status.busy": "2022-01-27T05:12:44.992742Z",
     "iopub.status.idle": "2022-01-27T05:12:45.029925Z",
     "shell.execute_reply": "2022-01-27T05:12:45.029433Z"
    }
   },
   "outputs": [
    {
     "data": {
      "text/plain": [
       "638"
      ]
     },
     "execution_count": 75,
     "metadata": {},
     "output_type": "execute_result"
    }
   ],
   "source": [
    "# HIDDEN TEST\n",
    "total_fruits_sold"
   ]
  },
  {
   "cell_type": "markdown",
   "id": "88f19eae",
   "metadata": {},
   "source": [
    "**Question 6.** What was the store's total revenue (the total price of all fruits sold) on that day? **(5 Points)**\n",
    "\n",
    "*Hint:* If you're stuck, think first about how you would compute the total revenue from just the grape sales.\n",
    "\n",
    "```\n",
    "BEGIN QUESTION\n",
    "name: q5_6\n",
    "points:\n",
    " - 0\n",
    " - 5\n",
    "```"
   ]
  },
  {
   "cell_type": "code",
   "execution_count": 76,
   "id": "3a4f6218",
   "metadata": {
    "execution": {
     "iopub.execute_input": "2022-01-27T05:12:45.035799Z",
     "iopub.status.busy": "2022-01-27T05:12:45.035091Z",
     "iopub.status.idle": "2022-01-27T05:12:45.039554Z",
     "shell.execute_reply": "2022-01-27T05:12:45.039012Z"
    }
   },
   "outputs": [
    {
     "data": {
      "text/plain": [
       "106.85"
      ]
     },
     "execution_count": 76,
     "metadata": {},
     "output_type": "execute_result"
    }
   ],
   "source": [
    "total_revenue = sum(sales.column(\"count sold\") * sales.column(\"price per fruit ($)\")) #SOLUTION\n",
    "total_revenue"
   ]
  },
  {
   "cell_type": "code",
   "execution_count": 77,
   "id": "757caca6",
   "metadata": {
    "deletable": false,
    "execution": {
     "iopub.execute_input": "2022-01-27T05:12:45.045577Z",
     "iopub.status.busy": "2022-01-27T05:12:45.044443Z",
     "iopub.status.idle": "2022-01-27T05:12:45.049264Z",
     "shell.execute_reply": "2022-01-27T05:12:45.048816Z"
    }
   },
   "outputs": [
    {
     "data": {
      "text/plain": [
       "True"
      ]
     },
     "execution_count": 77,
     "metadata": {},
     "output_type": "execute_result"
    }
   ],
   "source": [
    "# TEST\n",
    "# If you're stuck, here's a hint: You want to multiply the count\n",
    "# sold in each box by the per-item price of fruits in that box.\n",
    "# You can use elementwise multiplication for that.\n",
    "# Then you want the sum of those products.  Use sum().\n",
    "50 <= total_revenue <= 150"
   ]
  },
  {
   "cell_type": "code",
   "execution_count": 78,
   "id": "fbd64979",
   "metadata": {
    "execution": {
     "iopub.execute_input": "2022-01-27T05:12:45.055078Z",
     "iopub.status.busy": "2022-01-27T05:12:45.054127Z",
     "iopub.status.idle": "2022-01-27T05:12:45.057590Z",
     "shell.execute_reply": "2022-01-27T05:12:45.058028Z"
    }
   },
   "outputs": [
    {
     "data": {
      "text/plain": [
       "True"
      ]
     },
     "execution_count": 78,
     "metadata": {},
     "output_type": "execute_result"
    }
   ],
   "source": [
    "# HIDDEN TEST\n",
    "np.isclose(total_revenue, 106.85)"
   ]
  },
  {
   "cell_type": "markdown",
   "id": "5ea582bb",
   "metadata": {},
   "source": [
    "**Question 7.** Make a new table called `remaining_inventory`.  It should have the same rows and columns as `inventory`, except that the amount of fruit sold from each box should be subtracted from that box's **original** count, so that the `count` column is **updated to be** the amount of fruit remaining after Saturday. **(5 Points)**\n",
    "\n",
    "```\n",
    "BEGIN QUESTION\n",
    "name: q5_7\n",
    "points:\n",
    " - 0\n",
    " - 2\n",
    " - 3\n",
    "```"
   ]
  },
  {
   "cell_type": "code",
   "execution_count": 79,
   "id": "ba75311f",
   "metadata": {
    "execution": {
     "iopub.execute_input": "2022-01-27T05:12:45.065342Z",
     "iopub.status.busy": "2022-01-27T05:12:45.064391Z",
     "iopub.status.idle": "2022-01-27T05:12:45.068707Z",
     "shell.execute_reply": "2022-01-27T05:12:45.068162Z"
    }
   },
   "outputs": [
    {
     "data": {
      "text/html": [
       "<table border=\"1\" class=\"dataframe\">\n",
       "    <thead>\n",
       "        <tr>\n",
       "            <th>box ID</th> <th>fruit name</th> <th>count</th>\n",
       "        </tr>\n",
       "    </thead>\n",
       "    <tbody>\n",
       "        <tr>\n",
       "            <td>53686 </td> <td>kiwi      </td> <td>42   </td>\n",
       "        </tr>\n",
       "        <tr>\n",
       "            <td>57181 </td> <td>strawberry</td> <td>22   </td>\n",
       "        </tr>\n",
       "        <tr>\n",
       "            <td>25274 </td> <td>apple     </td> <td>20   </td>\n",
       "        </tr>\n",
       "        <tr>\n",
       "            <td>48800 </td> <td>orange    </td> <td>0    </td>\n",
       "        </tr>\n",
       "        <tr>\n",
       "            <td>26187 </td> <td>strawberry</td> <td>230  </td>\n",
       "        </tr>\n",
       "        <tr>\n",
       "            <td>57930 </td> <td>grape     </td> <td>162  </td>\n",
       "        </tr>\n",
       "        <tr>\n",
       "            <td>52357 </td> <td>strawberry</td> <td>0    </td>\n",
       "        </tr>\n",
       "        <tr>\n",
       "            <td>43566 </td> <td>peach     </td> <td>23   </td>\n",
       "        </tr>\n",
       "    </tbody>\n",
       "</table>"
      ],
      "text/plain": [
       "box ID | fruit name | count\n",
       "53686  | kiwi       | 42\n",
       "57181  | strawberry | 22\n",
       "25274  | apple      | 20\n",
       "48800  | orange     | 0\n",
       "26187  | strawberry | 230\n",
       "57930  | grape      | 162\n",
       "52357  | strawberry | 0\n",
       "43566  | peach      | 23"
      ]
     },
     "execution_count": 79,
     "metadata": {},
     "output_type": "execute_result"
    }
   ],
   "source": [
    "remaining_inventory = Table().with_columns( #SOLUTION\n",
    "    \"box ID\", inventory.column(\"box ID\"), #SOLUTION\n",
    "    \"fruit name\", inventory.column(\"fruit name\"), #SOLUTION\n",
    "    \"count\", inventory.column(\"count\") - sales.column(\"count sold\")) #SOLUTION\n",
    "remaining_inventory"
   ]
  },
  {
   "cell_type": "code",
   "execution_count": 80,
   "id": "5f32082f",
   "metadata": {
    "deletable": false,
    "execution": {
     "iopub.execute_input": "2022-01-27T05:12:45.074408Z",
     "iopub.status.busy": "2022-01-27T05:12:45.073406Z",
     "iopub.status.idle": "2022-01-27T05:12:45.077181Z",
     "shell.execute_reply": "2022-01-27T05:12:45.077741Z"
    }
   },
   "outputs": [
    {
     "data": {
      "text/plain": [
       "3"
      ]
     },
     "execution_count": 80,
     "metadata": {},
     "output_type": "execute_result"
    }
   ],
   "source": [
    "# TEST\n",
    "# It looks like your table doesn't have all 3 columns that are\n",
    "# in the inventory table.\n",
    "remaining_inventory.num_columns"
   ]
  },
  {
   "cell_type": "code",
   "execution_count": 81,
   "id": "b783c2ee",
   "metadata": {
    "execution": {
     "iopub.execute_input": "2022-01-27T05:12:45.084211Z",
     "iopub.status.busy": "2022-01-27T05:12:45.083613Z",
     "iopub.status.idle": "2022-01-27T05:12:45.088661Z",
     "shell.execute_reply": "2022-01-27T05:12:45.087964Z"
    }
   },
   "outputs": [
    {
     "data": {
      "text/plain": [
       "True"
      ]
     },
     "execution_count": 81,
     "metadata": {},
     "output_type": "execute_result"
    }
   ],
   "source": [
    "# TEST\n",
    "#It looks like you forgot to subtract off the sales.\n",
    "remaining_inventory.column(\"count\").item(0) != 45"
   ]
  },
  {
   "cell_type": "code",
   "execution_count": 82,
   "id": "58b213d7",
   "metadata": {
    "execution": {
     "iopub.execute_input": "2022-01-27T05:12:45.129713Z",
     "iopub.status.busy": "2022-01-27T05:12:45.129130Z",
     "iopub.status.idle": "2022-01-27T05:12:45.133388Z",
     "shell.execute_reply": "2022-01-27T05:12:45.132812Z"
    },
    "scrolled": true
   },
   "outputs": [
    {
     "data": {
      "text/html": [
       "<table border=\"1\" class=\"dataframe\">\n",
       "    <thead>\n",
       "        <tr>\n",
       "            <th>box ID</th> <th>fruit name</th> <th>count</th>\n",
       "        </tr>\n",
       "    </thead>\n",
       "    <tbody>\n",
       "        <tr>\n",
       "            <td>57930 </td> <td>grape     </td> <td>162  </td>\n",
       "        </tr>\n",
       "    </tbody>\n",
       "</table>"
      ],
      "text/plain": [
       "box ID | fruit name | count\n",
       "57930  | grape      | 162"
      ]
     },
     "execution_count": 82,
     "metadata": {},
     "output_type": "execute_result"
    }
   ],
   "source": [
    "# TEST\n",
    "remaining_inventory.where(1, 'grape')"
   ]
  },
  {
   "cell_type": "markdown",
   "id": "8654e8b5",
   "metadata": {},
   "source": [
    "You're done with Homework 2!  \n",
    "\n",
    "**Important submission steps:** \n",
    "1. Run the tests and verify that they all pass.\n",
    "2. Choose **Save Notebook** from the **File** menu, then **run the final cell**. \n",
    "3. Click the link to download the zip file.\n",
    "4. Then submit the zip file to the corresponding assignment according to your instructor's directions. \n",
    "\n",
    "**It is your responsibility to make sure your work is saved before running the last cell.**\n"
   ]
  }
 ],
 "metadata": {
  "kernelspec": {
   "display_name": "Python 3 (ipykernel)",
   "language": "python",
   "name": "python3"
  },
  "language_info": {
   "codemirror_mode": {
    "name": "ipython",
    "version": 3
   },
   "file_extension": ".py",
   "mimetype": "text/x-python",
   "name": "python",
   "nbconvert_exporter": "python",
   "pygments_lexer": "ipython3",
   "version": "3.9.9"
  }
 },
 "nbformat": 4,
 "nbformat_minor": 5
}
