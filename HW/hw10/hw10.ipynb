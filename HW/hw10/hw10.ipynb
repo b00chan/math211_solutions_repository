{
 "cells": [
  {
   "cell_type": "markdown",
   "id": "aad45a32",
   "metadata": {},
   "source": [
    "```\n",
    "BEGIN ASSIGNMENT \n",
    "init_cell: true \n",
    "export_cell: true \n",
    "files:\n",
    "    - d8error.py\n",
    "    - errorConfig.json\n",
    "    - triple_vertical.csv\n",
    "    - btc.csv\n",
    "    - eth.csv\n",
    "    - spreads.csv\n",
    "export_cell:\n",
    "    pdf: false\n",
    "    force_save: false\n",
    "solutions_pdf: true\n",
    "template_pdf: true\n",
    "generate:\n",
    "    points_possible: 62.0\n",
    "    show_stdout: true\n",
    "    filtering: true\n",
    "    pagebreaks: true\n",
    "    zips: false\n",
    "```\n"
   ]
  },
  {
   "cell_type": "markdown",
   "id": "ec3c44b7",
   "metadata": {},
   "source": [
    "# Homework 10: Linear Regression"
   ]
  },
  {
   "cell_type": "markdown",
   "id": "443b119f",
   "metadata": {},
   "source": [
    "**Helpful Resource:**\n",
    "\n",
    "- [Python Reference](http://data8.org/sp22/python-reference.html): Cheat sheet of helpful array & table methods used in Data 8!\n",
    "\n",
    "**Recommended Readings**: \n",
    "\n",
    "* [The Regression Line](https://www.inferentialthinking.com/chapters/15/2/Regression_Line.html)\n",
    "* [Method of Least Squares](https://www.inferentialthinking.com/chapters/15/3/Method_of_Least_Squares.html)\n",
    "* [Least Squares Regression](https://www.inferentialthinking.com/chapters/15/4/Least_Squares_Regression.html)"
   ]
  },
  {
   "cell_type": "markdown",
   "id": "3db77d21",
   "metadata": {},
   "source": [
    "Please complete this notebook by filling in the cells provided. Before you begin, execute the following cell to setup the notebook by importing some helpful libraries. Each time you start your server, you will need to execute this cell again.\n",
    "\n",
    "For all problems that you must write explanations and sentences for, you **must** provide your answer in the designated space. **Moreover, throughout this homework and all future ones, please be sure to not re-assign variables throughout the notebook!** For example, if you use `max_temperature` in your answer to one question, do not reassign it later on. Otherwise, you will fail tests that you thought you were passing previously!\n",
    "\n",
    "\n",
    "**Note: This homework has hidden tests on it. That means even though the tests may say 100% passed, it doesn't mean your final grade will be 100%. We will be running more tests for correctness once everyone turns in the homework.**\n",
    "\n",
    "\n",
    "Directly sharing answers is not okay, but discussing problems with the course staff or with other students is encouraged. \n",
    "\n",
    "You should start early so that you have time to get help if you're stuck."
   ]
  },
  {
   "cell_type": "code",
   "execution_count": 1,
   "id": "7ff2ea13",
   "metadata": {
    "execution": {
     "iopub.execute_input": "2022-04-07T03:32:57.413696Z",
     "iopub.status.busy": "2022-04-07T03:32:57.413416Z",
     "iopub.status.idle": "2022-04-07T03:32:58.917362Z",
     "shell.execute_reply": "2022-04-07T03:32:58.916637Z"
    }
   },
   "outputs": [],
   "source": [
    "# Run this cell to set up the notebook, but please don't change it.\n",
    "\n",
    "import numpy as np\n",
    "from datascience import *\n",
    "\n",
    "# These lines do some fancy plotting magic.\n",
    "import matplotlib\n",
    "%matplotlib inline\n",
    "import matplotlib.pyplot as plt\n",
    "plt.style.use('fivethirtyeight')\n",
    "import warnings\n",
    "warnings.simplefilter('ignore', FutureWarning)\n",
    "from datetime import datetime"
   ]
  },
  {
   "cell_type": "markdown",
   "id": "5c6a175f",
   "metadata": {},
   "source": [
    "## 1. Triple Jump Distances vs. Vertical Jump Heights "
   ]
  },
  {
   "cell_type": "markdown",
   "id": "92b31536",
   "metadata": {},
   "source": [
    "Does skill in one sport imply skill in a related sport?  The answer might be different for different activities. Let's find out whether it's true for the [triple jump](https://en.wikipedia.org/wiki/Triple_jump) (a horizontal jump similar to a long jump) and the [vertical jump](https://en.wikipedia.org/wiki/Vertical_jump).  Since we're learning about linear regression, we will look specifically for a *linear* association between skill level in the two sports.\n",
    "\n",
    "The following data was collected by observing 40 collegiate-level soccer players. Each athlete's distances in both events were measured in centimeters. Run the cell below to load the data."
   ]
  },
  {
   "cell_type": "code",
   "execution_count": 2,
   "id": "b617e5bb",
   "metadata": {
    "ExecuteTime": {
     "end_time": "2018-04-03T22:42:22.463984Z",
     "start_time": "2018-04-03T22:42:22.455963Z"
    },
    "execution": {
     "iopub.execute_input": "2022-04-07T03:32:58.921192Z",
     "iopub.status.busy": "2022-04-07T03:32:58.920972Z",
     "iopub.status.idle": "2022-04-07T03:32:58.953207Z",
     "shell.execute_reply": "2022-04-07T03:32:58.952354Z"
    }
   },
   "outputs": [
    {
     "data": {
      "text/html": [
       "<table border=\"1\" class=\"dataframe\">\n",
       "    <thead>\n",
       "        <tr>\n",
       "            <th>triple</th> <th>vertical</th>\n",
       "        </tr>\n",
       "    </thead>\n",
       "    <tbody>\n",
       "        <tr>\n",
       "            <td>383   </td> <td>33      </td>\n",
       "        </tr>\n",
       "        <tr>\n",
       "            <td>781   </td> <td>71.1    </td>\n",
       "        </tr>\n",
       "        <tr>\n",
       "            <td>561.62</td> <td>62.25   </td>\n",
       "        </tr>\n",
       "        <tr>\n",
       "            <td>624.52</td> <td>61.33   </td>\n",
       "        </tr>\n",
       "        <tr>\n",
       "            <td>446.24</td> <td>40.19   </td>\n",
       "        </tr>\n",
       "        <tr>\n",
       "            <td>515.3 </td> <td>38.96   </td>\n",
       "        </tr>\n",
       "        <tr>\n",
       "            <td>449.22</td> <td>39.69   </td>\n",
       "        </tr>\n",
       "        <tr>\n",
       "            <td>560.91</td> <td>46.51   </td>\n",
       "        </tr>\n",
       "        <tr>\n",
       "            <td>519.12</td> <td>37.68   </td>\n",
       "        </tr>\n",
       "        <tr>\n",
       "            <td>595.38</td> <td>53.48   </td>\n",
       "        </tr>\n",
       "    </tbody>\n",
       "</table>\n",
       "<p>... (30 rows omitted)</p>"
      ],
      "text/plain": [
       "triple | vertical\n",
       "383    | 33\n",
       "781    | 71.1\n",
       "561.62 | 62.25\n",
       "624.52 | 61.33\n",
       "446.24 | 40.19\n",
       "515.3  | 38.96\n",
       "449.22 | 39.69\n",
       "560.91 | 46.51\n",
       "519.12 | 37.68\n",
       "595.38 | 53.48\n",
       "... (30 rows omitted)"
      ]
     },
     "execution_count": 2,
     "metadata": {},
     "output_type": "execute_result"
    }
   ],
   "source": [
    "# Run this cell to load the data\n",
    "jumps = Table.read_table('triple_vertical.csv')\n",
    "jumps"
   ]
  },
  {
   "cell_type": "markdown",
   "id": "c15ecfec",
   "metadata": {},
   "source": [
    "**Question 1.1.** Create a function `standard_units` that converts the values in the array `data` to standard units. **(5 points)**\n",
    "\n",
    "```\n",
    "BEGIN QUESTION\n",
    "name: q1_1\n",
    "manual: false\n",
    "points:\n",
    " - 0\n",
    " - 0\n",
    " - 0\n",
    " - 5\n",
    "```"
   ]
  },
  {
   "cell_type": "code",
   "execution_count": 3,
   "id": "e7616c4a",
   "metadata": {
    "execution": {
     "iopub.execute_input": "2022-04-07T03:32:58.956818Z",
     "iopub.status.busy": "2022-04-07T03:32:58.956278Z",
     "iopub.status.idle": "2022-04-07T03:32:58.960645Z",
     "shell.execute_reply": "2022-04-07T03:32:58.959860Z"
    }
   },
   "outputs": [],
   "source": [
    "def standard_units(data):\n",
    "    return (data - np.mean(data)) / np.std(data) #SOLUTION"
   ]
  },
  {
   "cell_type": "code",
   "execution_count": 4,
   "id": "9f5e54fd",
   "metadata": {
    "execution": {
     "iopub.execute_input": "2022-04-07T03:32:58.963981Z",
     "iopub.status.busy": "2022-04-07T03:32:58.963333Z",
     "iopub.status.idle": "2022-04-07T03:32:58.969364Z",
     "shell.execute_reply": "2022-04-07T03:32:58.968634Z"
    }
   },
   "outputs": [
    {
     "data": {
      "text/plain": [
       "array([-1.41421356, -0.70710678,  0.        ,  0.70710678,  1.41421356])"
      ]
     },
     "execution_count": 4,
     "metadata": {},
     "output_type": "execute_result"
    }
   ],
   "source": [
    "# TEST\n",
    "standard_units([1,2,3,4,5])"
   ]
  },
  {
   "cell_type": "code",
   "execution_count": 5,
   "id": "0faa0597",
   "metadata": {
    "execution": {
     "iopub.execute_input": "2022-04-07T03:32:58.972221Z",
     "iopub.status.busy": "2022-04-07T03:32:58.972011Z",
     "iopub.status.idle": "2022-04-07T03:32:58.977617Z",
     "shell.execute_reply": "2022-04-07T03:32:58.976889Z"
    }
   },
   "outputs": [
    {
     "data": {
      "text/plain": [
       "True"
      ]
     },
     "execution_count": 5,
     "metadata": {},
     "output_type": "execute_result"
    }
   ],
   "source": [
    "# TEST\n",
    "np.isclose(np.mean(standard_units([1,2,3,4,5])), 0)"
   ]
  },
  {
   "cell_type": "code",
   "execution_count": 6,
   "id": "b86dd16e",
   "metadata": {
    "execution": {
     "iopub.execute_input": "2022-04-07T03:32:58.980847Z",
     "iopub.status.busy": "2022-04-07T03:32:58.980363Z",
     "iopub.status.idle": "2022-04-07T03:32:58.986048Z",
     "shell.execute_reply": "2022-04-07T03:32:58.985304Z"
    }
   },
   "outputs": [
    {
     "data": {
      "text/plain": [
       "True"
      ]
     },
     "execution_count": 6,
     "metadata": {},
     "output_type": "execute_result"
    }
   ],
   "source": [
    "# TEST\n",
    "np.isclose(np.std(standard_units([1,2,3,4,5])), 0.9999999999999999)"
   ]
  },
  {
   "cell_type": "code",
   "execution_count": 7,
   "id": "677112c0",
   "metadata": {
    "execution": {
     "iopub.execute_input": "2022-04-07T03:32:58.989071Z",
     "iopub.status.busy": "2022-04-07T03:32:58.988845Z",
     "iopub.status.idle": "2022-04-07T03:32:58.994747Z",
     "shell.execute_reply": "2022-04-07T03:32:58.993746Z"
    },
    "scrolled": true
   },
   "outputs": [
    {
     "data": {
      "text/plain": [
       "array([-1.65988202, -1.15470054,  0.36084392, -0.14433757,  0.36084392,\n",
       "        0.8660254 ,  1.37120689])"
      ]
     },
     "execution_count": 7,
     "metadata": {},
     "output_type": "execute_result"
    }
   ],
   "source": [
    "# HIDDEN TEST\n",
    "standard_units([-3, -2, 1, 0, 1, 2, 3])"
   ]
  },
  {
   "cell_type": "markdown",
   "id": "814bee78",
   "metadata": {},
   "source": [
    "**Question 1.2.** Now, using the `standard_units` function, define the function `correlation` which computes the correlation between `x` and `y`. **(5 points)**\n",
    "\n",
    "```\n",
    "BEGIN QUESTION\n",
    "name: q1_2\n",
    "manual: false\n",
    "points:\n",
    " - 0\n",
    " - 5\n",
    "```"
   ]
  },
  {
   "cell_type": "code",
   "execution_count": 8,
   "id": "4965e2e5",
   "metadata": {
    "execution": {
     "iopub.execute_input": "2022-04-07T03:32:58.998339Z",
     "iopub.status.busy": "2022-04-07T03:32:58.997687Z",
     "iopub.status.idle": "2022-04-07T03:32:59.001531Z",
     "shell.execute_reply": "2022-04-07T03:32:59.000809Z"
    }
   },
   "outputs": [],
   "source": [
    "def correlation(x, y):\n",
    "    return np.mean(standard_units(x) * standard_units(y)) #SOLUTION"
   ]
  },
  {
   "cell_type": "code",
   "execution_count": 9,
   "id": "bf93b51f",
   "metadata": {
    "execution": {
     "iopub.execute_input": "2022-04-07T03:32:59.004887Z",
     "iopub.status.busy": "2022-04-07T03:32:59.004278Z",
     "iopub.status.idle": "2022-04-07T03:32:59.010049Z",
     "shell.execute_reply": "2022-04-07T03:32:59.009330Z"
    }
   },
   "outputs": [
    {
     "data": {
      "text/plain": [
       "True"
      ]
     },
     "execution_count": 9,
     "metadata": {},
     "output_type": "execute_result"
    }
   ],
   "source": [
    "# TEST\n",
    "np.isclose(correlation([1,2,3], [4,5,6]), 0.9999999999999999)"
   ]
  },
  {
   "cell_type": "code",
   "execution_count": 10,
   "id": "3f9b3fcc",
   "metadata": {
    "execution": {
     "iopub.execute_input": "2022-04-07T03:32:59.012872Z",
     "iopub.status.busy": "2022-04-07T03:32:59.012632Z",
     "iopub.status.idle": "2022-04-07T03:32:59.037611Z",
     "shell.execute_reply": "2022-04-07T03:32:59.017517Z"
    }
   },
   "outputs": [
    {
     "data": {
      "text/plain": [
       "True"
      ]
     },
     "execution_count": 10,
     "metadata": {},
     "output_type": "execute_result"
    }
   ],
   "source": [
    "# HIDDEN TEST\n",
    "np.isclose(correlation([-3, 0, 3], [-3, 0, 3]), 1.0000000000000002)"
   ]
  },
  {
   "cell_type": "markdown",
   "id": "ec859fc5",
   "metadata": {},
   "source": [
    "**Question 1.3.** Before running a regression, it's important to see what the data looks like, because our eyes are good at picking out unusual patterns in data.  Draw a scatter plot, **that includes the regression line**, with the triple jump distances on the horizontal axis and the vertical jump heights on vertical axis. **(5 points)**\n",
    "\n",
    "See the documentation on `scatter` [here](http://data8.org/datascience/_autosummary/datascience.tables.Table.scatter.html#datascience.tables.Table.scatter) for instructions on how to have Python draw the regression line automatically.\n",
    "\n",
    "*Hint:* The `fit_line` argument may be useful here!\n",
    "\n",
    "```\n",
    "BEGIN QUESTION\n",
    "name: q1_3\n",
    "manual: true\n",
    "image: true\n",
    "```"
   ]
  },
  {
   "cell_type": "code",
   "execution_count": 11,
   "id": "c3126c9c",
   "metadata": {
    "ExecuteTime": {
     "end_time": "2018-04-03T07:28:04.288689Z",
     "start_time": "2018-04-03T07:28:04.108660Z"
    },
    "deletable": false,
    "execution": {
     "iopub.execute_input": "2022-04-07T03:32:59.041336Z",
     "iopub.status.busy": "2022-04-07T03:32:59.041042Z",
     "iopub.status.idle": "2022-04-07T03:32:59.332567Z",
     "shell.execute_reply": "2022-04-07T03:32:59.331877Z"
    },
    "manual_problem_id": "jumping_1"
   },
   "outputs": [
    {
     "data": {
      "image/png": "[encoded data removed]",
      "text/plain": [
       "<Figure size 360x360 with 1 Axes>"
      ]
     },
     "metadata": {},
     "output_type": "display_data"
    }
   ],
   "source": [
    "jumps.scatter('triple', 'vertical', fit_line=True) #SOLUTION"
   ]
  },
  {
   "cell_type": "markdown",
   "id": "c370e214",
   "metadata": {},
   "source": [
    "**Question 1.4.** Does the correlation coefficient $r$ look closest to 0, .5, or -.5? Explain. **(5 points)**\n",
    "\n",
    "```\n",
    "BEGIN QUESTION\n",
    "name: q1_4\n",
    "manual: true\n",
    "```"
   ]
  },
  {
   "cell_type": "markdown",
   "id": "81e26c48",
   "metadata": {
    "deletable": false,
    "manual_problem_id": "jumping_2"
   },
   "source": [
    "**SOLUTION:** It definitely looks closest to .5.  The two variables are positively associated, so it's not -.5.  The data roughly follow a line, so the correlation is probably closer to .5 than to 0."
   ]
  },
  {
   "cell_type": "markdown",
   "id": "8d9ff5fa",
   "metadata": {},
   "source": [
    "**Question 1.5.** Create a function called `parameter_estimates` that takes in the argument `tbl`, a two-column table where the first column is the x-axis and the second column is the y-axis. It should return an array with three elements: the **(1) correlation coefficient** of the two columns and the **(2) slope** and **(3) intercept** of the regression line that predicts the second column from the first, in original units. **(5 points)**\n",
    "\n",
    "*Hint:* This is a rare occasion where it’s better to implement the function using column indices instead of column names, in order to be able to call this function on any table. If you need a reminder about how to use column indices to pull out individual columns, please refer to [this](https://www.inferentialthinking.com/chapters/06/Tables.html#accessing-the-data-in-a-column) section of the textbook.\n",
    "\n",
    "```\n",
    "BEGIN QUESTION\n",
    "name: q1_5\n",
    "manual: false\n",
    "points:\n",
    " - 0\n",
    " - 0\n",
    " - 0\n",
    " - 5\n",
    "```"
   ]
  },
  {
   "cell_type": "code",
   "execution_count": 12,
   "id": "0ea935de",
   "metadata": {
    "ExecuteTime": {
     "end_time": "2018-04-03T22:42:28.451495Z",
     "start_time": "2018-04-03T22:42:28.441469Z"
    },
    "execution": {
     "iopub.execute_input": "2022-04-07T03:32:59.339558Z",
     "iopub.status.busy": "2022-04-07T03:32:59.339319Z",
     "iopub.status.idle": "2022-04-07T03:32:59.346558Z",
     "shell.execute_reply": "2022-04-07T03:32:59.345782Z"
    },
    "for_assignment_type": "solution"
   },
   "outputs": [
    {
     "name": "stdout",
     "output_type": "stream",
     "text": [
      "r: 0.8343076972837598 ; slope: 0.09295728160512184 ; intercept: -1.566520972963474\n"
     ]
    }
   ],
   "source": [
    "def parameter_estimates(tbl):\n",
    "    # BEGIN SOLUTION\n",
    "    y_mean = np.mean(tbl.column(1)) \n",
    "    y_sd = np.std(tbl.column(1))\n",
    "    x_mean = np.mean(tbl.column(0))\n",
    "    x_sd = np.std(tbl.column(0))\n",
    "    r = correlation(tbl.column(0), tbl.column(1))\n",
    "    slope = r * (y_sd / x_sd)\n",
    "    intercept = slope * (-x_mean) + y_mean \n",
    "    # END SOLUTION\n",
    "    return make_array(r, slope, intercept)\n",
    "\n",
    "parameters = parameter_estimates(jumps) \n",
    "print('r:', parameters.item(0), '; slope:', parameters.item(1), '; intercept:', parameters.item(2))"
   ]
  },
  {
   "cell_type": "code",
   "execution_count": 13,
   "id": "8ea17b1a",
   "metadata": {
    "execution": {
     "iopub.execute_input": "2022-04-07T03:32:59.350569Z",
     "iopub.status.busy": "2022-04-07T03:32:59.350259Z",
     "iopub.status.idle": "2022-04-07T03:32:59.356186Z",
     "shell.execute_reply": "2022-04-07T03:32:59.355494Z"
    }
   },
   "outputs": [
    {
     "data": {
      "text/plain": [
       "True"
      ]
     },
     "execution_count": 13,
     "metadata": {},
     "output_type": "execute_result"
    }
   ],
   "source": [
    "# TEST\n",
    "len(parameters) == 3"
   ]
  },
  {
   "cell_type": "code",
   "execution_count": 14,
   "id": "063e73f1",
   "metadata": {
    "execution": {
     "iopub.execute_input": "2022-04-07T03:32:59.359768Z",
     "iopub.status.busy": "2022-04-07T03:32:59.359106Z",
     "iopub.status.idle": "2022-04-07T03:32:59.364420Z",
     "shell.execute_reply": "2022-04-07T03:32:59.363571Z"
    }
   },
   "outputs": [
    {
     "data": {
      "text/plain": [
       "True"
      ]
     },
     "execution_count": 14,
     "metadata": {},
     "output_type": "execute_result"
    }
   ],
   "source": [
    "# TEST\n",
    "# Make sure your function is returning an array!\n",
    "type(parameters) == np.ndarray"
   ]
  },
  {
   "cell_type": "code",
   "execution_count": 15,
   "id": "1dc73551",
   "metadata": {
    "execution": {
     "iopub.execute_input": "2022-04-07T03:32:59.368187Z",
     "iopub.status.busy": "2022-04-07T03:32:59.367702Z",
     "iopub.status.idle": "2022-04-07T03:32:59.373716Z",
     "shell.execute_reply": "2022-04-07T03:32:59.372851Z"
    }
   },
   "outputs": [
    {
     "data": {
      "text/plain": [
       "True"
      ]
     },
     "execution_count": 15,
     "metadata": {},
     "output_type": "execute_result"
    }
   ],
   "source": [
    "# TEST \n",
    "np.isclose(parameters.item(0), 0.8343076972837598)"
   ]
  },
  {
   "cell_type": "code",
   "execution_count": 16,
   "id": "1be21262",
   "metadata": {
    "execution": {
     "iopub.execute_input": "2022-04-07T03:32:59.377320Z",
     "iopub.status.busy": "2022-04-07T03:32:59.376775Z",
     "iopub.status.idle": "2022-04-07T03:32:59.382450Z",
     "shell.execute_reply": "2022-04-07T03:32:59.381561Z"
    }
   },
   "outputs": [
    {
     "data": {
      "text/plain": [
       "True"
      ]
     },
     "execution_count": 16,
     "metadata": {},
     "output_type": "execute_result"
    }
   ],
   "source": [
    "# HIDDEN TEST\n",
    "np.allclose(parameters, [0.8343077, 0.09295728, -1.56652097])"
   ]
  },
  {
   "cell_type": "markdown",
   "id": "32099a8a",
   "metadata": {},
   "source": [
    "**Question 1.6.** Now suppose you want to go the other way and predict a triple jump distance given a vertical jump distance. What would the regression parameters of this linear model be? How do they compare to the regression parameters from the model where you were predicting vertical jump distance given a triple jump distance (in Question 1.5)? **(5 points)**\n",
    "\n",
    "Set `regression_changes` to an array of 3 elements, with each element corresponding to whether or not the corresponding item returned by `parameter_estimates` changes when switching vertical and triple as $x$ and $y$. For example, if $r$ changes, the slope changes, but the intercept wouldn't change, the `regression_changes` would be assigned to `make_array(True, True, False)`.\n",
    "\n",
    "```\n",
    "BEGIN QUESTION\n",
    "name: q1_6\n",
    "manual: false\n",
    "points:\n",
    " - 0\n",
    " - 0\n",
    " - 5\n",
    "```"
   ]
  },
  {
   "cell_type": "code",
   "execution_count": 17,
   "id": "f4d7d376",
   "metadata": {
    "execution": {
     "iopub.execute_input": "2022-04-07T03:32:59.385990Z",
     "iopub.status.busy": "2022-04-07T03:32:59.385315Z",
     "iopub.status.idle": "2022-04-07T03:32:59.391551Z",
     "shell.execute_reply": "2022-04-07T03:32:59.390884Z"
    }
   },
   "outputs": [
    {
     "data": {
      "text/plain": [
       "array([0, 1, 1])"
      ]
     },
     "execution_count": 17,
     "metadata": {},
     "output_type": "execute_result"
    }
   ],
   "source": [
    "regression_changes = make_array(False, True, True) # SOLUTION\n",
    "regression_changes"
   ]
  },
  {
   "cell_type": "code",
   "execution_count": 18,
   "id": "f9de28fd",
   "metadata": {
    "execution": {
     "iopub.execute_input": "2022-04-07T03:32:59.394752Z",
     "iopub.status.busy": "2022-04-07T03:32:59.394320Z",
     "iopub.status.idle": "2022-04-07T03:32:59.399463Z",
     "shell.execute_reply": "2022-04-07T03:32:59.398792Z"
    }
   },
   "outputs": [
    {
     "data": {
      "text/plain": [
       "True"
      ]
     },
     "execution_count": 18,
     "metadata": {},
     "output_type": "execute_result"
    }
   ],
   "source": [
    "# TEST \n",
    "# Make sure regression_changes is a numpy array with 3 items!\n",
    "len(regression_changes) == 3 and type(regression_changes) == np.ndarray"
   ]
  },
  {
   "cell_type": "code",
   "execution_count": 19,
   "id": "afed774c",
   "metadata": {
    "execution": {
     "iopub.execute_input": "2022-04-07T03:32:59.402488Z",
     "iopub.status.busy": "2022-04-07T03:32:59.402266Z",
     "iopub.status.idle": "2022-04-07T03:32:59.439931Z",
     "shell.execute_reply": "2022-04-07T03:32:59.439090Z"
    }
   },
   "outputs": [
    {
     "data": {
      "text/plain": [
       "True"
      ]
     },
     "execution_count": 19,
     "metadata": {},
     "output_type": "execute_result"
    }
   ],
   "source": [
    "# TEST\n",
    "regression_changes.item(0) in set([0, 1, False, True])"
   ]
  },
  {
   "cell_type": "code",
   "execution_count": 20,
   "id": "3aaf064f",
   "metadata": {
    "execution": {
     "iopub.execute_input": "2022-04-07T03:32:59.443019Z",
     "iopub.status.busy": "2022-04-07T03:32:59.442794Z",
     "iopub.status.idle": "2022-04-07T03:32:59.448023Z",
     "shell.execute_reply": "2022-04-07T03:32:59.447372Z"
    }
   },
   "outputs": [
    {
     "data": {
      "text/plain": [
       "True"
      ]
     },
     "execution_count": 20,
     "metadata": {},
     "output_type": "execute_result"
    }
   ],
   "source": [
    "# HIDDEN TEST \n",
    "np.all(regression_changes == make_array(False, True, True))"
   ]
  },
  {
   "cell_type": "markdown",
   "id": "47ca51e9",
   "metadata": {},
   "source": [
    "**Question 1.7.** Let's use `parameters` (from Question 1.5) to predict what certain athletes' vertical jump heights would be given their triple jump distances. **(5 points)**\n",
    "\n",
    "The world record for the triple jump distance is 18.29 *meters* by Johnathan Edwards. What is the prediction for Edwards' vertical jump using this line?\n",
    "\n",
    "*Hint:* Make sure to convert from meters to centimeters!\n",
    "\n",
    "```\n",
    "BEGIN QUESTION\n",
    "name: q1_7\n",
    "manual: false\n",
    "points:\n",
    " - 0\n",
    " - 5\n",
    "```"
   ]
  },
  {
   "cell_type": "code",
   "execution_count": 21,
   "id": "3ec80fd3",
   "metadata": {
    "deletable": false,
    "execution": {
     "iopub.execute_input": "2022-04-07T03:32:59.451738Z",
     "iopub.status.busy": "2022-04-07T03:32:59.451227Z",
     "iopub.status.idle": "2022-04-07T03:32:59.455759Z",
     "shell.execute_reply": "2022-04-07T03:32:59.454937Z"
    }
   },
   "outputs": [
    {
     "name": "stdout",
     "output_type": "stream",
     "text": [
      "Predicted vertical jump distance: 168.452347 centimeters\n"
     ]
    }
   ],
   "source": [
    "triple_record_vert_est = parameters.item(1) * 1829 + parameters.item(2) # SOLUTION\n",
    "print(\"Predicted vertical jump distance: {:f} centimeters\".format(triple_record_vert_est))"
   ]
  },
  {
   "cell_type": "code",
   "execution_count": 22,
   "id": "00fd2a0c",
   "metadata": {
    "execution": {
     "iopub.execute_input": "2022-04-07T03:32:59.459515Z",
     "iopub.status.busy": "2022-04-07T03:32:59.458811Z",
     "iopub.status.idle": "2022-04-07T03:32:59.464636Z",
     "shell.execute_reply": "2022-04-07T03:32:59.463914Z"
    }
   },
   "outputs": [
    {
     "data": {
      "text/plain": [
       "True"
      ]
     },
     "execution_count": 22,
     "metadata": {},
     "output_type": "execute_result"
    }
   ],
   "source": [
    "# TEST\n",
    "100 <= triple_record_vert_est <= 200"
   ]
  },
  {
   "cell_type": "code",
   "execution_count": 23,
   "id": "53fba804",
   "metadata": {
    "execution": {
     "iopub.execute_input": "2022-04-07T03:32:59.468750Z",
     "iopub.status.busy": "2022-04-07T03:32:59.468054Z",
     "iopub.status.idle": "2022-04-07T03:32:59.474560Z",
     "shell.execute_reply": "2022-04-07T03:32:59.473652Z"
    }
   },
   "outputs": [
    {
     "data": {
      "text/plain": [
       "True"
      ]
     },
     "execution_count": 23,
     "metadata": {},
     "output_type": "execute_result"
    }
   ],
   "source": [
    "# HIDDEN TEST\n",
    "np.isclose(triple_record_vert_est, 168.452347)"
   ]
  },
  {
   "cell_type": "markdown",
   "id": "e118385b",
   "metadata": {},
   "source": [
    "**Question 1.8.** Do you think it makes sense to use this line to predict Edwards' vertical jump? **(5 points)**\n",
    "\n",
    "*Hint:* Compare Edwards' triple jump distance to the triple jump distances in `jumps`. Is it relatively similar to the rest of the data (shown in Question 1.3)? \n",
    "\n",
    "```\n",
    "BEGIN QUESTION\n",
    "name: q1_8\n",
    "manual: true\n",
    "```"
   ]
  },
  {
   "cell_type": "markdown",
   "id": "bc255072",
   "metadata": {
    "deletable": false,
    "manual_problem_id": "jumping_5"
   },
   "source": [
    "**SOLUTION:** No; we have absolutely no information on the triple jump distances in any remote region near 18.29 meters, so it's not smart to make an estimate for it based on this data that is outside our observed range.  In fact, this is around 7 cm higher than the [current world record](http://www.guinnessworldrecords.com/world-records/highest-standing-jump) according to Guinness.  That's not totally implausible, but it seems unlikely."
   ]
  },
  {
   "cell_type": "markdown",
   "id": "f3a86595",
   "metadata": {},
   "source": [
    "## 2. Cryptocurrencies"
   ]
  },
  {
   "cell_type": "markdown",
   "id": "94a1c04f",
   "metadata": {},
   "source": [
    "Imagine you're an investor in December 2017. Cryptocurrencies, online currencies backed by secure software, are becoming extremely valuable, and you want in on the action!\n",
    "\n",
    "The two most valuable cryptocurrencies are Bitcoin (BTC) and Ethereum (ETH). Each one has a dollar price attached to it at any given moment in time. For example, on December 1st, 2017, one BTC costs $\\$10,859.56$ and one ETH costs $\\$424.64.$\n",
    "\n",
    "For fun, here are the current prices of [Bitcoin](https://www.coinbase.com/price/bitcoin) and [Ethereum](https://www.coinbase.com/price/ethereum)!\n",
    "\n",
    "**You want to predict the price of ETH at some point in time based on the price of BTC.** Below, we load two [tables](https://www.kaggle.com/jessevent/all-crypto-currencies/data) called `btc` and `eth`. Each has 5 columns:\n",
    "* `date`, the date\n",
    "* `open`, the value of the currency at the beginning of the day\n",
    "* `close`, the value of the currency at the end of the day\n",
    "* `market`, the market cap or total dollar value invested in the currency\n",
    "* `day`, the number of days since the start of our data"
   ]
  },
  {
   "cell_type": "code",
   "execution_count": 25,
   "id": "c8e81a11",
   "metadata": {
    "ExecuteTime": {
     "end_time": "2018-04-04T09:57:46.445990Z",
     "start_time": "2018-04-04T09:57:46.433958Z"
    },
    "execution": {
     "iopub.execute_input": "2022-04-07T03:32:59.497379Z",
     "iopub.status.busy": "2022-04-07T03:32:59.497125Z",
     "iopub.status.idle": "2022-04-07T03:32:59.509256Z",
     "shell.execute_reply": "2022-04-07T03:32:59.508571Z"
    }
   },
   "outputs": [
    {
     "data": {
      "text/html": [
       "<table border=\"1\" class=\"dataframe\">\n",
       "    <thead>\n",
       "        <tr>\n",
       "            <th>date</th> <th>open</th> <th>close</th> <th>market</th> <th>day</th>\n",
       "        </tr>\n",
       "    </thead>\n",
       "    <tbody>\n",
       "        <tr>\n",
       "            <td>2015-09-29</td> <td>239.02</td> <td>236.69</td> <td>3505090000</td> <td>1   </td>\n",
       "        </tr>\n",
       "        <tr>\n",
       "            <td>2015-09-30</td> <td>236.64</td> <td>236.06</td> <td>3471280000</td> <td>2   </td>\n",
       "        </tr>\n",
       "        <tr>\n",
       "            <td>2015-10-01</td> <td>236   </td> <td>237.55</td> <td>3462800000</td> <td>3   </td>\n",
       "        </tr>\n",
       "        <tr>\n",
       "            <td>2015-10-02</td> <td>237.26</td> <td>237.29</td> <td>3482190000</td> <td>4   </td>\n",
       "        </tr>\n",
       "        <tr>\n",
       "            <td>2015-10-03</td> <td>237.2 </td> <td>238.73</td> <td>3482100000</td> <td>5   </td>\n",
       "        </tr>\n",
       "    </tbody>\n",
       "</table>\n",
       "<p>... (830 rows omitted)</p>"
      ],
      "text/plain": [
       "<IPython.core.display.HTML object>"
      ]
     },
     "metadata": {},
     "output_type": "display_data"
    }
   ],
   "source": [
    "btc = Table.read_table('btc.csv')\n",
    "btc.show(5)"
   ]
  },
  {
   "cell_type": "code",
   "execution_count": 26,
   "id": "a6c39e70",
   "metadata": {
    "ExecuteTime": {
     "end_time": "2018-04-04T09:57:46.458022Z",
     "start_time": "2018-04-04T09:57:46.446994Z"
    },
    "execution": {
     "iopub.execute_input": "2022-04-07T03:32:59.537757Z",
     "iopub.status.busy": "2022-04-07T03:32:59.537335Z",
     "iopub.status.idle": "2022-04-07T03:32:59.549030Z",
     "shell.execute_reply": "2022-04-07T03:32:59.548288Z"
    }
   },
   "outputs": [
    {
     "data": {
      "text/html": [
       "<table border=\"1\" class=\"dataframe\">\n",
       "    <thead>\n",
       "        <tr>\n",
       "            <th>date</th> <th>open</th> <th>close</th> <th>market</th> <th>day</th>\n",
       "        </tr>\n",
       "    </thead>\n",
       "    <tbody>\n",
       "        <tr>\n",
       "            <td>2015-09-29</td> <td>0.579414</td> <td>0.661146</td> <td>42607700</td> <td>1   </td>\n",
       "        </tr>\n",
       "        <tr>\n",
       "            <td>2015-09-30</td> <td>0.661192</td> <td>0.738644</td> <td>48636600</td> <td>2   </td>\n",
       "        </tr>\n",
       "        <tr>\n",
       "            <td>2015-10-01</td> <td>0.734307</td> <td>0.690215</td> <td>54032300</td> <td>3   </td>\n",
       "        </tr>\n",
       "        <tr>\n",
       "            <td>2015-10-02</td> <td>0.683732</td> <td>0.678574</td> <td>50328700</td> <td>4   </td>\n",
       "        </tr>\n",
       "        <tr>\n",
       "            <td>2015-10-03</td> <td>0.678783</td> <td>0.687171</td> <td>49981900</td> <td>5   </td>\n",
       "        </tr>\n",
       "    </tbody>\n",
       "</table>\n",
       "<p>... (830 rows omitted)</p>"
      ],
      "text/plain": [
       "<IPython.core.display.HTML object>"
      ]
     },
     "metadata": {},
     "output_type": "display_data"
    }
   ],
   "source": [
    "eth = Table.read_table('eth.csv')\n",
    "eth.show(5)"
   ]
  },
  {
   "cell_type": "markdown",
   "id": "169603ea",
   "metadata": {},
   "source": [
    "**Question 2.1.** In the cell below, create an overlaid line plot that visualizes the BTC and ETH open prices as a function of the day. Both BTC and ETH open prices should be plotted on the same graph. **(5 points)**\n",
    "\n",
    "*Hint*: [Section 7.3](https://inferentialthinking.com/chapters/07/3/Overlaid_Graphs.html#overlaid-line-plots) in the textbook might be helpful!\n",
    "\n",
    "```\n",
    "BEGIN QUESTION\n",
    "name: q2_1\n",
    "manual: true\n",
    "image: true\n",
    "```"
   ]
  },
  {
   "cell_type": "code",
   "execution_count": 27,
   "id": "96523ecf",
   "metadata": {
    "deletable": false,
    "execution": {
     "iopub.execute_input": "2022-04-07T03:32:59.552465Z",
     "iopub.status.busy": "2022-04-07T03:32:59.551829Z",
     "iopub.status.idle": "2022-04-07T03:32:59.841018Z",
     "shell.execute_reply": "2022-04-07T03:32:59.840150Z"
    },
    "for_assignment_type": "student"
   },
   "outputs": [
    {
     "data": {
      "image/png": "[encoded data removed]",
      "text/plain": [
       "<Figure size 432x432 with 1 Axes>"
      ]
     },
     "metadata": {},
     "output_type": "display_data"
    }
   ],
   "source": [
    "# BEGIN SOLUTION NO PROMPT\n",
    "btc_only = btc.select('day', 'open').relabeled('open', 'btc open')\n",
    "both = btc_only.with_column('eth open', eth.column('open'))\n",
    "both.plot('day')\n",
    "# END SOLUTION\n",
    "\"\"\" # BEGIN PROMPT\n",
    "# Create a line plot of btc and eth open prices as a function of time\n",
    "...\n",
    "\"\"\"; # END PROMPT"
   ]
  },
  {
   "cell_type": "markdown",
   "id": "61b05751",
   "metadata": {},
   "source": [
    "**Question 2.2.** Now, calculate the correlation coefficient between the opening prices of BTC and ETH using the `correlation` function you defined earlier. **(5 points)**\n",
    "\n",
    "```\n",
    "BEGIN QUESTION\n",
    "name: q2_2\n",
    "manual: false\n",
    "points:\n",
    " - 0\n",
    " - 0\n",
    " - 5\n",
    "```"
   ]
  },
  {
   "cell_type": "code",
   "execution_count": 28,
   "id": "53617636",
   "metadata": {
    "ExecuteTime": {
     "end_time": "2018-04-04T09:57:57.365938Z",
     "start_time": "2018-04-04T09:57:57.357879Z"
    },
    "deletable": false,
    "execution": {
     "iopub.execute_input": "2022-04-07T03:32:59.844739Z",
     "iopub.status.busy": "2022-04-07T03:32:59.844079Z",
     "iopub.status.idle": "2022-04-07T03:32:59.850351Z",
     "shell.execute_reply": "2022-04-07T03:32:59.849673Z"
    }
   },
   "outputs": [
    {
     "data": {
      "text/plain": [
       "0.9250325764148278"
      ]
     },
     "execution_count": 28,
     "metadata": {},
     "output_type": "execute_result"
    }
   ],
   "source": [
    "r = correlation(both.column('eth open'), both.column('btc open')) #SOLUTION\n",
    "r"
   ]
  },
  {
   "cell_type": "code",
   "execution_count": 29,
   "id": "ef81e7b8",
   "metadata": {
    "execution": {
     "iopub.execute_input": "2022-04-07T03:32:59.853602Z",
     "iopub.status.busy": "2022-04-07T03:32:59.853084Z",
     "iopub.status.idle": "2022-04-07T03:32:59.858341Z",
     "shell.execute_reply": "2022-04-07T03:32:59.857574Z"
    }
   },
   "outputs": [
    {
     "data": {
      "text/plain": [
       "True"
      ]
     },
     "execution_count": 29,
     "metadata": {},
     "output_type": "execute_result"
    }
   ],
   "source": [
    "# TEST\n",
    "# Correlation is a number between -1 and 1\n",
    "-1 <= r <= 1"
   ]
  },
  {
   "cell_type": "code",
   "execution_count": 30,
   "id": "a368509e",
   "metadata": {
    "execution": {
     "iopub.execute_input": "2022-04-07T03:32:59.861869Z",
     "iopub.status.busy": "2022-04-07T03:32:59.861204Z",
     "iopub.status.idle": "2022-04-07T03:32:59.867564Z",
     "shell.execute_reply": "2022-04-07T03:32:59.866845Z"
    }
   },
   "outputs": [
    {
     "data": {
      "text/plain": [
       "True"
      ]
     },
     "execution_count": 30,
     "metadata": {},
     "output_type": "execute_result"
    }
   ],
   "source": [
    "# TEST \n",
    "# It appears that you implemented std_units, but did so incorrectly\n",
    "standard_units(np.arange(5)) is None or np.allclose(standard_units(np.arange(5)), [-1.41421356, -0.70710678,  0,  0.70710678,  1.41421356])"
   ]
  },
  {
   "cell_type": "code",
   "execution_count": 31,
   "id": "0f2708dd",
   "metadata": {
    "execution": {
     "iopub.execute_input": "2022-04-07T03:32:59.871170Z",
     "iopub.status.busy": "2022-04-07T03:32:59.870522Z",
     "iopub.status.idle": "2022-04-07T03:32:59.875681Z",
     "shell.execute_reply": "2022-04-07T03:32:59.874958Z"
    }
   },
   "outputs": [
    {
     "data": {
      "text/plain": [
       "True"
      ]
     },
     "execution_count": 31,
     "metadata": {},
     "output_type": "execute_result"
    }
   ],
   "source": [
    "# HIDDEN TEST\n",
    "np.isclose(r, 0.92503257641482783)"
   ]
  },
  {
   "cell_type": "markdown",
   "id": "77d65153",
   "metadata": {},
   "source": [
    "**Question 2.3.** Write a function `eth_predictor` which takes an opening BTC price and predicts the opening price of ETH. Again, it will be helpful to use the function `parameter_estimates` that you defined earlier in this homework. **(5 points)**\n",
    "\n",
    "*Hint*: Double-check what the `tbl` input to `parameter_estimates` must look like!\n",
    "\n",
    "*Note:* Make sure that your `eth_predictor` is using least squares linear regression.\n",
    "\n",
    "```\n",
    "BEGIN QUESTION\n",
    "name: q2_3\n",
    "manual: false\n",
    "points:\n",
    " - 0\n",
    " - 5\n",
    "```"
   ]
  },
  {
   "cell_type": "code",
   "execution_count": 32,
   "id": "bda16273",
   "metadata": {
    "deletable": false,
    "execution": {
     "iopub.execute_input": "2022-04-07T03:32:59.878802Z",
     "iopub.status.busy": "2022-04-07T03:32:59.878510Z",
     "iopub.status.idle": "2022-04-07T03:32:59.883169Z",
     "shell.execute_reply": "2022-04-07T03:32:59.882405Z"
    }
   },
   "outputs": [],
   "source": [
    "def eth_predictor(btc_price):\n",
    "    parameters = parameter_estimates(Table().with_columns(\"btc\", btc.column(\"open\"), \"eth\", eth.column(\"open\"))) #SOLUTION\n",
    "    slope = parameters.item(1) #SOLUTION\n",
    "    intercept = parameters.item(2) #SOLUTION\n",
    "    return slope * btc_price + intercept #SOLUTION"
   ]
  },
  {
   "cell_type": "code",
   "execution_count": 33,
   "id": "c085d8a8",
   "metadata": {
    "execution": {
     "iopub.execute_input": "2022-04-07T03:32:59.886481Z",
     "iopub.status.busy": "2022-04-07T03:32:59.885928Z",
     "iopub.status.idle": "2022-04-07T03:32:59.891785Z",
     "shell.execute_reply": "2022-04-07T03:32:59.891138Z"
    }
   },
   "outputs": [
    {
     "data": {
      "text/plain": [
       "True"
      ]
     },
     "execution_count": 33,
     "metadata": {},
     "output_type": "execute_result"
    }
   ],
   "source": [
    "# TEST \n",
    "0 < eth_predictor(10) < 100"
   ]
  },
  {
   "cell_type": "code",
   "execution_count": 34,
   "id": "cb7de006",
   "metadata": {
    "execution": {
     "iopub.execute_input": "2022-04-07T03:32:59.894995Z",
     "iopub.status.busy": "2022-04-07T03:32:59.894375Z",
     "iopub.status.idle": "2022-04-07T03:32:59.900505Z",
     "shell.execute_reply": "2022-04-07T03:32:59.899694Z"
    }
   },
   "outputs": [
    {
     "data": {
      "text/plain": [
       "True"
      ]
     },
     "execution_count": 34,
     "metadata": {},
     "output_type": "execute_result"
    }
   ],
   "source": [
    "# HIDDEN TEST\n",
    "np.allclose(eth_predictor(np.arange(10,15)), [ 2.6421542 ,  2.69252572,  2.74289723,  2.79326875,  2.84364026])"
   ]
  },
  {
   "cell_type": "markdown",
   "id": "996a4a45",
   "metadata": {},
   "source": [
    "**Question 2.4.** Now, using the `eth_predictor` function you just defined, make a scatter plot with BTC prices along the x-axis and both real and predicted ETH prices along the y-axis. The color of the dots for the real ETH prices should be different from the color for the predicted ETH prices. **(5 points)**\n",
    "\n",
    "*Hint 1:* An example of such a scatter plot is generated can be found [here](https://inferentialthinking.com/chapters/15/2/Regression_Line.html). </a>\n",
    "\n",
    "*Hint 2:* Think about the table that must be produced and used to generate this scatter plot. What data should the columns represent? Based on the data that you need, how many columns should be present in this table? Also, what should each row represent? Constructing the table will be the main part of this question; once you have this table, generating the scatter plot should be straightforward as usual.\n",
    "\n",
    "```\n",
    "BEGIN QUESTION\n",
    "name: q2_4\n",
    "manual: true\n",
    "image: true\n",
    "```"
   ]
  },
  {
   "cell_type": "code",
   "execution_count": 35,
   "id": "f98946e9",
   "metadata": {
    "execution": {
     "iopub.execute_input": "2022-04-07T03:32:59.904214Z",
     "iopub.status.busy": "2022-04-07T03:32:59.903590Z",
     "iopub.status.idle": "2022-04-07T03:33:00.381009Z",
     "shell.execute_reply": "2022-04-07T03:33:00.380065Z"
    },
    "for_assignment_type": "solution"
   },
   "outputs": [
    {
     "data": {
      "image/png": "[encoded data removed]",
      "text/plain": [
       "<Figure size 360x360 with 1 Axes>"
      ]
     },
     "metadata": {},
     "output_type": "display_data"
    }
   ],
   "source": [
    "btc_open = btc.select('open') # SOLUTION\n",
    "eth_pred = btc_open.with_column(\"predicted eth open\", btc.apply(eth_predictor, \"open\")) # SOLUTION\n",
    "eth_pred_actual = eth_pred.with_column(\"actual eth open\", eth.column(\"open\")) # SOLUTION\n",
    "eth_pred_actual.relabeled(\"open\", \"btc open\").scatter('btc open') # SOLUTION"
   ]
  },
  {
   "cell_type": "markdown",
   "id": "3d95e1eb",
   "metadata": {},
   "source": [
    "**Question 2.5.** Considering the shape of the scatter plot of the true data, is the model we used reasonable? If so, what features or characteristics make this model reasonable? If not, what features or characteristics make it unreasonable? **(5 points)**\n",
    "\n",
    "```\n",
    "BEGIN QUESTION\n",
    "name: q2_5\n",
    "manual: true\n",
    "```"
   ]
  },
  {
   "cell_type": "markdown",
   "id": "bdcd606f",
   "metadata": {
    "deletable": false,
    "manual_problem_id": "crypto_5"
   },
   "source": [
    "**SOLUTION:** This is not a great model for this particular data, as the true data are not even close to being linear (we can see the actual ETH open prices may follow a higher-order pattern). We have produced the line of best fit, but that doesn't mean much when the data points that the line is best fit for is a bad set of non-linear trending data; in other words, there will always be a line of best fit for any data, but that does not mean that the data itself is best fit by a linear model."
   ]
  },
  {
   "cell_type": "markdown",
   "id": "572459d5",
   "metadata": {},
   "source": [
    "## 3. Evaluating NBA Game Predictions"
   ]
  },
  {
   "cell_type": "markdown",
   "id": "290e1d29",
   "metadata": {},
   "source": [
    "#### A Brief Introduction to Sports Betting\n",
    "\n",
    "In a basketball game, each team scores some number of points.  Conventionally, the team playing at its own arena is called the \"home team\", and their opponent is called the \"away team\".  The winner is the team with more points at the end of the game.\n",
    "\n",
    "We can summarize what happened in a game by the \"**outcome**\", defined as the **the away team's score minus the home team's score**:\n",
    "\n",
    "$$\\text{outcome} = \\text{points scored by the away team} - \\text{points scored by the home team}$$\n",
    "\n",
    "If this number is positive, the away team won.  If it's negative, the home team won. \n",
    "\n",
    "In order to facilitate betting on games, analysts at casinos try to predict the outcome of the game. This prediction of the outcome is called the **spread.**\n"
   ]
  },
  {
   "cell_type": "code",
   "execution_count": 37,
   "id": "82050ffe",
   "metadata": {
    "execution": {
     "iopub.execute_input": "2022-04-07T03:33:00.399993Z",
     "iopub.status.busy": "2022-04-07T03:33:00.399190Z",
     "iopub.status.idle": "2022-04-07T03:33:00.415778Z",
     "shell.execute_reply": "2022-04-07T03:33:00.414943Z"
    }
   },
   "outputs": [
    {
     "data": {
      "text/html": [
       "<table border=\"1\" class=\"dataframe\">\n",
       "    <thead>\n",
       "        <tr>\n",
       "            <th>Date</th> <th>Home Team</th> <th>Away Team</th> <th>Home Points</th> <th>Away Points</th> <th>Outcome</th> <th>Spread</th>\n",
       "        </tr>\n",
       "    </thead>\n",
       "    <tbody>\n",
       "        <tr>\n",
       "            <td>4/10/2015 </td> <td>Utah         </td> <td>Memphis    </td> <td>88         </td> <td>89         </td> <td>1      </td> <td>2.5   </td>\n",
       "        </tr>\n",
       "        <tr>\n",
       "            <td>3/10/2015 </td> <td>Utah         </td> <td>New York   </td> <td>87         </td> <td>82         </td> <td>-5     </td> <td>-13   </td>\n",
       "        </tr>\n",
       "        <tr>\n",
       "            <td>11/19/2014</td> <td>Indiana      </td> <td>Charlotte  </td> <td>88         </td> <td>86         </td> <td>-2     </td> <td>-2    </td>\n",
       "        </tr>\n",
       "        <tr>\n",
       "            <td>11/15/2014</td> <td>Chicago      </td> <td>Indiana    </td> <td>90         </td> <td>99         </td> <td>9      </td> <td>-9    </td>\n",
       "        </tr>\n",
       "        <tr>\n",
       "            <td>3/25/2015 </td> <td>Utah         </td> <td>Portland   </td> <td>89         </td> <td>92         </td> <td>3      </td> <td>-2    </td>\n",
       "        </tr>\n",
       "        <tr>\n",
       "            <td>3/3/2015  </td> <td>Memphis      </td> <td>Utah       </td> <td>82         </td> <td>93         </td> <td>11     </td> <td>-7    </td>\n",
       "        </tr>\n",
       "        <tr>\n",
       "            <td>3/18/2015 </td> <td>Utah         </td> <td>Washington </td> <td>84         </td> <td>88         </td> <td>4      </td> <td>-3    </td>\n",
       "        </tr>\n",
       "        <tr>\n",
       "            <td>3/16/2015 </td> <td>Utah         </td> <td>Charlotte  </td> <td>94         </td> <td>66         </td> <td>-28    </td> <td>-4.5  </td>\n",
       "        </tr>\n",
       "        <tr>\n",
       "            <td>1/24/2015 </td> <td>Charlotte    </td> <td>New York   </td> <td>76         </td> <td>71         </td> <td>-5     </td> <td>-9    </td>\n",
       "        </tr>\n",
       "        <tr>\n",
       "            <td>11/7/2014 </td> <td>Oklahoma City</td> <td>Memphis    </td> <td>89         </td> <td>91         </td> <td>2      </td> <td>7     </td>\n",
       "        </tr>\n",
       "    </tbody>\n",
       "</table>\n",
       "<p>... (1220 rows omitted)</p>"
      ],
      "text/plain": [
       "Date       | Home Team     | Away Team   | Home Points | Away Points | Outcome | Spread\n",
       "4/10/2015  | Utah          | Memphis     | 88          | 89          | 1       | 2.5\n",
       "3/10/2015  | Utah          | New York    | 87          | 82          | -5      | -13\n",
       "11/19/2014 | Indiana       | Charlotte   | 88          | 86          | -2      | -2\n",
       "11/15/2014 | Chicago       | Indiana     | 90          | 99          | 9       | -9\n",
       "3/25/2015  | Utah          | Portland    | 89          | 92          | 3       | -2\n",
       "3/3/2015   | Memphis       | Utah        | 82          | 93          | 11      | -7\n",
       "3/18/2015  | Utah          | Washington  | 84          | 88          | 4       | -3\n",
       "3/16/2015  | Utah          | Charlotte   | 94          | 66          | -28     | -4.5\n",
       "1/24/2015  | Charlotte     | New York    | 76          | 71          | -5      | -9\n",
       "11/7/2014  | Oklahoma City | Memphis     | 89          | 91          | 2       | 7\n",
       "... (1220 rows omitted)"
      ]
     },
     "execution_count": 37,
     "metadata": {},
     "output_type": "execute_result"
    }
   ],
   "source": [
    "spreads = Table.read_table(\"spreads.csv\")\n",
    "spreads"
   ]
  },
  {
   "cell_type": "markdown",
   "id": "4b4548b1",
   "metadata": {},
   "source": [
    "Here's a scatter plot of the outcomes and spreads, with the spreads on the horizontal axis."
   ]
  },
  {
   "cell_type": "code",
   "execution_count": 38,
   "id": "0e95eb5c",
   "metadata": {
    "execution": {
     "iopub.execute_input": "2022-04-07T03:33:00.419417Z",
     "iopub.status.busy": "2022-04-07T03:33:00.418910Z",
     "iopub.status.idle": "2022-04-07T03:33:00.698225Z",
     "shell.execute_reply": "2022-04-07T03:33:00.697409Z"
    }
   },
   "outputs": [
    {
     "data": {
      "image/png": "[encoded data removed]",
      "text/plain": [
       "<Figure size 360x360 with 1 Axes>"
      ]
     },
     "metadata": {},
     "output_type": "display_data"
    }
   ],
   "source": [
    "spreads.scatter(\"Spread\", \"Outcome\")"
   ]
  },
  {
   "cell_type": "markdown",
   "id": "fa446c1a",
   "metadata": {},
   "source": [
    "From the scatter plot, you can see that the spread and outcome are almost never 0, aside from one case of the spread being 0. This is because a game of basketball never ends in a tie. One team has to win, so the outcome can never be 0. The spread is almost never 0 because it's chosen to estimate the outcome."
   ]
  },
  {
   "cell_type": "markdown",
   "id": "26503493",
   "metadata": {},
   "source": [
    "Let's investigate how well the casinos are predicting game outcomes.\n",
    "\n",
    "One question we can ask is: Is the casino's prediction correct on average? In other words, for every value of the spread, is the average outcome of games assigned that spread equal to the spread? If not, the casino would apparently be making a systematic error in its predictions."
   ]
  },
  {
   "cell_type": "markdown",
   "id": "6b8397f6",
   "metadata": {},
   "source": [
    "**Question 3.1.** Compute the correlation coefficient between outcomes and spreads. **(5 points)**\n",
    "\n",
    "*Note:* It might be helpful to use the `correlation` function.\n",
    "\n",
    "```\n",
    "BEGIN QUESTION\n",
    "name: q3_1\n",
    "manual: false\n",
    "points:\n",
    " - 0\n",
    " - 5\n",
    "```"
   ]
  },
  {
   "cell_type": "code",
   "execution_count": 39,
   "id": "77847a99",
   "metadata": {
    "deletable": false,
    "execution": {
     "iopub.execute_input": "2022-04-07T03:33:00.701824Z",
     "iopub.status.busy": "2022-04-07T03:33:00.701552Z",
     "iopub.status.idle": "2022-04-07T03:33:00.708023Z",
     "shell.execute_reply": "2022-04-07T03:33:00.707219Z"
    }
   },
   "outputs": [
    {
     "data": {
      "text/plain": [
       "0.49181413688314235"
      ]
     },
     "execution_count": 39,
     "metadata": {},
     "output_type": "execute_result"
    }
   ],
   "source": [
    "spread_r = correlation(spreads.column(\"Outcome\"), spreads.column(\"Spread\")) #SOLUTION\n",
    "spread_r"
   ]
  },
  {
   "cell_type": "code",
   "execution_count": 40,
   "id": "5bb69f49",
   "metadata": {
    "execution": {
     "iopub.execute_input": "2022-04-07T03:33:00.711691Z",
     "iopub.status.busy": "2022-04-07T03:33:00.710953Z",
     "iopub.status.idle": "2022-04-07T03:33:00.716286Z",
     "shell.execute_reply": "2022-04-07T03:33:00.715543Z"
    }
   },
   "outputs": [
    {
     "data": {
      "text/plain": [
       "True"
      ]
     },
     "execution_count": 40,
     "metadata": {},
     "output_type": "execute_result"
    }
   ],
   "source": [
    "# TEST \n",
    "-1 <= spread_r <= 1"
   ]
  },
  {
   "cell_type": "code",
   "execution_count": 41,
   "id": "a5205eba",
   "metadata": {
    "execution": {
     "iopub.execute_input": "2022-04-07T03:33:00.719826Z",
     "iopub.status.busy": "2022-04-07T03:33:00.719138Z",
     "iopub.status.idle": "2022-04-07T03:33:00.739458Z",
     "shell.execute_reply": "2022-04-07T03:33:00.738538Z"
    }
   },
   "outputs": [
    {
     "data": {
      "text/plain": [
       "True"
      ]
     },
     "execution_count": 41,
     "metadata": {},
     "output_type": "execute_result"
    }
   ],
   "source": [
    "# HIDDEN TEST \n",
    "np.isclose(spread_r, 0.49181413688314235)"
   ]
  },
  {
   "cell_type": "markdown",
   "id": "3a563982",
   "metadata": {},
   "source": [
    "**Question 3.2.** Among games with a spread between 3.5 and 6.5 (including both 3.5 and 6.5), what was the average outcome? **(5 points)**\n",
    "\n",
    "```\n",
    "BEGIN QUESTION\n",
    "name: q3_2\n",
    "manual: false\n",
    "points:\n",
    " - 0\n",
    " - 5\n",
    "```"
   ]
  },
  {
   "cell_type": "code",
   "execution_count": 42,
   "id": "08d0d72c",
   "metadata": {
    "deletable": false,
    "execution": {
     "iopub.execute_input": "2022-04-07T03:33:00.743345Z",
     "iopub.status.busy": "2022-04-07T03:33:00.742709Z",
     "iopub.status.idle": "2022-04-07T03:33:00.761554Z",
     "shell.execute_reply": "2022-04-07T03:33:00.760731Z"
    }
   },
   "outputs": [
    {
     "name": "stdout",
     "output_type": "stream",
     "text": [
      "Average outcome for spreads around 5: 4.9941176470588236\n"
     ]
    }
   ],
   "source": [
    "spreads_around_5 = spreads.where(\"Spread\", are.between_or_equal_to(3.5, 6.5)) #SOLUTION\n",
    "spread_5_outcome_average = np.mean(spreads_around_5.column(\"Outcome\")) #SOLUTION\n",
    "print(\"Average outcome for spreads around 5:\", spread_5_outcome_average)"
   ]
  },
  {
   "cell_type": "code",
   "execution_count": 43,
   "id": "bf08e554",
   "metadata": {
    "execution": {
     "iopub.execute_input": "2022-04-07T03:33:00.764799Z",
     "iopub.status.busy": "2022-04-07T03:33:00.764548Z",
     "iopub.status.idle": "2022-04-07T03:33:00.770148Z",
     "shell.execute_reply": "2022-04-07T03:33:00.769175Z"
    }
   },
   "outputs": [
    {
     "data": {
      "text/plain": [
       "True"
      ]
     },
     "execution_count": 43,
     "metadata": {},
     "output_type": "execute_result"
    }
   ],
   "source": [
    "# TEST \n",
    "4 <= spread_5_outcome_average <= 6"
   ]
  },
  {
   "cell_type": "code",
   "execution_count": 44,
   "id": "bb90927c",
   "metadata": {
    "execution": {
     "iopub.execute_input": "2022-04-07T03:33:00.773596Z",
     "iopub.status.busy": "2022-04-07T03:33:00.772913Z",
     "iopub.status.idle": "2022-04-07T03:33:00.778005Z",
     "shell.execute_reply": "2022-04-07T03:33:00.777243Z"
    }
   },
   "outputs": [
    {
     "data": {
      "text/plain": [
       "True"
      ]
     },
     "execution_count": 44,
     "metadata": {},
     "output_type": "execute_result"
    }
   ],
   "source": [
    "# HIDDEN TEST \n",
    "np.isclose(spread_5_outcome_average, 4.99411764706)"
   ]
  },
  {
   "cell_type": "markdown",
   "id": "be9d2e0c",
   "metadata": {},
   "source": [
    "**Question 3.3.** Use the function `parameter_estimates` that you defined earlier to compute the least-squares linear regression line that predicts outcomes from spreads, in original units. We have provided a two column table for you in the cell below with the first column representing `Spread` (x) and the second column representing `Outcome` (y), which you should use as an argument to the function. **(5 points)**\n",
    "\n",
    "```\n",
    "BEGIN QUESTION\n",
    "name: q3_3\n",
    "manual: false\n",
    "points:\n",
    " - 0\n",
    " - 0\n",
    " - 2\n",
    " - 3\n",
    "```"
   ]
  },
  {
   "cell_type": "code",
   "execution_count": 45,
   "id": "c390458c",
   "metadata": {
    "deletable": false,
    "execution": {
     "iopub.execute_input": "2022-04-07T03:33:00.781303Z",
     "iopub.status.busy": "2022-04-07T03:33:00.780646Z",
     "iopub.status.idle": "2022-04-07T03:33:00.786958Z",
     "shell.execute_reply": "2022-04-07T03:33:00.786287Z"
    },
    "scrolled": true
   },
   "outputs": [
    {
     "name": "stdout",
     "output_type": "stream",
     "text": [
      "Slope: 0.954\n",
      "Intercept 0.22\n"
     ]
    }
   ],
   "source": [
    "compute_tbl = spreads.select('Spread', 'Outcome')\n",
    "estimates = parameter_estimates(compute_tbl) # SOLUTION\n",
    "spread_slope = estimates.item(1) # SOLUTION\n",
    "spread_intercept = estimates.item(2) # SOLUTION\n",
    "print(\"Slope:\", round(spread_slope, 3))\n",
    "print(\"Intercept\", round(spread_intercept, 3))"
   ]
  },
  {
   "cell_type": "code",
   "execution_count": 46,
   "id": "3a0b86ca",
   "metadata": {
    "execution": {
     "iopub.execute_input": "2022-04-07T03:33:00.790354Z",
     "iopub.status.busy": "2022-04-07T03:33:00.789704Z",
     "iopub.status.idle": "2022-04-07T03:33:00.794861Z",
     "shell.execute_reply": "2022-04-07T03:33:00.794183Z"
    }
   },
   "outputs": [
    {
     "data": {
      "text/plain": [
       "True"
      ]
     },
     "execution_count": 46,
     "metadata": {},
     "output_type": "execute_result"
    }
   ],
   "source": [
    "# TEST \n",
    "0 <= spread_slope < 1"
   ]
  },
  {
   "cell_type": "code",
   "execution_count": 47,
   "id": "2832730c",
   "metadata": {
    "execution": {
     "iopub.execute_input": "2022-04-07T03:33:00.798408Z",
     "iopub.status.busy": "2022-04-07T03:33:00.797735Z",
     "iopub.status.idle": "2022-04-07T03:33:00.802582Z",
     "shell.execute_reply": "2022-04-07T03:33:00.801970Z"
    }
   },
   "outputs": [
    {
     "data": {
      "text/plain": [
       "True"
      ]
     },
     "execution_count": 47,
     "metadata": {},
     "output_type": "execute_result"
    }
   ],
   "source": [
    "# TEST \n",
    "spread_intercept > 0"
   ]
  },
  {
   "cell_type": "code",
   "execution_count": 48,
   "id": "ce12fc53",
   "metadata": {
    "execution": {
     "iopub.execute_input": "2022-04-07T03:33:00.805773Z",
     "iopub.status.busy": "2022-04-07T03:33:00.805250Z",
     "iopub.status.idle": "2022-04-07T03:33:00.839469Z",
     "shell.execute_reply": "2022-04-07T03:33:00.838711Z"
    }
   },
   "outputs": [
    {
     "data": {
      "text/plain": [
       "True"
      ]
     },
     "execution_count": 48,
     "metadata": {},
     "output_type": "execute_result"
    }
   ],
   "source": [
    "# HIDDEN TEST \n",
    "np.isclose(spread_slope, 0.95392696822643275)"
   ]
  },
  {
   "cell_type": "code",
   "execution_count": 49,
   "id": "78c9199f",
   "metadata": {
    "execution": {
     "iopub.execute_input": "2022-04-07T03:33:00.843128Z",
     "iopub.status.busy": "2022-04-07T03:33:00.842632Z",
     "iopub.status.idle": "2022-04-07T03:33:00.848083Z",
     "shell.execute_reply": "2022-04-07T03:33:00.847371Z"
    }
   },
   "outputs": [
    {
     "data": {
      "text/plain": [
       "True"
      ]
     },
     "execution_count": 49,
     "metadata": {},
     "output_type": "execute_result"
    }
   ],
   "source": [
    "# HIDDEN TEST \n",
    "np.isclose(spread_intercept, 0.22024761654565372)"
   ]
  },
  {
   "cell_type": "markdown",
   "id": "d1044e99",
   "metadata": {},
   "source": [
    "**Question 3.4.** Suppose that we create another model that simply predicts the average outcome regardless of the value for spread. Does this new model minimize the least squared error? Why or why not? **(5 points)**\n",
    "\n",
    "```\n",
    "BEGIN QUESTION\n",
    "name: q3_4\n",
    "manual: true\n",
    "```"
   ]
  },
  {
   "cell_type": "markdown",
   "id": "bd7fd1b4",
   "metadata": {
    "deletable": false,
    "manual_problem_id": "nba_7"
   },
   "source": [
    "**SOLUTION:** The new predictor is a horizontal **line** that passes through the average value for outcome. Therefore. it does not minimize least squared error, as only the regression line is the unique straight line that minimizes least squared error among all straight lines."
   ]
  },
  {
   "cell_type": "markdown",
   "id": "462fa5ee",
   "metadata": {},
   "source": [
    "### Fitting a Least-Squares Regression Line\n",
    "\n",
    "Recall that the least-squares regression line is the unique straight line that minimizes root mean squared error (RMSE) among all possible fit lines. Using this property, we can find the equation of the regression line by finding the pair of slope and intercept values that minimize root mean squared error. "
   ]
  },
  {
   "cell_type": "markdown",
   "id": "ad691e36",
   "metadata": {},
   "source": [
    "**Question 3.5.** Define a function called `errors`.  It should take three arguments:\n",
    "1. a table `tbl` like `spreads` (with the same column names and meanings, but not necessarily the same data)\n",
    "2. the `slope` of a line (a number)\n",
    "3. the `intercept` of a line (a number).\n",
    "\n",
    "It should **return an array of the errors** made when a line with that slope and intercept is used to predict outcome from spread for each game in the given table. **(3 points)**\n",
    "\n",
    "*Note*: Make sure you are returning an array of the errors, and not the RMSE. \n",
    "\n",
    "```\n",
    "BEGIN QUESTION\n",
    "name: q3_5\n",
    "manual: false\n",
    "points:\n",
    " - 0\n",
    " - 0\n",
    " - 3\n",
    "```"
   ]
  },
  {
   "cell_type": "code",
   "execution_count": 50,
   "id": "0b1dfbab",
   "metadata": {
    "execution": {
     "iopub.execute_input": "2022-04-07T03:33:00.851750Z",
     "iopub.status.busy": "2022-04-07T03:33:00.851115Z",
     "iopub.status.idle": "2022-04-07T03:33:00.855216Z",
     "shell.execute_reply": "2022-04-07T03:33:00.854441Z"
    }
   },
   "outputs": [],
   "source": [
    "def errors(tbl, slope, intercept):\n",
    "    predictions = slope * tbl.column(\"Spread\") + intercept # SOLUTION NO PROMPT\n",
    "    return tbl.column(\"Outcome\") - predictions # SOLUTION"
   ]
  },
  {
   "cell_type": "code",
   "execution_count": 51,
   "id": "90bd62cb",
   "metadata": {
    "execution": {
     "iopub.execute_input": "2022-04-07T03:33:00.858601Z",
     "iopub.status.busy": "2022-04-07T03:33:00.858103Z",
     "iopub.status.idle": "2022-04-07T03:33:00.863721Z",
     "shell.execute_reply": "2022-04-07T03:33:00.862850Z"
    }
   },
   "outputs": [
    {
     "data": {
      "text/plain": [
       "True"
      ]
     },
     "execution_count": 51,
     "metadata": {},
     "output_type": "execute_result"
    }
   ],
   "source": [
    "# TEST\n",
    "type(errors(spreads, 0, 0).item(0)) in set([float, np.float32, np.float64])"
   ]
  },
  {
   "cell_type": "code",
   "execution_count": 52,
   "id": "b0ee35ad",
   "metadata": {
    "execution": {
     "iopub.execute_input": "2022-04-07T03:33:00.867159Z",
     "iopub.status.busy": "2022-04-07T03:33:00.866474Z",
     "iopub.status.idle": "2022-04-07T03:33:00.871940Z",
     "shell.execute_reply": "2022-04-07T03:33:00.871258Z"
    }
   },
   "outputs": [
    {
     "data": {
      "text/plain": [
       "True"
      ]
     },
     "execution_count": 52,
     "metadata": {},
     "output_type": "execute_result"
    }
   ],
   "source": [
    "# TEST\n",
    "len(errors(spreads, 0, 0)) == 1230"
   ]
  },
  {
   "cell_type": "code",
   "execution_count": 53,
   "id": "e5474032",
   "metadata": {
    "execution": {
     "iopub.execute_input": "2022-04-07T03:33:00.874903Z",
     "iopub.status.busy": "2022-04-07T03:33:00.874708Z",
     "iopub.status.idle": "2022-04-07T03:33:00.880493Z",
     "shell.execute_reply": "2022-04-07T03:33:00.879713Z"
    }
   },
   "outputs": [
    {
     "data": {
      "text/plain": [
       "True"
      ]
     },
     "execution_count": 53,
     "metadata": {},
     "output_type": "execute_result"
    }
   ],
   "source": [
    "# HIDDEN TEST\n",
    "np.isclose(np.mean(errors(spreads, 0, 0)), -2.4073170731707316)"
   ]
  },
  {
   "cell_type": "markdown",
   "id": "f9aeb218",
   "metadata": {},
   "source": [
    "**Question 3.6.** Using `errors`, compute the errors for the line with slope `0.5` and intercept `25` on the `spreads` dataset. Name that array `outcome_errors`.  Then, make a scatter plot of the errors. **(3 points)**\n",
    "\n",
    "*Hint:* To make a scatter plot of the errors, plot the error for each outcome in the dataset.  Put the actual spread on the horizontal axis and the outcome error on the vertical axis.\n",
    "\n",
    "```\n",
    "BEGIN QUESTION\n",
    "name: q3_6\n",
    "manual: false\n",
    "points:\n",
    " - 3\n",
    "```"
   ]
  },
  {
   "cell_type": "code",
   "execution_count": 54,
   "id": "89b2679d",
   "metadata": {
    "execution": {
     "iopub.execute_input": "2022-04-07T03:33:00.883384Z",
     "iopub.status.busy": "2022-04-07T03:33:00.883189Z",
     "iopub.status.idle": "2022-04-07T03:33:01.173679Z",
     "shell.execute_reply": "2022-04-07T03:33:01.172836Z"
    },
    "scrolled": true
   },
   "outputs": [
    {
     "data": {
      "image/png": "[encoded data removed]",
      "text/plain": [
       "<Figure size 360x360 with 1 Axes>"
      ]
     },
     "metadata": {},
     "output_type": "display_data"
    }
   ],
   "source": [
    "outcome_errors = errors(spreads, 0.5, 25) # SOLUTION\n",
    "# BEGIN SOLUTION\n",
    "spreads.with_column(\"Outcome errors\", outcome_errors)\\\n",
    "           .scatter(\"Spread\", \"Outcome errors\")\n",
    "# END SOLUTION"
   ]
  },
  {
   "cell_type": "code",
   "execution_count": 55,
   "id": "ec4dca3b",
   "metadata": {
    "execution": {
     "iopub.execute_input": "2022-04-07T03:33:01.177360Z",
     "iopub.status.busy": "2022-04-07T03:33:01.176867Z",
     "iopub.status.idle": "2022-04-07T03:33:01.182876Z",
     "shell.execute_reply": "2022-04-07T03:33:01.181977Z"
    }
   },
   "outputs": [
    {
     "data": {
      "text/plain": [
       "True"
      ]
     },
     "execution_count": 55,
     "metadata": {},
     "output_type": "execute_result"
    }
   ],
   "source": [
    "# TEST\n",
    "# If you're not passing this test, double check your errors function!\n",
    "np.round(outcome_errors.item(0), 2) == -25.25"
   ]
  },
  {
   "cell_type": "markdown",
   "id": "59212a99",
   "metadata": {},
   "source": [
    "You should find that the errors are almost all negative.  That means our line is not the best fit to our data.  Let's find a better one."
   ]
  },
  {
   "cell_type": "markdown",
   "id": "5083117b",
   "metadata": {},
   "source": [
    "**Question 3.7.** Define a function called `fit_line`.  It should take a table like `spreads` (with the same column names and meanings) as its argument.  It should return an array containing the slope (as the first element) and intercept (as the second element) of the least-squares regression line predicting outcome from spread for that table. **(3 points)**\n",
    "\n",
    "*Hint*: Define a function `rmse` within `fit_line` that takes a slope and intercept as its arguments. `rmse` will use the table passed into `fit_line` to compute predicted outcomes and then return the root mean squared error between the predicted and actual outcomes. Within `fit_line`, you can call `rmse` the way you would any other function.\n",
    "\n",
    "If you haven't tried to use the `minimize` [function](http://data8.org/sp22/python-reference.html) yet, now is a great time to practice. Here's an [example from the textbook](https://www.inferentialthinking.com/chapters/15/3/Method_of_Least_Squares.html#numerical-optimization).\n",
    "\n",
    "```\n",
    "BEGIN QUESTION\n",
    "name: q3_7\n",
    "manual: false\n",
    "points:\n",
    " - 0\n",
    " - 0\n",
    " - 3\n",
    "```"
   ]
  },
  {
   "cell_type": "code",
   "execution_count": 56,
   "id": "06f4a797",
   "metadata": {
    "execution": {
     "iopub.execute_input": "2022-04-07T03:33:01.186019Z",
     "iopub.status.busy": "2022-04-07T03:33:01.185798Z",
     "iopub.status.idle": "2022-04-07T03:33:01.210477Z",
     "shell.execute_reply": "2022-04-07T03:33:01.209593Z"
    }
   },
   "outputs": [
    {
     "data": {
      "text/plain": [
       "array([2., 1.])"
      ]
     },
     "execution_count": 56,
     "metadata": {},
     "output_type": "execute_result"
    }
   ],
   "source": [
    "# BEGIN SOLUTION NO PROMPT\n",
    "def fit_line(tbl):\n",
    "    def rmse(slope, intercept):\n",
    "        return (np.mean(errors(tbl, slope, intercept)**2)**0.5)\n",
    "    return minimize(rmse)\n",
    "# END SOLUTION\n",
    "\"\"\" # BEGIN PROMPT\n",
    "def fit_line(tbl):\n",
    "    # Your code may need more than 1 line below here.\n",
    "    def rmse(..., ...):\n",
    "        return ... \n",
    "    return ... \n",
    "\"\"\"; # END PROMPT\n",
    "    \n",
    "# Here is an example call to your function.  To test your function,\n",
    "# figure out the right slope and intercept by hand.\n",
    "example_table = Table().with_columns(\n",
    "    \"Spread\", make_array(0, 1),\n",
    "    \"Outcome\", make_array(1, 3))\n",
    "fit_line(example_table)"
   ]
  },
  {
   "cell_type": "code",
   "execution_count": 57,
   "id": "bcaf6903",
   "metadata": {
    "execution": {
     "iopub.execute_input": "2022-04-07T03:33:01.214818Z",
     "iopub.status.busy": "2022-04-07T03:33:01.214009Z",
     "iopub.status.idle": "2022-04-07T03:33:01.252445Z",
     "shell.execute_reply": "2022-04-07T03:33:01.251545Z"
    }
   },
   "outputs": [
    {
     "data": {
      "text/plain": [
       "True"
      ]
     },
     "execution_count": 57,
     "metadata": {},
     "output_type": "execute_result"
    }
   ],
   "source": [
    "# TEST\n",
    "type(fit_line(example_table)) == np.ndarray"
   ]
  },
  {
   "cell_type": "code",
   "execution_count": 58,
   "id": "63e88453",
   "metadata": {
    "execution": {
     "iopub.execute_input": "2022-04-07T03:33:01.256408Z",
     "iopub.status.busy": "2022-04-07T03:33:01.255591Z",
     "iopub.status.idle": "2022-04-07T03:33:01.277640Z",
     "shell.execute_reply": "2022-04-07T03:33:01.276991Z"
    }
   },
   "outputs": [
    {
     "data": {
      "text/plain": [
       "True"
      ]
     },
     "execution_count": 58,
     "metadata": {},
     "output_type": "execute_result"
    }
   ],
   "source": [
    "# TEST\n",
    "type(fit_line(example_table).item(0)) in set([float, np.float32, np.float64])"
   ]
  },
  {
   "cell_type": "code",
   "execution_count": 59,
   "id": "10f1fdce",
   "metadata": {
    "execution": {
     "iopub.execute_input": "2022-04-07T03:33:01.281205Z",
     "iopub.status.busy": "2022-04-07T03:33:01.280561Z",
     "iopub.status.idle": "2022-04-07T03:33:01.317096Z",
     "shell.execute_reply": "2022-04-07T03:33:01.316424Z"
    }
   },
   "outputs": [
    {
     "data": {
      "text/plain": [
       "True"
      ]
     },
     "execution_count": 59,
     "metadata": {},
     "output_type": "execute_result"
    }
   ],
   "source": [
    "# HIDDEN TEST\n",
    "np.isclose(fit_line(example_table).item(0), 2) and np.isclose(fit_line(example_table).item(1), 1)"
   ]
  },
  {
   "cell_type": "markdown",
   "id": "3d0dc412",
   "metadata": {},
   "source": [
    "**Question 3.8.** Use `fit_line` to fit a line to `spreads`, and assign the output to `best_line`. Assign the first and second elements in `best_line` to `best_line_slope` and `best_line_intercept`, respectively.\n",
    "\n",
    "Then, set `new_errors` to the array of errors that we get by calling `errors` with our new line. The provided code will graph the corresponding residual plot with a best fit line. **(3 points)**\n",
    "\n",
    "*Hint:* Make sure that the residual plot makes sense. What qualities should the best fit line of a residual plot have?\n",
    "\n",
    "```\n",
    "BEGIN QUESTION\n",
    "name: q3_8\n",
    "manual: false\n",
    "points:\n",
    " - 0\n",
    " - 1\n",
    " - 1\n",
    " - 1\n",
    "```"
   ]
  },
  {
   "cell_type": "code",
   "execution_count": 60,
   "id": "38d768ca",
   "metadata": {
    "execution": {
     "iopub.execute_input": "2022-04-07T03:33:01.340834Z",
     "iopub.status.busy": "2022-04-07T03:33:01.340129Z",
     "iopub.status.idle": "2022-04-07T03:33:01.624862Z",
     "shell.execute_reply": "2022-04-07T03:33:01.623980Z"
    }
   },
   "outputs": [
    {
     "data": {
      "text/plain": [
       "'Slope: 0.953816 | Intercept: 0.217835'"
      ]
     },
     "execution_count": 60,
     "metadata": {},
     "output_type": "execute_result"
    },
    {
     "data": {
      "image/png": "[encoded data removed]",
      "text/plain": [
       "<Figure size 360x360 with 1 Axes>"
      ]
     },
     "metadata": {},
     "output_type": "display_data"
    }
   ],
   "source": [
    "best_line = fit_line(spreads) #SOLUTION\n",
    "best_line_slope = best_line.item(0) #SOLUTION\n",
    "best_line_intercept = best_line.item(1) #SOLUTION\n",
    "\n",
    "new_errors = errors(spreads, best_line_slope, best_line_intercept) #SOLUTION\n",
    "\n",
    "# This code displays the residual plot, given your values for the best_line_slope and best_line_intercept\n",
    "Table().with_columns(\"Spread\", \n",
    "                    spreads.column(\"Spread\"), \n",
    "                    \"Outcome errors\", \n",
    "                    new_errors\n",
    "                   ).scatter(\"Spread\", \"Outcome errors\", fit_line=True)\n",
    "\n",
    "# This just prints your slope and intercept\n",
    "\"Slope: {:g} | Intercept: {:g}\".format(best_line_slope, best_line_intercept)"
   ]
  },
  {
   "cell_type": "code",
   "execution_count": 61,
   "id": "aca21c32",
   "metadata": {
    "execution": {
     "iopub.execute_input": "2022-04-07T03:33:01.628747Z",
     "iopub.status.busy": "2022-04-07T03:33:01.628135Z",
     "iopub.status.idle": "2022-04-07T03:33:01.638388Z",
     "shell.execute_reply": "2022-04-07T03:33:01.637699Z"
    }
   },
   "outputs": [
    {
     "data": {
      "text/plain": [
       "True"
      ]
     },
     "execution_count": 61,
     "metadata": {},
     "output_type": "execute_result"
    }
   ],
   "source": [
    "# TEST\n",
    "len(new_errors) == 1230"
   ]
  },
  {
   "cell_type": "code",
   "execution_count": 62,
   "id": "ef4bd948",
   "metadata": {
    "execution": {
     "iopub.execute_input": "2022-04-07T03:33:01.641510Z",
     "iopub.status.busy": "2022-04-07T03:33:01.641188Z",
     "iopub.status.idle": "2022-04-07T03:33:01.646366Z",
     "shell.execute_reply": "2022-04-07T03:33:01.645753Z"
    }
   },
   "outputs": [
    {
     "data": {
      "text/plain": [
       "True"
      ]
     },
     "execution_count": 62,
     "metadata": {},
     "output_type": "execute_result"
    }
   ],
   "source": [
    "# HIDDEN TEST\n",
    "int(round(best_line_slope, 1)) == 1"
   ]
  },
  {
   "cell_type": "code",
   "execution_count": 63,
   "id": "d3978dde",
   "metadata": {
    "execution": {
     "iopub.execute_input": "2022-04-07T03:33:01.649830Z",
     "iopub.status.busy": "2022-04-07T03:33:01.649210Z",
     "iopub.status.idle": "2022-04-07T03:33:01.654142Z",
     "shell.execute_reply": "2022-04-07T03:33:01.653253Z"
    }
   },
   "outputs": [
    {
     "data": {
      "text/plain": [
       "True"
      ]
     },
     "execution_count": 63,
     "metadata": {},
     "output_type": "execute_result"
    }
   ],
   "source": [
    "# HIDDEN TEST\n",
    "round(best_line_intercept, 1) == 0.2"
   ]
  },
  {
   "cell_type": "code",
   "execution_count": 64,
   "id": "71cf27d9",
   "metadata": {
    "execution": {
     "iopub.execute_input": "2022-04-07T03:33:01.657019Z",
     "iopub.status.busy": "2022-04-07T03:33:01.656783Z",
     "iopub.status.idle": "2022-04-07T03:33:01.661614Z",
     "shell.execute_reply": "2022-04-07T03:33:01.661023Z"
    }
   },
   "outputs": [
    {
     "data": {
      "text/plain": [
       "True"
      ]
     },
     "execution_count": 64,
     "metadata": {},
     "output_type": "execute_result"
    }
   ],
   "source": [
    "# HIDDEN TEST\n",
    "round(new_errors[10], 1) == 17.1"
   ]
  },
  {
   "cell_type": "markdown",
   "id": "a9284c12",
   "metadata": {},
   "source": [
    "**Question 3.9.** The slope and intercept pair you found in Question 3.8 should be very similar to the values that you found in Question 3.3. Why were we able to minimize RMSE to find the same slope and intercept from the previous formulas? **(3 points)**\n",
    "\n",
    "```\n",
    "BEGIN QUESTION\n",
    "name: q3_9\n",
    "manual: true\n",
    "```"
   ]
  },
  {
   "cell_type": "markdown",
   "id": "50d5b4ca",
   "metadata": {},
   "source": [
    "**SOLUTION:** The regression line is the unique straight line (in other words, the unique slope/intercept pair) that minimizes RMSE. Therefore, we can also find the regression line by finding the slope and intercept values that minimize RMSE."
   ]
  },
  {
   "cell_type": "markdown",
   "id": "e2b1f74c",
   "metadata": {},
   "source": [
    "You're done with Homework 10!  \n",
    "\n",
    "**Important submission steps:** \n",
    "1. Run the tests and verify that they all pass.\n",
    "2. Choose **Save Notebook** from the **File** menu, then **run the final cell**. \n",
    "3. Click the link to download the zip file.\n",
    "4. Then submit the zip file to the corresponding assignment according to your instructor's directions. \n",
    "\n",
    "**It is your responsibility to make sure your work is saved before running the last cell.**"
   ]
  }
 ],
 "metadata": {
  "kernelspec": {
   "display_name": "Python 3 (ipykernel)",
   "language": "python",
   "name": "python3"
  },
  "language_info": {
   "codemirror_mode": {
    "name": "ipython",
    "version": 3
   },
   "file_extension": ".py",
   "mimetype": "text/x-python",
   "name": "python",
   "nbconvert_exporter": "python",
   "pygments_lexer": "ipython3",
   "version": "3.7.3"
  }
 },
 "nbformat": 4,
 "nbformat_minor": 5
}
