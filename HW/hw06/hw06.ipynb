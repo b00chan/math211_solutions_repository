{
 "cells": [
  {
   "cell_type": "markdown",
   "id": "52f7dc17",
   "metadata": {},
   "source": [
    "```\n",
    "BEGIN ASSIGNMENT \n",
    "init_cell: true \n",
    "export_cell: true \n",
    "files:\n",
    "    - roulette_wheel.csv\n",
    "    - roulette_wheel.jpeg\n",
    "    - top_movies_2017.csv\n",
    "    - d8error.py\n",
    "    - errorConfig.json\n",
    "export_cell:\n",
    "    pdf: false\n",
    "    force_save: false\n",
    "solutions_pdf: true\n",
    "template_pdf: true\n",
    "generate:\n",
    "    points_possible: 87.0\n",
    "    show_stdout: true\n",
    "    filtering: true\n",
    "    pagebreaks: true\n",
    "    zips: false\n",
    "```\n"
   ]
  },
  {
   "cell_type": "markdown",
   "id": "cf4257e7",
   "metadata": {},
   "source": [
    "# Homework 6: Probability, Simulation, Estimation, and Assessing Models\n",
    "\n",
    "Please complete this notebook by filling in the cells provided. Before you begin, execute the previous cell to load the provided tests."
   ]
  },
  {
   "cell_type": "markdown",
   "id": "48894156",
   "metadata": {},
   "source": [
    "**Helpful Resource:**\n",
    "- [Python Reference](http://data8.org/sp22/python-reference.html): Cheat sheet of helpful array & table methods used in Data 8!\n",
    "\n",
    "**Recommended Readings**: \n",
    "* [Randomness](https://www.inferentialthinking.com/chapters/09/Randomness.html)\n",
    "* [Sampling and Empirical Distributions](https://www.inferentialthinking.com/chapters/10/Sampling_and_Empirical_Distributions.html)\n",
    "* [Testing Hypotheses](https://www.inferentialthinking.com/chapters/11/Testing_Hypotheses.html)"
   ]
  },
  {
   "cell_type": "markdown",
   "id": "efe3c3fb",
   "metadata": {},
   "source": [
    "Please complete this notebook by filling in the cells provided. Before you begin, execute the following cell to setup the notebook by importing some helpful libraries. Each time you start your server, you will need to execute this cell again.\n",
    "\n",
    "For all problems that you must write explanations and sentences for, you **must** provide your answer in the designated space. **Moreover, throughout this homework and all future ones, please be sure to not re-assign variables throughout the notebook!** For example, if you use `max_temperature` in your answer to one question, do not reassign it later on. Otherwise, you will fail tests that you thought you were passing previously!\n",
    "\n",
    "\n",
    "**Note: This homework has hidden tests on it. That means even though the tests may say 100% passed, it doesn't mean your final grade will be 100%. We will be running more tests for correctness once everyone turns in the homework.**\n",
    "\n",
    "\n",
    "Directly sharing answers is not okay, but discussing problems with the course staff or with other students is encouraged. \n",
    "\n",
    "You should start early so that you have time to get help if you're stuck."
   ]
  },
  {
   "cell_type": "markdown",
   "id": "ae5c5119",
   "metadata": {},
   "source": [
    "## 1. Roulette"
   ]
  },
  {
   "cell_type": "code",
   "execution_count": 1,
   "id": "bccae788",
   "metadata": {
    "execution": {
     "iopub.execute_input": "2022-02-27T07:01:08.707564Z",
     "iopub.status.busy": "2022-02-27T07:01:08.706492Z",
     "iopub.status.idle": "2022-02-27T07:01:10.245324Z",
     "shell.execute_reply": "2022-02-27T07:01:10.244675Z"
    }
   },
   "outputs": [],
   "source": [
    "# Run this cell to set up the notebook, but please don't change it.\n",
    "\n",
    "# These lines import the Numpy and Datascience modules.\n",
    "import numpy as np\n",
    "from datascience import *\n",
    "import d8error\n",
    "\n",
    "# These lines do some fancy plotting magic.\n",
    "import matplotlib\n",
    "%matplotlib inline\n",
    "import matplotlib.pyplot as plt\n",
    "plt.style.use('fivethirtyeight')\n",
    "import warnings\n",
    "warnings.simplefilter('ignore', FutureWarning)"
   ]
  },
  {
   "cell_type": "markdown",
   "id": "51b00ef3",
   "metadata": {},
   "source": [
    "A Nevada roulette wheel has 38 pockets and a small ball that rests on the wheel. When the wheel is spun, the ball comes to rest in one of the 38 pockets. That pocket is declared the winner. \n",
    "\n",
    "The pockets are labeled 0, 00, 1, 2, 3, 4, ... , 36. Pockets 0 and 00 are green, and the other pockets are alternately red and black. The table `wheel` is a representation of a Nevada roulette wheel. **Note that *both* columns consist of strings.** Below is an example of a roulette wheel!"
   ]
  },
  {
   "cell_type": "markdown",
   "id": "98d11d4d",
   "metadata": {},
   "source": [
    "<img src=\"roulette_wheel.jpeg\" width=\"330px\">"
   ]
  },
  {
   "cell_type": "markdown",
   "id": "7401de83",
   "metadata": {},
   "source": [
    "Run the cell below to load the `wheel` table."
   ]
  },
  {
   "cell_type": "code",
   "execution_count": 2,
   "id": "f5f3d7b0",
   "metadata": {
    "execution": {
     "iopub.execute_input": "2022-02-27T07:01:10.251261Z",
     "iopub.status.busy": "2022-02-27T07:01:10.250631Z",
     "iopub.status.idle": "2022-02-27T07:01:10.260957Z",
     "shell.execute_reply": "2022-02-27T07:01:10.261439Z"
    }
   },
   "outputs": [
    {
     "data": {
      "text/html": [
       "<table border=\"1\" class=\"dataframe\">\n",
       "    <thead>\n",
       "        <tr>\n",
       "            <th>Pocket</th> <th>Color</th>\n",
       "        </tr>\n",
       "    </thead>\n",
       "    <tbody>\n",
       "        <tr>\n",
       "            <td>00    </td> <td>green</td>\n",
       "        </tr>\n",
       "        <tr>\n",
       "            <td>0     </td> <td>green</td>\n",
       "        </tr>\n",
       "        <tr>\n",
       "            <td>1     </td> <td>red  </td>\n",
       "        </tr>\n",
       "        <tr>\n",
       "            <td>2     </td> <td>black</td>\n",
       "        </tr>\n",
       "        <tr>\n",
       "            <td>3     </td> <td>red  </td>\n",
       "        </tr>\n",
       "        <tr>\n",
       "            <td>4     </td> <td>black</td>\n",
       "        </tr>\n",
       "        <tr>\n",
       "            <td>5     </td> <td>red  </td>\n",
       "        </tr>\n",
       "        <tr>\n",
       "            <td>6     </td> <td>black</td>\n",
       "        </tr>\n",
       "        <tr>\n",
       "            <td>7     </td> <td>red  </td>\n",
       "        </tr>\n",
       "        <tr>\n",
       "            <td>8     </td> <td>black</td>\n",
       "        </tr>\n",
       "    </tbody>\n",
       "</table>\n",
       "<p>... (28 rows omitted)</p>"
      ],
      "text/plain": [
       "Pocket | Color\n",
       "00     | green\n",
       "0      | green\n",
       "1      | red\n",
       "2      | black\n",
       "3      | red\n",
       "4      | black\n",
       "5      | red\n",
       "6      | black\n",
       "7      | red\n",
       "8      | black\n",
       "... (28 rows omitted)"
      ]
     },
     "execution_count": 2,
     "metadata": {},
     "output_type": "execute_result"
    }
   ],
   "source": [
    "wheel = Table.read_table('roulette_wheel.csv', dtype=str)\n",
    "wheel"
   ]
  },
  {
   "cell_type": "markdown",
   "id": "7f827b72",
   "metadata": {},
   "source": [
    "### Betting on Red ###\n",
    "If you bet on *red*, you are betting that the winning pocket will be red. This bet *pays 1 to 1*. That means if you place a one-dollar bet on red, then:\n",
    "\n",
    "- If the winning pocket is red, you gain 1 dollar. That is, you get your original dollar back, plus one more dollar.\n",
    "- if the winning pocket is not red, you lose your dollar. In other words, you gain -1 dollars.\n",
    "\n",
    "Let's see if you can make money by betting on red at roulette."
   ]
  },
  {
   "cell_type": "markdown",
   "id": "f6b740d2",
   "metadata": {},
   "source": [
    "**Question 1.** Define a function `dollar_bet_on_red` that takes the name of a color and returns your gain in dollars if that color had won and you had placed a one-dollar bet on red. Remember that the gain can be negative. Make sure your function returns an integer. **(4 points)**\n",
    "\n",
    "*Note:* You can assume that the only colors that will be passed as arguments are red, black, and green. Your function doesn't have to check that.\n",
    "\n",
    "```\n",
    "BEGIN QUESTION\n",
    "name: q1_1\n",
    "manual: false\n",
    "points:\n",
    " - 2\n",
    " - 2\n",
    "```"
   ]
  },
  {
   "cell_type": "code",
   "execution_count": 3,
   "id": "5cff4cb2",
   "metadata": {
    "execution": {
     "iopub.execute_input": "2022-02-27T07:01:10.266520Z",
     "iopub.status.busy": "2022-02-27T07:01:10.266026Z",
     "iopub.status.idle": "2022-02-27T07:01:10.268709Z",
     "shell.execute_reply": "2022-02-27T07:01:10.268286Z"
    }
   },
   "outputs": [],
   "source": [
    "\"\"\" # BEGIN PROMPT\n",
    "def dollar_bet_on_red(...):\n",
    "    ...\n",
    "\"\"\"; # END PROMPT\n",
    "# BEGIN SOLUTION NO PROMPT\n",
    "def dollar_bet_on_red(color):\n",
    "    if color == 'red':\n",
    "        return 1\n",
    "    else:\n",
    "        return -1\n",
    "# END SOLUTION"
   ]
  },
  {
   "cell_type": "code",
   "execution_count": 4,
   "id": "fb34838e",
   "metadata": {
    "execution": {
     "iopub.execute_input": "2022-02-27T07:01:10.273258Z",
     "iopub.status.busy": "2022-02-27T07:01:10.272742Z",
     "iopub.status.idle": "2022-02-27T07:01:10.275898Z",
     "shell.execute_reply": "2022-02-27T07:01:10.275439Z"
    }
   },
   "outputs": [
    {
     "data": {
      "text/plain": [
       "True"
      ]
     },
     "execution_count": 4,
     "metadata": {},
     "output_type": "execute_result"
    }
   ],
   "source": [
    "# TEST\n",
    "dollar_bet_on_red('red') == 1"
   ]
  },
  {
   "cell_type": "code",
   "execution_count": 5,
   "id": "c56c61c0",
   "metadata": {
    "execution": {
     "iopub.execute_input": "2022-02-27T07:01:10.280343Z",
     "iopub.status.busy": "2022-02-27T07:01:10.279807Z",
     "iopub.status.idle": "2022-02-27T07:01:10.283405Z",
     "shell.execute_reply": "2022-02-27T07:01:10.282919Z"
    }
   },
   "outputs": [
    {
     "data": {
      "text/plain": [
       "True"
      ]
     },
     "execution_count": 5,
     "metadata": {},
     "output_type": "execute_result"
    }
   ],
   "source": [
    "# HIDDEN TEST\n",
    "dollar_bet_on_red('green') == -1"
   ]
  },
  {
   "cell_type": "markdown",
   "id": "0759da9c",
   "metadata": {},
   "source": [
    "Run the cell below to make sure your function is working."
   ]
  },
  {
   "cell_type": "code",
   "execution_count": 6,
   "id": "6bf9f6e3",
   "metadata": {
    "execution": {
     "iopub.execute_input": "2022-02-27T07:01:10.287937Z",
     "iopub.status.busy": "2022-02-27T07:01:10.287457Z",
     "iopub.status.idle": "2022-02-27T07:01:10.289972Z",
     "shell.execute_reply": "2022-02-27T07:01:10.289503Z"
    }
   },
   "outputs": [
    {
     "name": "stdout",
     "output_type": "stream",
     "text": [
      "-1\n",
      "-1\n",
      "1\n"
     ]
    }
   ],
   "source": [
    "print(dollar_bet_on_red('green'))\n",
    "print(dollar_bet_on_red('black'))\n",
    "print(dollar_bet_on_red('red'))"
   ]
  },
  {
   "cell_type": "markdown",
   "id": "ac64a920",
   "metadata": {},
   "source": [
    "**Question 2.** Add a column labeled `Winnings: Red` to the table `wheel`. For each pocket, the column should contain your gain in dollars if that pocket won and you had bet one dollar on red. Your code should use the function `dollar_bet_on_red`. **(4 points)**\n",
    "\n",
    "```\n",
    "BEGIN QUESTION\n",
    "name: q1_2\n",
    "manual: false\n",
    "points:\n",
    " - 0\n",
    " - 4\n",
    "```"
   ]
  },
  {
   "cell_type": "code",
   "execution_count": 7,
   "id": "d326864d",
   "metadata": {
    "execution": {
     "iopub.execute_input": "2022-02-27T07:01:10.295863Z",
     "iopub.status.busy": "2022-02-27T07:01:10.295377Z",
     "iopub.status.idle": "2022-02-27T07:01:10.298076Z",
     "shell.execute_reply": "2022-02-27T07:01:10.298429Z"
    },
    "scrolled": true
   },
   "outputs": [
    {
     "data": {
      "text/html": [
       "<table border=\"1\" class=\"dataframe\">\n",
       "    <thead>\n",
       "        <tr>\n",
       "            <th>Pocket</th> <th>Color</th> <th>Winnings: Red</th>\n",
       "        </tr>\n",
       "    </thead>\n",
       "    <tbody>\n",
       "        <tr>\n",
       "            <td>00    </td> <td>green</td> <td>-1           </td>\n",
       "        </tr>\n",
       "        <tr>\n",
       "            <td>0     </td> <td>green</td> <td>-1           </td>\n",
       "        </tr>\n",
       "        <tr>\n",
       "            <td>1     </td> <td>red  </td> <td>1            </td>\n",
       "        </tr>\n",
       "        <tr>\n",
       "            <td>2     </td> <td>black</td> <td>-1           </td>\n",
       "        </tr>\n",
       "        <tr>\n",
       "            <td>3     </td> <td>red  </td> <td>1            </td>\n",
       "        </tr>\n",
       "        <tr>\n",
       "            <td>4     </td> <td>black</td> <td>-1           </td>\n",
       "        </tr>\n",
       "        <tr>\n",
       "            <td>5     </td> <td>red  </td> <td>1            </td>\n",
       "        </tr>\n",
       "        <tr>\n",
       "            <td>6     </td> <td>black</td> <td>-1           </td>\n",
       "        </tr>\n",
       "        <tr>\n",
       "            <td>7     </td> <td>red  </td> <td>1            </td>\n",
       "        </tr>\n",
       "        <tr>\n",
       "            <td>8     </td> <td>black</td> <td>-1           </td>\n",
       "        </tr>\n",
       "    </tbody>\n",
       "</table>\n",
       "<p>... (28 rows omitted)</p>"
      ],
      "text/plain": [
       "Pocket | Color | Winnings: Red\n",
       "00     | green | -1\n",
       "0      | green | -1\n",
       "1      | red   | 1\n",
       "2      | black | -1\n",
       "3      | red   | 1\n",
       "4      | black | -1\n",
       "5      | red   | 1\n",
       "6      | black | -1\n",
       "7      | red   | 1\n",
       "8      | black | -1\n",
       "... (28 rows omitted)"
      ]
     },
     "execution_count": 7,
     "metadata": {},
     "output_type": "execute_result"
    }
   ],
   "source": [
    "red_winnings = wheel.apply(dollar_bet_on_red, 'Color') # SOLUTION\n",
    "wheel = wheel.with_columns('Winnings: Red', red_winnings) # SOLUTION\n",
    "wheel"
   ]
  },
  {
   "cell_type": "code",
   "execution_count": 8,
   "id": "366eeceb",
   "metadata": {
    "execution": {
     "iopub.execute_input": "2022-02-27T07:01:10.302840Z",
     "iopub.status.busy": "2022-02-27T07:01:10.302318Z",
     "iopub.status.idle": "2022-02-27T07:01:10.304886Z",
     "shell.execute_reply": "2022-02-27T07:01:10.305292Z"
    }
   },
   "outputs": [
    {
     "data": {
      "text/plain": [
       "True"
      ]
     },
     "execution_count": 8,
     "metadata": {},
     "output_type": "execute_result"
    }
   ],
   "source": [
    "# TEST\n",
    "# Make sure your column names are correct\n",
    "wheel.labels[2] == \"Winnings: Red\""
   ]
  },
  {
   "cell_type": "code",
   "execution_count": 9,
   "id": "82a1f11a",
   "metadata": {
    "execution": {
     "iopub.execute_input": "2022-02-27T07:01:10.309887Z",
     "iopub.status.busy": "2022-02-27T07:01:10.309397Z",
     "iopub.status.idle": "2022-02-27T07:01:10.312506Z",
     "shell.execute_reply": "2022-02-27T07:01:10.312105Z"
    }
   },
   "outputs": [
    {
     "data": {
      "text/plain": [
       "True"
      ]
     },
     "execution_count": 9,
     "metadata": {},
     "output_type": "execute_result"
    }
   ],
   "source": [
    "# HIDDEN TEST\n",
    "sum(wheel.column(\"Winnings: Red\")) == -2"
   ]
  },
  {
   "cell_type": "markdown",
   "id": "eb661ee1",
   "metadata": {},
   "source": [
    "### Simulating 10 Bets on Red\n",
    "Roulette wheels are set up so that each time they are spun, the winning pocket is equally likely to be any of the 38 pockets regardless of the results of all other spins. Let's see what would happen if we decided to bet one dollar on red each round.\n",
    "\n",
    "**Question 3.** Create a table `ten_bets` by sampling the table `wheel` to simulate 10 spins of the roulette wheel. Your table should have the same three column labels as in `wheel`. Once you've created that table, set `sum_bets` to your net gain in all 10 bets, assuming that you bet one dollar on red each time. **(4 points)**\n",
    "\n",
    "*Hint:* It may be helpful to print out `ten_bets` after you create it!\n",
    "\n",
    "```\n",
    "BEGIN QUESTION\n",
    "name: q1_3\n",
    "manual: false\n",
    "points:\n",
    " - 0\n",
    " - 4\n",
    "```"
   ]
  },
  {
   "cell_type": "code",
   "execution_count": 10,
   "id": "3b003632",
   "metadata": {
    "execution": {
     "iopub.execute_input": "2022-02-27T07:01:10.317383Z",
     "iopub.status.busy": "2022-02-27T07:01:10.314765Z",
     "iopub.status.idle": "2022-02-27T07:01:10.319998Z",
     "shell.execute_reply": "2022-02-27T07:01:10.320357Z"
    }
   },
   "outputs": [
    {
     "data": {
      "text/plain": [
       "4"
      ]
     },
     "execution_count": 10,
     "metadata": {},
     "output_type": "execute_result"
    }
   ],
   "source": [
    "ten_bets = wheel.sample(10) # SOLUTION\n",
    "\"\"\" # BEGIN PROMPT\n",
    "sum_bets = ...(ten_bets.column('Winnings: Red'))\n",
    "\"\"\"; # END PROMPT\n",
    "# BEGIN SOLUTION NO PROMPT\n",
    "sum_bets = sum(ten_bets.column('Winnings: Red'))\n",
    "# END SOLUTION\n",
    "sum_bets"
   ]
  },
  {
   "cell_type": "code",
   "execution_count": 11,
   "id": "c4333ff0",
   "metadata": {
    "execution": {
     "iopub.execute_input": "2022-02-27T07:01:10.324907Z",
     "iopub.status.busy": "2022-02-27T07:01:10.324430Z",
     "iopub.status.idle": "2022-02-27T07:01:10.327135Z",
     "shell.execute_reply": "2022-02-27T07:01:10.327553Z"
    }
   },
   "outputs": [
    {
     "data": {
      "text/plain": [
       "True"
      ]
     },
     "execution_count": 11,
     "metadata": {},
     "output_type": "execute_result"
    }
   ],
   "source": [
    "# TEST\n",
    "# If this test isn't passing, try running the cells from the top.\n",
    "set([\"Pocket\", \"Color\", \"Winnings: Red\"]) == set(ten_bets.labels)"
   ]
  },
  {
   "cell_type": "code",
   "execution_count": 12,
   "id": "e7ac6276",
   "metadata": {
    "execution": {
     "iopub.execute_input": "2022-02-27T07:01:10.331695Z",
     "iopub.status.busy": "2022-02-27T07:01:10.331263Z",
     "iopub.status.idle": "2022-02-27T07:01:10.334853Z",
     "shell.execute_reply": "2022-02-27T07:01:10.334390Z"
    }
   },
   "outputs": [
    {
     "data": {
      "text/plain": [
       "True"
      ]
     },
     "execution_count": 12,
     "metadata": {},
     "output_type": "execute_result"
    }
   ],
   "source": [
    "# HIDDEN TEST\n",
    "ten_bets.num_rows == 10"
   ]
  },
  {
   "cell_type": "markdown",
   "id": "25fc30ee",
   "metadata": {},
   "source": [
    "Run the cells above a few times to see how much money you would make if you made 10 one-dollar bets on red. Making a negative amount of money doesn't feel good, but it is a reality in gambling. Casinos are a business, and they make money when gamblers lose."
   ]
  },
  {
   "cell_type": "markdown",
   "id": "0b03719b",
   "metadata": {},
   "source": [
    "**Question 4.** Let's see what would happen if you made more bets. Define a function `net_gain_red` that takes the number of bets and returns the net gain in that number of one-dollar bets on red. **(4 points)**\n",
    "\n",
    "*Hint:* You should use your `wheel` table within your function.\n",
    "\n",
    "```\n",
    "BEGIN QUESTION\n",
    "name: q1_4\n",
    "manual: false\n",
    "points:\n",
    " - 0\n",
    " - 4\n",
    "```"
   ]
  },
  {
   "cell_type": "code",
   "execution_count": 13,
   "id": "ab0304f3",
   "metadata": {
    "execution": {
     "iopub.execute_input": "2022-02-27T07:01:10.339738Z",
     "iopub.status.busy": "2022-02-27T07:01:10.339230Z",
     "iopub.status.idle": "2022-02-27T07:01:10.341526Z",
     "shell.execute_reply": "2022-02-27T07:01:10.341924Z"
    }
   },
   "outputs": [],
   "source": [
    "\"\"\" # BEGIN PROMPT\n",
    "def net_gain_red(...):\n",
    "    ...\n",
    "\"\"\"; # END PROMPT\n",
    "# BEGIN SOLUTION NO PROMPT\n",
    "def net_gain_red(num_bets):\n",
    "    all_bets = wheel.sample(num_bets)\n",
    "    return sum(all_bets.column('Winnings: Red'))\n",
    "# END SOLUTION"
   ]
  },
  {
   "cell_type": "code",
   "execution_count": 14,
   "id": "b90a5c4e",
   "metadata": {
    "execution": {
     "iopub.execute_input": "2022-02-27T07:01:10.345891Z",
     "iopub.status.busy": "2022-02-27T07:01:10.345424Z",
     "iopub.status.idle": "2022-02-27T07:01:10.435046Z",
     "shell.execute_reply": "2022-02-27T07:01:10.435432Z"
    }
   },
   "outputs": [
    {
     "data": {
      "text/plain": [
       "True"
      ]
     },
     "execution_count": 14,
     "metadata": {},
     "output_type": "execute_result"
    }
   ],
   "source": [
    "# TEST\n",
    "net_gain_red(10000) != net_gain_red(10000)"
   ]
  },
  {
   "cell_type": "code",
   "execution_count": 15,
   "id": "e5630d36",
   "metadata": {
    "execution": {
     "iopub.execute_input": "2022-02-27T07:01:10.451788Z",
     "iopub.status.busy": "2022-02-27T07:01:10.438879Z",
     "iopub.status.idle": "2022-02-27T07:01:10.461755Z",
     "shell.execute_reply": "2022-02-27T07:01:10.462220Z"
    }
   },
   "outputs": [
    {
     "data": {
      "text/plain": [
       "True"
      ]
     },
     "execution_count": 15,
     "metadata": {},
     "output_type": "execute_result"
    }
   ],
   "source": [
    "# HIDDEN TEST\n",
    "-10000 <= net_gain_red(10000) <= 10000"
   ]
  },
  {
   "cell_type": "markdown",
   "id": "4a0f25b8",
   "metadata": {},
   "source": [
    "Run the cell below a few times to make sure that the results are similar to those you observed in the previous exercise."
   ]
  },
  {
   "cell_type": "code",
   "execution_count": 16,
   "id": "78926cac",
   "metadata": {
    "execution": {
     "iopub.execute_input": "2022-02-27T07:01:10.467435Z",
     "iopub.status.busy": "2022-02-27T07:01:10.466912Z",
     "iopub.status.idle": "2022-02-27T07:01:10.469903Z",
     "shell.execute_reply": "2022-02-27T07:01:10.469502Z"
    }
   },
   "outputs": [
    {
     "data": {
      "text/plain": [
       "0"
      ]
     },
     "execution_count": 16,
     "metadata": {},
     "output_type": "execute_result"
    }
   ],
   "source": [
    "net_gain_red(10)"
   ]
  },
  {
   "cell_type": "markdown",
   "id": "258eee34",
   "metadata": {},
   "source": [
    "**Question 5.** Complete the cell below to simulate the net gain in 200 one-dollar bets on red, repeating the process 10,000 times. After the cell is run, `all_gains_red` should be an array with 10,000 entries, each of which is the net gain in 200 one-dollar bets on red. **(4 points)**\n",
    "\n",
    "*Hint:* Think about which computational tool might be helpful for simulating a process multiple times. Lab 5 might be a good resource to look at!\n",
    "\n",
    "*Note:* This cell might take a few seconds to run.\n",
    "\n",
    "```\n",
    "BEGIN QUESTION\n",
    "name: q1_5\n",
    "manual: false\n",
    "points:\n",
    " - 0\n",
    " - 4\n",
    "```"
   ]
  },
  {
   "cell_type": "code",
   "execution_count": 17,
   "id": "c0bcea19",
   "metadata": {
    "execution": {
     "iopub.execute_input": "2022-02-27T07:01:10.482677Z",
     "iopub.status.busy": "2022-02-27T07:01:10.481816Z",
     "iopub.status.idle": "2022-02-27T07:01:14.645566Z",
     "shell.execute_reply": "2022-02-27T07:01:14.645024Z"
    }
   },
   "outputs": [
    {
     "data": {
      "text/plain": [
       "10000"
      ]
     },
     "execution_count": 17,
     "metadata": {},
     "output_type": "execute_result"
    }
   ],
   "source": [
    "num_bets = 200 # SOLUTION\n",
    "repetitions = 10000 # SOLUTION\n",
    "\n",
    "all_gains_red = make_array() # SOLUTION\n",
    "# BEGIN SOLUTION\n",
    "for i in np.arange(repetitions):\n",
    "    new_net_gain = net_gain_red(num_bets)\n",
    "    all_gains_red = np.append(all_gains_red, new_net_gain)\n",
    "# END SOLUTION\n",
    "\n",
    "len(all_gains_red) # Do not change this line! Check that all_gains_red is length 10000."
   ]
  },
  {
   "cell_type": "code",
   "execution_count": 18,
   "id": "5af0e6ac",
   "metadata": {
    "execution": {
     "iopub.execute_input": "2022-02-27T07:01:14.651399Z",
     "iopub.status.busy": "2022-02-27T07:01:14.650675Z",
     "iopub.status.idle": "2022-02-27T07:01:14.655287Z",
     "shell.execute_reply": "2022-02-27T07:01:14.654832Z"
    }
   },
   "outputs": [
    {
     "data": {
      "text/plain": [
       "True"
      ]
     },
     "execution_count": 18,
     "metadata": {},
     "output_type": "execute_result"
    }
   ],
   "source": [
    "# TEST\n",
    "len(all_gains_red) == 10000"
   ]
  },
  {
   "cell_type": "code",
   "execution_count": 19,
   "id": "71f515c7",
   "metadata": {
    "execution": {
     "iopub.execute_input": "2022-02-27T07:01:14.659872Z",
     "iopub.status.busy": "2022-02-27T07:01:14.659413Z",
     "iopub.status.idle": "2022-02-27T07:01:14.662524Z",
     "shell.execute_reply": "2022-02-27T07:01:14.662872Z"
    }
   },
   "outputs": [
    {
     "data": {
      "text/plain": [
       "True"
      ]
     },
     "execution_count": 19,
     "metadata": {},
     "output_type": "execute_result"
    }
   ],
   "source": [
    "# HIDDEN TEST\n",
    "np.count_nonzero(all_gains_red <= 100) == 10000"
   ]
  },
  {
   "cell_type": "markdown",
   "id": "034609bf",
   "metadata": {},
   "source": [
    "Run the cell below to visualize the results of your simulation."
   ]
  },
  {
   "cell_type": "code",
   "execution_count": 20,
   "id": "7f9a3d38",
   "metadata": {
    "execution": {
     "iopub.execute_input": "2022-02-27T07:01:14.700790Z",
     "iopub.status.busy": "2022-02-27T07:01:14.700123Z",
     "iopub.status.idle": "2022-02-27T07:01:15.007968Z",
     "shell.execute_reply": "2022-02-27T07:01:15.007403Z"
    }
   },
   "outputs": [
    {
     "data": {
      "image/png": "[encoded data removed]",
      "text/plain": [
       "<Figure size 432x288 with 1 Axes>"
      ]
     },
     "metadata": {},
     "output_type": "display_data"
    }
   ],
   "source": [
    "gains = Table().with_columns('Net Gain on Red', all_gains_red)\n",
    "gains.hist(bins = np.arange(-80, 41, 4))"
   ]
  },
  {
   "cell_type": "markdown",
   "id": "869c284f",
   "metadata": {},
   "source": [
    "**Question 6:** Using the histogram above, decide whether the following statement is true or false:\n",
    "\n",
    ">If you make 200 one-dollar bets on red, your chance of losing money is more than 50%.\n",
    "\n",
    "Assign `loss_more_than_50` to either `True` or `False` depending on your answer to the question. **(4 points)**\n",
    "\n",
    "```\n",
    "BEGIN QUESTION\n",
    "name: q1_6\n",
    "manual: false\n",
    "points:\n",
    " - 0\n",
    " - 4\n",
    "```"
   ]
  },
  {
   "cell_type": "code",
   "execution_count": 21,
   "id": "841077d2",
   "metadata": {
    "execution": {
     "iopub.execute_input": "2022-02-27T07:01:15.012354Z",
     "iopub.status.busy": "2022-02-27T07:01:15.011807Z",
     "iopub.status.idle": "2022-02-27T07:01:15.014415Z",
     "shell.execute_reply": "2022-02-27T07:01:15.013865Z"
    }
   },
   "outputs": [],
   "source": [
    "loss_more_than_50 = True # SOLUTION"
   ]
  },
  {
   "cell_type": "code",
   "execution_count": 22,
   "id": "a245dbdb",
   "metadata": {
    "execution": {
     "iopub.execute_input": "2022-02-27T07:01:15.019030Z",
     "iopub.status.busy": "2022-02-27T07:01:15.018353Z",
     "iopub.status.idle": "2022-02-27T07:01:15.022158Z",
     "shell.execute_reply": "2022-02-27T07:01:15.021667Z"
    }
   },
   "outputs": [
    {
     "data": {
      "text/plain": [
       "True"
      ]
     },
     "execution_count": 22,
     "metadata": {},
     "output_type": "execute_result"
    }
   ],
   "source": [
    "# TEST\n",
    "type(loss_more_than_50) == bool"
   ]
  },
  {
   "cell_type": "code",
   "execution_count": 23,
   "id": "ca1b512b",
   "metadata": {
    "execution": {
     "iopub.execute_input": "2022-02-27T07:01:15.026217Z",
     "iopub.status.busy": "2022-02-27T07:01:15.025744Z",
     "iopub.status.idle": "2022-02-27T07:01:15.028921Z",
     "shell.execute_reply": "2022-02-27T07:01:15.029500Z"
    }
   },
   "outputs": [
    {
     "data": {
      "text/plain": [
       "True"
      ]
     },
     "execution_count": 23,
     "metadata": {},
     "output_type": "execute_result"
    }
   ],
   "source": [
    "# HIDDEN TEST\n",
    "loss_more_than_50 == True"
   ]
  },
  {
   "cell_type": "markdown",
   "id": "7d40adad",
   "metadata": {},
   "source": [
    "### Betting on a Split ###\n",
    "If betting on red doesn't seem like a good idea, maybe a gambler might want to try a different bet. A bet on a *split* is a bet on two consecutive numbers such as 5 and 6. This bets pays 17 to 1. That means if you place a one-dollar bet on the split 5 and 6, then:\n",
    "\n",
    "- If the winning pocket is either 5 or 6, your gain is 17 dollars.\n",
    "- If any other pocket wins, you lose your dollar, so your gain is -1 dollars.\n",
    "\n",
    "**Question 7.** Define a function `dollar_bet_on_split` that takes a pocket number and returns your gain in dollars if that pocket won and you had bet one dollar on the 5-6 split. **(4 points)**\n",
    "\n",
    "*Hint:* Remember that the pockets are represented as strings.\n",
    "\n",
    "```\n",
    "BEGIN QUESTION\n",
    "name: q1_7\n",
    "manual: false\n",
    "points:\n",
    " - 2\n",
    " - 1\n",
    " - 1\n",
    "```"
   ]
  },
  {
   "cell_type": "code",
   "execution_count": 24,
   "id": "1e282533",
   "metadata": {
    "execution": {
     "iopub.execute_input": "2022-02-27T07:01:15.034590Z",
     "iopub.status.busy": "2022-02-27T07:01:15.034089Z",
     "iopub.status.idle": "2022-02-27T07:01:15.036129Z",
     "shell.execute_reply": "2022-02-27T07:01:15.036546Z"
    }
   },
   "outputs": [],
   "source": [
    "\"\"\" # BEGIN PROMPT\n",
    "def dollar_bet_on_split(...):\n",
    "    ...\n",
    "\"\"\"; # END PROMPT\n",
    "# BEGIN SOLUTION NO PROMPT\n",
    "def dollar_bet_on_split(x): \n",
    "    if x == '5':\n",
    "        return 17\n",
    "    elif x == '6':\n",
    "        return 17\n",
    "    else:\n",
    "        return -1\n",
    "# END SOLUTION"
   ]
  },
  {
   "cell_type": "code",
   "execution_count": 25,
   "id": "fa9541e4",
   "metadata": {
    "execution": {
     "iopub.execute_input": "2022-02-27T07:01:15.040827Z",
     "iopub.status.busy": "2022-02-27T07:01:15.040358Z",
     "iopub.status.idle": "2022-02-27T07:01:15.043247Z",
     "shell.execute_reply": "2022-02-27T07:01:15.042794Z"
    }
   },
   "outputs": [
    {
     "data": {
      "text/plain": [
       "True"
      ]
     },
     "execution_count": 25,
     "metadata": {},
     "output_type": "execute_result"
    }
   ],
   "source": [
    "# TEST\n",
    "dollar_bet_on_split('5') == 17"
   ]
  },
  {
   "cell_type": "code",
   "execution_count": 26,
   "id": "21186f6d",
   "metadata": {
    "execution": {
     "iopub.execute_input": "2022-02-27T07:01:15.047729Z",
     "iopub.status.busy": "2022-02-27T07:01:15.047214Z",
     "iopub.status.idle": "2022-02-27T07:01:15.049792Z",
     "shell.execute_reply": "2022-02-27T07:01:15.050186Z"
    }
   },
   "outputs": [
    {
     "data": {
      "text/plain": [
       "True"
      ]
     },
     "execution_count": 26,
     "metadata": {},
     "output_type": "execute_result"
    }
   ],
   "source": [
    "# HIDDEN TEST\n",
    "dollar_bet_on_split('6') == 17"
   ]
  },
  {
   "cell_type": "code",
   "execution_count": 27,
   "id": "c0b893ae",
   "metadata": {
    "execution": {
     "iopub.execute_input": "2022-02-27T07:01:15.054505Z",
     "iopub.status.busy": "2022-02-27T07:01:15.054031Z",
     "iopub.status.idle": "2022-02-27T07:01:15.057022Z",
     "shell.execute_reply": "2022-02-27T07:01:15.057425Z"
    }
   },
   "outputs": [
    {
     "data": {
      "text/plain": [
       "True"
      ]
     },
     "execution_count": 27,
     "metadata": {},
     "output_type": "execute_result"
    }
   ],
   "source": [
    "# HIDDEN TEST\n",
    "dollar_bet_on_split('10') == -1"
   ]
  },
  {
   "cell_type": "markdown",
   "id": "86b92b5a",
   "metadata": {},
   "source": [
    "Run the cell below to check that your function is doing what it should."
   ]
  },
  {
   "cell_type": "code",
   "execution_count": 28,
   "id": "4f177203",
   "metadata": {
    "execution": {
     "iopub.execute_input": "2022-02-27T07:01:15.084432Z",
     "iopub.status.busy": "2022-02-27T07:01:15.083831Z",
     "iopub.status.idle": "2022-02-27T07:01:15.086660Z",
     "shell.execute_reply": "2022-02-27T07:01:15.086271Z"
    },
    "scrolled": true
   },
   "outputs": [
    {
     "name": "stdout",
     "output_type": "stream",
     "text": [
      "17\n",
      "17\n",
      "-1\n",
      "-1\n"
     ]
    }
   ],
   "source": [
    "print(dollar_bet_on_split('5'))\n",
    "print(dollar_bet_on_split('6'))\n",
    "print(dollar_bet_on_split('00'))\n",
    "print(dollar_bet_on_split('23'))"
   ]
  },
  {
   "cell_type": "markdown",
   "id": "dcaeb402",
   "metadata": {},
   "source": [
    "**Question 8.** Add a column `Winnings: Split` to the `wheel` table. For each pocket, the column should contain your gain in dollars if that pocket won and you had bet one dollar on the 5-6 split. **(4 points)**\n",
    "\n",
    "```\n",
    "BEGIN QUESTION\n",
    "name: q1_8\n",
    "manual: false\n",
    "points:\n",
    " - 0\n",
    " - 4\n",
    "```"
   ]
  },
  {
   "cell_type": "code",
   "execution_count": 29,
   "id": "924232df",
   "metadata": {
    "execution": {
     "iopub.execute_input": "2022-02-27T07:01:15.092146Z",
     "iopub.status.busy": "2022-02-27T07:01:15.091578Z",
     "iopub.status.idle": "2022-02-27T07:01:15.096137Z",
     "shell.execute_reply": "2022-02-27T07:01:15.095659Z"
    },
    "scrolled": true
   },
   "outputs": [
    {
     "data": {
      "text/html": [
       "<table border=\"1\" class=\"dataframe\">\n",
       "    <thead>\n",
       "        <tr>\n",
       "            <th>Pocket</th> <th>Color</th> <th>Winnings: Red</th> <th>Winnings: Split</th>\n",
       "        </tr>\n",
       "    </thead>\n",
       "    <tbody>\n",
       "        <tr>\n",
       "            <td>00    </td> <td>green</td> <td>-1           </td> <td>-1             </td>\n",
       "        </tr>\n",
       "        <tr>\n",
       "            <td>0     </td> <td>green</td> <td>-1           </td> <td>-1             </td>\n",
       "        </tr>\n",
       "        <tr>\n",
       "            <td>1     </td> <td>red  </td> <td>1            </td> <td>-1             </td>\n",
       "        </tr>\n",
       "        <tr>\n",
       "            <td>2     </td> <td>black</td> <td>-1           </td> <td>-1             </td>\n",
       "        </tr>\n",
       "        <tr>\n",
       "            <td>3     </td> <td>red  </td> <td>1            </td> <td>-1             </td>\n",
       "        </tr>\n",
       "    </tbody>\n",
       "</table>\n",
       "<p>... (33 rows omitted)</p>"
      ],
      "text/plain": [
       "<IPython.core.display.HTML object>"
      ]
     },
     "metadata": {},
     "output_type": "display_data"
    }
   ],
   "source": [
    "split_winnings = wheel.apply(dollar_bet_on_split, 'Pocket') # SOLUTION\n",
    "wheel = wheel.with_columns('Winnings: Split', split_winnings) # SOLUTION\n",
    "wheel.show(5) # Do not change this line."
   ]
  },
  {
   "cell_type": "code",
   "execution_count": 30,
   "id": "46024a44",
   "metadata": {
    "execution": {
     "iopub.execute_input": "2022-02-27T07:01:15.101049Z",
     "iopub.status.busy": "2022-02-27T07:01:15.100392Z",
     "iopub.status.idle": "2022-02-27T07:01:15.103715Z",
     "shell.execute_reply": "2022-02-27T07:01:15.103334Z"
    }
   },
   "outputs": [
    {
     "data": {
      "text/plain": [
       "True"
      ]
     },
     "execution_count": 30,
     "metadata": {},
     "output_type": "execute_result"
    }
   ],
   "source": [
    "# TEST\n",
    "# Make sure your column names are correct\n",
    "wheel.labels[3] == \"Winnings: Split\""
   ]
  },
  {
   "cell_type": "code",
   "execution_count": 31,
   "id": "51a93e9a",
   "metadata": {
    "execution": {
     "iopub.execute_input": "2022-02-27T07:01:15.108866Z",
     "iopub.status.busy": "2022-02-27T07:01:15.108241Z",
     "iopub.status.idle": "2022-02-27T07:01:15.111697Z",
     "shell.execute_reply": "2022-02-27T07:01:15.111162Z"
    }
   },
   "outputs": [
    {
     "data": {
      "text/plain": [
       "True"
      ]
     },
     "execution_count": 31,
     "metadata": {},
     "output_type": "execute_result"
    }
   ],
   "source": [
    "# HIDDEN TEST\n",
    "sum(wheel.column(\"Winnings: Split\")) == -2"
   ]
  },
  {
   "cell_type": "markdown",
   "id": "1b866bef",
   "metadata": {},
   "source": [
    "**Question 9.** Simulate the net gain in 200 one-dollar bets on the 5-6 split, repeating the process 10,000 times and saving your gains in the array `all_gains_split`. **(4 points)**\n",
    "\n",
    "*Hint:* Your code in Questions 4 and 5 may be helpful here!\n",
    "\n",
    "```\n",
    "BEGIN QUESTION\n",
    "name: q1_9\n",
    "manual: false\n",
    "points:\n",
    " - 0\n",
    " - 4\n",
    "```"
   ]
  },
  {
   "cell_type": "code",
   "execution_count": 32,
   "id": "1585524d",
   "metadata": {
    "execution": {
     "iopub.execute_input": "2022-02-27T07:01:15.122928Z",
     "iopub.status.busy": "2022-02-27T07:01:15.120246Z",
     "iopub.status.idle": "2022-02-27T07:01:20.885279Z",
     "shell.execute_reply": "2022-02-27T07:01:20.885661Z"
    },
    "scrolled": true
   },
   "outputs": [
    {
     "data": {
      "image/png": "[encoded data removed]",
      "text/plain": [
       "<Figure size 432x288 with 1 Axes>"
      ]
     },
     "metadata": {},
     "output_type": "display_data"
    }
   ],
   "source": [
    "all_gains_split = make_array() # SOLUTION\n",
    "\n",
    "# BEGIN SOLUTION\n",
    "def net_gain_split(n):\n",
    "    n_bets = wheel.sample(n)\n",
    "    return sum(n_bets.column('Winnings: Split'))\n",
    "    \n",
    "for i in np.arange(repetitions):\n",
    "    new_net_gain = net_gain_split(num_bets)\n",
    "    all_gains_split = np.append(all_gains_split, new_net_gain) \n",
    "# END SOLUTION\n",
    "\n",
    "# Do not change the two lines below\n",
    "gains = gains.with_columns('Net Gain on Split', all_gains_split)\n",
    "gains.hist(bins = np.arange(-200, 150, 20))"
   ]
  },
  {
   "cell_type": "code",
   "execution_count": 33,
   "id": "216aee97",
   "metadata": {
    "execution": {
     "iopub.execute_input": "2022-02-27T07:01:20.890571Z",
     "iopub.status.busy": "2022-02-27T07:01:20.888548Z",
     "iopub.status.idle": "2022-02-27T07:01:20.893293Z",
     "shell.execute_reply": "2022-02-27T07:01:20.893637Z"
    }
   },
   "outputs": [
    {
     "data": {
      "text/plain": [
       "True"
      ]
     },
     "execution_count": 33,
     "metadata": {},
     "output_type": "execute_result"
    }
   ],
   "source": [
    "# TEST\n",
    "len(all_gains_split) == 10000"
   ]
  },
  {
   "cell_type": "code",
   "execution_count": 34,
   "id": "97744d66",
   "metadata": {
    "execution": {
     "iopub.execute_input": "2022-02-27T07:01:20.899171Z",
     "iopub.status.busy": "2022-02-27T07:01:20.898497Z",
     "iopub.status.idle": "2022-02-27T07:01:20.901967Z",
     "shell.execute_reply": "2022-02-27T07:01:20.901410Z"
    }
   },
   "outputs": [
    {
     "data": {
      "text/plain": [
       "True"
      ]
     },
     "execution_count": 34,
     "metadata": {},
     "output_type": "execute_result"
    }
   ],
   "source": [
    "# HIDDEN TEST\n",
    "np.count_nonzero(all_gains_split >= -200) == 10000"
   ]
  },
  {
   "cell_type": "markdown",
   "id": "928c1e54",
   "metadata": {},
   "source": [
    "**Question 10.** Look carefully at the visualization above, and assign `histogram_statements` to an array of the numbers of each statement below that can be correctly inferred from the overlaid histogram. **(4 points)**\n",
    "\n",
    "1. If you bet one dollar 200 times on a split, your chance of losing money is more than 50%.\n",
    "2. If you bet one dollar 200 times in roulette, your chance of making more than 50 dollars is greater if you bet on a split each time than if you bet on red each time.\n",
    "3. If you bet one dollar 200 times in roulette, your chance of losing more than 50 dollars is greater if you bet on a split each time than if you bet on red each time.\n",
    "\n",
    "*Hint:* We've already seen one of these statements in a prior question.\n",
    "\n",
    "```\n",
    "BEGIN QUESTION\n",
    "name: q1_10\n",
    "manual: false\n",
    "points:\n",
    " - 0\n",
    " - 0\n",
    " - 4\n",
    "```"
   ]
  },
  {
   "cell_type": "code",
   "execution_count": 35,
   "id": "dd9645e0",
   "metadata": {
    "execution": {
     "iopub.execute_input": "2022-02-27T07:01:20.906442Z",
     "iopub.status.busy": "2022-02-27T07:01:20.904915Z",
     "iopub.status.idle": "2022-02-27T07:01:20.908692Z",
     "shell.execute_reply": "2022-02-27T07:01:20.908299Z"
    }
   },
   "outputs": [],
   "source": [
    "histogram_statements = make_array(1, 2, 3) # SOLUTION"
   ]
  },
  {
   "cell_type": "code",
   "execution_count": 36,
   "id": "350d6670",
   "metadata": {
    "execution": {
     "iopub.execute_input": "2022-02-27T07:01:20.913656Z",
     "iopub.status.busy": "2022-02-27T07:01:20.912949Z",
     "iopub.status.idle": "2022-02-27T07:01:20.916571Z",
     "shell.execute_reply": "2022-02-27T07:01:20.916196Z"
    }
   },
   "outputs": [
    {
     "data": {
      "text/plain": [
       "True"
      ]
     },
     "execution_count": 36,
     "metadata": {},
     "output_type": "execute_result"
    }
   ],
   "source": [
    "# TEST\n",
    "# Make sure histogram_statements is an array.\n",
    "import numpy as np\n",
    "type(histogram_statements) == np.ndarray"
   ]
  },
  {
   "cell_type": "code",
   "execution_count": 37,
   "id": "0f255d5f",
   "metadata": {
    "execution": {
     "iopub.execute_input": "2022-02-27T07:01:20.921264Z",
     "iopub.status.busy": "2022-02-27T07:01:20.919199Z",
     "iopub.status.idle": "2022-02-27T07:01:20.924508Z",
     "shell.execute_reply": "2022-02-27T07:01:20.924110Z"
    }
   },
   "outputs": [
    {
     "data": {
      "text/plain": [
       "True"
      ]
     },
     "execution_count": 37,
     "metadata": {},
     "output_type": "execute_result"
    }
   ],
   "source": [
    "# TEST\n",
    "# Make sure you have set histogram_statements to an array with at least 1 number\n",
    "1 <= histogram_statements.item(0) <= 3"
   ]
  },
  {
   "cell_type": "code",
   "execution_count": 38,
   "id": "bc0fa022",
   "metadata": {
    "execution": {
     "iopub.execute_input": "2022-02-27T07:01:20.929270Z",
     "iopub.status.busy": "2022-02-27T07:01:20.928753Z",
     "iopub.status.idle": "2022-02-27T07:01:20.932203Z",
     "shell.execute_reply": "2022-02-27T07:01:20.931684Z"
    }
   },
   "outputs": [
    {
     "data": {
      "text/plain": [
       "True"
      ]
     },
     "execution_count": 38,
     "metadata": {},
     "output_type": "execute_result"
    }
   ],
   "source": [
    "# HIDDEN TEST\n",
    "histogram_statements.item(0) == 1 and histogram_statements.item(1) == 2 and histogram_statements.item(2) == 3"
   ]
  },
  {
   "cell_type": "markdown",
   "id": "3774ae11",
   "metadata": {},
   "source": [
    "If this exercise has put you off playing roulette, it has done its job. If you are still curious about other bets, [here](https://en.wikipedia.org/wiki/Roulette#Bet_odds_table) they all are, and [here](https://en.wikipedia.org/wiki/Roulette#House_edge) is the bad news. The house – that is, the casino – always has an edge over the gambler."
   ]
  },
  {
   "cell_type": "markdown",
   "id": "bd7cc984",
   "metadata": {},
   "source": [
    "## 2. Chances"
   ]
  },
  {
   "cell_type": "markdown",
   "id": "6ae59bf0",
   "metadata": {},
   "source": [
    "Before you do this exercise, make sure you understand the logic behind all the examples in [Section 9.5](https://inferentialthinking.com/chapters/09/5/Finding_Probabilities.html). \n",
    "\n",
    "Good ways to approach probability calculations include:\n",
    "\n",
    "- Thinking one trial at a time: What does the first one have to be? Then what does the next one have to be?\n",
    "- Breaking up the event into distinct ways in which it can happen.\n",
    "- Seeing if it is easier to find the chance that the event does not happen."
   ]
  },
  {
   "cell_type": "markdown",
   "id": "85977a6f",
   "metadata": {},
   "source": [
    "### Finding Chances\n",
    "\n",
    "On each spin of a roulette wheel, all 38 pockets are equally likely to be the winner regardless of the results of other spins. Among the 38 pockets, 18 are red, 18 black, and 2 green. In each part below, write an expression that evaluates to the chance of the event described."
   ]
  },
  {
   "cell_type": "markdown",
   "id": "0cc0c1db",
   "metadata": {},
   "source": [
    "**Question 1.** The winning pocket is black on all of the first three spins. **(4 points)**\n",
    "\n",
    "```\n",
    "BEGIN QUESTION\n",
    "name: q2_1\n",
    "manual: false\n",
    "points:\n",
    " - 0\n",
    " - 4\n",
    "```"
   ]
  },
  {
   "cell_type": "code",
   "execution_count": 39,
   "id": "3f02ff31",
   "metadata": {
    "execution": {
     "iopub.execute_input": "2022-02-27T07:01:20.937159Z",
     "iopub.status.busy": "2022-02-27T07:01:20.936576Z",
     "iopub.status.idle": "2022-02-27T07:01:20.938631Z",
     "shell.execute_reply": "2022-02-27T07:01:20.939061Z"
    }
   },
   "outputs": [],
   "source": [
    "first_three_black = (18/38)**3 # SOLUTION"
   ]
  },
  {
   "cell_type": "code",
   "execution_count": 40,
   "id": "ce9426f5",
   "metadata": {
    "execution": {
     "iopub.execute_input": "2022-02-27T07:01:20.943580Z",
     "iopub.status.busy": "2022-02-27T07:01:20.942970Z",
     "iopub.status.idle": "2022-02-27T07:01:20.946598Z",
     "shell.execute_reply": "2022-02-27T07:01:20.946182Z"
    }
   },
   "outputs": [
    {
     "data": {
      "text/plain": [
       "True"
      ]
     },
     "execution_count": 40,
     "metadata": {},
     "output_type": "execute_result"
    }
   ],
   "source": [
    "# TEST\n",
    "# Your probability output should be a value between 0 and 1.\n",
    "0 < first_three_black < 1"
   ]
  },
  {
   "cell_type": "code",
   "execution_count": 41,
   "id": "f9801510",
   "metadata": {
    "execution": {
     "iopub.execute_input": "2022-02-27T07:01:20.982108Z",
     "iopub.status.busy": "2022-02-27T07:01:20.981317Z",
     "iopub.status.idle": "2022-02-27T07:01:20.985162Z",
     "shell.execute_reply": "2022-02-27T07:01:20.984710Z"
    }
   },
   "outputs": [
    {
     "data": {
      "text/plain": [
       "0.10628371482723427"
      ]
     },
     "execution_count": 41,
     "metadata": {},
     "output_type": "execute_result"
    }
   ],
   "source": [
    "# HIDDEN TEST\n",
    "first_three_black"
   ]
  },
  {
   "cell_type": "markdown",
   "id": "5c153524",
   "metadata": {},
   "source": [
    "**Question 2.** The color green never wins in the first 10 spins. **(4 points)**\n",
    "\n",
    "```\n",
    "BEGIN QUESTION\n",
    "name: q2_2\n",
    "manual: false\n",
    "points:\n",
    " - 0\n",
    " - 4\n",
    "```"
   ]
  },
  {
   "cell_type": "code",
   "execution_count": 42,
   "id": "739f26d3",
   "metadata": {
    "execution": {
     "iopub.execute_input": "2022-02-27T07:01:20.989412Z",
     "iopub.status.busy": "2022-02-27T07:01:20.988918Z",
     "iopub.status.idle": "2022-02-27T07:01:20.991252Z",
     "shell.execute_reply": "2022-02-27T07:01:20.990857Z"
    }
   },
   "outputs": [],
   "source": [
    "no_green = (36/38)**10 # SOLUTION"
   ]
  },
  {
   "cell_type": "code",
   "execution_count": 43,
   "id": "d5437be8",
   "metadata": {
    "execution": {
     "iopub.execute_input": "2022-02-27T07:01:20.996014Z",
     "iopub.status.busy": "2022-02-27T07:01:20.995292Z",
     "iopub.status.idle": "2022-02-27T07:01:20.998639Z",
     "shell.execute_reply": "2022-02-27T07:01:20.998241Z"
    }
   },
   "outputs": [
    {
     "data": {
      "text/plain": [
       "True"
      ]
     },
     "execution_count": 43,
     "metadata": {},
     "output_type": "execute_result"
    }
   ],
   "source": [
    "# TEST\n",
    "# Your probability output should be a value between 0 and 1.\n",
    "0 < no_green < 1"
   ]
  },
  {
   "cell_type": "code",
   "execution_count": 44,
   "id": "39e1a188",
   "metadata": {
    "execution": {
     "iopub.execute_input": "2022-02-27T07:01:21.003358Z",
     "iopub.status.busy": "2022-02-27T07:01:21.002640Z",
     "iopub.status.idle": "2022-02-27T07:01:21.006051Z",
     "shell.execute_reply": "2022-02-27T07:01:21.005596Z"
    }
   },
   "outputs": [
    {
     "data": {
      "text/plain": [
       "True"
      ]
     },
     "execution_count": 44,
     "metadata": {},
     "output_type": "execute_result"
    }
   ],
   "source": [
    "# HIDDEN TEST\n",
    "0.582 < no_green < 0.583"
   ]
  },
  {
   "cell_type": "markdown",
   "id": "d6c1e096",
   "metadata": {},
   "source": [
    "**Question 3.** The color green wins at least once on the first 10 spins. **(4 points)**\n",
    "\n",
    "```\n",
    "BEGIN QUESTION\n",
    "name: q2_3\n",
    "manual: false\n",
    "points:\n",
    " - 0\n",
    " - 4\n",
    "```"
   ]
  },
  {
   "cell_type": "code",
   "execution_count": 45,
   "id": "ec68a0e6",
   "metadata": {
    "execution": {
     "iopub.execute_input": "2022-02-27T07:01:21.010085Z",
     "iopub.status.busy": "2022-02-27T07:01:21.009592Z",
     "iopub.status.idle": "2022-02-27T07:01:21.012033Z",
     "shell.execute_reply": "2022-02-27T07:01:21.011548Z"
    }
   },
   "outputs": [],
   "source": [
    "at_least_one_green = 1 - (36/38)**10 # SOLUTION"
   ]
  },
  {
   "cell_type": "code",
   "execution_count": 46,
   "id": "613d6fba",
   "metadata": {
    "execution": {
     "iopub.execute_input": "2022-02-27T07:01:21.016626Z",
     "iopub.status.busy": "2022-02-27T07:01:21.015857Z",
     "iopub.status.idle": "2022-02-27T07:01:21.018969Z",
     "shell.execute_reply": "2022-02-27T07:01:21.019348Z"
    }
   },
   "outputs": [
    {
     "data": {
      "text/plain": [
       "True"
      ]
     },
     "execution_count": 46,
     "metadata": {},
     "output_type": "execute_result"
    }
   ],
   "source": [
    "# TEST\n",
    "# Your probability output should be a value between 0 and 1.\n",
    "0 < at_least_one_green < 1"
   ]
  },
  {
   "cell_type": "code",
   "execution_count": 47,
   "id": "c78b742d",
   "metadata": {
    "execution": {
     "iopub.execute_input": "2022-02-27T07:01:21.023890Z",
     "iopub.status.busy": "2022-02-27T07:01:21.023171Z",
     "iopub.status.idle": "2022-02-27T07:01:21.027216Z",
     "shell.execute_reply": "2022-02-27T07:01:21.026514Z"
    }
   },
   "outputs": [
    {
     "data": {
      "text/plain": [
       "True"
      ]
     },
     "execution_count": 47,
     "metadata": {},
     "output_type": "execute_result"
    }
   ],
   "source": [
    "# HIDDEN TEST\n",
    "0.417643346770 <= at_least_one_green <= 0.417643346771"
   ]
  },
  {
   "cell_type": "markdown",
   "id": "e22f9966",
   "metadata": {},
   "source": [
    "**Question 4.** Two of the three colors never win in the first 10 spins. **(4 points)**\n",
    "\n",
    "*Hint:* Imagine the event with the colors red, yellow, and orange. What situation(s) lead to two of the three colors never winning in the first 10 spins?\n",
    "\n",
    "```\n",
    "BEGIN QUESTION\n",
    "name: q2_4\n",
    "manual: false\n",
    "points:\n",
    " - 0\n",
    " - 4\n",
    "```"
   ]
  },
  {
   "cell_type": "code",
   "execution_count": 48,
   "id": "6d6fd8b3",
   "metadata": {
    "execution": {
     "iopub.execute_input": "2022-02-27T07:01:21.032040Z",
     "iopub.status.busy": "2022-02-27T07:01:21.031350Z",
     "iopub.status.idle": "2022-02-27T07:01:21.034478Z",
     "shell.execute_reply": "2022-02-27T07:01:21.033937Z"
    }
   },
   "outputs": [],
   "source": [
    "lone_winners = (18/38)**10 + (18/38)**10 + (2/38)**10 # SOLUTION"
   ]
  },
  {
   "cell_type": "code",
   "execution_count": 49,
   "id": "c8a21242",
   "metadata": {
    "execution": {
     "iopub.execute_input": "2022-02-27T07:01:21.039337Z",
     "iopub.status.busy": "2022-02-27T07:01:21.038778Z",
     "iopub.status.idle": "2022-02-27T07:01:21.042324Z",
     "shell.execute_reply": "2022-02-27T07:01:21.041717Z"
    }
   },
   "outputs": [
    {
     "data": {
      "text/plain": [
       "True"
      ]
     },
     "execution_count": 49,
     "metadata": {},
     "output_type": "execute_result"
    }
   ],
   "source": [
    "# TEST\n",
    "# Your probability output should be a value between 0 and 1.\n",
    "0 < lone_winners < 1"
   ]
  },
  {
   "cell_type": "code",
   "execution_count": 50,
   "id": "e6feea2e",
   "metadata": {
    "execution": {
     "iopub.execute_input": "2022-02-27T07:01:21.047127Z",
     "iopub.status.busy": "2022-02-27T07:01:21.046424Z",
     "iopub.status.idle": "2022-02-27T07:01:21.081096Z",
     "shell.execute_reply": "2022-02-27T07:01:21.081615Z"
    }
   },
   "outputs": [
    {
     "data": {
      "text/plain": [
       "0.0011374153385028288"
      ]
     },
     "execution_count": 50,
     "metadata": {},
     "output_type": "execute_result"
    }
   ],
   "source": [
    "# HIDDEN TEST\n",
    "lone_winners"
   ]
  },
  {
   "cell_type": "markdown",
   "id": "054f4de1",
   "metadata": {},
   "source": [
    "### Comparing Chances\n",
    "In each of Questions 5-7, two events A and B are described. Choose from one of the following three options and set each answer variable to a single integer:\n",
    "\n",
    "1. Event A is more likely than Event B\n",
    "2. Event B is more likely than Event A\n",
    "3. The two events have the same chance.\n",
    "\n",
    "You should be able to make the choices **without calculation**. Good ways to approach this exercise include imagining carrying out the chance experiments yourself, one trial at a time, and by thinking about the [law of averages](https://inferentialthinking.com/chapters/10/1/Empirical_Distributions.html#the-law-of-averages)."
   ]
  },
  {
   "cell_type": "markdown",
   "id": "12a3316c",
   "metadata": {},
   "source": [
    "**Question 5.** A child picks four times at random from a box that has four toy animals: a bear, an elephant, a giraffe, and a kangaroo. **(4 points)**\n",
    "\n",
    "- Event A: all four different animals are picked (assuming the child picks without replacement)\n",
    "- Event B: all four different animals are picked (assuming the child picks with replacement)\n",
    "\n",
    "```\n",
    "BEGIN QUESTION\n",
    "name: q2_5\n",
    "manual: false\n",
    "points:\n",
    " - 0\n",
    " - 0\n",
    " - 4\n",
    "```"
   ]
  },
  {
   "cell_type": "code",
   "execution_count": 51,
   "id": "c22013d2",
   "metadata": {
    "execution": {
     "iopub.execute_input": "2022-02-27T07:01:21.087599Z",
     "iopub.status.busy": "2022-02-27T07:01:21.086494Z",
     "iopub.status.idle": "2022-02-27T07:01:21.089816Z",
     "shell.execute_reply": "2022-02-27T07:01:21.090229Z"
    }
   },
   "outputs": [],
   "source": [
    "toys_option = 1 # SOLUTION"
   ]
  },
  {
   "cell_type": "code",
   "execution_count": 52,
   "id": "b63120e8",
   "metadata": {
    "execution": {
     "iopub.execute_input": "2022-02-27T07:01:21.094912Z",
     "iopub.status.busy": "2022-02-27T07:01:21.094310Z",
     "iopub.status.idle": "2022-02-27T07:01:21.098087Z",
     "shell.execute_reply": "2022-02-27T07:01:21.097338Z"
    }
   },
   "outputs": [
    {
     "data": {
      "text/plain": [
       "True"
      ]
     },
     "execution_count": 52,
     "metadata": {},
     "output_type": "execute_result"
    }
   ],
   "source": [
    "# TEST\n",
    "# Make sure you are setting toys_option to an int\n",
    "type(toys_option) == int"
   ]
  },
  {
   "cell_type": "code",
   "execution_count": 53,
   "id": "1eecd4de",
   "metadata": {
    "execution": {
     "iopub.execute_input": "2022-02-27T07:01:21.102921Z",
     "iopub.status.busy": "2022-02-27T07:01:21.102269Z",
     "iopub.status.idle": "2022-02-27T07:01:21.106356Z",
     "shell.execute_reply": "2022-02-27T07:01:21.105892Z"
    }
   },
   "outputs": [
    {
     "data": {
      "text/plain": [
       "True"
      ]
     },
     "execution_count": 53,
     "metadata": {},
     "output_type": "execute_result"
    }
   ],
   "source": [
    "# TEST\n",
    "# toys_option should be assigned to either 1, 2 or 3.\n",
    "1 <= toys_option <= 3"
   ]
  },
  {
   "cell_type": "code",
   "execution_count": 54,
   "id": "20c9a9ed",
   "metadata": {
    "execution": {
     "iopub.execute_input": "2022-02-27T07:01:21.110903Z",
     "iopub.status.busy": "2022-02-27T07:01:21.110249Z",
     "iopub.status.idle": "2022-02-27T07:01:21.113452Z",
     "shell.execute_reply": "2022-02-27T07:01:21.113035Z"
    }
   },
   "outputs": [
    {
     "data": {
      "text/plain": [
       "True"
      ]
     },
     "execution_count": 54,
     "metadata": {},
     "output_type": "execute_result"
    }
   ],
   "source": [
    "# HIDDEN TEST\n",
    "toys_option == 1"
   ]
  },
  {
   "cell_type": "markdown",
   "id": "604c0799",
   "metadata": {},
   "source": [
    "**Question 6.** In a lottery, two numbers are drawn at random with replacement from the integers 1 through 1000. **(4 points)**\n",
    "\n",
    "- Event A: The number 8 is picked on both draws\n",
    "- Event B: The same number is picked on both draws\n",
    "\n",
    "```\n",
    "BEGIN QUESTION\n",
    "name: q2_6\n",
    "manual: false\n",
    "points:\n",
    " - 0\n",
    " - 0\n",
    " - 4\n",
    "```"
   ]
  },
  {
   "cell_type": "code",
   "execution_count": 55,
   "id": "8b20dcde",
   "metadata": {
    "execution": {
     "iopub.execute_input": "2022-02-27T07:01:21.117730Z",
     "iopub.status.busy": "2022-02-27T07:01:21.117177Z",
     "iopub.status.idle": "2022-02-27T07:01:21.119647Z",
     "shell.execute_reply": "2022-02-27T07:01:21.120044Z"
    }
   },
   "outputs": [],
   "source": [
    "lottery_option = 2 # SOLUTION"
   ]
  },
  {
   "cell_type": "code",
   "execution_count": 56,
   "id": "5d60fe97",
   "metadata": {
    "execution": {
     "iopub.execute_input": "2022-02-27T07:01:21.125376Z",
     "iopub.status.busy": "2022-02-27T07:01:21.124577Z",
     "iopub.status.idle": "2022-02-27T07:01:21.128556Z",
     "shell.execute_reply": "2022-02-27T07:01:21.128064Z"
    }
   },
   "outputs": [
    {
     "data": {
      "text/plain": [
       "True"
      ]
     },
     "execution_count": 56,
     "metadata": {},
     "output_type": "execute_result"
    }
   ],
   "source": [
    "# TEST\n",
    "# Make sure you are setting lottery_option to an int\n",
    "type(lottery_option) == int"
   ]
  },
  {
   "cell_type": "code",
   "execution_count": 57,
   "id": "e851b0dc",
   "metadata": {
    "execution": {
     "iopub.execute_input": "2022-02-27T07:01:21.133061Z",
     "iopub.status.busy": "2022-02-27T07:01:21.132498Z",
     "iopub.status.idle": "2022-02-27T07:01:21.135935Z",
     "shell.execute_reply": "2022-02-27T07:01:21.135448Z"
    }
   },
   "outputs": [
    {
     "data": {
      "text/plain": [
       "True"
      ]
     },
     "execution_count": 57,
     "metadata": {},
     "output_type": "execute_result"
    }
   ],
   "source": [
    "# TEST\n",
    "# toys_option should be assigned to either 1, 2 or 3.\n",
    "1 <= lottery_option <= 3"
   ]
  },
  {
   "cell_type": "code",
   "execution_count": 58,
   "id": "b0a0c869",
   "metadata": {
    "execution": {
     "iopub.execute_input": "2022-02-27T07:01:21.140706Z",
     "iopub.status.busy": "2022-02-27T07:01:21.140045Z",
     "iopub.status.idle": "2022-02-27T07:01:21.143484Z",
     "shell.execute_reply": "2022-02-27T07:01:21.142846Z"
    }
   },
   "outputs": [
    {
     "data": {
      "text/plain": [
       "True"
      ]
     },
     "execution_count": 58,
     "metadata": {},
     "output_type": "execute_result"
    }
   ],
   "source": [
    "# HIDDEN TEST\n",
    "lottery_option == 2"
   ]
  },
  {
   "cell_type": "markdown",
   "id": "b6331978",
   "metadata": {},
   "source": [
    "**Question 7.** A fair coin is tossed repeatedly. **(4 points)**\n",
    "\n",
    "- Event A: There are 60 or more heads in 100 tosses\n",
    "- Event B: There are 600 or more heads in 1000 tosses\n",
    "\n",
    "*Hint*: Think about the law of averages!\n",
    "\n",
    "```\n",
    "BEGIN QUESTION\n",
    "name: q2_7\n",
    "manual: false\n",
    "points:\n",
    " - 0\n",
    " - 0\n",
    " - 4\n",
    "```"
   ]
  },
  {
   "cell_type": "code",
   "execution_count": 59,
   "id": "8f050fa8",
   "metadata": {
    "execution": {
     "iopub.execute_input": "2022-02-27T07:01:21.147930Z",
     "iopub.status.busy": "2022-02-27T07:01:21.147425Z",
     "iopub.status.idle": "2022-02-27T07:01:21.181283Z",
     "shell.execute_reply": "2022-02-27T07:01:21.149734Z"
    }
   },
   "outputs": [],
   "source": [
    "coin_option = 1 # SOLUTION"
   ]
  },
  {
   "cell_type": "code",
   "execution_count": 60,
   "id": "24577a8b",
   "metadata": {
    "execution": {
     "iopub.execute_input": "2022-02-27T07:01:21.186460Z",
     "iopub.status.busy": "2022-02-27T07:01:21.185862Z",
     "iopub.status.idle": "2022-02-27T07:01:21.189183Z",
     "shell.execute_reply": "2022-02-27T07:01:21.188777Z"
    }
   },
   "outputs": [
    {
     "data": {
      "text/plain": [
       "True"
      ]
     },
     "execution_count": 60,
     "metadata": {},
     "output_type": "execute_result"
    }
   ],
   "source": [
    "# TEST\n",
    "# Make sure you are setting coin_option to an int\n",
    "type(coin_option) == int"
   ]
  },
  {
   "cell_type": "code",
   "execution_count": 61,
   "id": "75d0e848",
   "metadata": {
    "execution": {
     "iopub.execute_input": "2022-02-27T07:01:21.193479Z",
     "iopub.status.busy": "2022-02-27T07:01:21.192914Z",
     "iopub.status.idle": "2022-02-27T07:01:21.195628Z",
     "shell.execute_reply": "2022-02-27T07:01:21.196014Z"
    }
   },
   "outputs": [
    {
     "data": {
      "text/plain": [
       "True"
      ]
     },
     "execution_count": 61,
     "metadata": {},
     "output_type": "execute_result"
    }
   ],
   "source": [
    "# TEST\n",
    "1 <= coin_option <= 3"
   ]
  },
  {
   "cell_type": "code",
   "execution_count": 62,
   "id": "31fe4f58",
   "metadata": {
    "execution": {
     "iopub.execute_input": "2022-02-27T07:01:21.200047Z",
     "iopub.status.busy": "2022-02-27T07:01:21.199555Z",
     "iopub.status.idle": "2022-02-27T07:01:21.202348Z",
     "shell.execute_reply": "2022-02-27T07:01:21.202689Z"
    }
   },
   "outputs": [
    {
     "data": {
      "text/plain": [
       "True"
      ]
     },
     "execution_count": 62,
     "metadata": {},
     "output_type": "execute_result"
    }
   ],
   "source": [
    "# HIDDEN TEST\n",
    "coin_option == 1"
   ]
  },
  {
   "cell_type": "markdown",
   "id": "0010110c",
   "metadata": {},
   "source": [
    "## 3. Three Ways Python Draws Random Samples"
   ]
  },
  {
   "cell_type": "markdown",
   "id": "89a3d381",
   "metadata": {},
   "source": [
    "You have learned three ways to draw random samples using Python:\n",
    "\n",
    "- `tbl.sample` draws a random sample of rows from the table `tbl`. The output is a table consisting of the sampled rows. \n",
    "\n",
    "- `np.random.choice` draws a random sample from a population whose elements are in an array. The output is an array consisting of the sampled elements.\n",
    "\n",
    "- `sample_proportions` draws from a categorical distribution whose proportions are in an array. The output is an array consisting of the sampled proportions in all the categories. "
   ]
  },
  {
   "cell_type": "code",
   "execution_count": 63,
   "id": "210993f5",
   "metadata": {
    "execution": {
     "iopub.execute_input": "2022-02-27T07:01:21.207220Z",
     "iopub.status.busy": "2022-02-27T07:01:21.206667Z",
     "iopub.status.idle": "2022-02-27T07:01:21.214603Z",
     "shell.execute_reply": "2022-02-27T07:01:21.215047Z"
    }
   },
   "outputs": [
    {
     "data": {
      "text/html": [
       "<table border=\"1\" class=\"dataframe\">\n",
       "    <thead>\n",
       "        <tr>\n",
       "            <th>Title</th> <th>Studio</th>\n",
       "        </tr>\n",
       "    </thead>\n",
       "    <tbody>\n",
       "        <tr>\n",
       "            <td>Gone with the Wind</td> <td>MGM   </td>\n",
       "        </tr>\n",
       "        <tr>\n",
       "            <td>Star Wars         </td> <td>Fox   </td>\n",
       "        </tr>\n",
       "        <tr>\n",
       "            <td>The Sound of Music</td> <td>Fox   </td>\n",
       "        </tr>\n",
       "    </tbody>\n",
       "</table>\n",
       "<p>... (197 rows omitted)</p>"
      ],
      "text/plain": [
       "<IPython.core.display.HTML object>"
      ]
     },
     "metadata": {},
     "output_type": "display_data"
    }
   ],
   "source": [
    "# Look through this code and run this cell for questions 1 and 2\n",
    "top = Table.read_table('top_movies_2017.csv').select(0, 1)\n",
    "top.show(3)"
   ]
  },
  {
   "cell_type": "code",
   "execution_count": 64,
   "id": "76e7a268",
   "metadata": {
    "execution": {
     "iopub.execute_input": "2022-02-27T07:01:21.229664Z",
     "iopub.status.busy": "2022-02-27T07:01:21.229049Z",
     "iopub.status.idle": "2022-02-27T07:01:21.233271Z",
     "shell.execute_reply": "2022-02-27T07:01:21.232854Z"
    }
   },
   "outputs": [
    {
     "data": {
      "text/html": [
       "<table border=\"1\" class=\"dataframe\">\n",
       "    <thead>\n",
       "        <tr>\n",
       "            <th>Studio</th> <th>count</th>\n",
       "        </tr>\n",
       "    </thead>\n",
       "    <tbody>\n",
       "        <tr>\n",
       "            <td>Buena Vista    </td> <td>35   </td>\n",
       "        </tr>\n",
       "        <tr>\n",
       "            <td>Warner Brothers</td> <td>29   </td>\n",
       "        </tr>\n",
       "        <tr>\n",
       "            <td>Paramount      </td> <td>25   </td>\n",
       "        </tr>\n",
       "    </tbody>\n",
       "</table>\n",
       "<p>... (20 rows omitted)</p>"
      ],
      "text/plain": [
       "<IPython.core.display.HTML object>"
      ]
     },
     "metadata": {},
     "output_type": "display_data"
    }
   ],
   "source": [
    "# Look through this code and run this cell for questions 1 and 2\n",
    "studios_with_counts = top.group('Studio').sort('count', descending=True)\n",
    "studios_with_counts.show(3)"
   ]
  },
  {
   "cell_type": "code",
   "execution_count": 65,
   "id": "7cfa4843",
   "metadata": {
    "execution": {
     "iopub.execute_input": "2022-02-27T07:01:21.238499Z",
     "iopub.status.busy": "2022-02-27T07:01:21.237969Z",
     "iopub.status.idle": "2022-02-27T07:01:21.240940Z",
     "shell.execute_reply": "2022-02-27T07:01:21.240562Z"
    }
   },
   "outputs": [
    {
     "name": "stdout",
     "output_type": "stream",
     "text": [
      "studios_of_all_movies: ['MGM' 'Fox' 'Fox' 'Universal' 'Paramount' 'Paramount' 'Universal' 'MGM'\n",
      " 'Warner Brothers' 'Disney'] ...\n",
      "\n",
      " distinct_studios: ['Buena Vista' 'Warner Brothers' 'Paramount' 'Fox' 'Universal' 'Disney'\n",
      " 'Columbia' 'MGM' 'United Artists' 'Newline' 'Paramount/Dreamworks' 'Sony'\n",
      " 'Dreamworks' 'Lionsgate' 'RKO' 'Tristar' 'AVCO' 'IFC' 'Metro' 'NM'\n",
      " 'Orion' 'Selz.' 'Sum.']\n"
     ]
    }
   ],
   "source": [
    "# Look through this code and run this cell for questions 1 and 2\n",
    "studios_of_all_movies = top.column('Studio')\n",
    "distinct_studios = studios_with_counts.column('Studio')\n",
    "\n",
    "print(\"studios_of_all_movies:\", studios_of_all_movies[:10], \"...\")\n",
    "print(\"\\n distinct_studios:\", distinct_studios)"
   ]
  },
  {
   "cell_type": "code",
   "execution_count": 66,
   "id": "fcadd4ea",
   "metadata": {
    "execution": {
     "iopub.execute_input": "2022-02-27T07:01:21.246482Z",
     "iopub.status.busy": "2022-02-27T07:01:21.246019Z",
     "iopub.status.idle": "2022-02-27T07:01:21.248614Z",
     "shell.execute_reply": "2022-02-27T07:01:21.248965Z"
    }
   },
   "outputs": [
    {
     "name": "stdout",
     "output_type": "stream",
     "text": [
      "studio_counts_only: [35 29 25 24 23 11  9  7  6  5  4  4  3  3  3  2  1  1  1  1  1  1  1]\n",
      "\n",
      " studio_proportions_only: [0.175 0.145 0.125 0.12  0.115 0.055 0.045 0.035 0.03  0.025 0.02  0.02\n",
      " 0.015 0.015 0.015 0.01  0.005 0.005 0.005 0.005 0.005 0.005 0.005]\n"
     ]
    }
   ],
   "source": [
    "# Look through this code and run this cell for questions 1 and 2\n",
    "studio_counts_only = studios_with_counts.column('count')\n",
    "studio_proportions_only = studio_counts_only / sum(studio_counts_only)\n",
    "\n",
    "print(\"studio_counts_only:\", studio_counts_only)\n",
    "print(\"\\n studio_proportions_only:\", studio_proportions_only)"
   ]
  },
  {
   "cell_type": "markdown",
   "id": "d6bf0ebd",
   "metadata": {},
   "source": [
    "In Questions 1 and 2, we will present a scenario. Determine which three of the following six options are true in regards to what the question is asking, and list them in the following answer cell. If your answer includes any of (i)-(iii), state what you would fill in the blank to make it true: `top`, `studios_with_counts`, `studios_of_all_movies`, `distinct_studios`, `studio_counts_only` or `studio_proportions_only`.\n",
    "\n",
    "(i) This can be done using `sample` and the table _________.\n",
    "\n",
    "(ii) This can be done using `np.random.choice` and the array ________.\n",
    "\n",
    "(iii) This can be done using `sample_proportions` and the array _______.\n",
    "\n",
    "(iv) This cannot be done using `sample` and the data given.\n",
    "\n",
    "(v) This cannot be done using `np.random.choice` and the data given.\n",
    "\n",
    "(vi) This cannot be done using `sample_proportions` and the data given."
   ]
  },
  {
   "cell_type": "markdown",
   "id": "a532aa6c",
   "metadata": {},
   "source": [
    "**Question 1.** Simulate a sample of 10 movies drawn at random with replacement from the 200 movies. Outputs True if Paramount appears more often than Warner Brothers among studios that released the sampled movies, and False otherwise. **(4 points)**\n",
    "\n",
    "*Example Answer:* (i) studios_of_all_movies, (iii) top, (v)\n",
    "\n",
    "***Note***: Do not explain your answer for any of the options you've chosen; please follow the structure of the example answer provided.\n",
    "\n",
    "```\n",
    "BEGIN QUESTION\n",
    "name: q3_1\n",
    "manual: true\n",
    "```"
   ]
  },
  {
   "cell_type": "markdown",
   "id": "450e26fb",
   "metadata": {},
   "source": [
    "**SOLUTION:** (i) top, (ii) studios_of_all_movies, (iii) studio_proportions_only"
   ]
  },
  {
   "cell_type": "markdown",
   "id": "e43dfffd",
   "metadata": {},
   "source": [
    "**Question 2.** Simulate a sample of 10 movies drawn at random with replacement from the 200 movies. Outputs True if the first sampled movie was released by the same studio as the last sampled movie. **(4 points)**\n",
    "\n",
    "*Example Answer:* (i) studios_of_all_movies, (iii) top, (v)\n",
    "\n",
    "***Note***: Do not explain your answer for any of the options you've chosen; please follow the structure of the example answer provided.\n",
    "\n",
    "```\n",
    "BEGIN QUESTION\n",
    "name: q3_2\n",
    "manual: true\n",
    "```"
   ]
  },
  {
   "cell_type": "markdown",
   "id": "c386f9cd",
   "metadata": {},
   "source": [
    "**SOLUTION:** (i) top, (ii) studios_of_all_movies, (vi)"
   ]
  },
  {
   "cell_type": "markdown",
   "id": "824da0dc",
   "metadata": {
    "tags": []
   },
   "source": [
    "## 4. Assessing Jade's Models\n",
    "\n",
    "Before you begin, [Section 10.4](https://inferentialthinking.com/chapters/10/4/Random_Sampling_in_Python.html) of the textbook is a useful reference for this part."
   ]
  },
  {
   "cell_type": "markdown",
   "id": "9f7c745f",
   "metadata": {},
   "source": [
    "### Games with Jade\n",
    "Our friend Jade comes over and asks us to play a game with her. The game works like this: \n",
    "\n",
    "> We will draw randomly with replacement from a simplified 13 card deck with 4 face cards (A, J, Q, K), and 9 numbered cards (2, 3, 4, 5, 6, 7, 8, 9, 10). If we draw cards with replacement 13 times, and if the number of face cards is greater than or equal to 4, we lose.\n",
    "> \n",
    "> Otherwise, Jade loses.\n",
    "\n",
    "We play the game once and we lose, observing 8 total face cards. We are angry and accuse Jade of cheating! Jade is adamant, however, that the deck is fair.\n",
    "\n",
    "Jade's model claims that there is an equal chance of getting any of the cards (A, 2, 3, 4, 5, 6, 7, 8, 9, 10, J, Q, K), but we do not believe her. We believe that the deck is clearly rigged, with face cards (A, J, Q, K) being more likely than the numbered cards (2, 3, 4, 5, 6, 7, 8, 9, 10)."
   ]
  },
  {
   "cell_type": "markdown",
   "id": "9eebac6a",
   "metadata": {},
   "source": [
    "**Question 1.** Assign `deck_model_probabilities` to a two-item array containing the chance of drawing a face card as the first element, and the chance of drawing a numbered card as the second element under Jade's model. Since we're working with probabilities, make sure your values are between 0 and 1. **(4 Points)**\n",
    "\n",
    "```\n",
    "BEGIN QUESTION\n",
    "name: q4_1\n",
    "manual: false\n",
    "points:\n",
    " - 0\n",
    " - 0\n",
    " - 1\n",
    " - 3\n",
    "```"
   ]
  },
  {
   "cell_type": "code",
   "execution_count": 67,
   "id": "0b0ab0f1",
   "metadata": {
    "execution": {
     "iopub.execute_input": "2022-02-27T07:01:21.284311Z",
     "iopub.status.busy": "2022-02-27T07:01:21.281573Z",
     "iopub.status.idle": "2022-02-27T07:01:21.287312Z",
     "shell.execute_reply": "2022-02-27T07:01:21.287724Z"
    }
   },
   "outputs": [
    {
     "data": {
      "text/plain": [
       "array([0.30769231, 0.69230769])"
      ]
     },
     "execution_count": 67,
     "metadata": {},
     "output_type": "execute_result"
    }
   ],
   "source": [
    "deck_model_probabilities = make_array(4/13, 9/13) #SOLUTION\n",
    "deck_model_probabilities"
   ]
  },
  {
   "cell_type": "code",
   "execution_count": 68,
   "id": "f22fc39e",
   "metadata": {
    "execution": {
     "iopub.execute_input": "2022-02-27T07:01:21.292666Z",
     "iopub.status.busy": "2022-02-27T07:01:21.290583Z",
     "iopub.status.idle": "2022-02-27T07:01:21.296336Z",
     "shell.execute_reply": "2022-02-27T07:01:21.295863Z"
    }
   },
   "outputs": [
    {
     "data": {
      "text/plain": [
       "True"
      ]
     },
     "execution_count": 68,
     "metadata": {},
     "output_type": "execute_result"
    }
   ],
   "source": [
    "# TEST\n",
    "# The array should have length 2\n",
    "len(deck_model_probabilities) == 2"
   ]
  },
  {
   "cell_type": "code",
   "execution_count": 69,
   "id": "866443f4",
   "metadata": {
    "execution": {
     "iopub.execute_input": "2022-02-27T07:01:21.300895Z",
     "iopub.status.busy": "2022-02-27T07:01:21.300399Z",
     "iopub.status.idle": "2022-02-27T07:01:21.303195Z",
     "shell.execute_reply": "2022-02-27T07:01:21.303546Z"
    }
   },
   "outputs": [
    {
     "data": {
      "text/plain": [
       "True"
      ]
     },
     "execution_count": 69,
     "metadata": {},
     "output_type": "execute_result"
    }
   ],
   "source": [
    "# TEST\n",
    "# The elements in the array should add up to 1.\n",
    "sum(deck_model_probabilities) == 1"
   ]
  },
  {
   "cell_type": "code",
   "execution_count": 70,
   "id": "6f0e5f9a",
   "metadata": {
    "execution": {
     "iopub.execute_input": "2022-02-27T07:01:21.307848Z",
     "iopub.status.busy": "2022-02-27T07:01:21.307384Z",
     "iopub.status.idle": "2022-02-27T07:01:21.309938Z",
     "shell.execute_reply": "2022-02-27T07:01:21.310322Z"
    }
   },
   "outputs": [
    {
     "data": {
      "text/plain": [
       "True"
      ]
     },
     "execution_count": 70,
     "metadata": {},
     "output_type": "execute_result"
    }
   ],
   "source": [
    "# HIDDEN TEST\n",
    "deck_model_probabilities.item(0) == 4/13"
   ]
  },
  {
   "cell_type": "code",
   "execution_count": 71,
   "id": "311f740d",
   "metadata": {
    "execution": {
     "iopub.execute_input": "2022-02-27T07:01:21.315347Z",
     "iopub.status.busy": "2022-02-27T07:01:21.314525Z",
     "iopub.status.idle": "2022-02-27T07:01:21.317690Z",
     "shell.execute_reply": "2022-02-27T07:01:21.318082Z"
    }
   },
   "outputs": [
    {
     "data": {
      "text/plain": [
       "True"
      ]
     },
     "execution_count": 71,
     "metadata": {},
     "output_type": "execute_result"
    }
   ],
   "source": [
    "# HIDDEN TEST\n",
    "deck_model_probabilities.item(1) == 9/13"
   ]
  },
  {
   "cell_type": "markdown",
   "id": "d1c19bfc",
   "metadata": {},
   "source": [
    "**Question 2.** We believe Jade's model is incorrect. In particular, we believe there to be a *larger* chance of getting a face card. Which of the following statistics can we use during our simulation to test between the model and our alternative? Assign `statistic_choice` to the correct answer. **(5 Points)**\n",
    "\n",
    "1. The distance (absolute value) between the actual number of face cards in 13 draws and 4, the expected number of face cards in 13 draws\n",
    "2. The expected number of face cards in 13 draws, 4\n",
    "3. The number of face cards we get in 13 draws\n",
    "\n",
    "```\n",
    "BEGIN QUESTION\n",
    "name: q4_2\n",
    "manual: false\n",
    "points:\n",
    " - 0\n",
    " - 0\n",
    " - 5\n",
    "```"
   ]
  },
  {
   "cell_type": "code",
   "execution_count": 72,
   "id": "9d38bfd6",
   "metadata": {
    "execution": {
     "iopub.execute_input": "2022-02-27T07:01:21.322333Z",
     "iopub.status.busy": "2022-02-27T07:01:21.321836Z",
     "iopub.status.idle": "2022-02-27T07:01:21.324836Z",
     "shell.execute_reply": "2022-02-27T07:01:21.325222Z"
    }
   },
   "outputs": [
    {
     "data": {
      "text/plain": [
       "3"
      ]
     },
     "execution_count": 72,
     "metadata": {},
     "output_type": "execute_result"
    }
   ],
   "source": [
    "statistic_choice = 3 #SOLUTION\n",
    "statistic_choice"
   ]
  },
  {
   "cell_type": "code",
   "execution_count": 73,
   "id": "a5b47d9d",
   "metadata": {
    "execution": {
     "iopub.execute_input": "2022-02-27T07:01:21.329353Z",
     "iopub.status.busy": "2022-02-27T07:01:21.328867Z",
     "iopub.status.idle": "2022-02-27T07:01:21.331707Z",
     "shell.execute_reply": "2022-02-27T07:01:21.332078Z"
    }
   },
   "outputs": [
    {
     "data": {
      "text/plain": [
       "True"
      ]
     },
     "execution_count": 73,
     "metadata": {},
     "output_type": "execute_result"
    }
   ],
   "source": [
    "# TEST\n",
    "# Make sure you are setting statistic_choice to an int\n",
    "type(statistic_choice) == int"
   ]
  },
  {
   "cell_type": "code",
   "execution_count": 74,
   "id": "53dec88f",
   "metadata": {
    "execution": {
     "iopub.execute_input": "2022-02-27T07:01:21.336757Z",
     "iopub.status.busy": "2022-02-27T07:01:21.336273Z",
     "iopub.status.idle": "2022-02-27T07:01:21.339264Z",
     "shell.execute_reply": "2022-02-27T07:01:21.338749Z"
    }
   },
   "outputs": [
    {
     "data": {
      "text/plain": [
       "True"
      ]
     },
     "execution_count": 74,
     "metadata": {},
     "output_type": "execute_result"
    }
   ],
   "source": [
    "# TEST\n",
    "# statistic_choice should be assigned to either 1, 2 or 3.\n",
    "1 <= statistic_choice <= 3"
   ]
  },
  {
   "cell_type": "code",
   "execution_count": 75,
   "id": "0b4e2f40",
   "metadata": {
    "execution": {
     "iopub.execute_input": "2022-02-27T07:01:21.343063Z",
     "iopub.status.busy": "2022-02-27T07:01:21.342584Z",
     "iopub.status.idle": "2022-02-27T07:01:21.345961Z",
     "shell.execute_reply": "2022-02-27T07:01:21.345502Z"
    }
   },
   "outputs": [
    {
     "data": {
      "text/plain": [
       "True"
      ]
     },
     "execution_count": 75,
     "metadata": {},
     "output_type": "execute_result"
    }
   ],
   "source": [
    "# HIDDEN TEST\n",
    "statistic_choice == 3"
   ]
  },
  {
   "cell_type": "markdown",
   "id": "1f2f1a90",
   "metadata": {
    "deletable": false
   },
   "source": [
    "**Question 3.** Define the function `deck_simulation_and_statistic`, which, given a sample size and an array of model proportions (like the one you created in Question 1), returns the number of face cards in one simulation of drawing cards under the model specified in `model_proportions`. **(5 Points)**\n",
    "\n",
    "*Hint:* Think about how you can use the function `sample_proportions`. \n",
    "\n",
    "```\n",
    "BEGIN QUESTION\n",
    "name: q4_3\n",
    "manual: false\n",
    "points:\n",
    " - 5\n",
    "```"
   ]
  },
  {
   "cell_type": "code",
   "execution_count": 76,
   "id": "31a0c492",
   "metadata": {
    "execution": {
     "iopub.execute_input": "2022-02-27T07:01:21.388311Z",
     "iopub.status.busy": "2022-02-27T07:01:21.387627Z",
     "iopub.status.idle": "2022-02-27T07:01:21.392034Z",
     "shell.execute_reply": "2022-02-27T07:01:21.392428Z"
    }
   },
   "outputs": [
    {
     "data": {
      "text/plain": [
       "4.0"
      ]
     },
     "execution_count": 76,
     "metadata": {},
     "output_type": "execute_result"
    }
   ],
   "source": [
    "def deck_simulation_and_statistic(sample_size, model_proportions):\n",
    "    # BEGIN SOLUTION\n",
    "    simulation = sample_proportions(sample_size, model_proportions)\n",
    "    statistic = sample_size * simulation.item(0)\n",
    "    return statistic\n",
    "    # END SOLUTION\n",
    "\n",
    "deck_simulation_and_statistic(13, deck_model_probabilities)"
   ]
  },
  {
   "cell_type": "code",
   "execution_count": 77,
   "id": "fd43bbd2",
   "metadata": {
    "execution": {
     "iopub.execute_input": "2022-02-27T07:01:21.397336Z",
     "iopub.status.busy": "2022-02-27T07:01:21.396559Z",
     "iopub.status.idle": "2022-02-27T07:01:21.400365Z",
     "shell.execute_reply": "2022-02-27T07:01:21.399958Z"
    }
   },
   "outputs": [
    {
     "data": {
      "text/plain": [
       "True"
      ]
     },
     "execution_count": 77,
     "metadata": {},
     "output_type": "execute_result"
    }
   ],
   "source": [
    "# TEST \n",
    "# The statistic should be between 0 and 13 face cards for\n",
    "# a sample size of 13\n",
    "num_face = deck_simulation_and_statistic(13, deck_model_probabilities)\n",
    "0 <= num_face <= 13"
   ]
  },
  {
   "cell_type": "markdown",
   "id": "798a1150",
   "metadata": {},
   "source": [
    "**Question 4.** Use your function from above to simulate the drawing of 13 cards 5000 times under the proportions that you specified in Question 1. Keep track of all of your statistics in `deck_statistics`. **(5 Points)**\n",
    "\n",
    "```\n",
    "BEGIN QUESTION\n",
    "name: q4_4\n",
    "manual: false\n",
    "points:\n",
    " - 2\n",
    " - 3\n",
    "```"
   ]
  },
  {
   "cell_type": "code",
   "execution_count": 78,
   "id": "456092f6",
   "metadata": {
    "execution": {
     "iopub.execute_input": "2022-02-27T07:01:21.405889Z",
     "iopub.status.busy": "2022-02-27T07:01:21.404770Z",
     "iopub.status.idle": "2022-02-27T07:01:21.494869Z",
     "shell.execute_reply": "2022-02-27T07:01:21.494450Z"
    }
   },
   "outputs": [
    {
     "data": {
      "text/plain": [
       "array([2., 4., 1., ..., 5., 0., 3.])"
      ]
     },
     "execution_count": 78,
     "metadata": {},
     "output_type": "execute_result"
    }
   ],
   "source": [
    "repetitions = 5000 \n",
    "# BEGIN SOLUTION\n",
    "deck_statistics = make_array()\n",
    "\n",
    "for i in np.arange(repetitions): \n",
    "    one_deck_stat = deck_simulation_and_statistic(13, deck_model_probabilities)\n",
    "    deck_statistics = np.append(deck_statistics, one_deck_stat)\n",
    "\n",
    "# END SOLUTION\n",
    "\n",
    "deck_statistics"
   ]
  },
  {
   "cell_type": "code",
   "execution_count": 79,
   "id": "b514da93",
   "metadata": {
    "execution": {
     "iopub.execute_input": "2022-02-27T07:01:21.499964Z",
     "iopub.status.busy": "2022-02-27T07:01:21.499352Z",
     "iopub.status.idle": "2022-02-27T07:01:21.502041Z",
     "shell.execute_reply": "2022-02-27T07:01:21.502400Z"
    }
   },
   "outputs": [
    {
     "data": {
      "text/plain": [
       "True"
      ]
     },
     "execution_count": 79,
     "metadata": {},
     "output_type": "execute_result"
    }
   ],
   "source": [
    "# TEST\n",
    "# There should be exactly as many elements in deck_statistics\n",
    "# as the number 'repetitions'\n",
    "len(deck_statistics) == repetitions"
   ]
  },
  {
   "cell_type": "code",
   "execution_count": 80,
   "id": "fee9a993",
   "metadata": {
    "execution": {
     "iopub.execute_input": "2022-02-27T07:01:21.509333Z",
     "iopub.status.busy": "2022-02-27T07:01:21.508616Z",
     "iopub.status.idle": "2022-02-27T07:01:21.511939Z",
     "shell.execute_reply": "2022-02-27T07:01:21.511568Z"
    }
   },
   "outputs": [
    {
     "data": {
      "text/plain": [
       "True"
      ]
     },
     "execution_count": 80,
     "metadata": {},
     "output_type": "execute_result"
    }
   ],
   "source": [
    "# TEST\n",
    "# Each element of deck_statistics should be between 0\n",
    "# and 13 inclusive\n",
    "all([0 <= k <= 13 for k in deck_statistics])"
   ]
  },
  {
   "cell_type": "markdown",
   "id": "7108603e",
   "metadata": {},
   "source": [
    "Let’s take a look at the distribution of simulated statistics."
   ]
  },
  {
   "cell_type": "code",
   "execution_count": 81,
   "id": "280423f5",
   "metadata": {
    "execution": {
     "iopub.execute_input": "2022-02-27T07:01:21.536427Z",
     "iopub.status.busy": "2022-02-27T07:01:21.535886Z",
     "iopub.status.idle": "2022-02-27T07:01:21.768152Z",
     "shell.execute_reply": "2022-02-27T07:01:21.767555Z"
    }
   },
   "outputs": [
    {
     "data": {
      "image/png": "[encoded data removed]",
      "text/plain": [
       "<Figure size 432x288 with 1 Axes>"
      ]
     },
     "metadata": {},
     "output_type": "display_data"
    }
   ],
   "source": [
    "# Draw a distribution of statistics \n",
    "Table().with_column('Deck Statistics', deck_statistics).hist()"
   ]
  },
  {
   "cell_type": "markdown",
   "id": "25877c5f",
   "metadata": {},
   "source": [
    "**Question 5.** Given your observed value, do you believe that Jade's model is reasonable, or is our alternative (that our deck is rigged) more likely? Explain your answer using the histogram produced above. **(5 Points)**\n",
    "\n",
    "```\n",
    "BEGIN QUESTION\n",
    "name: q4_5\n",
    "manual: true\n",
    "```"
   ]
  },
  {
   "cell_type": "markdown",
   "id": "78cd3355",
   "metadata": {
    "manual_problem_id": "dice_and_coins_5"
   },
   "source": [
    "**SOLUTION:** \n",
    "\n",
    "No; given Jade's model, drawing 8 or more face cards happens around 2% of the time under simulation. This points us to think that our alternative, that the probability of drawing a face card is more than 4/13, is more likely."
   ]
  },
  {
   "cell_type": "markdown",
   "id": "43a9294c",
   "metadata": {},
   "source": [
    "**Important submission steps:** \n",
    "1. Run the tests and verify that they all pass.\n",
    "2. Choose **Save Notebook** from the **File** menu, then **run the final cell**. \n",
    "3. Click the link to download the zip file.\n",
    "4. Then submit the zip file to the corresponding assignment according to your instructor's directions. \n",
    "\n",
    "**It is your responsibility to make sure your work is saved before running the last cell.**"
   ]
  }
 ],
 "metadata": {
  "kernelspec": {
   "display_name": "Python 3 (ipykernel)",
   "language": "python",
   "name": "python3"
  },
  "language_info": {
   "codemirror_mode": {
    "name": "ipython",
    "version": 3
   },
   "file_extension": ".py",
   "mimetype": "text/x-python",
   "name": "python",
   "nbconvert_exporter": "python",
   "pygments_lexer": "ipython3",
   "version": "3.9.13"
  }
 },
 "nbformat": 4,
 "nbformat_minor": 5
}
