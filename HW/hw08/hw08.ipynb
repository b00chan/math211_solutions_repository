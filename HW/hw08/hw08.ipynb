{
 "cells": [
  {
   "cell_type": "markdown",
   "id": "d667dbe3",
   "metadata": {},
   "source": [
    "```\n",
    "BEGIN ASSIGNMENT \n",
    "init_cell: true \n",
    "export_cell: true \n",
    "files:\n",
    "    - votes.csv\n",
    "    - d8error.py\n",
    "    - errorConfig.json\n",
    "export_cell:\n",
    "    pdf: false\n",
    "    force_save: false\n",
    "solutions_pdf: true\n",
    "template_pdf: true\n",
    "generate:\n",
    "    points_possible: 81.0\n",
    "    show_stdout: true\n",
    "    filtering: true\n",
    "    pagebreaks: true\n",
    "    zips: false\n",
    "```\n"
   ]
  },
  {
   "cell_type": "markdown",
   "id": "4e7b9cee",
   "metadata": {},
   "source": [
    "# Homework 8: Confidence Intervals"
   ]
  },
  {
   "cell_type": "markdown",
   "id": "881c694a",
   "metadata": {},
   "source": [
    "**Helpful Resource:**\n",
    "\n",
    "- [Python Reference](http://data8.org/sp22/python-reference.html): Cheat sheet of helpful array & table methods used in Data 8!\n",
    "\n",
    "**Recommended Reading**: \n",
    "\n",
    "* [Estimation](https://www.inferentialthinking.com/chapters/13/Estimation)"
   ]
  },
  {
   "cell_type": "markdown",
   "id": "43c5d047",
   "metadata": {},
   "source": [
    "Please complete this notebook by filling in the cells provided. Before you begin, execute the following cell to setup the notebook by importing some helpful libraries. Each time you start your server, you will need to execute this cell again.\n",
    "\n",
    "For all problems that you must write explanations and sentences for, you **must** provide your answer in the designated space. **Moreover, throughout this homework and all future ones, please be sure to not re-assign variables throughout the notebook!** For example, if you use `max_temperature` in your answer to one question, do not reassign it later on. Otherwise, you will fail tests that you thought you were passing previously!\n",
    "\n",
    "\n",
    "**Note: This homework has hidden tests on it. That means even though the tests may say 100% passed, it doesn't mean your final grade will be 100%. We will be running more tests for correctness once everyone turns in the homework.**\n",
    "\n",
    "\n",
    "Directly sharing answers is not okay, but discussing problems with the course staff or with other students is encouraged. \n",
    "\n",
    "You should start early so that you have time to get help if you're stuck."
   ]
  },
  {
   "cell_type": "code",
   "execution_count": 1,
   "id": "bdccc152",
   "metadata": {
    "execution": {
     "iopub.execute_input": "2022-03-17T02:52:36.260634Z",
     "iopub.status.busy": "2022-03-17T02:52:36.259571Z",
     "iopub.status.idle": "2022-03-17T02:52:37.906957Z",
     "shell.execute_reply": "2022-03-17T02:52:37.906116Z"
    }
   },
   "outputs": [],
   "source": [
    "# Don't change this cell; just run it. \n",
    "\n",
    "import numpy as np\n",
    "from datascience import *\n",
    "import d8error\n",
    "\n",
    "# These lines do some fancy plotting magic.\",\n",
    "import matplotlib\n",
    "%matplotlib inline\n",
    "import matplotlib.pyplot as plt\n",
    "plt.style.use('fivethirtyeight')\n",
    "import warnings\n",
    "warnings.simplefilter('ignore', FutureWarning)"
   ]
  },
  {
   "cell_type": "markdown",
   "id": "c6693f4c",
   "metadata": {},
   "source": [
    "## 1. Thai Restaurants in Berkeley"
   ]
  },
  {
   "cell_type": "markdown",
   "id": "809e3576",
   "metadata": {},
   "source": [
    "Oswaldo and Varun are trying to see what the best Thai restaurant in Berkeley is. They survey 1,500 UC Berkeley students selected uniformly at random and ask each student what Thai restaurant is the best. (*Note: This data is fabricated for the purposes of this homework.*) The choices of Thai restaurants are [Lucky House](https://www.google.com/maps/place/Lucky+House+Thai+Cuisine/@37.8707428,-122.270045,15.32z/data=!4m5!3m4!1s0x80857e9e69a8c921:0x7b6d80f58406fb26!8m2!3d37.8721393!4d-122.2672699), [Imm Thai](https://www.google.com/maps/place/Imm+Thai+Street+Food/@37.8704926,-122.2687372,15.51z/data=!4m5!3m4!1s0x80857e9eec4f1e63:0x5f54d96f0dccdb72!8m2!3d37.8719079!4d-122.2691186), [Thai Temple](https://www.google.com/maps/place/Wat+Mongkolratanaram/@37.8689514,-122.2698649,14.75z/data=!4m5!3m4!1s0x80857e886e39daf1:0xe309caa1b5710fc0!8m2!3d37.8563633!4d-122.2707584), and [Thai Basil](https://www.google.com/maps/place/Thai+Basil/@37.8691911,-122.266539,15.37z/data=!4m5!3m4!1s0x80857c2f6ae0e2f1:0x6978b6e8a72d58d4!8m2!3d37.868327!4d-122.258081). After compiling the results, Oswaldo and Varun release the following percentages from their sample:\n",
    "\n",
    "|Thai Restaurant  | Percentage|\n",
    "|:------------:|:------------:|\n",
    "|Lucky House | 8% |\n",
    "|Imm Thai | 53% |\n",
    "|Thai Temple | 25% |\n",
    "|Thai Basil | 14% |\n",
    "\n",
    "These percentages represent a uniform random sample of the population of UC Berkeley students. We will attempt to estimate the corresponding *parameters*, or the percentage of the votes that each restaurant will receive from the population (i.e. all UC Berkeley students). We will use confidence intervals to compute a range of values that reflects the uncertainty of our estimates.\n",
    "\n",
    "The table `votes` contains the results of Oswaldo and Varun's survey."
   ]
  },
  {
   "cell_type": "code",
   "execution_count": 2,
   "id": "3cdc247d",
   "metadata": {
    "deletable": false,
    "editable": false,
    "execution": {
     "iopub.execute_input": "2022-03-17T02:52:37.911582Z",
     "iopub.status.busy": "2022-03-17T02:52:37.911334Z",
     "iopub.status.idle": "2022-03-17T02:52:37.924080Z",
     "shell.execute_reply": "2022-03-17T02:52:37.923238Z"
    }
   },
   "outputs": [
    {
     "data": {
      "text/html": [
       "<table border=\"1\" class=\"dataframe\">\n",
       "    <thead>\n",
       "        <tr>\n",
       "            <th>Vote</th>\n",
       "        </tr>\n",
       "    </thead>\n",
       "    <tbody>\n",
       "        <tr>\n",
       "            <td>Lucky House</td>\n",
       "        </tr>\n",
       "        <tr>\n",
       "            <td>Lucky House</td>\n",
       "        </tr>\n",
       "        <tr>\n",
       "            <td>Lucky House</td>\n",
       "        </tr>\n",
       "        <tr>\n",
       "            <td>Lucky House</td>\n",
       "        </tr>\n",
       "        <tr>\n",
       "            <td>Lucky House</td>\n",
       "        </tr>\n",
       "        <tr>\n",
       "            <td>Lucky House</td>\n",
       "        </tr>\n",
       "        <tr>\n",
       "            <td>Lucky House</td>\n",
       "        </tr>\n",
       "        <tr>\n",
       "            <td>Lucky House</td>\n",
       "        </tr>\n",
       "        <tr>\n",
       "            <td>Lucky House</td>\n",
       "        </tr>\n",
       "        <tr>\n",
       "            <td>Lucky House</td>\n",
       "        </tr>\n",
       "    </tbody>\n",
       "</table>\n",
       "<p>... (1490 rows omitted)</p>"
      ],
      "text/plain": [
       "Vote\n",
       "Lucky House\n",
       "Lucky House\n",
       "Lucky House\n",
       "Lucky House\n",
       "Lucky House\n",
       "Lucky House\n",
       "Lucky House\n",
       "Lucky House\n",
       "Lucky House\n",
       "Lucky House\n",
       "... (1490 rows omitted)"
      ]
     },
     "execution_count": 2,
     "metadata": {},
     "output_type": "execute_result"
    }
   ],
   "source": [
    "# Just run this cell\n",
    "votes = Table.read_table('votes.csv')\n",
    "votes"
   ]
  },
  {
   "cell_type": "markdown",
   "id": "bb523710",
   "metadata": {},
   "source": [
    "**Question 1.1.** Complete the function `one_resampled_percentage` below. It should return Imm Thai's ***percentage*** of votes after taking the original table (`tbl`) and performing one bootstrap sample of it. Reminder that a percentage is between 0 and 100. **(9 Points)**\n",
    "\n",
    "*Note:* `tbl` will always be in the same format as `votes`.\n",
    "\n",
    "*Hint:* Given a table of votes, how can you figure out what percentage of the votes are for a certain restaurant? **Be sure to use percentages, not proportions, for this question!**\n",
    "\n",
    "```\n",
    "BEGIN QUESTION\n",
    "name: q1_1\n",
    "manual: false\n",
    "points:\n",
    " - 0\n",
    " - 0\n",
    " - 2\n",
    " - 7\n",
    "```"
   ]
  },
  {
   "cell_type": "code",
   "execution_count": 3,
   "id": "97700273",
   "metadata": {
    "execution": {
     "iopub.execute_input": "2022-03-17T02:52:37.927730Z",
     "iopub.status.busy": "2022-03-17T02:52:37.927479Z",
     "iopub.status.idle": "2022-03-17T02:52:37.935303Z",
     "shell.execute_reply": "2022-03-17T02:52:37.934487Z"
    }
   },
   "outputs": [
    {
     "data": {
      "text/plain": [
       "52.0"
      ]
     },
     "execution_count": 3,
     "metadata": {},
     "output_type": "execute_result"
    }
   ],
   "source": [
    "def one_resampled_percentage(tbl):\n",
    "    # BEGIN SOLUTION\n",
    "    bootstrap = tbl.sample()\n",
    "    single_percentage = (np.count_nonzero(bootstrap.column('Vote') == 'Imm Thai') / tbl.num_rows) * 100 \n",
    "    return single_percentage\n",
    "    # END SOLUTION\n",
    "\n",
    "one_resampled_percentage(votes)"
   ]
  },
  {
   "cell_type": "code",
   "execution_count": 4,
   "id": "087aaf36",
   "metadata": {
    "execution": {
     "iopub.execute_input": "2022-03-17T02:52:37.938573Z",
     "iopub.status.busy": "2022-03-17T02:52:37.938354Z",
     "iopub.status.idle": "2022-03-17T02:52:37.945068Z",
     "shell.execute_reply": "2022-03-17T02:52:37.944446Z"
    }
   },
   "outputs": [
    {
     "data": {
      "text/plain": [
       "True"
      ]
     },
     "execution_count": 4,
     "metadata": {},
     "output_type": "execute_result"
    }
   ],
   "source": [
    "# TEST\n",
    "type(one_resampled_percentage(votes)) in set([float, np.float64]) "
   ]
  },
  {
   "cell_type": "code",
   "execution_count": 5,
   "id": "196c6610",
   "metadata": {
    "execution": {
     "iopub.execute_input": "2022-03-17T02:52:37.948320Z",
     "iopub.status.busy": "2022-03-17T02:52:37.948090Z",
     "iopub.status.idle": "2022-03-17T02:52:37.953960Z",
     "shell.execute_reply": "2022-03-17T02:52:37.953385Z"
    }
   },
   "outputs": [
    {
     "data": {
      "text/plain": [
       "False"
      ]
     },
     "execution_count": 5,
     "metadata": {},
     "output_type": "execute_result"
    }
   ],
   "source": [
    "# TEST\n",
    "# Remember, the question asks for a percentage, not a proportion. \n",
    "one_resampled_percentage(votes) <= 0"
   ]
  },
  {
   "cell_type": "code",
   "execution_count": 6,
   "id": "001a2fd8",
   "metadata": {
    "execution": {
     "iopub.execute_input": "2022-03-17T02:52:37.957184Z",
     "iopub.status.busy": "2022-03-17T02:52:37.956599Z",
     "iopub.status.idle": "2022-03-17T02:52:37.962950Z",
     "shell.execute_reply": "2022-03-17T02:52:37.962381Z"
    }
   },
   "outputs": [
    {
     "data": {
      "text/plain": [
       "True"
      ]
     },
     "execution_count": 6,
     "metadata": {},
     "output_type": "execute_result"
    }
   ],
   "source": [
    "# TEST\n",
    "35 <= one_resampled_percentage(votes) <= 65"
   ]
  },
  {
   "cell_type": "code",
   "execution_count": 7,
   "id": "a019a5b7",
   "metadata": {
    "execution": {
     "iopub.execute_input": "2022-03-17T02:52:37.965751Z",
     "iopub.status.busy": "2022-03-17T02:52:37.965556Z",
     "iopub.status.idle": "2022-03-17T02:52:37.980723Z",
     "shell.execute_reply": "2022-03-17T02:52:37.971550Z"
    }
   },
   "outputs": [
    {
     "data": {
      "text/plain": [
       "True"
      ]
     },
     "execution_count": 7,
     "metadata": {},
     "output_type": "execute_result"
    }
   ],
   "source": [
    "# HIDDEN TEST\n",
    "np.random.seed(123)\n",
    "np.isclose(one_resampled_percentage(votes), 52.400000000000006)"
   ]
  },
  {
   "cell_type": "markdown",
   "id": "5b0a59c8",
   "metadata": {},
   "source": [
    "**Question 1.2.** Complete the `percentages_in_resamples` function such that it simulates and returns an array of 2022 elements, where each element represents a bootstrapped estimate of the percentage of voters who will vote for Imm Thai. You should use the `one_resampled_percentage` function you wrote above. **(9 Points)**\n",
    "\n",
    "```\n",
    "BEGIN QUESTION\n",
    "name: q1_2\n",
    "manual: false\n",
    "points:\n",
    " - 0\n",
    " - 4\n",
    " - 5\n",
    "```"
   ]
  },
  {
   "cell_type": "code",
   "execution_count": 8,
   "id": "ff839d80",
   "metadata": {
    "execution": {
     "iopub.execute_input": "2022-03-17T02:52:37.985049Z",
     "iopub.status.busy": "2022-03-17T02:52:37.984764Z",
     "iopub.status.idle": "2022-03-17T02:52:37.988959Z",
     "shell.execute_reply": "2022-03-17T02:52:37.988393Z"
    },
    "for_assignment_type": "solution"
   },
   "outputs": [],
   "source": [
    "def percentages_in_resamples():\n",
    "    percentage_imm = make_array()\n",
    "    # BEGIN SOLUTION\n",
    "    for i in np.arange(2022):\n",
    "        single_percentage = one_resampled_percentage(votes)\n",
    "        percentage_imm = np.append(percentage_imm, single_percentage)\n",
    "    return percentage_imm\n",
    "    # END SOLUTION"
   ]
  },
  {
   "cell_type": "code",
   "execution_count": 9,
   "id": "326d7aad",
   "metadata": {
    "execution": {
     "iopub.execute_input": "2022-03-17T02:52:37.992231Z",
     "iopub.status.busy": "2022-03-17T02:52:37.991505Z",
     "iopub.status.idle": "2022-03-17T02:52:40.600544Z",
     "shell.execute_reply": "2022-03-17T02:52:40.599583Z"
    }
   },
   "outputs": [
    {
     "data": {
      "text/plain": [
       "True"
      ]
     },
     "execution_count": 9,
     "metadata": {},
     "output_type": "execute_result"
    }
   ],
   "source": [
    "# TEST\n",
    "len(percentages_in_resamples()) == 2022"
   ]
  },
  {
   "cell_type": "code",
   "execution_count": 10,
   "id": "82672fcc",
   "metadata": {
    "execution": {
     "iopub.execute_input": "2022-03-17T02:52:40.605048Z",
     "iopub.status.busy": "2022-03-17T02:52:40.604768Z",
     "iopub.status.idle": "2022-03-17T02:52:43.080698Z",
     "shell.execute_reply": "2022-03-17T02:52:43.079553Z"
    }
   },
   "outputs": [
    {
     "data": {
      "text/plain": [
       "True"
      ]
     },
     "execution_count": 10,
     "metadata": {},
     "output_type": "execute_result"
    }
   ],
   "source": [
    "# HIDDEN TEST\n",
    "np.random.seed(123)\n",
    "np.isclose(percentages_in_resamples().item(0), 52.400000000000006)"
   ]
  },
  {
   "cell_type": "code",
   "execution_count": 11,
   "id": "693a8a9e",
   "metadata": {
    "execution": {
     "iopub.execute_input": "2022-03-17T02:52:43.084125Z",
     "iopub.status.busy": "2022-03-17T02:52:43.083872Z",
     "iopub.status.idle": "2022-03-17T02:52:45.524115Z",
     "shell.execute_reply": "2022-03-17T02:52:45.523377Z"
    }
   },
   "outputs": [
    {
     "data": {
      "text/plain": [
       "True"
      ]
     },
     "execution_count": 11,
     "metadata": {},
     "output_type": "execute_result"
    }
   ],
   "source": [
    "# HIDDEN TEST\n",
    "np.random.seed(123)\n",
    "np.isclose(percentages_in_resamples().item(10), 51.33333333333333)"
   ]
  },
  {
   "cell_type": "markdown",
   "id": "9dcf8e9a",
   "metadata": {},
   "source": [
    "In the following cell, we run the function you just defined, `percentages_in_resamples`, and create a histogram of the calculated statistic for the 2022 bootstrap estimates of the percentage of voters who voted for Imm Thai. \n",
    "\n",
    "*Note:* This might take a few seconds to run."
   ]
  },
  {
   "cell_type": "code",
   "execution_count": 12,
   "id": "916c31fe",
   "metadata": {
    "execution": {
     "iopub.execute_input": "2022-03-17T02:52:45.527782Z",
     "iopub.status.busy": "2022-03-17T02:52:45.527447Z",
     "iopub.status.idle": "2022-03-17T02:52:48.263867Z",
     "shell.execute_reply": "2022-03-17T02:52:48.263199Z"
    }
   },
   "outputs": [
    {
     "data": {
      "image/png": "[encoded data removed]",
      "text/plain": [
       "<Figure size 432x288 with 1 Axes>"
      ]
     },
     "metadata": {},
     "output_type": "display_data"
    }
   ],
   "source": [
    "resampled_percentages = percentages_in_resamples()\n",
    "Table().with_column('Estimated Percentage', resampled_percentages).hist(\"Estimated Percentage\")"
   ]
  },
  {
   "cell_type": "markdown",
   "id": "76577c47",
   "metadata": {},
   "source": [
    "**Question 1.3.** Using the array `resampled_percentages`, find the values at the two edges of the middle 95% of the bootstrapped percentage estimates. Compute the lower and upper ends of the interval, named `imm_lower_bound` and `imm_upper_bound` respectively. **(9 Points)**\n",
    "\n",
    "*Hint:* If you are stuck on this question, try looking over [Chapter 13](https://inferentialthinking.com/chapters/13/Estimation.html) of the textbook.\n",
    "\n",
    "```\n",
    "BEGIN QUESTION\n",
    "name: q1_3\n",
    "manual: false\n",
    "points:\n",
    " - 0\n",
    " - 9\n",
    "```"
   ]
  },
  {
   "cell_type": "code",
   "execution_count": 13,
   "id": "799b9c6e",
   "metadata": {
    "deletable": false,
    "execution": {
     "iopub.execute_input": "2022-03-17T02:52:48.267121Z",
     "iopub.status.busy": "2022-03-17T02:52:48.266878Z",
     "iopub.status.idle": "2022-03-17T02:52:48.274373Z",
     "shell.execute_reply": "2022-03-17T02:52:48.273698Z"
    }
   },
   "outputs": [
    {
     "name": "stdout",
     "output_type": "stream",
     "text": [
      "Bootstrapped 95% confidence interval for the percentage of Imm Thai voters in the population: [50.53, 55.53]\n"
     ]
    }
   ],
   "source": [
    "imm_lower_bound = percentile(2.5, resampled_percentages) # SOLUTION\n",
    "imm_upper_bound = percentile(97.5, resampled_percentages) # SOLUTION\n",
    "print(f\"Bootstrapped 95% confidence interval for the percentage of Imm Thai voters in the population: [{imm_lower_bound:.2f}, {imm_upper_bound:.2f}]\")"
   ]
  },
  {
   "cell_type": "code",
   "execution_count": 14,
   "id": "be626434",
   "metadata": {
    "execution": {
     "iopub.execute_input": "2022-03-17T02:52:48.283523Z",
     "iopub.status.busy": "2022-03-17T02:52:48.283272Z",
     "iopub.status.idle": "2022-03-17T02:52:48.288799Z",
     "shell.execute_reply": "2022-03-17T02:52:48.287975Z"
    }
   },
   "outputs": [
    {
     "data": {
      "text/plain": [
       "True"
      ]
     },
     "execution_count": 14,
     "metadata": {},
     "output_type": "execute_result"
    }
   ],
   "source": [
    "# TEST\n",
    "45 <= imm_lower_bound <= imm_upper_bound <= 65"
   ]
  },
  {
   "cell_type": "code",
   "execution_count": 15,
   "id": "8fb435db",
   "metadata": {
    "execution": {
     "iopub.execute_input": "2022-03-17T02:52:48.292472Z",
     "iopub.status.busy": "2022-03-17T02:52:48.291917Z",
     "iopub.status.idle": "2022-03-17T02:52:48.299639Z",
     "shell.execute_reply": "2022-03-17T02:52:48.298920Z"
    }
   },
   "outputs": [
    {
     "data": {
      "text/plain": [
       "True"
      ]
     },
     "execution_count": 15,
     "metadata": {},
     "output_type": "execute_result"
    }
   ],
   "source": [
    "# HIDDEN TEST\n",
    "all([imm_lower_bound == percentile(2.5, resampled_percentages), imm_upper_bound == percentile(97.5, resampled_percentages)])"
   ]
  },
  {
   "cell_type": "markdown",
   "id": "878a097b",
   "metadata": {},
   "source": [
    "**Question 1.4.** The survey results seem to indicate that Imm Thai is beating all the other Thai restaurants among the voters. We would like to use confidence intervals to determine a range of likely values for Imm Thai's true lead over all the other restaurants combined. The calculation for Imm Thai's lead over Lucky House, Thai Temple, and Thai Basil combined is:\n",
    "\n",
    "$$\\text{Imm Thai's percent of the vote} - (\\text{100 percent} - \\text{Imm Thai's percent of vote})$$\n",
    "\n",
    "Define the function `one_resampled_difference` that returns **exactly one value** of Imm Thai's percentage lead over Lucky House, Thai Temple, and Thai Basil combined from one bootstrap sample of `tbl`. **(9 Points)**\n",
    "\n",
    "*Hint 1:* Imm Thai's lead can be negative.\n",
    "\n",
    "*Hint 2:* Given a table of votes, how can you figure out what percentage of the votes are for a certain restaurant? **Be sure to use percentages, not proportions, for this question!**\n",
    "\n",
    "*Note:* If the skeleton code provided within the function is not helpful for you, feel free to approach the question using your own variables.\n",
    "\n",
    "```\n",
    "BEGIN QUESTION\n",
    "name: q1_4\n",
    "manual: false\n",
    "points:\n",
    " - 0\n",
    " - 9\n",
    "```"
   ]
  },
  {
   "cell_type": "code",
   "execution_count": 16,
   "id": "4b0316ec",
   "metadata": {
    "execution": {
     "iopub.execute_input": "2022-03-17T02:52:48.303344Z",
     "iopub.status.busy": "2022-03-17T02:52:48.303122Z",
     "iopub.status.idle": "2022-03-17T02:52:48.307486Z",
     "shell.execute_reply": "2022-03-17T02:52:48.306802Z"
    }
   },
   "outputs": [],
   "source": [
    "def one_resampled_difference(tbl):\n",
    "    bootstrap = tbl.sample() #SOLUTION\n",
    "    imm_percentage = (np.count_nonzero(bootstrap.column('Vote') == 'Imm Thai') / tbl.num_rows) * 100 #SOLUTION\n",
    "    return imm_percentage - (100 - imm_percentage) #SOLUTION"
   ]
  },
  {
   "cell_type": "code",
   "execution_count": 17,
   "id": "4fdbe767",
   "metadata": {
    "execution": {
     "iopub.execute_input": "2022-03-17T02:52:48.311287Z",
     "iopub.status.busy": "2022-03-17T02:52:48.310361Z",
     "iopub.status.idle": "2022-03-17T02:52:48.318553Z",
     "shell.execute_reply": "2022-03-17T02:52:48.317793Z"
    }
   },
   "outputs": [
    {
     "data": {
      "text/plain": [
       "True"
      ]
     },
     "execution_count": 17,
     "metadata": {},
     "output_type": "execute_result"
    }
   ],
   "source": [
    "# TEST\n",
    "type(one_resampled_difference(votes)) in set([float, np.float64]) "
   ]
  },
  {
   "cell_type": "code",
   "execution_count": 18,
   "id": "a8f70909",
   "metadata": {
    "execution": {
     "iopub.execute_input": "2022-03-17T02:52:48.322524Z",
     "iopub.status.busy": "2022-03-17T02:52:48.321739Z",
     "iopub.status.idle": "2022-03-17T02:52:48.328732Z",
     "shell.execute_reply": "2022-03-17T02:52:48.328031Z"
    }
   },
   "outputs": [
    {
     "data": {
      "text/plain": [
       "True"
      ]
     },
     "execution_count": 18,
     "metadata": {},
     "output_type": "execute_result"
    }
   ],
   "source": [
    "# HIDDEN TEST\n",
    "np.random.seed(123)\n",
    "-6 <= float(one_resampled_difference(votes)) <= 15"
   ]
  },
  {
   "cell_type": "markdown",
   "id": "09067ccb",
   "metadata": {},
   "source": [
    "**Question 1.5.** Write a function called `leads_in_resamples` that returns an array of 2022 elements representing the bootstrapped estimates (the result of calling `one_resampled_difference`) of Imm Thai's lead over Lucky House, Thai Temple, and Thai Basil combined. Afterwards, run the cell to plot a histogram of the resulting samples. **(9 Points)**\n",
    "\n",
    "*Hint:* If you see an error involving `NoneType`, consider what components a function needs to have!\n",
    "\n",
    "```\n",
    "BEGIN QUESTION\n",
    "name: q1_5\n",
    "manual: true\n",
    "```"
   ]
  },
  {
   "cell_type": "code",
   "execution_count": 19,
   "id": "48e9428b",
   "metadata": {
    "execution": {
     "iopub.execute_input": "2022-03-17T02:52:48.332153Z",
     "iopub.status.busy": "2022-03-17T02:52:48.331774Z",
     "iopub.status.idle": "2022-03-17T02:52:50.990170Z",
     "shell.execute_reply": "2022-03-17T02:52:50.989326Z"
    },
    "for_assignment_type": "solution"
   },
   "outputs": [
    {
     "data": {
      "image/png": "[encoded data removed]",
      "text/plain": [
       "<Figure size 432x288 with 1 Axes>"
      ]
     },
     "metadata": {},
     "output_type": "display_data"
    }
   ],
   "source": [
    "def leads_in_resamples():\n",
    "    # BEGIN SOLUTION\n",
    "    leads = make_array()\n",
    "    for i in np.arange(2022):\n",
    "        bootstrap_lead = one_resampled_difference(votes)\n",
    "        leads = np.append(leads, bootstrap_lead)\n",
    "    return leads\n",
    "    # END SOLUTION\n",
    "\n",
    "sampled_leads = leads_in_resamples()\n",
    "Table().with_column('Estimated Lead', sampled_leads).hist(\"Estimated Lead\")"
   ]
  },
  {
   "cell_type": "markdown",
   "id": "873b61fe",
   "metadata": {
    "for_assignment_type": "solution"
   },
   "source": [
    "**Question 1.6.** Use the simulated data in `sampled_leads` from Question 1.5 to compute an approximate 95% confidence interval for Imm Thai's true lead over Lucky House, Thai Temple, and Thai Basil combined. **(9 Points)**\n",
    "\n",
    "```\n",
    "BEGIN QUESTION\n",
    "name: q1_6\n",
    "manual: false\n",
    "points:\n",
    " - 0\n",
    " - 2\n",
    " - 7\n",
    "```"
   ]
  },
  {
   "cell_type": "code",
   "execution_count": 20,
   "id": "1af4105f",
   "metadata": {
    "deletable": false,
    "execution": {
     "iopub.execute_input": "2022-03-17T02:52:50.994088Z",
     "iopub.status.busy": "2022-03-17T02:52:50.993774Z",
     "iopub.status.idle": "2022-03-17T02:52:51.001377Z",
     "shell.execute_reply": "2022-03-17T02:52:51.000514Z"
    }
   },
   "outputs": [
    {
     "name": "stdout",
     "output_type": "stream",
     "text": [
      "Bootstrapped 95% confidence interval for Imm Thai's true lead over Lucky House, Thai Temple, and Thai Basil combined: [1.200000%, 11.066667%]\n"
     ]
    }
   ],
   "source": [
    "diff_lower_bound = percentile(2.5, sampled_leads) # SOLUTION\n",
    "diff_upper_bound = percentile(97.5, sampled_leads) # SOLUTION\n",
    "print(\"Bootstrapped 95% confidence interval for Imm Thai's true lead over Lucky House, Thai Temple, and Thai Basil combined: [{:f}%, {:f}%]\".format(diff_lower_bound, diff_upper_bound))"
   ]
  },
  {
   "cell_type": "code",
   "execution_count": 21,
   "id": "0ee9a0c0",
   "metadata": {
    "execution": {
     "iopub.execute_input": "2022-03-17T02:52:51.005700Z",
     "iopub.status.busy": "2022-03-17T02:52:51.004930Z",
     "iopub.status.idle": "2022-03-17T02:52:51.010881Z",
     "shell.execute_reply": "2022-03-17T02:52:51.009879Z"
    }
   },
   "outputs": [
    {
     "data": {
      "text/plain": [
       "True"
      ]
     },
     "execution_count": 21,
     "metadata": {},
     "output_type": "execute_result"
    }
   ],
   "source": [
    "# TEST \n",
    "-5 <= diff_lower_bound <= diff_upper_bound <= 20"
   ]
  },
  {
   "cell_type": "code",
   "execution_count": 22,
   "id": "777f7630",
   "metadata": {
    "execution": {
     "iopub.execute_input": "2022-03-17T02:52:51.014709Z",
     "iopub.status.busy": "2022-03-17T02:52:51.014432Z",
     "iopub.status.idle": "2022-03-17T02:52:51.021065Z",
     "shell.execute_reply": "2022-03-17T02:52:51.020313Z"
    }
   },
   "outputs": [
    {
     "data": {
      "text/plain": [
       "True"
      ]
     },
     "execution_count": 22,
     "metadata": {},
     "output_type": "execute_result"
    }
   ],
   "source": [
    "# HIDDEN TEST\n",
    "-1.8 <= diff_lower_bound <= diff_upper_bound <= 13.4"
   ]
  },
  {
   "cell_type": "code",
   "execution_count": 23,
   "id": "c59a748f",
   "metadata": {
    "execution": {
     "iopub.execute_input": "2022-03-17T02:52:51.025222Z",
     "iopub.status.busy": "2022-03-17T02:52:51.024936Z",
     "iopub.status.idle": "2022-03-17T02:52:51.033875Z",
     "shell.execute_reply": "2022-03-17T02:52:51.033059Z"
    }
   },
   "outputs": [
    {
     "data": {
      "text/plain": [
       "True"
      ]
     },
     "execution_count": 23,
     "metadata": {},
     "output_type": "execute_result"
    }
   ],
   "source": [
    "# HIDDEN TEST\n",
    "all([diff_lower_bound == percentile(2.5, sampled_leads), diff_upper_bound == percentile(97.5, sampled_leads)])"
   ]
  },
  {
   "cell_type": "markdown",
   "id": "07babb37",
   "metadata": {},
   "source": [
    "## 2. Interpreting Confidence Intervals "
   ]
  },
  {
   "cell_type": "markdown",
   "id": "9aaae791",
   "metadata": {},
   "source": [
    "The staff computed the following 95% confidence interval for the percentage of Imm Thai voters: \n",
    "\n",
    "$$[50.53, 55.53]$$\n",
    "\n",
    "(Your answer may have been a bit different due to randomness; that doesn't mean it was wrong!)"
   ]
  },
  {
   "cell_type": "markdown",
   "id": "4dc8e0b9",
   "metadata": {},
   "source": [
    "**Question 2.1.** The staff also created 70%, 90%, and 99% confidence intervals from the same sample, but we forgot to label which confidence interval represented which percentages! **First**, match each confidence level (70%, 90%, 99%) with its corresponding interval in the cell below (e.g. __ % CI: [52.1, 54] $\\rightarrow$ replace the blank with one of the three confidence levels). **Then**, explain your thought process and how you came up with your answers. **(10 Points)**\n",
    "\n",
    "The intervals are below:\n",
    "\n",
    "* [50.03, 55.94]\n",
    "* [52.1, 54]\n",
    "* [50.97, 54.99]\n",
    "\n",
    "\n",
    "```\n",
    "BEGIN QUESTION\n",
    "name: q2_1\n",
    "manual: true\n",
    "```"
   ]
  },
  {
   "cell_type": "markdown",
   "id": "9d3885e5",
   "metadata": {
    "for_assignment_type": "solution"
   },
   "source": [
    "**SOLUTION:** \n",
    "\n",
    "70% CI: [52.1, 54]\n",
    "\n",
    "90% CI: [50.97, 54.99]\n",
    "\n",
    "99% CI: [50.03, 55.94]\n",
    "\n",
    "We compute these intervals by taking the middle $X$% of a bunch of bootstrap statistics.  As the confidence level increases, we are including more and more of the statistics, so the interval widens.  Intuitively, we might be very confident that the population parameter is within in some giant interval, but only moderately confident that it's within some smaller interval."
   ]
  },
  {
   "cell_type": "markdown",
   "id": "0d2c0ee2",
   "metadata": {},
   "source": [
    "**Question 2.2.** Suppose we produced 6,000 new samples (each one a new/distinct uniform random sample of 1,500 students) from the population and created a 95% confidence interval from each one. Roughly how many of those 6,000 intervals do you expect will actually contain the true percentage of the population? **(9 Points)**\n",
    "\n",
    "Assign your answer to `true_percentage_intervals`.\n",
    "\n",
    "```\n",
    "BEGIN QUESTION\n",
    "name: q2_2\n",
    "manual: false\n",
    "points:\n",
    " - 0\n",
    " - 9\n",
    "```"
   ]
  },
  {
   "cell_type": "code",
   "execution_count": 24,
   "id": "7a8cf3f0",
   "metadata": {
    "deletable": false,
    "execution": {
     "iopub.execute_input": "2022-03-17T02:52:51.037662Z",
     "iopub.status.busy": "2022-03-17T02:52:51.037381Z",
     "iopub.status.idle": "2022-03-17T02:52:51.041661Z",
     "shell.execute_reply": "2022-03-17T02:52:51.040695Z"
    }
   },
   "outputs": [],
   "source": [
    "true_percentage_intervals = 5700 # SOLUTION"
   ]
  },
  {
   "cell_type": "code",
   "execution_count": 25,
   "id": "f3cbbae8",
   "metadata": {
    "execution": {
     "iopub.execute_input": "2022-03-17T02:52:51.045910Z",
     "iopub.status.busy": "2022-03-17T02:52:51.044923Z",
     "iopub.status.idle": "2022-03-17T02:52:51.082382Z",
     "shell.execute_reply": "2022-03-17T02:52:51.081040Z"
    }
   },
   "outputs": [
    {
     "data": {
      "text/plain": [
       "True"
      ]
     },
     "execution_count": 25,
     "metadata": {},
     "output_type": "execute_result"
    }
   ],
   "source": [
    "# TEST\n",
    "1000 <= true_percentage_intervals <= 10000"
   ]
  },
  {
   "cell_type": "code",
   "execution_count": 26,
   "id": "3b7a3af2",
   "metadata": {
    "execution": {
     "iopub.execute_input": "2022-03-17T02:52:51.087171Z",
     "iopub.status.busy": "2022-03-17T02:52:51.086550Z",
     "iopub.status.idle": "2022-03-17T02:52:51.094599Z",
     "shell.execute_reply": "2022-03-17T02:52:51.093575Z"
    }
   },
   "outputs": [
    {
     "data": {
      "text/plain": [
       "True"
      ]
     },
     "execution_count": 26,
     "metadata": {},
     "output_type": "execute_result"
    }
   ],
   "source": [
    "# HIDDEN TEST\n",
    "int(true_percentage_intervals) == 5700"
   ]
  },
  {
   "cell_type": "markdown",
   "id": "a9d97e09",
   "metadata": {},
   "source": [
    "Recall the second bootstrap confidence interval you created, which estimated Imm Thai's lead over Lucky House, Thai Temple, and Thai Basil combined. Among\n",
    "voters in the sample, Imm Thai's lead was 6%. The staff's 95% confidence interval for the true lead (in the population of all voters) was:\n",
    "\n",
    "$$[1.2, 11.2]$$\n",
    "\n",
    "Suppose we are interested in testing a simple yes-or-no question:\n",
    "\n",
    "> \"Is the percentage of votes for Imm Thai equal to the percentage of votes for Lucky House, Thai Temple, and Thai Basil combined?\"\n",
    "\n",
    "Our null hypothesis is that the percentages are equal, or equivalently, that Imm Thai's lead is exactly 0. Our alternative hypothesis is that Imm Thai's lead is not equal to 0.  In the questions below, don't compute any confidence interval yourself—use only the staff's 95% confidence interval."
   ]
  },
  {
   "cell_type": "markdown",
   "id": "2fc3e190",
   "metadata": {},
   "source": [
    "**Question 2.3.** Say we use a 5% p-value cutoff. Do we reject the null, fail to reject the null, or are we unable to tell using the staff's confidence interval? **(9 Points)**\n",
    "\n",
    "Assign `cutoff_five_percent` to the number corresponding to the correct answer.\n",
    "\n",
    "1. Reject the null / Data is consistent with the alternative hypothesis\n",
    "2. Fail to reject the null / Data is consistent with the null hypothesis\n",
    "3. Unable to tell using our staff confidence interval\n",
    "\n",
    "*Hint:* Consider the relationship between the p-value cutoff and confidence. If you're confused, take a look at [this chapter](https://inferentialthinking.com/chapters/13/4/Using_Confidence_Intervals.html) of the textbook.\n",
    "\n",
    "```\n",
    "BEGIN QUESTION\n",
    "name: q2_3\n",
    "manual: false\n",
    "points:\n",
    " - 0\n",
    " - 0\n",
    " - 0\n",
    " - 9\n",
    "```"
   ]
  },
  {
   "cell_type": "code",
   "execution_count": 27,
   "id": "b325f454",
   "metadata": {
    "deletable": false,
    "execution": {
     "iopub.execute_input": "2022-03-17T02:52:51.099291Z",
     "iopub.status.busy": "2022-03-17T02:52:51.098939Z",
     "iopub.status.idle": "2022-03-17T02:52:51.103126Z",
     "shell.execute_reply": "2022-03-17T02:52:51.102358Z"
    }
   },
   "outputs": [],
   "source": [
    "cutoff_five_percent = 1 # SOLUTION"
   ]
  },
  {
   "cell_type": "code",
   "execution_count": 28,
   "id": "8ba594d4",
   "metadata": {
    "execution": {
     "iopub.execute_input": "2022-03-17T02:52:51.107606Z",
     "iopub.status.busy": "2022-03-17T02:52:51.107018Z",
     "iopub.status.idle": "2022-03-17T02:52:51.113742Z",
     "shell.execute_reply": "2022-03-17T02:52:51.112742Z"
    }
   },
   "outputs": [
    {
     "data": {
      "text/plain": [
       "True"
      ]
     },
     "execution_count": 28,
     "metadata": {},
     "output_type": "execute_result"
    }
   ],
   "source": [
    "# TEST\n",
    "1 <= cutoff_five_percent <= 3"
   ]
  },
  {
   "cell_type": "code",
   "execution_count": 29,
   "id": "b4281baf",
   "metadata": {
    "execution": {
     "iopub.execute_input": "2022-03-17T02:52:51.117720Z",
     "iopub.status.busy": "2022-03-17T02:52:51.117326Z",
     "iopub.status.idle": "2022-03-17T02:52:51.123499Z",
     "shell.execute_reply": "2022-03-17T02:52:51.122582Z"
    }
   },
   "outputs": [
    {
     "data": {
      "text/plain": [
       "False"
      ]
     },
     "execution_count": 29,
     "metadata": {},
     "output_type": "execute_result"
    }
   ],
   "source": [
    "# TEST\n",
    "# Remember, we are using a 95% confidence interval of [1.2, 11.2].\n",
    "# Our null hypothesis claims that Imm Thai's lead is 0.\n",
    "# This falls outside of our 95% confidence interval.\n",
    "# What can we conclude if we use a 5% p-value cutoff? \n",
    "cutoff_five_percent == 3"
   ]
  },
  {
   "cell_type": "code",
   "execution_count": 30,
   "id": "69584061",
   "metadata": {
    "execution": {
     "iopub.execute_input": "2022-03-17T02:52:51.127131Z",
     "iopub.status.busy": "2022-03-17T02:52:51.126861Z",
     "iopub.status.idle": "2022-03-17T02:52:51.133911Z",
     "shell.execute_reply": "2022-03-17T02:52:51.132932Z"
    }
   },
   "outputs": [
    {
     "data": {
      "text/plain": [
       "False"
      ]
     },
     "execution_count": 30,
     "metadata": {},
     "output_type": "execute_result"
    }
   ],
   "source": [
    "# TEST\n",
    "# We are using a 95% confidence interval of [1.2, 11.2].\n",
    "# Our null hypothesis claims that Imm Thai's lead is 0.\n",
    "# This falls outside of our 95% confidence interval. \n",
    "# 100% - 95% = 5%, which is our p-value cutoff.\n",
    "# At the 5% level of significance, 0 doesn't seem like a plausible value\n",
    "# for Imm Thai's lead. We would reject the null.\n",
    "# Remember, there is a duality between confidence intervals and tests:\n",
    "# if you are testing whether or not the true lead is a particular value x,\n",
    "# and you use the 5% cutoff for the p-value, then you will reject the null\n",
    "# if x is not in your 95% confidence interval for the lead.\n",
    "cutoff_five_percent == 2"
   ]
  },
  {
   "cell_type": "code",
   "execution_count": 31,
   "id": "ab119df3",
   "metadata": {
    "execution": {
     "iopub.execute_input": "2022-03-17T02:52:51.138036Z",
     "iopub.status.busy": "2022-03-17T02:52:51.137616Z",
     "iopub.status.idle": "2022-03-17T02:52:51.144106Z",
     "shell.execute_reply": "2022-03-17T02:52:51.142947Z"
    }
   },
   "outputs": [
    {
     "data": {
      "text/plain": [
       "True"
      ]
     },
     "execution_count": 31,
     "metadata": {},
     "output_type": "execute_result"
    }
   ],
   "source": [
    "# HIDDEN TEST\n",
    "cutoff_five_percent == 1"
   ]
  },
  {
   "cell_type": "markdown",
   "id": "ad6785aa",
   "metadata": {},
   "source": [
    "**Question 2.4.** What if, instead, we use a p-value cutoff of 1%? Do we reject the null, fail to reject the null, or are we unable to tell using our staff confidence interval? **(9 Points)**\n",
    "\n",
    "Assign `cutoff_one_percent` to the number corresponding to the correct answer.\n",
    "\n",
    "1. Reject the null / Data is consistent with the alternative hypothesis\n",
    "2. Fail to reject the null / Data is consistent with the null hypothesis\n",
    "3. Unable to tell using our staff confidence interval\n",
    "\n",
    "```\n",
    "BEGIN QUESTION\n",
    "name: q2_4\n",
    "manual: false\n",
    "points:\n",
    " - 0\n",
    " - 9\n",
    "```"
   ]
  },
  {
   "cell_type": "code",
   "execution_count": 32,
   "id": "738b28f3",
   "metadata": {
    "deletable": false,
    "execution": {
     "iopub.execute_input": "2022-03-17T02:52:51.148584Z",
     "iopub.status.busy": "2022-03-17T02:52:51.147740Z",
     "iopub.status.idle": "2022-03-17T02:52:51.182869Z",
     "shell.execute_reply": "2022-03-17T02:52:51.181718Z"
    }
   },
   "outputs": [],
   "source": [
    "cutoff_one_percent = 3 # SOLUTION"
   ]
  },
  {
   "cell_type": "code",
   "execution_count": 33,
   "id": "2a5321d3",
   "metadata": {
    "execution": {
     "iopub.execute_input": "2022-03-17T02:52:51.187536Z",
     "iopub.status.busy": "2022-03-17T02:52:51.187252Z",
     "iopub.status.idle": "2022-03-17T02:52:51.193663Z",
     "shell.execute_reply": "2022-03-17T02:52:51.192666Z"
    }
   },
   "outputs": [
    {
     "data": {
      "text/plain": [
       "True"
      ]
     },
     "execution_count": 33,
     "metadata": {},
     "output_type": "execute_result"
    }
   ],
   "source": [
    "# TEST\n",
    "1 <= cutoff_one_percent <= 3"
   ]
  },
  {
   "cell_type": "code",
   "execution_count": 34,
   "id": "9617f9d1",
   "metadata": {
    "execution": {
     "iopub.execute_input": "2022-03-17T02:52:51.197323Z",
     "iopub.status.busy": "2022-03-17T02:52:51.196896Z",
     "iopub.status.idle": "2022-03-17T02:52:51.203738Z",
     "shell.execute_reply": "2022-03-17T02:52:51.202691Z"
    }
   },
   "outputs": [
    {
     "data": {
      "text/plain": [
       "True"
      ]
     },
     "execution_count": 34,
     "metadata": {},
     "output_type": "execute_result"
    }
   ],
   "source": [
    "# HIDDEN TEST\n",
    "cutoff_one_percent == 3"
   ]
  },
  {
   "cell_type": "markdown",
   "id": "6564037b",
   "metadata": {},
   "source": [
    "**Question 2.5.** What if we use a p-value cutoff of 10%? Do we reject, fail to reject, or are we unable to tell using our confidence interval? **(9 Points)**\n",
    "\n",
    "Assign `cutoff_ten_percent` to the number corresponding to the correct answer.\n",
    "\n",
    "1. Reject the null / Data is consistent with the alternative hypothesis\n",
    "2. Fail to reject the null / Data is consistent with the null hypothesis\n",
    "3. Unable to tell using our staff confidence interval\n",
    "\n",
    "```\n",
    "BEGIN QUESTION\n",
    "name: q2_5\n",
    "manual: false\n",
    "points:\n",
    " - 0\n",
    " - 9\n",
    "```"
   ]
  },
  {
   "cell_type": "code",
   "execution_count": 35,
   "id": "ce592ce4",
   "metadata": {
    "deletable": false,
    "execution": {
     "iopub.execute_input": "2022-03-17T02:52:51.208017Z",
     "iopub.status.busy": "2022-03-17T02:52:51.207627Z",
     "iopub.status.idle": "2022-03-17T02:52:51.212416Z",
     "shell.execute_reply": "2022-03-17T02:52:51.211347Z"
    }
   },
   "outputs": [],
   "source": [
    "cutoff_ten_percent = 1 # SOLUTION"
   ]
  },
  {
   "cell_type": "code",
   "execution_count": 36,
   "id": "56b14cb7",
   "metadata": {
    "execution": {
     "iopub.execute_input": "2022-03-17T02:52:51.218053Z",
     "iopub.status.busy": "2022-03-17T02:52:51.217028Z",
     "iopub.status.idle": "2022-03-17T02:52:51.227170Z",
     "shell.execute_reply": "2022-03-17T02:52:51.226043Z"
    }
   },
   "outputs": [
    {
     "data": {
      "text/plain": [
       "True"
      ]
     },
     "execution_count": 36,
     "metadata": {},
     "output_type": "execute_result"
    }
   ],
   "source": [
    "# TEST\n",
    "1 <= cutoff_ten_percent <= 3"
   ]
  },
  {
   "cell_type": "code",
   "execution_count": 37,
   "id": "dc026059",
   "metadata": {
    "execution": {
     "iopub.execute_input": "2022-03-17T02:52:51.234593Z",
     "iopub.status.busy": "2022-03-17T02:52:51.233559Z",
     "iopub.status.idle": "2022-03-17T02:52:51.242161Z",
     "shell.execute_reply": "2022-03-17T02:52:51.240408Z"
    }
   },
   "outputs": [
    {
     "data": {
      "text/plain": [
       "True"
      ]
     },
     "execution_count": 37,
     "metadata": {},
     "output_type": "execute_result"
    }
   ],
   "source": [
    "# HIDDEN TEST\n",
    "cutoff_ten_percent == 1"
   ]
  },
  {
   "cell_type": "markdown",
   "id": "6225deae",
   "metadata": {},
   "source": [
    "You're done with Homework 8!  \n",
    "\n",
    "**Important submission steps:** \n",
    "1. Run the tests and verify that they all pass.\n",
    "2. Choose **Save Notebook** from the **File** menu, then **run the final cell**. \n",
    "3. Click the link to download the zip file.\n",
    "4. Then submit the zip file to the corresponding assignment according to your instructor's directions. \n",
    "\n",
    "**It is your responsibility to make sure your work is saved before running the last cell.**"
   ]
  }
 ],
 "metadata": {
  "kernelspec": {
   "display_name": "Python 3 (ipykernel)",
   "language": "python",
   "name": "python3"
  },
  "language_info": {
   "codemirror_mode": {
    "name": "ipython",
    "version": 3
   },
   "file_extension": ".py",
   "mimetype": "text/x-python",
   "name": "python",
   "nbconvert_exporter": "python",
   "pygments_lexer": "ipython3",
   "version": "3.9.12"
  }
 },
 "nbformat": 4,
 "nbformat_minor": 5
}
