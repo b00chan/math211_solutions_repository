{
 "cells": [
  {
   "cell_type": "markdown",
   "id": "ca41e213",
   "metadata": {},
   "source": [
    "```\n",
    "BEGIN ASSIGNMENT \n",
    "init_cell: true \n",
    "export_cell: true \n",
    "files:\n",
    "    - age.csv\n",
    "    - d8error.py\n",
    "    - errorConfig.json\n",
    "    - happiness_scores.csv\n",
    "    - us_happiness_factors.csv\n",
    "export_cell:\n",
    "    pdf: false\n",
    "    force_save: false\n",
    "solutions_pdf: true\n",
    "template_pdf: true\n",
    "generate:\n",
    "    points_possible: 80.0\n",
    "    show_stdout: true\n",
    "    filtering: true\n",
    "    pagebreaks: true\n",
    "    zips: false\n",
    "```\n"
   ]
  },
  {
   "cell_type": "markdown",
   "id": "028e74fa",
   "metadata": {},
   "source": [
    "# Homework 7: Testing Hypotheses\n",
    "\n",
    "Please complete this notebook by filling in the cells provided. Before you begin, execute the previous cell to load the provided tests."
   ]
  },
  {
   "cell_type": "markdown",
   "id": "bb1a9798",
   "metadata": {},
   "source": [
    "**Helpful Resource:**\n",
    "\n",
    "- [Python Reference](http://data8.org/sp22/python-reference.html): Cheat sheet of helpful array & table methods used in Data 8!\n",
    "\n",
    "**Recommended Readings**: \n",
    "\n",
    "* [Sampling Methods Guide](https://drive.google.com/file/d/1UtNdxDdI5XphWvwgTjODiAUFwArpZtoK/view)\n",
    "* [Testing Hypotheses](https://www.inferentialthinking.com/chapters/11/Testing_Hypotheses.html)\n",
    "* [A/B Testing](https://inferentialthinking.com/chapters/12/1/AB_Testing.html)"
   ]
  },
  {
   "cell_type": "markdown",
   "id": "3ba86ed3",
   "metadata": {},
   "source": [
    "Please complete this notebook by filling in the cells provided. Before you begin, execute the following cell to setup the notebook by importing some helpful libraries. Each time you start your server, you will need to execute this cell again.\n",
    "\n",
    "For all problems that you must write explanations and sentences for, you **must** provide your answer in the designated space. **Moreover, throughout this homework and all future ones, please be sure to not re-assign variables throughout the notebook!** For example, if you use `max_temperature` in your answer to one question, do not reassign it later on. Otherwise, you will fail tests that you thought you were passing previously!\n",
    "\n",
    "\n",
    "**Note: This homework has hidden tests on it. That means even though the tests may say 100% passed, it doesn't mean your final grade will be 100%. We will be running more tests for correctness once everyone turns in the homework.**\n",
    "\n",
    "\n",
    "Directly sharing answers is not okay, but discussing problems with the course staff or with other students is encouraged. \n",
    "\n",
    "You should start early so that you have time to get help if you're stuck."
   ]
  },
  {
   "cell_type": "code",
   "execution_count": 1,
   "id": "c15b58b4",
   "metadata": {
    "execution": {
     "iopub.execute_input": "2022-03-02T18:14:41.119098Z",
     "iopub.status.busy": "2022-03-02T18:14:41.118424Z",
     "iopub.status.idle": "2022-03-02T18:14:42.661693Z",
     "shell.execute_reply": "2022-03-02T18:14:42.661135Z"
    }
   },
   "outputs": [],
   "source": [
    "# Run this cell to set up the notebook, but please don't change it.\n",
    "\n",
    "# These lines import the Numpy and Datascience modules.\n",
    "import numpy as np\n",
    "from datascience import *\n",
    "import d8error\n",
    "\n",
    "# These lines do some fancy plotting magic.\n",
    "import matplotlib\n",
    "%matplotlib inline\n",
    "import matplotlib.pyplot as plt\n",
    "plt.style.use('fivethirtyeight')\n",
    "import warnings\n",
    "warnings.simplefilter('ignore', FutureWarning)"
   ]
  },
  {
   "cell_type": "markdown",
   "id": "9bb24949",
   "metadata": {},
   "source": [
    "## 1. Vaccinations Across The Nation\n",
    "\n",
    "A vaccination clinic has two types of vaccines against a disease. Each person who comes in to be vaccinated gets either Vaccine 1 or Vaccine 2. One week, everyone who came in on Monday, Wednesday, and Friday was given Vaccine 1. Everyone who came in on Tuesday and Thursday was given Vaccine 2. The clinic is closed on weekends.\n",
    "\n",
    "Doctor DeNero at the clinic said, \"Oh wow, it's just like tossing a coin that lands heads with chance $\\frac{3}{5}$. Heads you get Vaccine 1 and Tails you get Vaccine 2.\"\n",
    "\n",
    "But Doctor Sahai said, \"No, it's not. We're not doing anything like tossing a coin.\"\n",
    "\n",
    "That week, the clinic gave Vaccine 1 to 211 people and Vaccine 2 to 107 people. Conduct a test of hypotheses to see which doctor's position is better supported by the data."
   ]
  },
  {
   "cell_type": "markdown",
   "id": "958cabb4",
   "metadata": {},
   "source": [
    "**Question 1.1.** Given the information above, what was the sample size for the data, and what was the percentage of people who got **Vaccine 1?** **(4 points)**\n",
    "\n",
    "*Note*: Your percent should be a number between 0 and 100.\n",
    "\n",
    "```\n",
    "BEGIN QUESTION\n",
    "name: q1_1\n",
    "manual: false\n",
    "points:\n",
    " - 0\n",
    " - 0\n",
    " - 0\n",
    " - 0\n",
    " - 2\n",
    " - 2\n",
    "```"
   ]
  },
  {
   "cell_type": "code",
   "execution_count": 2,
   "id": "2f7f71ab",
   "metadata": {
    "execution": {
     "iopub.execute_input": "2022-03-02T18:14:42.666790Z",
     "iopub.status.busy": "2022-03-02T18:14:42.666292Z",
     "iopub.status.idle": "2022-03-02T18:14:42.669400Z",
     "shell.execute_reply": "2022-03-02T18:14:42.669023Z"
    }
   },
   "outputs": [
    {
     "name": "stdout",
     "output_type": "stream",
     "text": [
      "Sample Size: 318\n",
      "Vaccine 1 Percent: 66.35220125786164\n"
     ]
    }
   ],
   "source": [
    "sample_size = 211+107 # SOLUTION\n",
    "percent_V1 = 100 * 211/sample_size # SOLUTION\n",
    "\n",
    "print(f\"Sample Size: {sample_size}\")\n",
    "print(f\"Vaccine 1 Percent: {percent_V1}\")"
   ]
  },
  {
   "cell_type": "code",
   "execution_count": 3,
   "id": "0071a2d9",
   "metadata": {
    "execution": {
     "iopub.execute_input": "2022-03-02T18:14:42.675176Z",
     "iopub.status.busy": "2022-03-02T18:14:42.674637Z",
     "iopub.status.idle": "2022-03-02T18:14:42.677781Z",
     "shell.execute_reply": "2022-03-02T18:14:42.678149Z"
    }
   },
   "outputs": [
    {
     "data": {
      "text/plain": [
       "True"
      ]
     },
     "execution_count": 3,
     "metadata": {},
     "output_type": "execute_result"
    }
   ],
   "source": [
    "# TEST\n",
    "type(sample_size) == int"
   ]
  },
  {
   "cell_type": "code",
   "execution_count": 4,
   "id": "cfa7d092",
   "metadata": {
    "execution": {
     "iopub.execute_input": "2022-03-02T18:14:42.682070Z",
     "iopub.status.busy": "2022-03-02T18:14:42.681605Z",
     "iopub.status.idle": "2022-03-02T18:14:42.684585Z",
     "shell.execute_reply": "2022-03-02T18:14:42.684990Z"
    }
   },
   "outputs": [
    {
     "data": {
      "text/plain": [
       "True"
      ]
     },
     "execution_count": 4,
     "metadata": {},
     "output_type": "execute_result"
    }
   ],
   "source": [
    "# TEST\n",
    "type(percent_V1) == float or type(percent_V1) == int"
   ]
  },
  {
   "cell_type": "code",
   "execution_count": 5,
   "id": "77aca2a4",
   "metadata": {
    "execution": {
     "iopub.execute_input": "2022-03-02T18:14:42.688732Z",
     "iopub.status.busy": "2022-03-02T18:14:42.688282Z",
     "iopub.status.idle": "2022-03-02T18:14:42.691253Z",
     "shell.execute_reply": "2022-03-02T18:14:42.691615Z"
    }
   },
   "outputs": [
    {
     "data": {
      "text/plain": [
       "True"
      ]
     },
     "execution_count": 5,
     "metadata": {},
     "output_type": "execute_result"
    }
   ],
   "source": [
    "# TEST\n",
    "100 <= sample_size <= 500"
   ]
  },
  {
   "cell_type": "code",
   "execution_count": 6,
   "id": "d3bd982b",
   "metadata": {
    "execution": {
     "iopub.execute_input": "2022-03-02T18:14:42.695404Z",
     "iopub.status.busy": "2022-03-02T18:14:42.694912Z",
     "iopub.status.idle": "2022-03-02T18:14:42.698204Z",
     "shell.execute_reply": "2022-03-02T18:14:42.697696Z"
    }
   },
   "outputs": [
    {
     "data": {
      "text/plain": [
       "True"
      ]
     },
     "execution_count": 6,
     "metadata": {},
     "output_type": "execute_result"
    }
   ],
   "source": [
    "# TEST\n",
    "0 <= percent_V1 <= 100"
   ]
  },
  {
   "cell_type": "code",
   "execution_count": 7,
   "id": "356e9fb5",
   "metadata": {
    "execution": {
     "iopub.execute_input": "2022-03-02T18:14:42.702069Z",
     "iopub.status.busy": "2022-03-02T18:14:42.701523Z",
     "iopub.status.idle": "2022-03-02T18:14:42.704849Z",
     "shell.execute_reply": "2022-03-02T18:14:42.704446Z"
    }
   },
   "outputs": [
    {
     "data": {
      "text/plain": [
       "True"
      ]
     },
     "execution_count": 7,
     "metadata": {},
     "output_type": "execute_result"
    }
   ],
   "source": [
    "# HIDDEN TEST\n",
    "sample_size == 318"
   ]
  },
  {
   "cell_type": "code",
   "execution_count": 8,
   "id": "4fdab484",
   "metadata": {
    "execution": {
     "iopub.execute_input": "2022-03-02T18:14:42.709146Z",
     "iopub.status.busy": "2022-03-02T18:14:42.708652Z",
     "iopub.status.idle": "2022-03-02T18:14:42.712587Z",
     "shell.execute_reply": "2022-03-02T18:14:42.712932Z"
    }
   },
   "outputs": [
    {
     "data": {
      "text/plain": [
       "True"
      ]
     },
     "execution_count": 8,
     "metadata": {},
     "output_type": "execute_result"
    }
   ],
   "source": [
    "# HIDDEN TEST\n",
    "np.isclose(percent_V1, 66.35220125786164)"
   ]
  },
  {
   "cell_type": "markdown",
   "id": "b6dacd67",
   "metadata": {},
   "source": [
    "**Question 1.2.** State the null hypothesis. It should reflect the position of either Dr. DeNero or Dr. Sahai. **(4 points)**\n",
    "\n",
    "*Note:* Check out [11.3](https://inferentialthinking.com/chapters/11/3/Decisions_and_Uncertainty.html#step-1-the-hypotheses) for a refresher on hypotheses.\n",
    "\n",
    "```\n",
    "BEGIN QUESTION\n",
    "name: q1_2\n",
    "manual: true\n",
    "```"
   ]
  },
  {
   "cell_type": "markdown",
   "id": "acda8e82",
   "metadata": {},
   "source": [
    "**SOLUTION:** \n",
    "\n",
    "The assignment of vaccines is like tossing a coin that lands heads with chance 3/5."
   ]
  },
  {
   "cell_type": "markdown",
   "id": "5c8f7a5c",
   "metadata": {},
   "source": [
    "**Question 1.3.** State the alternative hypothesis. It should reflect the position of the doctor you did not choose to represent in Question 1.2. **(4 points)**\n",
    "\n",
    "*Note:* Check out [11.3](https://inferentialthinking.com/chapters/11/3/Decisions_and_Uncertainty.html#step-1-the-hypotheses) for a refresher on hypotheses.\n",
    "\n",
    "```\n",
    "BEGIN QUESTION\n",
    "name: q1_3\n",
    "manual: true\n",
    "```"
   ]
  },
  {
   "cell_type": "markdown",
   "id": "c185c532",
   "metadata": {},
   "source": [
    "**SOLUTION:** \n",
    "    \n",
    "The assignment to vaccines is not like tossing a coin."
   ]
  },
  {
   "cell_type": "markdown",
   "id": "f5be1295",
   "metadata": {},
   "source": [
    "**Question 1.4.** One of the test statistics below is appropriate for testing these hypotheses. Assign the variable `valid_test_stat` to the number corresponding to the correct test statistic. **(4 points)**\n",
    "\n",
    "1. percent of heads - 60\n",
    "2. percent of heads - 50\n",
    "3. |percent of heads - 60|\n",
    "4. |percent of heads - 50|\n",
    "\n",
    "```\n",
    "BEGIN QUESTION\n",
    "name: q1_4\n",
    "manual: false\n",
    "points:\n",
    " - 0\n",
    " - 0\n",
    " - 4\n",
    "```"
   ]
  },
  {
   "cell_type": "code",
   "execution_count": 9,
   "id": "1de7c6e7",
   "metadata": {
    "execution": {
     "iopub.execute_input": "2022-03-02T18:14:42.717267Z",
     "iopub.status.busy": "2022-03-02T18:14:42.716560Z",
     "iopub.status.idle": "2022-03-02T18:14:42.719824Z",
     "shell.execute_reply": "2022-03-02T18:14:42.719436Z"
    }
   },
   "outputs": [
    {
     "data": {
      "text/plain": [
       "3"
      ]
     },
     "execution_count": 9,
     "metadata": {},
     "output_type": "execute_result"
    }
   ],
   "source": [
    "valid_test_stat = 3 # SOLUTION\n",
    "valid_test_stat"
   ]
  },
  {
   "cell_type": "code",
   "execution_count": 10,
   "id": "9c1c3bac",
   "metadata": {
    "execution": {
     "iopub.execute_input": "2022-03-02T18:14:42.724078Z",
     "iopub.status.busy": "2022-03-02T18:14:42.723357Z",
     "iopub.status.idle": "2022-03-02T18:14:42.726243Z",
     "shell.execute_reply": "2022-03-02T18:14:42.726615Z"
    }
   },
   "outputs": [
    {
     "data": {
      "text/plain": [
       "True"
      ]
     },
     "execution_count": 10,
     "metadata": {},
     "output_type": "execute_result"
    }
   ],
   "source": [
    "# TEST\n",
    "type(valid_test_stat) == int"
   ]
  },
  {
   "cell_type": "code",
   "execution_count": 11,
   "id": "487549cc",
   "metadata": {
    "execution": {
     "iopub.execute_input": "2022-03-02T18:14:42.730742Z",
     "iopub.status.busy": "2022-03-02T18:14:42.730294Z",
     "iopub.status.idle": "2022-03-02T18:14:42.732578Z",
     "shell.execute_reply": "2022-03-02T18:14:42.732918Z"
    }
   },
   "outputs": [
    {
     "data": {
      "text/plain": [
       "True"
      ]
     },
     "execution_count": 11,
     "metadata": {},
     "output_type": "execute_result"
    }
   ],
   "source": [
    "# TEST\n",
    "any((valid_test_stat == x for x in np.arange(1,5)))"
   ]
  },
  {
   "cell_type": "code",
   "execution_count": 12,
   "id": "64cfe58c",
   "metadata": {
    "execution": {
     "iopub.execute_input": "2022-03-02T18:14:42.736536Z",
     "iopub.status.busy": "2022-03-02T18:14:42.736090Z",
     "iopub.status.idle": "2022-03-02T18:14:42.738522Z",
     "shell.execute_reply": "2022-03-02T18:14:42.738845Z"
    }
   },
   "outputs": [
    {
     "data": {
      "text/plain": [
       "True"
      ]
     },
     "execution_count": 12,
     "metadata": {},
     "output_type": "execute_result"
    }
   ],
   "source": [
    "# HIDDEN TEST\n",
    "valid_test_stat == 3"
   ]
  },
  {
   "cell_type": "markdown",
   "id": "78768c56",
   "metadata": {},
   "source": [
    "**Question 1.5.** Using your answer from Questions 1.1 and 1.4, find the observed value of the test statistic and assign it to the variable `observed_statistic`. **(4 points)**\n",
    "\n",
    "```\n",
    "BEGIN QUESTION\n",
    "name: q1_5\n",
    "manual: false\n",
    "points:\n",
    " - 0\n",
    " - 0\n",
    " - 4\n",
    "```"
   ]
  },
  {
   "cell_type": "code",
   "execution_count": 13,
   "id": "13530212",
   "metadata": {
    "execution": {
     "iopub.execute_input": "2022-03-02T18:14:42.743199Z",
     "iopub.status.busy": "2022-03-02T18:14:42.742546Z",
     "iopub.status.idle": "2022-03-02T18:14:42.745340Z",
     "shell.execute_reply": "2022-03-02T18:14:42.745670Z"
    }
   },
   "outputs": [
    {
     "data": {
      "text/plain": [
       "6.352201257861637"
      ]
     },
     "execution_count": 13,
     "metadata": {},
     "output_type": "execute_result"
    }
   ],
   "source": [
    "observed_statistic = abs(percent_V1 - 60) # SOLUTION\n",
    "observed_statistic"
   ]
  },
  {
   "cell_type": "code",
   "execution_count": 14,
   "id": "40ed52c2",
   "metadata": {
    "execution": {
     "iopub.execute_input": "2022-03-02T18:14:42.749625Z",
     "iopub.status.busy": "2022-03-02T18:14:42.749022Z",
     "iopub.status.idle": "2022-03-02T18:14:42.782685Z",
     "shell.execute_reply": "2022-03-02T18:14:42.782230Z"
    }
   },
   "outputs": [
    {
     "data": {
      "text/plain": [
       "True"
      ]
     },
     "execution_count": 14,
     "metadata": {},
     "output_type": "execute_result"
    }
   ],
   "source": [
    "# TEST\n",
    "type(observed_statistic) == float"
   ]
  },
  {
   "cell_type": "code",
   "execution_count": 15,
   "id": "9bce752e",
   "metadata": {
    "execution": {
     "iopub.execute_input": "2022-03-02T18:14:42.787756Z",
     "iopub.status.busy": "2022-03-02T18:14:42.787066Z",
     "iopub.status.idle": "2022-03-02T18:14:42.790007Z",
     "shell.execute_reply": "2022-03-02T18:14:42.790381Z"
    }
   },
   "outputs": [
    {
     "data": {
      "text/plain": [
       "True"
      ]
     },
     "execution_count": 15,
     "metadata": {},
     "output_type": "execute_result"
    }
   ],
   "source": [
    "# TEST\n",
    "0 <= observed_statistic <= 100"
   ]
  },
  {
   "cell_type": "code",
   "execution_count": 16,
   "id": "65804a5d",
   "metadata": {
    "execution": {
     "iopub.execute_input": "2022-03-02T18:14:42.795372Z",
     "iopub.status.busy": "2022-03-02T18:14:42.794658Z",
     "iopub.status.idle": "2022-03-02T18:14:42.797640Z",
     "shell.execute_reply": "2022-03-02T18:14:42.798053Z"
    }
   },
   "outputs": [
    {
     "data": {
      "text/plain": [
       "True"
      ]
     },
     "execution_count": 16,
     "metadata": {},
     "output_type": "execute_result"
    }
   ],
   "source": [
    "# HIDDEN TEST\n",
    "np.isclose(observed_statistic, 6.352201257861637)"
   ]
  },
  {
   "cell_type": "markdown",
   "id": "5868ee20",
   "metadata": {},
   "source": [
    "**Question 1.6.** In order to perform this hypothesis test, you must simulate the test statistic. From the four options below, pick the assumption that is needed for this simulation. Assign `assumption_needed` to an integer corresponding to the assumption. **(4 points)**\n",
    "\n",
    "1. The statistic must be simulated under the null hypothesis.\n",
    "2. The statistic must be simulated under the alternative hypothesis.\n",
    "3. The statistic must be simulated under both hypotheses.\n",
    "4. No assumptions are needed. We can just simulate the statistic.\n",
    "\n",
    "```\n",
    "BEGIN QUESTION\n",
    "name: q1_6\n",
    "manual: false\n",
    "points:\n",
    " - 0\n",
    " - 0\n",
    " - 4\n",
    "```"
   ]
  },
  {
   "cell_type": "code",
   "execution_count": 17,
   "id": "9f50eaa5",
   "metadata": {
    "execution": {
     "iopub.execute_input": "2022-03-02T18:14:42.802230Z",
     "iopub.status.busy": "2022-03-02T18:14:42.801708Z",
     "iopub.status.idle": "2022-03-02T18:14:42.804403Z",
     "shell.execute_reply": "2022-03-02T18:14:42.804775Z"
    }
   },
   "outputs": [
    {
     "data": {
      "text/plain": [
       "1"
      ]
     },
     "execution_count": 17,
     "metadata": {},
     "output_type": "execute_result"
    }
   ],
   "source": [
    "assumption_needed = 1 # SOLUTION\n",
    "assumption_needed"
   ]
  },
  {
   "cell_type": "code",
   "execution_count": 18,
   "id": "6a0a7b89",
   "metadata": {
    "execution": {
     "iopub.execute_input": "2022-03-02T18:14:42.809207Z",
     "iopub.status.busy": "2022-03-02T18:14:42.808646Z",
     "iopub.status.idle": "2022-03-02T18:14:42.816062Z",
     "shell.execute_reply": "2022-03-02T18:14:42.815499Z"
    }
   },
   "outputs": [
    {
     "data": {
      "text/plain": [
       "True"
      ]
     },
     "execution_count": 18,
     "metadata": {},
     "output_type": "execute_result"
    }
   ],
   "source": [
    "# TEST\n",
    "type(assumption_needed) == int"
   ]
  },
  {
   "cell_type": "code",
   "execution_count": 19,
   "id": "c9fd60ae",
   "metadata": {
    "execution": {
     "iopub.execute_input": "2022-03-02T18:14:42.820596Z",
     "iopub.status.busy": "2022-03-02T18:14:42.819917Z",
     "iopub.status.idle": "2022-03-02T18:14:42.823458Z",
     "shell.execute_reply": "2022-03-02T18:14:42.822959Z"
    }
   },
   "outputs": [
    {
     "data": {
      "text/plain": [
       "True"
      ]
     },
     "execution_count": 19,
     "metadata": {},
     "output_type": "execute_result"
    }
   ],
   "source": [
    "# TEST\n",
    "1 <= assumption_needed <= 4"
   ]
  },
  {
   "cell_type": "code",
   "execution_count": 20,
   "id": "c763add0",
   "metadata": {
    "execution": {
     "iopub.execute_input": "2022-03-02T18:14:42.827920Z",
     "iopub.status.busy": "2022-03-02T18:14:42.827272Z",
     "iopub.status.idle": "2022-03-02T18:14:42.830641Z",
     "shell.execute_reply": "2022-03-02T18:14:42.830222Z"
    }
   },
   "outputs": [
    {
     "data": {
      "text/plain": [
       "True"
      ]
     },
     "execution_count": 20,
     "metadata": {},
     "output_type": "execute_result"
    }
   ],
   "source": [
    "# HIDDEN TEST\n",
    "assumption_needed == 1"
   ]
  },
  {
   "cell_type": "markdown",
   "id": "ef161b9e",
   "metadata": {},
   "source": [
    "**Question 1.7.** Simulate 20,000 values of the test statistic under the assumption you picked in Question 1.6. **(4 points)** \n",
    "\n",
    "As usual, start by defining a function that simulates one value of the statistic. Your function should use `sample_proportions`. (You may find a variable defined in Question 1.1 useful here!) Then, write a `for` loop to simulate multiple values and collect them in the array `simulated_statistics`.\n",
    "\n",
    "Use as many lines of code as you need. We have included the code that visualizes the distribution of the simulated values. The red dot represents the observed statistic you found in Question 1.5.\n",
    "\n",
    "```\n",
    "BEGIN QUESTION\n",
    "name: q1_7\n",
    "manual: true\n",
    "```"
   ]
  },
  {
   "cell_type": "code",
   "execution_count": 21,
   "id": "badfeb75",
   "metadata": {
    "execution": {
     "iopub.execute_input": "2022-03-02T18:14:42.837273Z",
     "iopub.status.busy": "2022-03-02T18:14:42.836306Z",
     "iopub.status.idle": "2022-03-02T18:14:43.184710Z",
     "shell.execute_reply": "2022-03-02T18:14:43.184203Z"
    }
   },
   "outputs": [
    {
     "data": {
      "text/plain": [
       "3.3962264150943398"
      ]
     },
     "execution_count": 21,
     "metadata": {},
     "output_type": "execute_result"
    }
   ],
   "source": [
    "\"\"\" # BEGIN PROMPT\n",
    "def one_simulated_statistic():\n",
    "    ...\n",
    "\n",
    "num_simulations = 20000\n",
    "\n",
    "simulated_statistics = ...\n",
    "for ... in ...:\n",
    "    ...\n",
    "\"\"\"; # END PROMPT\n",
    "# BEGIN SOLUTION NO PROMPT\n",
    "#SOLUTION\n",
    "def one_simulated_statistic():\n",
    "    percent_heads = 100 * sample_proportions(sample_size, make_array(0.6, 0.4)).item(0)\n",
    "    return abs(percent_heads - 60)\n",
    "\n",
    "num_simulations = 20000\n",
    "\n",
    "simulated_statistics = make_array()\n",
    "for i in np.arange(num_simulations):\n",
    "    simulated_statistics = np.append(simulated_statistics, one_simulated_statistic())\n",
    "# END SOLUTION\n",
    "\n",
    "# Run the this cell a few times to see how the simulated statistic changes\n",
    "one_simulated_statistic()"
   ]
  },
  {
   "cell_type": "code",
   "execution_count": 22,
   "id": "d4841d8f",
   "metadata": {
    "execution": {
     "iopub.execute_input": "2022-03-02T18:14:43.217326Z",
     "iopub.status.busy": "2022-03-02T18:14:43.193564Z",
     "iopub.status.idle": "2022-03-02T18:14:43.490082Z",
     "shell.execute_reply": "2022-03-02T18:14:43.490471Z"
    }
   },
   "outputs": [
    {
     "data": {
      "image/png": "[encoded data removed]",
      "text/plain": [
       "<Figure size 432x288 with 1 Axes>"
      ]
     },
     "metadata": {},
     "output_type": "display_data"
    }
   ],
   "source": [
    "# Run this cell to produce a histogram of the simulated statistics\n",
    "\n",
    "Table().with_columns('Simulated Statistic', simulated_statistics).hist()\n",
    "plt.scatter(observed_statistic, -0.002, color='red', s=40);"
   ]
  },
  {
   "cell_type": "markdown",
   "id": "e96f234c",
   "metadata": {},
   "source": [
    "**Question 1.8.** Using `simulated_statistics`, `observed_statistic`, and `num_simulations`, find the empirical p-value based on the simulation. **(4 points)**\n",
    "\n",
    "```\n",
    "BEGIN QUESTION\n",
    "name: q1_8\n",
    "manual: false\n",
    "points:\n",
    " - 0\n",
    " - 0\n",
    " - 4\n",
    "```"
   ]
  },
  {
   "cell_type": "code",
   "execution_count": 23,
   "id": "843205b7",
   "metadata": {
    "execution": {
     "iopub.execute_input": "2022-03-02T18:14:43.495832Z",
     "iopub.status.busy": "2022-03-02T18:14:43.495330Z",
     "iopub.status.idle": "2022-03-02T18:14:43.498300Z",
     "shell.execute_reply": "2022-03-02T18:14:43.498685Z"
    }
   },
   "outputs": [
    {
     "data": {
      "text/plain": [
       "0.02425"
      ]
     },
     "execution_count": 23,
     "metadata": {},
     "output_type": "execute_result"
    }
   ],
   "source": [
    "p_value = np.count_nonzero(simulated_statistics >= observed_statistic) / num_simulations # SOLUTION\n",
    "p_value"
   ]
  },
  {
   "cell_type": "code",
   "execution_count": 24,
   "id": "89543419",
   "metadata": {
    "execution": {
     "iopub.execute_input": "2022-03-02T18:14:43.503529Z",
     "iopub.status.busy": "2022-03-02T18:14:43.503081Z",
     "iopub.status.idle": "2022-03-02T18:14:43.505777Z",
     "shell.execute_reply": "2022-03-02T18:14:43.506229Z"
    }
   },
   "outputs": [
    {
     "data": {
      "text/plain": [
       "True"
      ]
     },
     "execution_count": 24,
     "metadata": {},
     "output_type": "execute_result"
    }
   ],
   "source": [
    "# TEST\n",
    "import numpy as np\n",
    "type(p_value) == float or type(p_value) == np.float64"
   ]
  },
  {
   "cell_type": "code",
   "execution_count": 25,
   "id": "15eddac0",
   "metadata": {
    "execution": {
     "iopub.execute_input": "2022-03-02T18:14:43.511193Z",
     "iopub.status.busy": "2022-03-02T18:14:43.510732Z",
     "iopub.status.idle": "2022-03-02T18:14:43.513674Z",
     "shell.execute_reply": "2022-03-02T18:14:43.513215Z"
    }
   },
   "outputs": [
    {
     "data": {
      "text/plain": [
       "True"
      ]
     },
     "execution_count": 25,
     "metadata": {},
     "output_type": "execute_result"
    }
   ],
   "source": [
    "# TEST\n",
    "0 <= p_value <= 1"
   ]
  },
  {
   "cell_type": "code",
   "execution_count": 26,
   "id": "a40b47b8",
   "metadata": {
    "execution": {
     "iopub.execute_input": "2022-03-02T18:14:43.517642Z",
     "iopub.status.busy": "2022-03-02T18:14:43.517207Z",
     "iopub.status.idle": "2022-03-02T18:14:43.520439Z",
     "shell.execute_reply": "2022-03-02T18:14:43.519912Z"
    }
   },
   "outputs": [
    {
     "data": {
      "text/plain": [
       "True"
      ]
     },
     "execution_count": 26,
     "metadata": {},
     "output_type": "execute_result"
    }
   ],
   "source": [
    "# HIDDEN TEST\n",
    "0.016 < p_value < 0.025"
   ]
  },
  {
   "cell_type": "markdown",
   "id": "43842466",
   "metadata": {},
   "source": [
    "**Question 1.9.** Assign `correct_doctor` to the number corresponding to the correct statement below. Use the 5% cutoff for the p-value. **(4 points)**\n",
    "\n",
    "1. The data support Dr. DeNero's position more than they support Dr. Sahai's.\n",
    "2. The data support Dr. Sahai's position more than they support Dr. DeNero's.\n",
    "\n",
    "As a reminder, here are the two claims made by Dr. DeNero and Dr. Sahai:\n",
    "> **Doctor DeNero:** \"Oh wow, it's just like tossing a coin that lands heads with chance $\\frac{3}{5}$. Heads you get Vaccine 1 and Tails you get Vaccine 2.\"\n",
    "\n",
    ">**Doctor Sahai:** \"No, it's not. We're not doing anything like tossing a coin.\"\n",
    "\n",
    "```\n",
    "BEGIN QUESTION\n",
    "name: q1_9\n",
    "manual: false\n",
    "points:\n",
    " - 0\n",
    " - 0\n",
    " - 4\n",
    "```"
   ]
  },
  {
   "cell_type": "code",
   "execution_count": 27,
   "id": "372c2657",
   "metadata": {
    "execution": {
     "iopub.execute_input": "2022-03-02T18:14:43.524479Z",
     "iopub.status.busy": "2022-03-02T18:14:43.524016Z",
     "iopub.status.idle": "2022-03-02T18:14:43.526972Z",
     "shell.execute_reply": "2022-03-02T18:14:43.526497Z"
    }
   },
   "outputs": [
    {
     "data": {
      "text/plain": [
       "2"
      ]
     },
     "execution_count": 27,
     "metadata": {},
     "output_type": "execute_result"
    }
   ],
   "source": [
    "correct_doctor = 2 # SOLUTION\n",
    "correct_doctor"
   ]
  },
  {
   "cell_type": "code",
   "execution_count": 28,
   "id": "38bbcae9",
   "metadata": {
    "execution": {
     "iopub.execute_input": "2022-03-02T18:14:43.530848Z",
     "iopub.status.busy": "2022-03-02T18:14:43.530420Z",
     "iopub.status.idle": "2022-03-02T18:14:43.532892Z",
     "shell.execute_reply": "2022-03-02T18:14:43.533290Z"
    }
   },
   "outputs": [
    {
     "data": {
      "text/plain": [
       "True"
      ]
     },
     "execution_count": 28,
     "metadata": {},
     "output_type": "execute_result"
    }
   ],
   "source": [
    "# TEST\n",
    "type(correct_doctor) == int"
   ]
  },
  {
   "cell_type": "code",
   "execution_count": 29,
   "id": "db274b82",
   "metadata": {
    "execution": {
     "iopub.execute_input": "2022-03-02T18:14:43.537631Z",
     "iopub.status.busy": "2022-03-02T18:14:43.537181Z",
     "iopub.status.idle": "2022-03-02T18:14:43.539856Z",
     "shell.execute_reply": "2022-03-02T18:14:43.539484Z"
    }
   },
   "outputs": [
    {
     "data": {
      "text/plain": [
       "True"
      ]
     },
     "execution_count": 29,
     "metadata": {},
     "output_type": "execute_result"
    }
   ],
   "source": [
    "# TEST\n",
    "any((correct_doctor == x for x in (1,2)))"
   ]
  },
  {
   "cell_type": "code",
   "execution_count": 30,
   "id": "d2de7f8c",
   "metadata": {
    "execution": {
     "iopub.execute_input": "2022-03-02T18:14:43.543555Z",
     "iopub.status.busy": "2022-03-02T18:14:43.543116Z",
     "iopub.status.idle": "2022-03-02T18:14:43.545728Z",
     "shell.execute_reply": "2022-03-02T18:14:43.546145Z"
    }
   },
   "outputs": [
    {
     "data": {
      "text/plain": [
       "True"
      ]
     },
     "execution_count": 30,
     "metadata": {},
     "output_type": "execute_result"
    }
   ],
   "source": [
    "# HIDDEN TEST\n",
    "correct_doctor == 2"
   ]
  },
  {
   "cell_type": "markdown",
   "id": "09e4743c",
   "metadata": {},
   "source": [
    "## 2. Using TVD as a Test Statistic\n",
    "\n",
    "Before beginning this section, please read [this section](https://inferentialthinking.com/chapters/11/2/Multiple_Categories.html#a-new-statistic-the-distance-between-two-distributions) of the textbook on TVD!"
   ]
  },
  {
   "cell_type": "markdown",
   "id": "6091ba1e",
   "metadata": {},
   "source": [
    "**Total variation distance (TVD)** is a special type of test statistic that we use when we want to compare two distributions of *categorical data*. It is often used when we observe that a set of observed proportions/probabilities is different than what we expect under the null model. \n",
    "\n",
    "Consider a six-sided die that we roll 6,000 times. If the die is fair, we would expect that each face comes up $\\frac{1}{6}$ of the time. By random chance, a fair die won't always result in equal proportions (that is, we won't get exactly 1,000 of each face). However, if we suspect that the die might be unfair based on the data, we can conduct a hypothesis test using TVD to compare the expected [$\\frac{1}{6}$, $\\frac{1}{6}$, $\\frac{1}{6}$, $\\frac{1}{6}$, $\\frac{1}{6}$, $\\frac{1}{6}$] distribution to what is actually observed.\n",
    "\n",
    "In this part of the homework, we'll look at how we can use TVD to determine the effect that different factors have on happiness. \n",
    "\n",
    "We will be working with data from the [Gallup World Poll](https://www.gallup.com/analytics/349487/gallup-global-happiness-center.aspx#:~:text=World%20Happiness%20Report&text=Using%20the%20Gallup%20World%20Poll,about%20the%20World%20Happiness%20Report.) that is presented in the World Happiness Report, a survey of the state of global happiness. The survey ranked 155 countries by overall happiness and estimated the influence that economic production, social support, life expectancy, freedom, absence of corruption, and generosity had on population happiness. The study has been repeated for several years, but we'll be looking at data from the 2016 survey.\n",
    "\n",
    "Run the cell below to load in the `happiness_scores` table."
   ]
  },
  {
   "cell_type": "code",
   "execution_count": 32,
   "id": "8c7cc88e",
   "metadata": {
    "execution": {
     "iopub.execute_input": "2022-03-02T18:14:43.583982Z",
     "iopub.status.busy": "2022-03-02T18:14:43.583502Z",
     "iopub.status.idle": "2022-03-02T18:14:43.593056Z",
     "shell.execute_reply": "2022-03-02T18:14:43.593408Z"
    }
   },
   "outputs": [
    {
     "data": {
      "text/html": [
       "<table border=\"1\" class=\"dataframe\">\n",
       "    <thead>\n",
       "        <tr>\n",
       "            <th>Country</th> <th>Region</th> <th>Happiness Rank</th> <th>Happiness Score</th> <th>Lower Confidence Interval</th> <th>Upper Confidence Interval</th> <th>Economy (GDP per Capita)</th> <th>Family</th> <th>Health (Life Expectancy)</th> <th>Freedom</th> <th>Trust (Government Corruption)</th> <th>Generosity</th>\n",
       "        </tr>\n",
       "    </thead>\n",
       "    <tbody>\n",
       "        <tr>\n",
       "            <td>Denmark    </td> <td>Western Europe</td> <td>1             </td> <td>7.526          </td> <td>7.46                     </td> <td>7.592                    </td> <td>1.44178                 </td> <td>1.16374</td> <td>0.79504                 </td> <td>0.57941</td> <td>0.44453                      </td> <td>0.36171   </td>\n",
       "        </tr>\n",
       "        <tr>\n",
       "            <td>Switzerland</td> <td>Western Europe</td> <td>2             </td> <td>7.509          </td> <td>7.428                    </td> <td>7.59                     </td> <td>1.52733                 </td> <td>1.14524</td> <td>0.86303                 </td> <td>0.58557</td> <td>0.41203                      </td> <td>0.28083   </td>\n",
       "        </tr>\n",
       "        <tr>\n",
       "            <td>Iceland    </td> <td>Western Europe</td> <td>3             </td> <td>7.501          </td> <td>7.333                    </td> <td>7.669                    </td> <td>1.42666                 </td> <td>1.18326</td> <td>0.86733                 </td> <td>0.56624</td> <td>0.14975                      </td> <td>0.47678   </td>\n",
       "        </tr>\n",
       "        <tr>\n",
       "            <td>Norway     </td> <td>Western Europe</td> <td>4             </td> <td>7.498          </td> <td>7.421                    </td> <td>7.575                    </td> <td>1.57744                 </td> <td>1.1269 </td> <td>0.79579                 </td> <td>0.59609</td> <td>0.35776                      </td> <td>0.37895   </td>\n",
       "        </tr>\n",
       "        <tr>\n",
       "            <td>Finland    </td> <td>Western Europe</td> <td>5             </td> <td>7.413          </td> <td>7.351                    </td> <td>7.475                    </td> <td>1.40598                 </td> <td>1.13464</td> <td>0.81091                 </td> <td>0.57104</td> <td>0.41004                      </td> <td>0.25492   </td>\n",
       "        </tr>\n",
       "    </tbody>\n",
       "</table>\n",
       "<p>... (152 rows omitted)</p>"
      ],
      "text/plain": [
       "<IPython.core.display.HTML object>"
      ]
     },
     "metadata": {},
     "output_type": "display_data"
    }
   ],
   "source": [
    "happiness_scores = Table.read_table(\"happiness_scores.csv\")\n",
    "happiness_scores.show(5)"
   ]
  },
  {
   "cell_type": "markdown",
   "id": "e4982191",
   "metadata": {},
   "source": [
    "Participants in the study were asked to evaluate their life satisfaction from a scale of 0 (worst possible life) to 10 (best possible life). The responses for each country were averaged to create the `Happiness Score`.\n",
    "\n",
    "The columns `Economy (GDP per Capita)`, `Family`, `Health (Life Expectancy)`, `Freedom`, `Trust (Government Corruption)`, and `Generosity` estimate the extent to which each factor influences happiness, both for better or for worse. The happiness score is the sum of these factors; the larger a factor is, the more it contributes to overall happiness. [In other words, if you add up all the factors (in addition to a \"Difference from Dystopia\" value we excluded in the dataset), you get the happiness score.]\n",
    "\n",
    "Let's look at the different factors that affect happiness in the United States. Run the cell below to view the row in `us_happiness` that contains data for the United States."
   ]
  },
  {
   "cell_type": "code",
   "execution_count": 33,
   "id": "0211a14e",
   "metadata": {
    "execution": {
     "iopub.execute_input": "2022-03-02T18:14:43.598766Z",
     "iopub.status.busy": "2022-03-02T18:14:43.597199Z",
     "iopub.status.idle": "2022-03-02T18:14:43.601813Z",
     "shell.execute_reply": "2022-03-02T18:14:43.601424Z"
    }
   },
   "outputs": [
    {
     "data": {
      "text/html": [
       "<table border=\"1\" class=\"dataframe\">\n",
       "    <thead>\n",
       "        <tr>\n",
       "            <th>Country</th> <th>Region</th> <th>Happiness Rank</th> <th>Happiness Score</th> <th>Lower Confidence Interval</th> <th>Upper Confidence Interval</th> <th>Economy (GDP per Capita)</th> <th>Family</th> <th>Health (Life Expectancy)</th> <th>Freedom</th> <th>Trust (Government Corruption)</th> <th>Generosity</th>\n",
       "        </tr>\n",
       "    </thead>\n",
       "    <tbody>\n",
       "        <tr>\n",
       "            <td>United States</td> <td>North America</td> <td>13            </td> <td>7.104          </td> <td>7.02                     </td> <td>7.188                    </td> <td>1.50796                 </td> <td>1.04782</td> <td>0.779                   </td> <td>0.48163</td> <td>0.14868                      </td> <td>0.41077   </td>\n",
       "        </tr>\n",
       "    </tbody>\n",
       "</table>"
      ],
      "text/plain": [
       "Country       | Region        | Happiness Rank | Happiness Score | Lower Confidence Interval | Upper Confidence Interval | Economy (GDP per Capita) | Family  | Health (Life Expectancy) | Freedom | Trust (Government Corruption) | Generosity\n",
       "United States | North America | 13             | 7.104           | 7.02                      | 7.188                     | 1.50796                  | 1.04782 | 0.779                    | 0.48163 | 0.14868                       | 0.41077"
      ]
     },
     "execution_count": 33,
     "metadata": {},
     "output_type": "execute_result"
    }
   ],
   "source": [
    "us_happiness = happiness_scores.where(\"Country\", \"United States\")\n",
    "us_happiness"
   ]
  },
  {
   "cell_type": "markdown",
   "id": "3ac77fe4",
   "metadata": {},
   "source": [
    "**To compare the different factors, we'll look at the proportion of the happiness score that is attributed to each variable. \n",
    "You can find these proportions in the table `us_happiness_factors` after running the cell below.**\n",
    "\n",
    "*Note:* The factors shown in `us_happiness` don't add up exactly to the happiness score, so we adjusted the proportions to  only account for the data we have access to. The proportions were found by dividing each Happiness Factor value by the sum of all Happiness Factor values in `us_happiness`."
   ]
  },
  {
   "cell_type": "code",
   "execution_count": 34,
   "id": "a0f8bb15",
   "metadata": {
    "execution": {
     "iopub.execute_input": "2022-03-02T18:14:43.605832Z",
     "iopub.status.busy": "2022-03-02T18:14:43.605320Z",
     "iopub.status.idle": "2022-03-02T18:14:43.612477Z",
     "shell.execute_reply": "2022-03-02T18:14:43.612861Z"
    }
   },
   "outputs": [
    {
     "data": {
      "text/html": [
       "<table border=\"1\" class=\"dataframe\">\n",
       "    <thead>\n",
       "        <tr>\n",
       "            <th>Happiness Factor</th> <th>Proportion of Happiness Score</th>\n",
       "        </tr>\n",
       "    </thead>\n",
       "    <tbody>\n",
       "        <tr>\n",
       "            <td>Economy (GDP per Capita)     </td> <td>0.344609                     </td>\n",
       "        </tr>\n",
       "        <tr>\n",
       "            <td>Family                       </td> <td>0.239455                     </td>\n",
       "        </tr>\n",
       "        <tr>\n",
       "            <td>Health (Life Expectancy)     </td> <td>0.178022                     </td>\n",
       "        </tr>\n",
       "        <tr>\n",
       "            <td>Freedom                      </td> <td>0.110065                     </td>\n",
       "        </tr>\n",
       "        <tr>\n",
       "            <td>Trust (Government Corruption)</td> <td>0.0339773                    </td>\n",
       "        </tr>\n",
       "        <tr>\n",
       "            <td>Generosity                   </td> <td>0.0938718                    </td>\n",
       "        </tr>\n",
       "    </tbody>\n",
       "</table>"
      ],
      "text/plain": [
       "Happiness Factor              | Proportion of Happiness Score\n",
       "Economy (GDP per Capita)      | 0.344609\n",
       "Family                        | 0.239455\n",
       "Health (Life Expectancy)      | 0.178022\n",
       "Freedom                       | 0.110065\n",
       "Trust (Government Corruption) | 0.0339773\n",
       "Generosity                    | 0.0938718"
      ]
     },
     "execution_count": 34,
     "metadata": {},
     "output_type": "execute_result"
    }
   ],
   "source": [
    "us_happiness_factors = Table().read_table(\"us_happiness_factors.csv\")\n",
    "us_happiness_factors"
   ]
  },
  {
   "cell_type": "markdown",
   "id": "3bceac17",
   "metadata": {},
   "source": [
    "**Question 2.1.** Suppose we want to test whether or not each factor contributes the same amount to the overall Happiness Score. Define the null hypothesis, alternative hypothesis, and test statistic in the cell below. Feel free to check your work with another student or course staff. **(4 points)**\n",
    "\n",
    "*Note:* Please format your answer as follows:\n",
    "- Null Hypothesis: ...  \n",
    "- Alternative Hypothesis: ...  \n",
    "- Test Statistic: ...  \n",
    "\n",
    "```\n",
    "BEGIN QUESTION\n",
    "name: q2_1\n",
    "manual: true\n",
    "```"
   ]
  },
  {
   "cell_type": "markdown",
   "id": "c87fa6a6",
   "metadata": {},
   "source": [
    "**SOLUTION:**\n",
    "\n",
    "- *Null Hypothesis:* Each factor contributes an equal amount to the happiness score. Any deviation is due to random chance.\n",
    "\n",
    "- *Alternative Hypothesis:* Some factors contribute more to the happiness score than other factors. \n",
    "\n",
    "- *Test Statistic:* the total variation distance (TVD) between the observed score proportions and the expected score proportions under the null. "
   ]
  },
  {
   "cell_type": "markdown",
   "id": "fc18250b",
   "metadata": {},
   "source": [
    "**Question 2.2.** Write a function `calculate_tvd` that takes in the observed distribution (`obs_dist`) and expected distribution under the null hypothesis (`null_dist`) and calculates the total variation distance. Use this function to set `observed_tvd` to be equal to the observed test statistic. **(4 points)**\n",
    "\n",
    "```\n",
    "BEGIN QUESTION\n",
    "name: q2_2\n",
    "manual: false\n",
    "points:\n",
    " - 2\n",
    " - 2\n",
    "```"
   ]
  },
  {
   "cell_type": "code",
   "execution_count": 35,
   "id": "278e0c94",
   "metadata": {
    "execution": {
     "iopub.execute_input": "2022-03-02T18:14:43.618347Z",
     "iopub.status.busy": "2022-03-02T18:14:43.617820Z",
     "iopub.status.idle": "2022-03-02T18:14:43.620642Z",
     "shell.execute_reply": "2022-03-02T18:14:43.620261Z"
    }
   },
   "outputs": [
    {
     "data": {
      "text/plain": [
       "0.26208562431156396"
      ]
     },
     "execution_count": 35,
     "metadata": {},
     "output_type": "execute_result"
    }
   ],
   "source": [
    "null_distribution = np.ones(6) * (1/6)\n",
    "\n",
    "def calculate_tvd(obs_dist, null_dist):\n",
    "    # BEGIN SOLUTION\n",
    "    return sum(abs(obs_dist - null_dist))/2\n",
    "    # END SOLUTION\n",
    "    \n",
    "observed_tvd = calculate_tvd(us_happiness_factors.column(\"Proportion of Happiness Score\"), null_distribution) # SOLUTION\n",
    "observed_tvd"
   ]
  },
  {
   "cell_type": "code",
   "execution_count": 36,
   "id": "19bbae75",
   "metadata": {
    "execution": {
     "iopub.execute_input": "2022-03-02T18:14:43.624968Z",
     "iopub.status.busy": "2022-03-02T18:14:43.624437Z",
     "iopub.status.idle": "2022-03-02T18:14:43.627250Z",
     "shell.execute_reply": "2022-03-02T18:14:43.626738Z"
    }
   },
   "outputs": [
    {
     "data": {
      "text/plain": [
       "True"
      ]
     },
     "execution_count": 36,
     "metadata": {},
     "output_type": "execute_result"
    }
   ],
   "source": [
    "# TEST\n",
    "import numpy as np\n",
    "type(observed_tvd) in set([float, np.float32, np.float64])"
   ]
  },
  {
   "cell_type": "code",
   "execution_count": 37,
   "id": "a48a8ce5",
   "metadata": {
    "execution": {
     "iopub.execute_input": "2022-03-02T18:14:43.631680Z",
     "iopub.status.busy": "2022-03-02T18:14:43.631179Z",
     "iopub.status.idle": "2022-03-02T18:14:43.633914Z",
     "shell.execute_reply": "2022-03-02T18:14:43.633516Z"
    }
   },
   "outputs": [
    {
     "data": {
      "text/plain": [
       "True"
      ]
     },
     "execution_count": 37,
     "metadata": {},
     "output_type": "execute_result"
    }
   ],
   "source": [
    "# TEST\n",
    "np.isclose(round(observed_tvd, 6), 0.262086)"
   ]
  },
  {
   "cell_type": "markdown",
   "id": "243890ff",
   "metadata": {},
   "source": [
    "**Question 2.3.** Create an array called `simulated_tvds` that contains 10,000 simulated values under the null hypothesis. Assume that the original sample consisted of 1,000 individuals. **(4 points)**\n",
    "\n",
    "*Hint:* The `sample_proportions` function may be helpful to you. Refer to the [Python Reference Sheet](http://data8.org/sp22/python-reference.html#:~:text=sample_proportions(sample_size%2C%20model_proportions)) to read up on it!\n",
    "\n",
    "```\n",
    "BEGIN QUESTION\n",
    "name: q2_3\n",
    "manual: false\n",
    "points:\n",
    " - 1\n",
    " - 1\n",
    " - 1\n",
    " - 1\n",
    "```"
   ]
  },
  {
   "cell_type": "code",
   "execution_count": 38,
   "id": "bd5d3fd2",
   "metadata": {
    "execution": {
     "iopub.execute_input": "2022-03-02T18:14:43.638641Z",
     "iopub.status.busy": "2022-03-02T18:14:43.638194Z",
     "iopub.status.idle": "2022-03-02T18:14:43.850909Z",
     "shell.execute_reply": "2022-03-02T18:14:43.851416Z"
    }
   },
   "outputs": [],
   "source": [
    "simulated_tvds = make_array() # SOLUTION\n",
    "\n",
    "# BEGIN SOLUTION\n",
    "for i in np.arange(10000):\n",
    "    simulated_proportions = sample_proportions(1000, null_distribution)\n",
    "    one_tvd = calculate_tvd(simulated_proportions, null_distribution)\n",
    "    simulated_tvds = np.append(simulated_tvds, one_tvd)\n",
    "# END SOLUTION"
   ]
  },
  {
   "cell_type": "code",
   "execution_count": 39,
   "id": "a2f1315c",
   "metadata": {
    "execution": {
     "iopub.execute_input": "2022-03-02T18:14:43.855881Z",
     "iopub.status.busy": "2022-03-02T18:14:43.855402Z",
     "iopub.status.idle": "2022-03-02T18:14:43.858793Z",
     "shell.execute_reply": "2022-03-02T18:14:43.858294Z"
    }
   },
   "outputs": [
    {
     "data": {
      "text/plain": [
       "True"
      ]
     },
     "execution_count": 39,
     "metadata": {},
     "output_type": "execute_result"
    }
   ],
   "source": [
    "# TEST\n",
    "len(simulated_tvds) == 10000"
   ]
  },
  {
   "cell_type": "code",
   "execution_count": 40,
   "id": "2774a983",
   "metadata": {
    "execution": {
     "iopub.execute_input": "2022-03-02T18:14:43.863304Z",
     "iopub.status.busy": "2022-03-02T18:14:43.862821Z",
     "iopub.status.idle": "2022-03-02T18:14:43.865857Z",
     "shell.execute_reply": "2022-03-02T18:14:43.865327Z"
    }
   },
   "outputs": [
    {
     "data": {
      "text/plain": [
       "True"
      ]
     },
     "execution_count": 40,
     "metadata": {},
     "output_type": "execute_result"
    }
   ],
   "source": [
    "# TEST\n",
    "all(simulated_tvds >= 0)"
   ]
  },
  {
   "cell_type": "code",
   "execution_count": 41,
   "id": "0923332b",
   "metadata": {
    "execution": {
     "iopub.execute_input": "2022-03-02T18:14:43.869539Z",
     "iopub.status.busy": "2022-03-02T18:14:43.869108Z",
     "iopub.status.idle": "2022-03-02T18:14:43.883078Z",
     "shell.execute_reply": "2022-03-02T18:14:43.883471Z"
    }
   },
   "outputs": [
    {
     "data": {
      "text/plain": [
       "True"
      ]
     },
     "execution_count": 41,
     "metadata": {},
     "output_type": "execute_result"
    }
   ],
   "source": [
    "# TEST\n",
    "# Make sure that your test statistic is not always the same value \n",
    "len(np.unique(simulated_tvds)) != 1"
   ]
  },
  {
   "cell_type": "code",
   "execution_count": 42,
   "id": "d099771e",
   "metadata": {
    "execution": {
     "iopub.execute_input": "2022-03-02T18:14:43.888358Z",
     "iopub.status.busy": "2022-03-02T18:14:43.887299Z",
     "iopub.status.idle": "2022-03-02T18:14:43.891521Z",
     "shell.execute_reply": "2022-03-02T18:14:43.891027Z"
    }
   },
   "outputs": [
    {
     "data": {
      "text/plain": [
       "True"
      ]
     },
     "execution_count": 42,
     "metadata": {},
     "output_type": "execute_result"
    }
   ],
   "source": [
    "# TEST\n",
    "# Make sure you're simulating under the null hypothesis\n",
    "np.mean(simulated_tvds) < 0.1"
   ]
  },
  {
   "cell_type": "markdown",
   "id": "9dc65ad6",
   "metadata": {},
   "source": [
    "Run the cell below to plot a histogram of your simulated test statistics, as well as a red dot representing the observed value of the test statistic."
   ]
  },
  {
   "cell_type": "code",
   "execution_count": 43,
   "id": "e4a873a0",
   "metadata": {
    "execution": {
     "iopub.execute_input": "2022-03-02T18:14:43.917214Z",
     "iopub.status.busy": "2022-03-02T18:14:43.912346Z",
     "iopub.status.idle": "2022-03-02T18:14:44.142029Z",
     "shell.execute_reply": "2022-03-02T18:14:44.141505Z"
    }
   },
   "outputs": [
    {
     "data": {
      "image/png": "[encoded data removed]",
      "text/plain": [
       "<Figure size 432x288 with 1 Axes>"
      ]
     },
     "metadata": {},
     "output_type": "display_data"
    }
   ],
   "source": [
    "Table().with_column(\"Simulated TVDs\", simulated_tvds).hist()\n",
    "plt.scatter(observed_tvd, 0, color='red', s=70, zorder=2);\n",
    "plt.show();"
   ]
  },
  {
   "cell_type": "markdown",
   "id": "7b6ddb57",
   "metadata": {},
   "source": [
    "**Question 2.4.** Use your simulated statistics to calculate the p-value of your test. Make sure that this number is consistent with what you observed in the histogram above. **(4 points)**\n",
    "\n",
    "```\n",
    "BEGIN QUESTION\n",
    "name: q2_4\n",
    "manual: false\n",
    "points:\n",
    " - 4\n",
    "```"
   ]
  },
  {
   "cell_type": "code",
   "execution_count": 44,
   "id": "3d9abe71",
   "metadata": {
    "execution": {
     "iopub.execute_input": "2022-03-02T18:14:44.147197Z",
     "iopub.status.busy": "2022-03-02T18:14:44.146596Z",
     "iopub.status.idle": "2022-03-02T18:14:44.151085Z",
     "shell.execute_reply": "2022-03-02T18:14:44.150555Z"
    }
   },
   "outputs": [
    {
     "data": {
      "text/plain": [
       "0.0"
      ]
     },
     "execution_count": 44,
     "metadata": {},
     "output_type": "execute_result"
    }
   ],
   "source": [
    "p_value_tvd = np.count_nonzero(simulated_tvds >= observed_tvd) / 10000 # SOLUTION\n",
    "p_value_tvd"
   ]
  },
  {
   "cell_type": "code",
   "execution_count": 45,
   "id": "278d4f45",
   "metadata": {
    "execution": {
     "iopub.execute_input": "2022-03-02T18:14:44.155359Z",
     "iopub.status.busy": "2022-03-02T18:14:44.154839Z",
     "iopub.status.idle": "2022-03-02T18:14:44.157946Z",
     "shell.execute_reply": "2022-03-02T18:14:44.157499Z"
    }
   },
   "outputs": [
    {
     "data": {
      "text/plain": [
       "True"
      ]
     },
     "execution_count": 45,
     "metadata": {},
     "output_type": "execute_result"
    }
   ],
   "source": [
    "# TEST\n",
    "0 <= p_value_tvd <= 1"
   ]
  },
  {
   "cell_type": "markdown",
   "id": "fe57e457",
   "metadata": {},
   "source": [
    "**Question 2.5.** What can you conclude about how each factor contributes to the overall happiness score in the US? Explain your answer using the results of your hypothesis test. Assume a p-value cutoff of 5%. **(4 points)**\n",
    "\n",
    "```\n",
    "BEGIN QUESTION\n",
    "name: q2_5\n",
    "manual: true\n",
    "```"
   ]
  },
  {
   "cell_type": "markdown",
   "id": "78bce16b",
   "metadata": {},
   "source": [
    "**SOLUTION:** The p-value is less than our cutoff, so the data is more consistent with the alternative hypothesis. The factors do not equally contribute to the overall happiness score of a country."
   ]
  },
  {
   "cell_type": "markdown",
   "id": "2f375ce0",
   "metadata": {},
   "source": [
    "## 3. Who is Older?\n",
    "\n",
    "Data scientists have drawn a simple random sample of size 500 from a large population of adults. Each member of the population happened to identify as either \"male\" or \"female\". Data was collected on several attributes of the sampled people, including age. The table `sampled_ages` contains one row for each person in the sample, with columns containing the individual's gender identity."
   ]
  },
  {
   "cell_type": "code",
   "execution_count": 47,
   "id": "c2ca879a",
   "metadata": {
    "execution": {
     "iopub.execute_input": "2022-03-02T18:14:44.184210Z",
     "iopub.status.busy": "2022-03-02T18:14:44.183690Z",
     "iopub.status.idle": "2022-03-02T18:14:44.192074Z",
     "shell.execute_reply": "2022-03-02T18:14:44.191560Z"
    }
   },
   "outputs": [
    {
     "data": {
      "text/html": [
       "<table border=\"1\" class=\"dataframe\">\n",
       "    <thead>\n",
       "        <tr>\n",
       "            <th>Gender</th> <th>Age</th>\n",
       "        </tr>\n",
       "    </thead>\n",
       "    <tbody>\n",
       "        <tr>\n",
       "            <td>male  </td> <td>23  </td>\n",
       "        </tr>\n",
       "        <tr>\n",
       "            <td>male  </td> <td>29  </td>\n",
       "        </tr>\n",
       "        <tr>\n",
       "            <td>male  </td> <td>29  </td>\n",
       "        </tr>\n",
       "        <tr>\n",
       "            <td>female</td> <td>49  </td>\n",
       "        </tr>\n",
       "        <tr>\n",
       "            <td>female</td> <td>33  </td>\n",
       "        </tr>\n",
       "    </tbody>\n",
       "</table>\n",
       "<p>... (495 rows omitted)</p>"
      ],
      "text/plain": [
       "<IPython.core.display.HTML object>"
      ]
     },
     "metadata": {},
     "output_type": "display_data"
    }
   ],
   "source": [
    "sampled_ages = Table.read_table('age.csv')\n",
    "sampled_ages.show(5)"
   ]
  },
  {
   "cell_type": "markdown",
   "id": "2fff5fc4",
   "metadata": {},
   "source": [
    "**Question 3.1.** How many females were there in our sample? Please use the provided skeleton code. **(4 points)**\n",
    "\n",
    "*Hint:* Keep in mind that `.group` sorts categories in alphabetical order!\n",
    "\n",
    "```\n",
    "BEGIN QUESTION\n",
    "name: q3_1\n",
    "manual: false\n",
    "points:\n",
    " - 0\n",
    " - 4\n",
    "```"
   ]
  },
  {
   "cell_type": "code",
   "execution_count": 48,
   "id": "589c56dc",
   "metadata": {
    "execution": {
     "iopub.execute_input": "2022-03-02T18:14:44.211347Z",
     "iopub.status.busy": "2022-03-02T18:14:44.210602Z",
     "iopub.status.idle": "2022-03-02T18:14:44.213793Z",
     "shell.execute_reply": "2022-03-02T18:14:44.213399Z"
    }
   },
   "outputs": [
    {
     "data": {
      "text/plain": [
       "260"
      ]
     },
     "execution_count": 48,
     "metadata": {},
     "output_type": "execute_result"
    }
   ],
   "source": [
    "\"\"\" # BEGIN PROMPT\n",
    "num_females = sampled_ages.group(...)...\n",
    "num_females\n",
    "\"\"\"; # END PROMPT\n",
    "# BEGIN SOLUTION NO PROMPT\n",
    "num_females = sampled_ages.group('Gender').column(1).item(0)\n",
    "num_females\n",
    "# END SOLUTION"
   ]
  },
  {
   "cell_type": "code",
   "execution_count": 49,
   "id": "1c8b3dac",
   "metadata": {
    "execution": {
     "iopub.execute_input": "2022-03-02T18:14:44.217900Z",
     "iopub.status.busy": "2022-03-02T18:14:44.217466Z",
     "iopub.status.idle": "2022-03-02T18:14:44.221290Z",
     "shell.execute_reply": "2022-03-02T18:14:44.220689Z"
    }
   },
   "outputs": [
    {
     "data": {
      "text/plain": [
       "True"
      ]
     },
     "execution_count": 49,
     "metadata": {},
     "output_type": "execute_result"
    }
   ],
   "source": [
    "# TEST\n",
    "0 <= num_females <= 500"
   ]
  },
  {
   "cell_type": "code",
   "execution_count": 50,
   "id": "5fa9cb1f",
   "metadata": {
    "execution": {
     "iopub.execute_input": "2022-03-02T18:14:44.225249Z",
     "iopub.status.busy": "2022-03-02T18:14:44.224801Z",
     "iopub.status.idle": "2022-03-02T18:14:44.227662Z",
     "shell.execute_reply": "2022-03-02T18:14:44.227278Z"
    }
   },
   "outputs": [
    {
     "data": {
      "text/plain": [
       "True"
      ]
     },
     "execution_count": 50,
     "metadata": {},
     "output_type": "execute_result"
    }
   ],
   "source": [
    "# HIDDEN TEST\n",
    "num_females == 260"
   ]
  },
  {
   "cell_type": "markdown",
   "id": "6f8a4abb",
   "metadata": {},
   "source": [
    "**Question 3.2.** Complete the cell below so that `avg_male_vs_female` evaluates to `True` if the sampled males are older than the sampled females on average, and `False` otherwise. Use Python code to achieve this. **(4 points)**\n",
    "\n",
    "```\n",
    "BEGIN QUESTION\n",
    "name: q3_2\n",
    "manual: false\n",
    "points:\n",
    " - 0\n",
    " - 4\n",
    "```"
   ]
  },
  {
   "cell_type": "code",
   "execution_count": 51,
   "id": "68aeffdd",
   "metadata": {
    "execution": {
     "iopub.execute_input": "2022-03-02T18:14:44.247130Z",
     "iopub.status.busy": "2022-03-02T18:14:44.246618Z",
     "iopub.status.idle": "2022-03-02T18:14:44.249534Z",
     "shell.execute_reply": "2022-03-02T18:14:44.249131Z"
    }
   },
   "outputs": [
    {
     "data": {
      "text/plain": [
       "True"
      ]
     },
     "execution_count": 51,
     "metadata": {},
     "output_type": "execute_result"
    }
   ],
   "source": [
    "\"\"\" # BEGIN PROMPT\n",
    "group_mean_tbl = sampled_ages.group(...)\n",
    "group_means = group_mean_tbl...       # array of mean ages\n",
    "avg_male_vs_female = group_means... > group_means...\n",
    "avg_male_vs_female\n",
    "\"\"\"; # END PROMPT\n",
    "# BEGIN SOLUTION NO PROMPT\n",
    "group_mean_tbl = sampled_ages.group('Gender', np.average)\n",
    "group_means = group_mean_tbl.column(1)\n",
    "avg_male_vs_female = group_means.item(1) > group_means.item(0)\n",
    "avg_male_vs_female\n",
    "# END SOLUTION"
   ]
  },
  {
   "cell_type": "code",
   "execution_count": 52,
   "id": "c3a59417",
   "metadata": {
    "execution": {
     "iopub.execute_input": "2022-03-02T18:14:44.282270Z",
     "iopub.status.busy": "2022-03-02T18:14:44.281727Z",
     "iopub.status.idle": "2022-03-02T18:14:44.284668Z",
     "shell.execute_reply": "2022-03-02T18:14:44.285073Z"
    }
   },
   "outputs": [
    {
     "data": {
      "text/plain": [
       "True"
      ]
     },
     "execution_count": 52,
     "metadata": {},
     "output_type": "execute_result"
    }
   ],
   "source": [
    "# TEST\n",
    "import numpy as np\n",
    "type(avg_male_vs_female) in set([bool, np.bool_])"
   ]
  },
  {
   "cell_type": "code",
   "execution_count": 53,
   "id": "2c213b22",
   "metadata": {
    "execution": {
     "iopub.execute_input": "2022-03-02T18:14:44.289438Z",
     "iopub.status.busy": "2022-03-02T18:14:44.288884Z",
     "iopub.status.idle": "2022-03-02T18:14:44.292241Z",
     "shell.execute_reply": "2022-03-02T18:14:44.291745Z"
    }
   },
   "outputs": [
    {
     "data": {
      "text/plain": [
       "True"
      ]
     },
     "execution_count": 53,
     "metadata": {},
     "output_type": "execute_result"
    }
   ],
   "source": [
    "# HIDDEN TEST\n",
    "avg_male_vs_female == True"
   ]
  },
  {
   "cell_type": "markdown",
   "id": "0552e532",
   "metadata": {},
   "source": [
    "**Question 3.3.** The data scientists want to use the data to test whether males are older than females—or, in other words, whether the ages of the two groups have the same distribution. One of the following statements is their null hypothesis and another is their alternative hypothesis. Assign `null_statement_number` and `alternative_statement_number` to the numbers of the correct statements in the code cell below. **(4 points)**\n",
    "\n",
    "1. In the sample, the males and females have the same distribution of ages; the sample averages of the two groups are different due to chance.\n",
    "2. In the population, the males and females have the same distribution of ages; the sample averages of the two groups are different due to chance.\n",
    "3. The age distributions of males and females in the population are different due to chance.\n",
    "4. The males in the sample are older than the females, on average.\n",
    "5. The males in the population are older than the females, on average.\n",
    "6. The average ages of the males and females in the population are different.\n",
    "\n",
    "```\n",
    "BEGIN QUESTION\n",
    "name: q3_3\n",
    "manual: false\n",
    "points:\n",
    " - 0\n",
    " - 0\n",
    " - 0\n",
    " - 0\n",
    " - 0\n",
    " - 2\n",
    " - 2\n",
    "```"
   ]
  },
  {
   "cell_type": "code",
   "execution_count": 54,
   "id": "91191ee9",
   "metadata": {
    "execution": {
     "iopub.execute_input": "2022-03-02T18:14:44.296344Z",
     "iopub.status.busy": "2022-03-02T18:14:44.295816Z",
     "iopub.status.idle": "2022-03-02T18:14:44.298068Z",
     "shell.execute_reply": "2022-03-02T18:14:44.297643Z"
    }
   },
   "outputs": [],
   "source": [
    "null_statement_number = 2 # SOLUTION\n",
    "alternative_statement_number = 5 # SOLUTION"
   ]
  },
  {
   "cell_type": "code",
   "execution_count": 55,
   "id": "46c78702",
   "metadata": {
    "execution": {
     "iopub.execute_input": "2022-03-02T18:14:44.302375Z",
     "iopub.status.busy": "2022-03-02T18:14:44.301854Z",
     "iopub.status.idle": "2022-03-02T18:14:44.304488Z",
     "shell.execute_reply": "2022-03-02T18:14:44.304870Z"
    }
   },
   "outputs": [
    {
     "data": {
      "text/plain": [
       "True"
      ]
     },
     "execution_count": 55,
     "metadata": {},
     "output_type": "execute_result"
    }
   ],
   "source": [
    "# TEST\n",
    "type(null_statement_number) == int"
   ]
  },
  {
   "cell_type": "code",
   "execution_count": 56,
   "id": "fc2fe601",
   "metadata": {
    "execution": {
     "iopub.execute_input": "2022-03-02T18:14:44.309197Z",
     "iopub.status.busy": "2022-03-02T18:14:44.308708Z",
     "iopub.status.idle": "2022-03-02T18:14:44.311626Z",
     "shell.execute_reply": "2022-03-02T18:14:44.312021Z"
    }
   },
   "outputs": [
    {
     "data": {
      "text/plain": [
       "True"
      ]
     },
     "execution_count": 56,
     "metadata": {},
     "output_type": "execute_result"
    }
   ],
   "source": [
    "# TEST\n",
    "type(alternative_statement_number) == int"
   ]
  },
  {
   "cell_type": "code",
   "execution_count": 57,
   "id": "415dbc10",
   "metadata": {
    "execution": {
     "iopub.execute_input": "2022-03-02T18:14:44.316777Z",
     "iopub.status.busy": "2022-03-02T18:14:44.316335Z",
     "iopub.status.idle": "2022-03-02T18:14:44.319379Z",
     "shell.execute_reply": "2022-03-02T18:14:44.318814Z"
    }
   },
   "outputs": [
    {
     "data": {
      "text/plain": [
       "True"
      ]
     },
     "execution_count": 57,
     "metadata": {},
     "output_type": "execute_result"
    }
   ],
   "source": [
    "# TEST\n",
    "any(null_statement_number == x for x in np.arange(1,7))"
   ]
  },
  {
   "cell_type": "code",
   "execution_count": 58,
   "id": "a491f29c",
   "metadata": {
    "execution": {
     "iopub.execute_input": "2022-03-02T18:14:44.323753Z",
     "iopub.status.busy": "2022-03-02T18:14:44.323258Z",
     "iopub.status.idle": "2022-03-02T18:14:44.326312Z",
     "shell.execute_reply": "2022-03-02T18:14:44.325873Z"
    }
   },
   "outputs": [
    {
     "data": {
      "text/plain": [
       "True"
      ]
     },
     "execution_count": 58,
     "metadata": {},
     "output_type": "execute_result"
    }
   ],
   "source": [
    "# TEST\n",
    "any(alternative_statement_number == x for x in np.arange(1,7))"
   ]
  },
  {
   "cell_type": "code",
   "execution_count": 59,
   "id": "1d5b0259",
   "metadata": {
    "execution": {
     "iopub.execute_input": "2022-03-02T18:14:44.330229Z",
     "iopub.status.busy": "2022-03-02T18:14:44.329686Z",
     "iopub.status.idle": "2022-03-02T18:14:44.332229Z",
     "shell.execute_reply": "2022-03-02T18:14:44.332553Z"
    }
   },
   "outputs": [
    {
     "data": {
      "text/plain": [
       "True"
      ]
     },
     "execution_count": 59,
     "metadata": {},
     "output_type": "execute_result"
    }
   ],
   "source": [
    "# TEST\n",
    "null_statement_number != alternative_statement_number"
   ]
  },
  {
   "cell_type": "code",
   "execution_count": 60,
   "id": "b59a112b",
   "metadata": {
    "execution": {
     "iopub.execute_input": "2022-03-02T18:14:44.336269Z",
     "iopub.status.busy": "2022-03-02T18:14:44.334771Z",
     "iopub.status.idle": "2022-03-02T18:14:44.338948Z",
     "shell.execute_reply": "2022-03-02T18:14:44.339452Z"
    }
   },
   "outputs": [
    {
     "data": {
      "text/plain": [
       "True"
      ]
     },
     "execution_count": 60,
     "metadata": {},
     "output_type": "execute_result"
    }
   ],
   "source": [
    "# HIDDEN TEST\n",
    "null_statement_number == 2"
   ]
  },
  {
   "cell_type": "code",
   "execution_count": 61,
   "id": "d2b8ad43",
   "metadata": {
    "execution": {
     "iopub.execute_input": "2022-03-02T18:14:44.343411Z",
     "iopub.status.busy": "2022-03-02T18:14:44.342899Z",
     "iopub.status.idle": "2022-03-02T18:14:44.345426Z",
     "shell.execute_reply": "2022-03-02T18:14:44.345764Z"
    }
   },
   "outputs": [
    {
     "data": {
      "text/plain": [
       "True"
      ]
     },
     "execution_count": 61,
     "metadata": {},
     "output_type": "execute_result"
    }
   ],
   "source": [
    "# HIDDEN TEST\n",
    "alternative_statement_number == 5"
   ]
  },
  {
   "cell_type": "markdown",
   "id": "0c1aaf49",
   "metadata": {},
   "source": [
    "**Question 3.4.** The data scientists have decided to use a permutation test. Assign `permutation_test_reason` to the number corresponding to the reason they made this choice. **(4 points)**\n",
    "\n",
    "1. Since a person's age shouldn't be related to their gender, it doesn't matter who is labeled \"male\" and who is labeled \"female\", so you can use permutations.\n",
    "2. Under the null hypothesis, permuting the labels in the `sampled_ages` table is equivalent to drawing a new random sample with the same number of males and females as in the original sample.\n",
    "3. Under the null hypothesis, permuting the rows of `sampled_ages` table is equivalent to drawing a new random sample with the same number of males and females as in the original sample.\n",
    "\n",
    "```\n",
    "BEGIN QUESTION\n",
    "name: q3_4\n",
    "manual: false\n",
    "points:\n",
    " - 0\n",
    " - 0\n",
    " - 4\n",
    "```"
   ]
  },
  {
   "cell_type": "code",
   "execution_count": 62,
   "id": "94f199d2",
   "metadata": {
    "execution": {
     "iopub.execute_input": "2022-03-02T18:14:44.381699Z",
     "iopub.status.busy": "2022-03-02T18:14:44.381069Z",
     "iopub.status.idle": "2022-03-02T18:14:44.382821Z",
     "shell.execute_reply": "2022-03-02T18:14:44.382153Z"
    }
   },
   "outputs": [],
   "source": [
    "\"\"\" # BEGIN PROMPT\n",
    "permutation_test_reason = ...\n",
    "permutation_test_reason\n",
    "\"\"\"; # END PROMPT\n",
    "# BEGIN SOLUTION NO PROMPT\n",
    "permutation_test_reason = 2 \n",
    "# END SOLUTION"
   ]
  },
  {
   "cell_type": "code",
   "execution_count": 63,
   "id": "c4e740d4",
   "metadata": {
    "execution": {
     "iopub.execute_input": "2022-03-02T18:14:44.386904Z",
     "iopub.status.busy": "2022-03-02T18:14:44.386467Z",
     "iopub.status.idle": "2022-03-02T18:14:44.389569Z",
     "shell.execute_reply": "2022-03-02T18:14:44.389161Z"
    }
   },
   "outputs": [
    {
     "data": {
      "text/plain": [
       "True"
      ]
     },
     "execution_count": 63,
     "metadata": {},
     "output_type": "execute_result"
    }
   ],
   "source": [
    "# TEST\n",
    "type(permutation_test_reason) == int"
   ]
  },
  {
   "cell_type": "code",
   "execution_count": 64,
   "id": "8169b3aa",
   "metadata": {
    "execution": {
     "iopub.execute_input": "2022-03-02T18:14:44.393828Z",
     "iopub.status.busy": "2022-03-02T18:14:44.393405Z",
     "iopub.status.idle": "2022-03-02T18:14:44.396383Z",
     "shell.execute_reply": "2022-03-02T18:14:44.395965Z"
    }
   },
   "outputs": [
    {
     "data": {
      "text/plain": [
       "True"
      ]
     },
     "execution_count": 64,
     "metadata": {},
     "output_type": "execute_result"
    }
   ],
   "source": [
    "# TEST\n",
    "any(permutation_test_reason == x for x in np.arange(1,4))"
   ]
  },
  {
   "cell_type": "code",
   "execution_count": 65,
   "id": "7a0d0d98",
   "metadata": {
    "execution": {
     "iopub.execute_input": "2022-03-02T18:14:44.400418Z",
     "iopub.status.busy": "2022-03-02T18:14:44.399853Z",
     "iopub.status.idle": "2022-03-02T18:14:44.403341Z",
     "shell.execute_reply": "2022-03-02T18:14:44.402934Z"
    }
   },
   "outputs": [
    {
     "data": {
      "text/plain": [
       "True"
      ]
     },
     "execution_count": 65,
     "metadata": {},
     "output_type": "execute_result"
    }
   ],
   "source": [
    "# HIDDEN TEST\n",
    "permutation_test_reason == 2 "
   ]
  },
  {
   "cell_type": "markdown",
   "id": "4cdf2dd9",
   "metadata": {},
   "source": [
    "**Question 3.5.** To test their hypotheses, the data scientists have followed our textbook's advice and chosen a test statistic where the following statement is true: Large values of the test statistic favor the alternative hypothesis.\n",
    "\n",
    "The data scientists' test statistic is one of the two options below. Which one is it? Assign the appropriate number to the variable `correct_test_stat`. **(4 points)**\n",
    "\n",
    "1. \"male age average - female age average\" in a sample created by randomly shuffling the male/female labels\n",
    "2. \"|male age average - female age average|\" in a sample created by randomly shuffling the male/female labels\n",
    "\n",
    "```\n",
    "BEGIN QUESTION\n",
    "name: q3_5\n",
    "manual: false\n",
    "points:\n",
    " - 0\n",
    " - 0\n",
    " - 4\n",
    "```"
   ]
  },
  {
   "cell_type": "code",
   "execution_count": 66,
   "id": "c86ea6fd",
   "metadata": {
    "execution": {
     "iopub.execute_input": "2022-03-02T18:14:44.407008Z",
     "iopub.status.busy": "2022-03-02T18:14:44.406524Z",
     "iopub.status.idle": "2022-03-02T18:14:44.409458Z",
     "shell.execute_reply": "2022-03-02T18:14:44.409799Z"
    }
   },
   "outputs": [
    {
     "data": {
      "text/plain": [
       "1"
      ]
     },
     "execution_count": 66,
     "metadata": {},
     "output_type": "execute_result"
    }
   ],
   "source": [
    "correct_test_stat = 1 # SOLUTION\n",
    "correct_test_stat"
   ]
  },
  {
   "cell_type": "code",
   "execution_count": 67,
   "id": "bbe7abc9",
   "metadata": {
    "execution": {
     "iopub.execute_input": "2022-03-02T18:14:44.413940Z",
     "iopub.status.busy": "2022-03-02T18:14:44.413441Z",
     "iopub.status.idle": "2022-03-02T18:14:44.416778Z",
     "shell.execute_reply": "2022-03-02T18:14:44.416080Z"
    }
   },
   "outputs": [
    {
     "data": {
      "text/plain": [
       "True"
      ]
     },
     "execution_count": 67,
     "metadata": {},
     "output_type": "execute_result"
    }
   ],
   "source": [
    "# TEST\n",
    "type(correct_test_stat) == int"
   ]
  },
  {
   "cell_type": "code",
   "execution_count": 68,
   "id": "abc78942",
   "metadata": {
    "execution": {
     "iopub.execute_input": "2022-03-02T18:14:44.421049Z",
     "iopub.status.busy": "2022-03-02T18:14:44.420584Z",
     "iopub.status.idle": "2022-03-02T18:14:44.423240Z",
     "shell.execute_reply": "2022-03-02T18:14:44.423607Z"
    }
   },
   "outputs": [
    {
     "data": {
      "text/plain": [
       "True"
      ]
     },
     "execution_count": 68,
     "metadata": {},
     "output_type": "execute_result"
    }
   ],
   "source": [
    "# TEST\n",
    "any(correct_test_stat == x for x in np.arange(1,3))"
   ]
  },
  {
   "cell_type": "code",
   "execution_count": 69,
   "id": "e59cdaf1",
   "metadata": {
    "execution": {
     "iopub.execute_input": "2022-03-02T18:14:44.427551Z",
     "iopub.status.busy": "2022-03-02T18:14:44.427128Z",
     "iopub.status.idle": "2022-03-02T18:14:44.429810Z",
     "shell.execute_reply": "2022-03-02T18:14:44.430216Z"
    }
   },
   "outputs": [
    {
     "data": {
      "text/plain": [
       "True"
      ]
     },
     "execution_count": 69,
     "metadata": {},
     "output_type": "execute_result"
    }
   ],
   "source": [
    "# HIDDEN TEST\n",
    "correct_test_stat == 1"
   ]
  },
  {
   "cell_type": "markdown",
   "id": "08910a98",
   "metadata": {},
   "source": [
    "**Question 3.6.** Complete the cell below so that `observed_statistic_ab` evaluates to the observed value of the data scientists' test statistic. Use as many lines of code as you need, and remember that you can use any quantity, table, or array that you created earlier. **(4 points)**\n",
    "\n",
    "```\n",
    "BEGIN QUESTION\n",
    "name: q3_6\n",
    "manual: false\n",
    "points:\n",
    " - 0\n",
    " - 0\n",
    " - 4\n",
    "```"
   ]
  },
  {
   "cell_type": "code",
   "execution_count": 70,
   "id": "02824acd",
   "metadata": {
    "execution": {
     "iopub.execute_input": "2022-03-02T18:14:44.434712Z",
     "iopub.status.busy": "2022-03-02T18:14:44.434282Z",
     "iopub.status.idle": "2022-03-02T18:14:44.437320Z",
     "shell.execute_reply": "2022-03-02T18:14:44.436918Z"
    }
   },
   "outputs": [
    {
     "data": {
      "text/plain": [
       "1.314102564102562"
      ]
     },
     "execution_count": 70,
     "metadata": {},
     "output_type": "execute_result"
    }
   ],
   "source": [
    "\"\"\" # BEGIN PROMPT\n",
    "observed_statistic_ab = ...\n",
    "\"\"\"; # END PROMPT\n",
    "# BEGIN SOLUTION NO PROMPT\n",
    "# Note to staff: They'll get the same value even if they chose #2 in Q5.\n",
    "# That's OK. If they chose #2 they'll have trouble later.\n",
    "observed_statistic_ab = group_means.item(1) - group_means.item(0)\n",
    "# END SOLUTION\n",
    "observed_statistic_ab"
   ]
  },
  {
   "cell_type": "code",
   "execution_count": 71,
   "id": "91c6f477",
   "metadata": {
    "execution": {
     "iopub.execute_input": "2022-03-02T18:14:44.441427Z",
     "iopub.status.busy": "2022-03-02T18:14:44.440873Z",
     "iopub.status.idle": "2022-03-02T18:14:44.444152Z",
     "shell.execute_reply": "2022-03-02T18:14:44.443746Z"
    }
   },
   "outputs": [
    {
     "data": {
      "text/plain": [
       "True"
      ]
     },
     "execution_count": 71,
     "metadata": {},
     "output_type": "execute_result"
    }
   ],
   "source": [
    "# TEST\n",
    "type(observed_statistic_ab) == float"
   ]
  },
  {
   "cell_type": "code",
   "execution_count": 72,
   "id": "507c7b82",
   "metadata": {
    "execution": {
     "iopub.execute_input": "2022-03-02T18:14:44.482539Z",
     "iopub.status.busy": "2022-03-02T18:14:44.481800Z",
     "iopub.status.idle": "2022-03-02T18:14:44.485163Z",
     "shell.execute_reply": "2022-03-02T18:14:44.485581Z"
    }
   },
   "outputs": [
    {
     "data": {
      "text/plain": [
       "True"
      ]
     },
     "execution_count": 72,
     "metadata": {},
     "output_type": "execute_result"
    }
   ],
   "source": [
    "# TEST\n",
    "observed_statistic_ab >= 0"
   ]
  },
  {
   "cell_type": "code",
   "execution_count": 73,
   "id": "a6dab42b",
   "metadata": {
    "execution": {
     "iopub.execute_input": "2022-03-02T18:14:44.490616Z",
     "iopub.status.busy": "2022-03-02T18:14:44.489876Z",
     "iopub.status.idle": "2022-03-02T18:14:44.492807Z",
     "shell.execute_reply": "2022-03-02T18:14:44.493157Z"
    }
   },
   "outputs": [
    {
     "data": {
      "text/plain": [
       "True"
      ]
     },
     "execution_count": 73,
     "metadata": {},
     "output_type": "execute_result"
    }
   ],
   "source": [
    "# HIDDEN TEST\n",
    "np.isclose(observed_statistic_ab, 1.314102564102562)"
   ]
  },
  {
   "cell_type": "markdown",
   "id": "3f00187b",
   "metadata": {},
   "source": [
    "**Question 3.7.** Assign `shuffled_labels` to an array of shuffled male/female labels. The rest of the code puts the array in a table along with the data in `sampled_ages`. **(4 points)**\n",
    "\n",
    "*Note:* Check out [12.1](https://inferentialthinking.com/chapters/12/1/AB_Testing.html#predicting-the-statistic-under-the-null-hypothesis) for a refresher on random permutations.\n",
    "\n",
    "```\n",
    "BEGIN QUESTION\n",
    "name: q3_7\n",
    "manual: false\n",
    "points:\n",
    " - 0\n",
    " - 0\n",
    " - 0\n",
    " - 1\n",
    " - 1\n",
    " - 1\n",
    " - 1\n",
    "```"
   ]
  },
  {
   "cell_type": "code",
   "execution_count": 74,
   "id": "c2176e51",
   "metadata": {
    "execution": {
     "iopub.execute_input": "2022-03-02T18:14:44.499875Z",
     "iopub.status.busy": "2022-03-02T18:14:44.499156Z",
     "iopub.status.idle": "2022-03-02T18:14:44.502118Z",
     "shell.execute_reply": "2022-03-02T18:14:44.502486Z"
    }
   },
   "outputs": [
    {
     "data": {
      "text/html": [
       "<table border=\"1\" class=\"dataframe\">\n",
       "    <thead>\n",
       "        <tr>\n",
       "            <th>Gender</th> <th>Age</th> <th>Shuffled Label</th>\n",
       "        </tr>\n",
       "    </thead>\n",
       "    <tbody>\n",
       "        <tr>\n",
       "            <td>male  </td> <td>23  </td> <td>male          </td>\n",
       "        </tr>\n",
       "        <tr>\n",
       "            <td>male  </td> <td>29  </td> <td>female        </td>\n",
       "        </tr>\n",
       "        <tr>\n",
       "            <td>male  </td> <td>29  </td> <td>male          </td>\n",
       "        </tr>\n",
       "        <tr>\n",
       "            <td>female</td> <td>49  </td> <td>female        </td>\n",
       "        </tr>\n",
       "        <tr>\n",
       "            <td>female</td> <td>33  </td> <td>male          </td>\n",
       "        </tr>\n",
       "        <tr>\n",
       "            <td>male  </td> <td>31  </td> <td>female        </td>\n",
       "        </tr>\n",
       "        <tr>\n",
       "            <td>male  </td> <td>60  </td> <td>female        </td>\n",
       "        </tr>\n",
       "        <tr>\n",
       "            <td>male  </td> <td>38  </td> <td>female        </td>\n",
       "        </tr>\n",
       "        <tr>\n",
       "            <td>female</td> <td>60  </td> <td>female        </td>\n",
       "        </tr>\n",
       "        <tr>\n",
       "            <td>female</td> <td>27  </td> <td>male          </td>\n",
       "        </tr>\n",
       "    </tbody>\n",
       "</table>\n",
       "<p>... (490 rows omitted)</p>"
      ],
      "text/plain": [
       "Gender | Age  | Shuffled Label\n",
       "male   | 23   | male\n",
       "male   | 29   | female\n",
       "male   | 29   | male\n",
       "female | 49   | female\n",
       "female | 33   | male\n",
       "male   | 31   | female\n",
       "male   | 60   | female\n",
       "male   | 38   | female\n",
       "female | 60   | female\n",
       "female | 27   | male\n",
       "... (490 rows omitted)"
      ]
     },
     "execution_count": 74,
     "metadata": {},
     "output_type": "execute_result"
    }
   ],
   "source": [
    "shuffled_labels = sampled_ages.select('Gender').sample(with_replacement=False).column(0) # SOLUTION\n",
    "original_with_shuffled_labels = sampled_ages.with_columns('Shuffled Label', shuffled_labels)\n",
    "original_with_shuffled_labels"
   ]
  },
  {
   "cell_type": "code",
   "execution_count": 75,
   "id": "ceee8542",
   "metadata": {
    "execution": {
     "iopub.execute_input": "2022-03-02T18:14:44.506834Z",
     "iopub.status.busy": "2022-03-02T18:14:44.506186Z",
     "iopub.status.idle": "2022-03-02T18:14:44.509164Z",
     "shell.execute_reply": "2022-03-02T18:14:44.508660Z"
    }
   },
   "outputs": [
    {
     "data": {
      "text/plain": [
       "True"
      ]
     },
     "execution_count": 75,
     "metadata": {},
     "output_type": "execute_result"
    }
   ],
   "source": [
    "# TEST\n",
    "type(original_with_shuffled_labels) == Table"
   ]
  },
  {
   "cell_type": "code",
   "execution_count": 76,
   "id": "2c1d14a5",
   "metadata": {
    "execution": {
     "iopub.execute_input": "2022-03-02T18:14:44.514183Z",
     "iopub.status.busy": "2022-03-02T18:14:44.513435Z",
     "iopub.status.idle": "2022-03-02T18:14:44.516041Z",
     "shell.execute_reply": "2022-03-02T18:14:44.516444Z"
    }
   },
   "outputs": [
    {
     "data": {
      "text/plain": [
       "True"
      ]
     },
     "execution_count": 76,
     "metadata": {},
     "output_type": "execute_result"
    }
   ],
   "source": [
    "# TEST\n",
    "original_with_shuffled_labels.labels == (\"Gender\", \"Age\", \"Shuffled Label\")"
   ]
  },
  {
   "cell_type": "code",
   "execution_count": 77,
   "id": "819da5f5",
   "metadata": {
    "execution": {
     "iopub.execute_input": "2022-03-02T18:14:44.520791Z",
     "iopub.status.busy": "2022-03-02T18:14:44.520323Z",
     "iopub.status.idle": "2022-03-02T18:14:44.523349Z",
     "shell.execute_reply": "2022-03-02T18:14:44.522914Z"
    }
   },
   "outputs": [
    {
     "data": {
      "text/plain": [
       "True"
      ]
     },
     "execution_count": 77,
     "metadata": {},
     "output_type": "execute_result"
    }
   ],
   "source": [
    "# TEST\n",
    "original_with_shuffled_labels.num_rows == 500"
   ]
  },
  {
   "cell_type": "code",
   "execution_count": 78,
   "id": "65a335f1",
   "metadata": {
    "execution": {
     "iopub.execute_input": "2022-03-02T18:14:44.527425Z",
     "iopub.status.busy": "2022-03-02T18:14:44.526943Z",
     "iopub.status.idle": "2022-03-02T18:14:44.529883Z",
     "shell.execute_reply": "2022-03-02T18:14:44.529440Z"
    }
   },
   "outputs": [
    {
     "data": {
      "text/plain": [
       "True"
      ]
     },
     "execution_count": 78,
     "metadata": {},
     "output_type": "execute_result"
    }
   ],
   "source": [
    "# HIDDEN TEST\n",
    "all(sampled_ages.column(\"Gender\") == original_with_shuffled_labels.column(\"Gender\"))"
   ]
  },
  {
   "cell_type": "code",
   "execution_count": 79,
   "id": "1cd9fca8",
   "metadata": {
    "execution": {
     "iopub.execute_input": "2022-03-02T18:14:44.533938Z",
     "iopub.status.busy": "2022-03-02T18:14:44.533514Z",
     "iopub.status.idle": "2022-03-02T18:14:44.536688Z",
     "shell.execute_reply": "2022-03-02T18:14:44.536315Z"
    }
   },
   "outputs": [
    {
     "data": {
      "text/plain": [
       "True"
      ]
     },
     "execution_count": 79,
     "metadata": {},
     "output_type": "execute_result"
    }
   ],
   "source": [
    "# HIDDEN TEST\n",
    "all(sampled_ages.column(\"Age\") == original_with_shuffled_labels.column(\"Age\"))"
   ]
  },
  {
   "cell_type": "code",
   "execution_count": 80,
   "id": "40a0f19f",
   "metadata": {
    "execution": {
     "iopub.execute_input": "2022-03-02T18:14:44.540843Z",
     "iopub.status.busy": "2022-03-02T18:14:44.540398Z",
     "iopub.status.idle": "2022-03-02T18:14:44.542734Z",
     "shell.execute_reply": "2022-03-02T18:14:44.543081Z"
    }
   },
   "outputs": [
    {
     "data": {
      "text/plain": [
       "True"
      ]
     },
     "execution_count": 80,
     "metadata": {},
     "output_type": "execute_result"
    }
   ],
   "source": [
    "# HIDDEN TEST\n",
    "original_with_shuffled_labels.column(\"Age\") != original_with_shuffled_labels.column(\"Shuffled Label\")"
   ]
  },
  {
   "cell_type": "code",
   "execution_count": 81,
   "id": "9331dac5",
   "metadata": {
    "execution": {
     "iopub.execute_input": "2022-03-02T18:14:44.547560Z",
     "iopub.status.busy": "2022-03-02T18:14:44.546947Z",
     "iopub.status.idle": "2022-03-02T18:14:44.583109Z",
     "shell.execute_reply": "2022-03-02T18:14:44.582576Z"
    }
   },
   "outputs": [
    {
     "data": {
      "text/plain": [
       "True"
      ]
     },
     "execution_count": 81,
     "metadata": {},
     "output_type": "execute_result"
    }
   ],
   "source": [
    "# HIDDEN TEST\n",
    "all(x in original_with_shuffled_labels.column(\"Shuffled Label\") for x in ('male', 'female'))"
   ]
  },
  {
   "cell_type": "markdown",
   "id": "0ac55b7a",
   "metadata": {},
   "source": [
    "**Question 3.8.** The comparison below uses the array `shuffled_labels` from Question 3.7 and the count `num_females` from Question 3.1.\n",
    "\n",
    "For this comparison, assign the correct number from one of the following options to the variable `correct_q8`. **Pretend this is a midterm problem and solve it without doing the calculation in a code cell.** **(4 points)**\n",
    "\n",
    "`comp = np.count_nonzero(shuffled_labels == 'female') == num_females`\n",
    "\n",
    "1. `comp` is set to `True`.\n",
    "2. `comp` is set to `False`.\n",
    "3. `comp` is set to `True` or `False`, depending on how the shuffle came out.\n",
    "\n",
    "```\n",
    "BEGIN QUESTION\n",
    "name: q3_8\n",
    "manual: false\n",
    "points:\n",
    " - 0\n",
    " - 0\n",
    " - 4\n",
    "```"
   ]
  },
  {
   "cell_type": "code",
   "execution_count": 82,
   "id": "5764bcf2",
   "metadata": {
    "execution": {
     "iopub.execute_input": "2022-03-02T18:14:44.588249Z",
     "iopub.status.busy": "2022-03-02T18:14:44.587531Z",
     "iopub.status.idle": "2022-03-02T18:14:44.590757Z",
     "shell.execute_reply": "2022-03-02T18:14:44.590346Z"
    }
   },
   "outputs": [
    {
     "data": {
      "text/plain": [
       "1"
      ]
     },
     "execution_count": 82,
     "metadata": {},
     "output_type": "execute_result"
    }
   ],
   "source": [
    "correct_q8 = 1 # SOLUTION\n",
    "correct_q8"
   ]
  },
  {
   "cell_type": "code",
   "execution_count": 83,
   "id": "d5f8c7c2",
   "metadata": {
    "execution": {
     "iopub.execute_input": "2022-03-02T18:14:44.595271Z",
     "iopub.status.busy": "2022-03-02T18:14:44.594610Z",
     "iopub.status.idle": "2022-03-02T18:14:44.597930Z",
     "shell.execute_reply": "2022-03-02T18:14:44.597572Z"
    }
   },
   "outputs": [
    {
     "data": {
      "text/plain": [
       "True"
      ]
     },
     "execution_count": 83,
     "metadata": {},
     "output_type": "execute_result"
    }
   ],
   "source": [
    "# TEST\n",
    "type(correct_q8) == int"
   ]
  },
  {
   "cell_type": "code",
   "execution_count": 84,
   "id": "b21d3b84",
   "metadata": {
    "execution": {
     "iopub.execute_input": "2022-03-02T18:14:44.602886Z",
     "iopub.status.busy": "2022-03-02T18:14:44.602134Z",
     "iopub.status.idle": "2022-03-02T18:14:44.605289Z",
     "shell.execute_reply": "2022-03-02T18:14:44.604776Z"
    }
   },
   "outputs": [
    {
     "data": {
      "text/plain": [
       "True"
      ]
     },
     "execution_count": 84,
     "metadata": {},
     "output_type": "execute_result"
    }
   ],
   "source": [
    "# TEST\n",
    "any(correct_q8 == x for x in np.arange(1,4))"
   ]
  },
  {
   "cell_type": "code",
   "execution_count": 85,
   "id": "688c7bdd",
   "metadata": {
    "execution": {
     "iopub.execute_input": "2022-03-02T18:14:44.609632Z",
     "iopub.status.busy": "2022-03-02T18:14:44.609011Z",
     "iopub.status.idle": "2022-03-02T18:14:44.611796Z",
     "shell.execute_reply": "2022-03-02T18:14:44.612168Z"
    }
   },
   "outputs": [
    {
     "data": {
      "text/plain": [
       "True"
      ]
     },
     "execution_count": 85,
     "metadata": {},
     "output_type": "execute_result"
    }
   ],
   "source": [
    "# HIDDEN TEST\n",
    "correct_q8 == 1"
   ]
  },
  {
   "cell_type": "markdown",
   "id": "ccf0067d",
   "metadata": {},
   "source": [
    "**Question 3.9.** Define a function `simulate_one_statistic` that takes no arguments and returns one simulated value of the test statistic. We've given you a skeleton, but feel free to approach this question in a way that makes sense to you. Use as many lines of code as you need. Refer to the code you have previously written in this problem, as you might be able to re-use some of it. **(4 points)**\n",
    "\n",
    "```\n",
    "BEGIN QUESTION\n",
    "name: q3_9\n",
    "manual: false\n",
    "points:\n",
    " - 4\n",
    "```"
   ]
  },
  {
   "cell_type": "code",
   "execution_count": 86,
   "id": "41b51bc3",
   "metadata": {
    "execution": {
     "iopub.execute_input": "2022-03-02T18:14:44.617013Z",
     "iopub.status.busy": "2022-03-02T18:14:44.616389Z",
     "iopub.status.idle": "2022-03-02T18:14:44.618342Z",
     "shell.execute_reply": "2022-03-02T18:14:44.618671Z"
    }
   },
   "outputs": [],
   "source": [
    "def simulate_one_statistic():\n",
    "    \"Returns one value of our simulated test statistic\"\n",
    "    shuffled_labels = sampled_ages.select('Gender').sample(with_replacement=False).column(0) # SOLUTION\n",
    "    shuffled_tbl = sampled_ages.select('Age').with_columns('Shuffled Label', shuffled_labels) # SOLUTION\n",
    "    group_means = shuffled_tbl.group('Shuffled Label', np.average).column(1) # SOLUTION\n",
    "    return group_means.item(1) - group_means.item(0) # SOLUTION"
   ]
  },
  {
   "cell_type": "code",
   "execution_count": 87,
   "id": "c4416b85",
   "metadata": {
    "execution": {
     "iopub.execute_input": "2022-03-02T18:14:44.642405Z",
     "iopub.status.busy": "2022-03-02T18:14:44.641863Z",
     "iopub.status.idle": "2022-03-02T18:14:44.645261Z",
     "shell.execute_reply": "2022-03-02T18:14:44.644870Z"
    }
   },
   "outputs": [
    {
     "data": {
      "text/plain": [
       "True"
      ]
     },
     "execution_count": 87,
     "metadata": {},
     "output_type": "execute_result"
    }
   ],
   "source": [
    "# TEST\n",
    "-5 < simulate_one_statistic() < 5"
   ]
  },
  {
   "cell_type": "markdown",
   "id": "34018fe0",
   "metadata": {},
   "source": [
    "After you have defined your function, run the following cell a few times to see how the statistic varies."
   ]
  },
  {
   "cell_type": "code",
   "execution_count": 88,
   "id": "439d58bc",
   "metadata": {
    "execution": {
     "iopub.execute_input": "2022-03-02T18:14:44.695041Z",
     "iopub.status.busy": "2022-03-02T18:14:44.694556Z",
     "iopub.status.idle": "2022-03-02T18:14:44.697490Z",
     "shell.execute_reply": "2022-03-02T18:14:44.697101Z"
    }
   },
   "outputs": [
    {
     "data": {
      "text/plain": [
       "-0.6650641025641022"
      ]
     },
     "execution_count": 88,
     "metadata": {},
     "output_type": "execute_result"
    }
   ],
   "source": [
    "simulate_one_statistic()"
   ]
  },
  {
   "cell_type": "markdown",
   "id": "015f2373",
   "metadata": {},
   "source": [
    "**Question 3.10.** Complete the cell to simulate 4,000 values of the statistic. We have included the code that draws the empirical distribution of the statistic and shows the value of `observed_statistic_ab` from Question 3.6. Feel free to use as many lines of code as you need. **(4 points)**\n",
    "\n",
    "*Note:* This cell will take around a minute to run.\n",
    "\n",
    "```\n",
    "BEGIN QUESTION\n",
    "name: q3_10\n",
    "manual: false\n",
    "points:\n",
    " - 4\n",
    "```"
   ]
  },
  {
   "cell_type": "code",
   "execution_count": 89,
   "id": "20b77b19",
   "metadata": {
    "execution": {
     "iopub.execute_input": "2022-03-02T18:14:44.980733Z",
     "iopub.status.busy": "2022-03-02T18:14:44.949647Z",
     "iopub.status.idle": "2022-03-02T18:15:27.436687Z",
     "shell.execute_reply": "2022-03-02T18:15:27.437136Z"
    },
    "scrolled": true
   },
   "outputs": [
    {
     "data": {
      "image/png": "[encoded data removed]",
      "text/plain": [
       "<Figure size 432x288 with 1 Axes>"
      ]
     },
     "metadata": {},
     "output_type": "display_data"
    }
   ],
   "source": [
    "repetitions = 4000\n",
    "\n",
    "simulated_statistics_ab = make_array()\n",
    "for i in np.arange(repetitions):# SOLUTION\n",
    "    simulated_statistics_ab = np.append(simulated_statistics_ab, simulate_one_statistic())  # SOLUTION\n",
    "\n",
    "# Do not change these lines\n",
    "Table().with_columns('Simulated Statistic', simulated_statistics_ab).hist()\n",
    "plt.scatter(observed_statistic_ab, -0.002, color='red', s=70);"
   ]
  },
  {
   "cell_type": "code",
   "execution_count": 90,
   "id": "23f8b7e4",
   "metadata": {
    "execution": {
     "iopub.execute_input": "2022-03-02T18:15:27.441490Z",
     "iopub.status.busy": "2022-03-02T18:15:27.441015Z",
     "iopub.status.idle": "2022-03-02T18:15:27.443795Z",
     "shell.execute_reply": "2022-03-02T18:15:27.444297Z"
    }
   },
   "outputs": [
    {
     "data": {
      "text/plain": [
       "True"
      ]
     },
     "execution_count": 90,
     "metadata": {},
     "output_type": "execute_result"
    }
   ],
   "source": [
    "# TEST\n",
    "len(simulated_statistics_ab) == 4000"
   ]
  },
  {
   "cell_type": "markdown",
   "id": "c156a731",
   "metadata": {},
   "source": [
    "**Question 3.11.** Use the simulation to find an empirical approximation to the p-value. Assign `p_val` to the appropriate p-value from this simulation. Then, assign `conclusion` to either `null_hyp` or `alt_hyp`. **(4 points)** \n",
    "\n",
    "*Note:* Assume that we use the 5% cutoff for the p-value.\n",
    "\n",
    "```\n",
    "BEGIN QUESTION\n",
    "name: q3_11\n",
    "manual: false\n",
    "points:\n",
    " - 0\n",
    " - 0\n",
    " - 0\n",
    " - 2\n",
    " - 2\n",
    "```"
   ]
  },
  {
   "cell_type": "code",
   "execution_count": 91,
   "id": "73310800",
   "metadata": {
    "execution": {
     "iopub.execute_input": "2022-03-02T18:15:27.449296Z",
     "iopub.status.busy": "2022-03-02T18:15:27.448820Z",
     "iopub.status.idle": "2022-03-02T18:15:27.452141Z",
     "shell.execute_reply": "2022-03-02T18:15:27.451706Z"
    }
   },
   "outputs": [
    {
     "data": {
      "text/plain": [
       "(0.116, 'The data are consistent with the null hypothesis.')"
      ]
     },
     "execution_count": 91,
     "metadata": {},
     "output_type": "execute_result"
    }
   ],
   "source": [
    "# These are variables provided for you to use.\n",
    "null_hyp = 'The data are consistent with the null hypothesis.'\n",
    "alt_hyp = 'The data support the alternative more than the null.'\n",
    "\n",
    "p_val = np.count_nonzero(simulated_statistics_ab >= observed_statistic_ab) / repetitions # SOLUTION\n",
    "conclusion = null_hyp # SOLUTION\n",
    "\n",
    "p_val, conclusion # Do not change this line"
   ]
  },
  {
   "cell_type": "code",
   "execution_count": 92,
   "id": "83adb07f",
   "metadata": {
    "execution": {
     "iopub.execute_input": "2022-03-02T18:15:27.456156Z",
     "iopub.status.busy": "2022-03-02T18:15:27.455670Z",
     "iopub.status.idle": "2022-03-02T18:15:27.458392Z",
     "shell.execute_reply": "2022-03-02T18:15:27.458797Z"
    }
   },
   "outputs": [
    {
     "data": {
      "text/plain": [
       "True"
      ]
     },
     "execution_count": 92,
     "metadata": {},
     "output_type": "execute_result"
    }
   ],
   "source": [
    "# TEST\n",
    "import numpy as np\n",
    "type(p_val) in set([float, np.float32, np.float64])"
   ]
  },
  {
   "cell_type": "code",
   "execution_count": 93,
   "id": "f3ad5dfb",
   "metadata": {
    "execution": {
     "iopub.execute_input": "2022-03-02T18:15:27.462906Z",
     "iopub.status.busy": "2022-03-02T18:15:27.462312Z",
     "iopub.status.idle": "2022-03-02T18:15:27.465272Z",
     "shell.execute_reply": "2022-03-02T18:15:27.465659Z"
    }
   },
   "outputs": [
    {
     "data": {
      "text/plain": [
       "True"
      ]
     },
     "execution_count": 93,
     "metadata": {},
     "output_type": "execute_result"
    }
   ],
   "source": [
    "# TEST\n",
    "0 <= p_val <= 1"
   ]
  },
  {
   "cell_type": "code",
   "execution_count": 94,
   "id": "04f6a1f2",
   "metadata": {
    "execution": {
     "iopub.execute_input": "2022-03-02T18:15:27.484849Z",
     "iopub.status.busy": "2022-03-02T18:15:27.484143Z",
     "iopub.status.idle": "2022-03-02T18:15:27.487321Z",
     "shell.execute_reply": "2022-03-02T18:15:27.486890Z"
    }
   },
   "outputs": [
    {
     "data": {
      "text/plain": [
       "True"
      ]
     },
     "execution_count": 94,
     "metadata": {},
     "output_type": "execute_result"
    }
   ],
   "source": [
    "# TEST\n",
    "type(conclusion) == str"
   ]
  },
  {
   "cell_type": "code",
   "execution_count": 95,
   "id": "3390f59f",
   "metadata": {
    "execution": {
     "iopub.execute_input": "2022-03-02T18:15:27.491279Z",
     "iopub.status.busy": "2022-03-02T18:15:27.489632Z",
     "iopub.status.idle": "2022-03-02T18:15:27.493599Z",
     "shell.execute_reply": "2022-03-02T18:15:27.493976Z"
    }
   },
   "outputs": [
    {
     "data": {
      "text/plain": [
       "True"
      ]
     },
     "execution_count": 95,
     "metadata": {},
     "output_type": "execute_result"
    }
   ],
   "source": [
    "# HIDDEN TEST\n",
    "0.10 < p_val < 0.15"
   ]
  },
  {
   "cell_type": "code",
   "execution_count": 96,
   "id": "102ca742",
   "metadata": {
    "execution": {
     "iopub.execute_input": "2022-03-02T18:15:27.497788Z",
     "iopub.status.busy": "2022-03-02T18:15:27.497345Z",
     "iopub.status.idle": "2022-03-02T18:15:27.499775Z",
     "shell.execute_reply": "2022-03-02T18:15:27.500165Z"
    }
   },
   "outputs": [
    {
     "data": {
      "text/plain": [
       "True"
      ]
     },
     "execution_count": 96,
     "metadata": {},
     "output_type": "execute_result"
    }
   ],
   "source": [
    "# HIDDEN TEST\n",
    "conclusion == 'The data are consistent with the null hypothesis.'"
   ]
  },
  {
   "cell_type": "markdown",
   "id": "b0d52b34",
   "metadata": {},
   "source": [
    "You're done with Homework 7!  \n",
    "\n",
    "**Important submission steps:** \n",
    "1. Run the tests and verify that they all pass.\n",
    "2. Choose **Save Notebook** from the **File** menu, then **run the final cell**. \n",
    "3. Click the link to download the zip file.\n",
    "4. Then submit the zip file to the corresponding assignment according to your instructor's directions. \n",
    "\n",
    "**It is your responsibility to make sure your work is saved before running the last cell.**"
   ]
  }
 ],
 "metadata": {
  "kernelspec": {
   "display_name": "Python 3 (ipykernel)",
   "language": "python",
   "name": "python3"
  },
  "language_info": {
   "codemirror_mode": {
    "name": "ipython",
    "version": 3
   },
   "file_extension": ".py",
   "mimetype": "text/x-python",
   "name": "python",
   "nbconvert_exporter": "python",
   "pygments_lexer": "ipython3",
   "version": "3.7.3"
  }
 },
 "nbformat": 4,
 "nbformat_minor": 5
}
