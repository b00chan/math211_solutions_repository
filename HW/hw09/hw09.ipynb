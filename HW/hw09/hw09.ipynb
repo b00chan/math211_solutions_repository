{
 "cells": [
  {
   "cell_type": "markdown",
   "id": "e098a842",
   "metadata": {},
   "source": [
    "```\n",
    "BEGIN ASSIGNMENT \n",
    "init_cell: true \n",
    "export_cell: true \n",
    "files:\n",
    "    - d8error.py\n",
    "    - errorConfig.json\n",
    "export_cell:\n",
    "    pdf: false\n",
    "    force_save: false\n",
    "solutions_pdf: true\n",
    "template_pdf: true\n",
    "generate:\n",
    "    points_possible: 64.0\n",
    "    show_stdout: true\n",
    "    filtering: true\n",
    "    pagebreaks: true\n",
    "    zips: false\n",
    "```\n"
   ]
  },
  {
   "cell_type": "markdown",
   "id": "a7c8a620",
   "metadata": {},
   "source": [
    "# Homework 9: Sample Sizes and Confidence Intervals"
   ]
  },
  {
   "cell_type": "markdown",
   "id": "81c524af",
   "metadata": {},
   "source": [
    "**Helpful Resource:**\n",
    "\n",
    "- [Python Reference](http://data8.org/sp22/python-reference.html): Cheat sheet of helpful array & table methods used in Data 8!\n",
    "\n",
    "**Recommended Readings**: \n",
    "\n",
    "* [Estimation](https://inferentialthinking.com/chapters/13/Estimation.html)\n",
    "* [Why the Mean Matters](https://inferentialthinking.com/chapters/14/Why_the_Mean_Matters.html)"
   ]
  },
  {
   "cell_type": "markdown",
   "id": "581b5cb5",
   "metadata": {},
   "source": [
    "Please complete this notebook by filling in the cells provided. Before you begin, execute the following cell to setup the notebook by importing some helpful libraries. Each time you start your server, you will need to execute this cell again.\n",
    "\n",
    "For all problems that you must write explanations and sentences for, you **must** provide your answer in the designated space. **Moreover, throughout this homework and all future ones, please be sure to not re-assign variables throughout the notebook!** For example, if you use `max_temperature` in your answer to one question, do not reassign it later on. Otherwise, you will fail tests that you thought you were passing previously!\n",
    "\n",
    "\n",
    "**Note: This homework has hidden tests on it. That means even though the tests may say 100% passed, it doesn't mean your final grade will be 100%. We will be running more tests for correctness once everyone turns in the homework.**\n",
    "\n",
    "\n",
    "Directly sharing answers is not okay, but discussing problems with the course staff or with other students is encouraged. \n",
    "\n",
    "You should start early so that you have time to get help if you're stuck."
   ]
  },
  {
   "cell_type": "code",
   "execution_count": 1,
   "id": "6b50ccb1",
   "metadata": {
    "execution": {
     "iopub.execute_input": "2022-03-31T07:51:20.039914Z",
     "iopub.status.busy": "2022-03-31T07:51:20.039629Z",
     "iopub.status.idle": "2022-03-31T07:51:21.455818Z",
     "shell.execute_reply": "2022-03-31T07:51:21.455028Z"
    }
   },
   "outputs": [],
   "source": [
    "# Don't change this cell; just run it. \n",
    "\n",
    "import numpy as np\n",
    "from datascience import *\n",
    "\n",
    "# These lines do some fancy plotting magic.\",\n",
    "import matplotlib\n",
    "%matplotlib inline\n",
    "import matplotlib.pyplot as plt\n",
    "plt.style.use('fivethirtyeight')\n",
    "import warnings\n",
    "warnings.simplefilter('ignore', FutureWarning)"
   ]
  },
  {
   "cell_type": "markdown",
   "id": "a651b43b",
   "metadata": {},
   "source": [
    "## 1. Bounding the Tail of a Distribution\n",
    "\n",
    "A community has an average age of 45 years with a standard deviation of 5 years.\n",
    "\n",
    "In each part below, fill in the blank with a percent that makes the statement true **without further assumptions**, and explain your answer.\n",
    "\n",
    "*Note:* No credit will be given for loose bounds such as \"at least 0%\" or \"at most 100%\". Give the best answer that is possible with the information given."
   ]
  },
  {
   "cell_type": "markdown",
   "id": "4a77efe4",
   "metadata": {},
   "source": [
    "**Question 1.1.** At least _______% of the people are between 25 and 65 years old. **(6 Points)**\n",
    "\n",
    "```\n",
    "BEGIN QUESTION\n",
    "name: q1_1\n",
    "manual: true\n",
    "```"
   ]
  },
  {
   "cell_type": "markdown",
   "id": "753a4322",
   "metadata": {},
   "source": [
    "**SOLUTION:** 93.75; Since we cannot make further assumptions about the *distribution* of ages within the community (i.e. we cannot assume them to be normally distributed), we must use Chebyshev’s inequality to create a bound on the variability. Since we know that the mean of the ages is 45 with an standard deviation of 5, we see that 25 is -4 SDs from the mean and 65 is +4 SDs from the mean. Chebyshev’s tells us that +/-4 SDs from the mean covers at least 93.75% of the people in the distribution."
   ]
  },
  {
   "cell_type": "markdown",
   "id": "254953b3",
   "metadata": {},
   "source": [
    "**Question 1.2.** At most _______% of the people have ages that are not in the range 25 years to 65 years. **(6 Points)**\n",
    "\n",
    "```\n",
    "BEGIN QUESTION\n",
    "name: q1_2\n",
    "manual: true\n",
    "```"
   ]
  },
  {
   "cell_type": "markdown",
   "id": "e2b33c07",
   "metadata": {},
   "source": [
    "**SOLUTION:** 6.25; Since the total percentage of people within the community is 100%, and since we know that at least 93.75% of the people are between 25 and 65 years old, we can substract 100% - 93.75% = 6.25% to get the maximum number of people that are not in the range 25 to 65 years old. We know that this translates to there being *at most* 6.25% of people outside of the range [25,65] because Chebyshev tells us that *at least* 93.75% within the range (i.e. the percentage could be higher than this 93.75%)."
   ]
  },
  {
   "cell_type": "markdown",
   "id": "512102fe",
   "metadata": {},
   "source": [
    "**Question 1.3.** At most _______% of the people are more than 65 years old. **(6 Points)**\n",
    "\n",
    "*Hint:* If you're stuck, try thinking about what the distribution may look like in this case.\n",
    "\n",
    "```\n",
    "BEGIN QUESTION\n",
    "name: q1_3\n",
    "manual: true\n",
    "```"
   ]
  },
  {
   "cell_type": "markdown",
   "id": "c122f30a",
   "metadata": {},
   "source": [
    "**SOLUTION:** 6.25; Question 1.2 tells us that “At most 6.25% of the people have ages that are not in the range 25 years to 65 years”. We don’t know anything about the distributions of this 6.25% of people, but we do know that we would *maximize* the number of people that were more than 65 years old if we put ALL 6.25% of people that weren’t in the range [25 year, 65 years]. In this case, there would be no one that was less than 20 years. Thus, this extreme tells us that at most 6.25% of the people are more than 65 years old."
   ]
  },
  {
   "cell_type": "markdown",
   "id": "2f8cadbd",
   "metadata": {},
   "source": [
    "## 2. Sample Size and Confidence Level\n",
    "\n",
    "A data science class at the large Data 8 University wants to estimate the percent of Facebook users among students at the school. To do this, they need to take a random sample of students. You can assume that their method of sampling is equivalent to drawing at random with replacement from students at the school.\n",
    "\n",
    "***Please review [Section 14.6](https://inferentialthinking.com/chapters/14/6/Choosing_a_Sample_Size.html#) of the textbook before proceeding with this section. Your work will go much faster that way!***"
   ]
  },
  {
   "cell_type": "markdown",
   "id": "ca9b38bc",
   "metadata": {},
   "source": [
    "**Question 2.1.** Assign `smallest` to the smallest number of students they should sample to ensure that a **95%** confidence interval for the parameter has a width of no more than 6% from left end to right end. **(6 points)**\n",
    "\n",
    "*Hint:* How can our data be represented to show if a student in the sample is a Facebook user? Given this, what assumptions can we make for the SD of the population? [Section 14.6](https://inferentialthinking.com/chapters/14/6/Choosing_a_Sample_Size.html#) might be helpful!\n",
    "\n",
    "*Note:* While the true smallest sample size would have to be an integer, please leave your answer in decimal format for the sake of our tests.\n",
    "\n",
    "```\n",
    "BEGIN QUESTION\n",
    "name: q2_1\n",
    "manual: false\n",
    "points:\n",
    " - 0\n",
    " - 6\n",
    "```"
   ]
  },
  {
   "cell_type": "code",
   "execution_count": 2,
   "id": "e94a02fe",
   "metadata": {
    "execution": {
     "iopub.execute_input": "2022-03-31T07:51:21.459968Z",
     "iopub.status.busy": "2022-03-31T07:51:21.459741Z",
     "iopub.status.idle": "2022-03-31T07:51:21.466213Z",
     "shell.execute_reply": "2022-03-31T07:51:21.465532Z"
    }
   },
   "outputs": [
    {
     "data": {
      "text/plain": [
       "1111.1111111111113"
      ]
     },
     "execution_count": 2,
     "metadata": {},
     "output_type": "execute_result"
    }
   ],
   "source": [
    "smallest = (4 * 0.5/0.06)**2 # SOLUTION\n",
    "smallest"
   ]
  },
  {
   "cell_type": "code",
   "execution_count": 3,
   "id": "b34f2c81",
   "metadata": {
    "execution": {
     "iopub.execute_input": "2022-03-31T07:51:21.469460Z",
     "iopub.status.busy": "2022-03-31T07:51:21.468869Z",
     "iopub.status.idle": "2022-03-31T07:51:21.472950Z",
     "shell.execute_reply": "2022-03-31T07:51:21.472468Z"
    }
   },
   "outputs": [
    {
     "data": {
      "text/plain": [
       "True"
      ]
     },
     "execution_count": 3,
     "metadata": {},
     "output_type": "execute_result"
    }
   ],
   "source": [
    "# TEST\n",
    "1100 <= smallest <= 1150"
   ]
  },
  {
   "cell_type": "code",
   "execution_count": 4,
   "id": "2d6ef6f4",
   "metadata": {
    "execution": {
     "iopub.execute_input": "2022-03-31T07:51:21.475931Z",
     "iopub.status.busy": "2022-03-31T07:51:21.475743Z",
     "iopub.status.idle": "2022-03-31T07:51:21.484757Z",
     "shell.execute_reply": "2022-03-31T07:51:21.484220Z"
    }
   },
   "outputs": [
    {
     "data": {
      "text/plain": [
       "True"
      ]
     },
     "execution_count": 4,
     "metadata": {},
     "output_type": "execute_result"
    }
   ],
   "source": [
    "# HIDDEN TEST\n",
    "np.isclose(smallest, 1111.1111111111113)"
   ]
  },
  {
   "cell_type": "markdown",
   "id": "ff0c1421",
   "metadata": {},
   "source": [
    "**Question 2.2.** Suppose the data science class decides to construct a 90% confidence interval instead of a 95% confidence interval, but they still require that the width of the interval is no more than 6% from left end to right end. Will they need the same sample size as in 2.1? Pick the right answer and explain further without calculation. **(6 Points)**\n",
    "\n",
    "1. Yes, they must use the same sample size.\n",
    "2. No, a smaller sample size will work.\n",
    "3. No, they will need a bigger sample.\n",
    "\n",
    "```\n",
    "BEGIN QUESTION\n",
    "name: q2_2\n",
    "manual: true\n",
    "```"
   ]
  },
  {
   "cell_type": "markdown",
   "id": "43cb627a",
   "metadata": {},
   "source": [
    "**SOLUTION:** 2; In terms of standard deviations, the width of a 90% confidence interval is smaller than a 95% confidence interval. We know that we need to look +/- 2 SDs from the mean for our 95% CI. Thus, the number of deviations we have to look left and right will be less for our 90% CI.\n",
    "\n",
    "However, this question requires that both intervals have a width at most 0.06. To achieve this, we would have to take a larger sample size for our 95% CI. Thus, for our 90% CI, we could take a smaller sample size than what we needed for our 95% CI.\n",
    "\n",
    "Algebraically, we can think about it in the following way:\n",
    "$$\\text{Desired Width} \\geq 4\\cdot \\frac{\\text{Pop SD}}{\\sqrt{\\text{Sample Size}}}$$\n",
    "\n",
    "The above equation works for constructing a 95% CI. We want a width at most 0.06. Let’s rearrange the above equation to solve for sample size:\n",
    "\n",
    "$$\\text{Sample Size} \\geq (4\\cdot \\frac{\\text{Pop SD}}{0.06})^2$$\n",
    "\n",
    "The 4 in the above equation is unique to a 95% CI. As we mentioned before, if we chose to construct a 90% CI instead, we would need less than four SDs as our width. Clearly, if we swapped the 4 on the righthand side of the above equation with something less than 4, say 3, the sample size needed would decrease."
   ]
  },
  {
   "cell_type": "markdown",
   "id": "3e844821",
   "metadata": {},
   "source": [
    "**Question 2.3.** The professor tells the class that a 90% confidence interval for the parameter is constructed exactly like a 95% confidence interval, except that you have to go only 1.65 SDs on either side of the estimate (±1.65) instead of 2 SDs on either side (±2). Assign `smallest_num` to the smallest number of students they should sample to ensure that a **90%** confidence interval for the parameter has a width of no more than 6% from left end to right end. **(6 points)**\n",
    "\n",
    "*Note:* While the true smallest sample size would have to be an integer, please leave your answer in decimal format for the sake of our tests.\n",
    "\n",
    "```\n",
    "BEGIN QUESTION\n",
    "name: q2_3\n",
    "manual: false\n",
    "points:\n",
    " - 0\n",
    " - 6\n",
    "```"
   ]
  },
  {
   "cell_type": "code",
   "execution_count": 5,
   "id": "124323cf",
   "metadata": {
    "execution": {
     "iopub.execute_input": "2022-03-31T07:51:21.487624Z",
     "iopub.status.busy": "2022-03-31T07:51:21.487428Z",
     "iopub.status.idle": "2022-03-31T07:51:21.491671Z",
     "shell.execute_reply": "2022-03-31T07:51:21.491149Z"
    }
   },
   "outputs": [
    {
     "data": {
      "text/plain": [
       "756.25"
      ]
     },
     "execution_count": 5,
     "metadata": {},
     "output_type": "execute_result"
    }
   ],
   "source": [
    "smallest_num = (2 * 1.65 * 0.5/0.06)**2 # SOLUTION\n",
    "smallest_num"
   ]
  },
  {
   "cell_type": "code",
   "execution_count": 6,
   "id": "5d1f93e7",
   "metadata": {
    "execution": {
     "iopub.execute_input": "2022-03-31T07:51:21.494454Z",
     "iopub.status.busy": "2022-03-31T07:51:21.494262Z",
     "iopub.status.idle": "2022-03-31T07:51:21.498688Z",
     "shell.execute_reply": "2022-03-31T07:51:21.498138Z"
    }
   },
   "outputs": [
    {
     "data": {
      "text/plain": [
       "True"
      ]
     },
     "execution_count": 6,
     "metadata": {},
     "output_type": "execute_result"
    }
   ],
   "source": [
    "# TEST\n",
    "700 <= smallest_num <= 800"
   ]
  },
  {
   "cell_type": "code",
   "execution_count": 7,
   "id": "ef4249d4",
   "metadata": {
    "execution": {
     "iopub.execute_input": "2022-03-31T07:51:21.501404Z",
     "iopub.status.busy": "2022-03-31T07:51:21.501212Z",
     "iopub.status.idle": "2022-03-31T07:51:21.505583Z",
     "shell.execute_reply": "2022-03-31T07:51:21.505039Z"
    }
   },
   "outputs": [
    {
     "data": {
      "text/plain": [
       "True"
      ]
     },
     "execution_count": 7,
     "metadata": {},
     "output_type": "execute_result"
    }
   ],
   "source": [
    "# HIDDEN TEST\n",
    "np.isclose(smallest_num, 756.25)"
   ]
  },
  {
   "cell_type": "markdown",
   "id": "fbbf0ea3",
   "metadata": {},
   "source": [
    "For this next exercise, please consult [Section 14.3.4](https://inferentialthinking.com/chapters/14/3/SD_and_the_Normal_Curve.html#the-standard-normal-cdf) of the textbook for similar examples.\n",
    "\n",
    "The students are curious about how the professor came up with the value 1.65 in Question 2.3. She says she ran the following two code cells. The first one calls the `datascience` library function `plot_normal_cdf`, which displays the proportion that is at most the specified number of SDs above average under the normal curve plotted with standard units on the horizontal axis. You can find the documentation [here](http://data8.org/datascience/util.html#datascience.util.plot_normal_cdf).\n",
    "\n",
    "*Note:* The acronym `cdf` stands for `cumulative distribution function`. It measures the proportion to the left of a specified point under a probability histogram."
   ]
  },
  {
   "cell_type": "code",
   "execution_count": 8,
   "id": "65fdd94f",
   "metadata": {
    "execution": {
     "iopub.execute_input": "2022-03-31T07:51:21.508257Z",
     "iopub.status.busy": "2022-03-31T07:51:21.508045Z",
     "iopub.status.idle": "2022-03-31T07:51:21.942839Z",
     "shell.execute_reply": "2022-03-31T07:51:21.942128Z"
    }
   },
   "outputs": [
    {
     "data": {
      "image/png": "[encoded data removed]",
      "text/plain": [
       "<Figure size 432x288 with 1 Axes>"
      ]
     },
     "metadata": {},
     "output_type": "display_data"
    }
   ],
   "source": [
    "plot_normal_cdf(1.65)"
   ]
  },
  {
   "cell_type": "markdown",
   "id": "4e396920",
   "metadata": {},
   "source": [
    "To run the second cell, the professor had to first import a Python library for probability and statistics:"
   ]
  },
  {
   "cell_type": "code",
   "execution_count": 9,
   "id": "9153cd46",
   "metadata": {
    "execution": {
     "iopub.execute_input": "2022-03-31T07:51:21.946387Z",
     "iopub.status.busy": "2022-03-31T07:51:21.945746Z",
     "iopub.status.idle": "2022-03-31T07:51:21.949406Z",
     "shell.execute_reply": "2022-03-31T07:51:21.948604Z"
    }
   },
   "outputs": [],
   "source": [
    "# Just run this cell\n",
    "from scipy import stats"
   ]
  },
  {
   "cell_type": "markdown",
   "id": "10d6bec0",
   "metadata": {},
   "source": [
    "Then she used the `norm.cdf` method in the library to find the gold proportion above."
   ]
  },
  {
   "cell_type": "code",
   "execution_count": 10,
   "id": "78f8059c",
   "metadata": {
    "execution": {
     "iopub.execute_input": "2022-03-31T07:51:21.952739Z",
     "iopub.status.busy": "2022-03-31T07:51:21.952229Z",
     "iopub.status.idle": "2022-03-31T07:51:21.957224Z",
     "shell.execute_reply": "2022-03-31T07:51:21.956624Z"
    }
   },
   "outputs": [
    {
     "data": {
      "text/plain": [
       "0.9505285319663519"
      ]
     },
     "execution_count": 10,
     "metadata": {},
     "output_type": "execute_result"
    }
   ],
   "source": [
    "# Just run this cell\n",
    "stats.norm.cdf(1.65)"
   ]
  },
  {
   "cell_type": "markdown",
   "id": "947cb592",
   "metadata": {},
   "source": [
    "*Note*: You do not need to understand how the `scipy` library or how to use the method yourself."
   ]
  },
  {
   "cell_type": "markdown",
   "id": "9d28fc54",
   "metadata": {},
   "source": [
    "**Question 2.4.** This shows that the percentage in a normal distribution that is at most 1.65 SDs above average is about **95%**. Explain why 1.65 is the right number of SDs to use when constructing a **90%** confidence interval. **(6 Points)**\n",
    "\n",
    "```\n",
    "BEGIN QUESTION\n",
    "name: q2_4\n",
    "manual: true\n",
    "```"
   ]
  },
  {
   "cell_type": "markdown",
   "id": "51d3c0fe",
   "metadata": {},
   "source": [
    "**SOLUTION:** The level of confidence is a central area. On the left hand side, the confidence interval will stop at 1.65 SDs below the center. That is, it will stop at -1.65 in standard units. Since the area to the right of 1.65 is 5%, the area below -1.65 is also 5%, so the area between -1.65 and 1.65 is 90%."
   ]
  },
  {
   "cell_type": "code",
   "execution_count": 11,
   "id": "fbee5f14",
   "metadata": {
    "execution": {
     "iopub.execute_input": "2022-03-31T07:51:21.960089Z",
     "iopub.status.busy": "2022-03-31T07:51:21.959795Z",
     "iopub.status.idle": "2022-03-31T07:51:21.964749Z",
     "shell.execute_reply": "2022-03-31T07:51:21.964094Z"
    }
   },
   "outputs": [
    {
     "data": {
      "text/plain": [
       "0.9900969244408357"
      ]
     },
     "execution_count": 11,
     "metadata": {},
     "output_type": "execute_result"
    }
   ],
   "source": [
    "# Just run this cell, do not change it.\n",
    "stats.norm.cdf(2.33)"
   ]
  },
  {
   "cell_type": "markdown",
   "id": "cd88f505",
   "metadata": {},
   "source": [
    "**Question 2.5.** The cell above shows that the proportion that is at most 2.33 SDs above average in a normal distribution is 99%. Assign `option` to the right option to fill in the blank: **(6 points)**\n",
    "\n",
    "If you start at the estimate and go 2.33 SDs on either side, then you will get a _______% confidence interval for the parameter.\n",
    "\n",
    "1. 99.5\n",
    "2. 99\n",
    "3. 98.5\n",
    "4. 98\n",
    "\n",
    "```\n",
    "BEGIN QUESTION\n",
    "name: q2_5\n",
    "manual: false\n",
    "points:\n",
    " - 0\n",
    " - 6\n",
    "```\n"
   ]
  },
  {
   "cell_type": "code",
   "execution_count": 12,
   "id": "20921f13",
   "metadata": {
    "execution": {
     "iopub.execute_input": "2022-03-31T07:51:21.981433Z",
     "iopub.status.busy": "2022-03-31T07:51:21.980754Z",
     "iopub.status.idle": "2022-03-31T07:51:21.985506Z",
     "shell.execute_reply": "2022-03-31T07:51:21.984809Z"
    }
   },
   "outputs": [
    {
     "data": {
      "text/plain": [
       "4"
      ]
     },
     "execution_count": 12,
     "metadata": {},
     "output_type": "execute_result"
    }
   ],
   "source": [
    "option = 4 # SOLUTION\n",
    "option"
   ]
  },
  {
   "cell_type": "code",
   "execution_count": 13,
   "id": "33fa9877",
   "metadata": {
    "execution": {
     "iopub.execute_input": "2022-03-31T07:51:21.988317Z",
     "iopub.status.busy": "2022-03-31T07:51:21.988126Z",
     "iopub.status.idle": "2022-03-31T07:51:21.992595Z",
     "shell.execute_reply": "2022-03-31T07:51:21.992011Z"
    }
   },
   "outputs": [
    {
     "data": {
      "text/plain": [
       "True"
      ]
     },
     "execution_count": 13,
     "metadata": {},
     "output_type": "execute_result"
    }
   ],
   "source": [
    "# TEST\n",
    "type(option) == int"
   ]
  },
  {
   "cell_type": "code",
   "execution_count": 14,
   "id": "005e50c6",
   "metadata": {
    "execution": {
     "iopub.execute_input": "2022-03-31T07:51:21.995266Z",
     "iopub.status.busy": "2022-03-31T07:51:21.995079Z",
     "iopub.status.idle": "2022-03-31T07:51:21.999422Z",
     "shell.execute_reply": "2022-03-31T07:51:21.998842Z"
    }
   },
   "outputs": [
    {
     "data": {
      "text/plain": [
       "True"
      ]
     },
     "execution_count": 14,
     "metadata": {},
     "output_type": "execute_result"
    }
   ],
   "source": [
    "# HIDDEN TEST\n",
    "option == 4"
   ]
  },
  {
   "cell_type": "markdown",
   "id": "7277a48a",
   "metadata": {},
   "source": [
    "## 3. Polling and the Normal Distribution"
   ]
  },
  {
   "cell_type": "code",
   "execution_count": 15,
   "id": "5cac1df7",
   "metadata": {
    "ExecuteTime": {
     "end_time": "2018-03-20T04:34:23.368185Z",
     "start_time": "2018-03-20T04:34:20.823771Z"
    },
    "execution": {
     "iopub.execute_input": "2022-03-31T07:51:22.002027Z",
     "iopub.status.busy": "2022-03-31T07:51:22.001803Z",
     "iopub.status.idle": "2022-03-31T07:51:22.007374Z",
     "shell.execute_reply": "2022-03-31T07:51:22.006738Z"
    }
   },
   "outputs": [],
   "source": [
    "# Don't change this cell; just run it. \n",
    "\n",
    "import numpy as np\n",
    "from datascience import *\n",
    "\n",
    "# These lines do some fancy plotting magic.\",\n",
    "import matplotlib\n",
    "%matplotlib inline\n",
    "import matplotlib.pyplot as plt\n",
    "plt.style.use('fivethirtyeight')\n",
    "import warnings\n",
    "warnings.simplefilter('ignore', FutureWarning)"
   ]
  },
  {
   "cell_type": "markdown",
   "id": "760f21f0",
   "metadata": {},
   "source": [
    "Michelle is a statistical consultant, and she works for a group that supports Proposition 68 (which would mandate labeling of all horizontal and vertical axes) called Yes on 68.  They want to know how many Californians will vote for the proposition.\n",
    "\n",
    "Michelle polls a uniform random sample of all California voters, and she finds that 210 of the 400 sampled voters will vote in favor of the proposition. We have provided a table for you below which has 3 columns: the first two columns are identical to `sample`. The third column contains the proportion of total voters that chose each option."
   ]
  },
  {
   "cell_type": "code",
   "execution_count": 16,
   "id": "a598a492",
   "metadata": {
    "ExecuteTime": {
     "end_time": "2018-03-20T04:34:23.388186Z",
     "start_time": "2018-03-20T04:34:23.372185Z"
    },
    "deletable": false,
    "execution": {
     "iopub.execute_input": "2022-03-31T07:51:22.009883Z",
     "iopub.status.busy": "2022-03-31T07:51:22.009698Z",
     "iopub.status.idle": "2022-03-31T07:51:22.015818Z",
     "shell.execute_reply": "2022-03-31T07:51:22.015246Z"
    },
    "manual_problem_id": "sample_with_proportions"
   },
   "outputs": [
    {
     "data": {
      "text/html": [
       "<table border=\"1\" class=\"dataframe\">\n",
       "    <thead>\n",
       "        <tr>\n",
       "            <th>Vote</th> <th>Count</th> <th>Proportion</th>\n",
       "        </tr>\n",
       "    </thead>\n",
       "    <tbody>\n",
       "        <tr>\n",
       "            <td>Yes </td> <td>210  </td> <td>0.525     </td>\n",
       "        </tr>\n",
       "        <tr>\n",
       "            <td>No  </td> <td>190  </td> <td>0.475     </td>\n",
       "        </tr>\n",
       "    </tbody>\n",
       "</table>"
      ],
      "text/plain": [
       "Vote | Count | Proportion\n",
       "Yes  | 210   | 0.525\n",
       "No   | 190   | 0.475"
      ]
     },
     "execution_count": 16,
     "metadata": {},
     "output_type": "execute_result"
    }
   ],
   "source": [
    "sample = Table().with_columns(\n",
    "    \"Vote\",  make_array(\"Yes\", \"No\"),\n",
    "    \"Count\", make_array(210,   190))\n",
    "\n",
    "sample_size = sum(sample.column(\"Count\"))\n",
    "sample_with_proportions = sample.with_column(\"Proportion\", sample.column(\"Count\") / sample_size)\n",
    "sample_with_proportions"
   ]
  },
  {
   "cell_type": "markdown",
   "id": "b5da5ca5",
   "metadata": {},
   "source": [
    "**Question 3.1.** Michelle wants to use 10,000 bootstrap resamples to compute a confidence interval for the proportion of all California voters who will vote Yes.  \n",
    "\n",
    "Fill in the next cell to simulate an empirical distribution of Yes proportions. Use bootstrap resampling to simulate 10,000 election outcomes, and assign `resample_yes_proportions` to contain the Yes proportion of each bootstrap resample. Then, visualize `resample_yes_proportions` with a histogram. **You should see a bell shaped curve centered near the proportion of Yes in the original sample.** **(6 points)**\n",
    "\n",
    "*Hint:* `sample_proportions` may be useful here!\n",
    "\n",
    "```\n",
    "BEGIN QUESTION\n",
    "name: q3_1\n",
    "manual: false\n",
    "points:\n",
    " - 1\n",
    " - 5\n",
    "```"
   ]
  },
  {
   "cell_type": "code",
   "execution_count": 17,
   "id": "db1a0285",
   "metadata": {
    "ExecuteTime": {
     "end_time": "2018-03-20T04:35:22.190065Z",
     "start_time": "2018-03-20T04:35:21.777769Z"
    },
    "deletable": false,
    "execution": {
     "iopub.execute_input": "2022-03-31T07:51:22.018480Z",
     "iopub.status.busy": "2022-03-31T07:51:22.018291Z",
     "iopub.status.idle": "2022-03-31T07:51:22.526779Z",
     "shell.execute_reply": "2022-03-31T07:51:22.526038Z"
    },
    "manual_problem_id": "resample_yes_proportions"
   },
   "outputs": [
    {
     "data": {
      "image/png": "[encoded data removed]",
      "text/plain": [
       "<Figure size 432x288 with 1 Axes>"
      ]
     },
     "metadata": {},
     "output_type": "display_data"
    }
   ],
   "source": [
    "resample_yes_proportions = make_array()\n",
    "for i in np.arange(10000):\n",
    "    resample = sample_proportions(sample_size, sample_with_proportions.column(\"Proportion\")) #SOLUTION\n",
    "    resample_yes_proportions = np.append(resample_yes_proportions, resample.item(0)) #SOLUTION\n",
    "Table().with_column(\"Resample Yes proportion\", resample_yes_proportions).hist(bins=np.arange(.2, .8, .01))"
   ]
  },
  {
   "cell_type": "code",
   "execution_count": 18,
   "id": "ab5dba93",
   "metadata": {
    "execution": {
     "iopub.execute_input": "2022-03-31T07:51:22.530854Z",
     "iopub.status.busy": "2022-03-31T07:51:22.530188Z",
     "iopub.status.idle": "2022-03-31T07:51:22.535229Z",
     "shell.execute_reply": "2022-03-31T07:51:22.534400Z"
    }
   },
   "outputs": [
    {
     "data": {
      "text/plain": [
       "True"
      ]
     },
     "execution_count": 18,
     "metadata": {},
     "output_type": "execute_result"
    }
   ],
   "source": [
    "# TEST\n",
    "len(resample_yes_proportions) == 10000"
   ]
  },
  {
   "cell_type": "code",
   "execution_count": 19,
   "id": "f711f10e",
   "metadata": {
    "deletable": false,
    "execution": {
     "iopub.execute_input": "2022-03-31T07:51:22.538542Z",
     "iopub.status.busy": "2022-03-31T07:51:22.538314Z",
     "iopub.status.idle": "2022-03-31T07:51:22.544601Z",
     "shell.execute_reply": "2022-03-31T07:51:22.543790Z"
    }
   },
   "outputs": [
    {
     "data": {
      "text/plain": [
       "True"
      ]
     },
     "execution_count": 19,
     "metadata": {},
     "output_type": "execute_result"
    }
   ],
   "source": [
    "# TEST\n",
    "abs(np.mean(resample_yes_proportions) - .525) < .025 and np.std(resample_yes_proportions) < .08"
   ]
  },
  {
   "cell_type": "markdown",
   "id": "647a5d55",
   "metadata": {},
   "source": [
    "**Question 3.2.** Why does the Central Limit Theorem (CLT) apply in this situation, and how does it explain the distribution we see above? **(6 points)**\n",
    "\n",
    "```\n",
    "BEGIN QUESTION\n",
    "name: q3_2\n",
    "manual: true\n",
    "```"
   ]
  },
  {
   "cell_type": "markdown",
   "id": "fa0e4634",
   "metadata": {
    "deletable": false,
    "manual_problem_id": "polling_3"
   },
   "source": [
    "**SOLUTION:** If we think of Yes votes as 1 and No votes as 0, then the sample is a collection of numbers.  A resample is sampled with replacement from that collection, so a resample mean is the mean of a sample with replacement from some collection of numbers.  The CLT therefore applies to the resample means: across resamples, they will have an approximately normal distribution.  That's why the histogram above is bell-shaped."
   ]
  },
  {
   "cell_type": "markdown",
   "id": "243595b3",
   "metadata": {},
   "source": [
    "In a population whose members are 0 and 1, there is a simple formula for the **standard deviation of that population**:\n",
    "\n",
    "$$\\text{standard deviation of population} = \\sqrt{(\\text{proportion of 0s}) \\times (\\text{proportion of 1s})}$$\n",
    "\n",
    "(Figuring out this formula, starting from the definition of the standard deviation, is an fun exercise for those who enjoy algebra.)"
   ]
  },
  {
   "cell_type": "markdown",
   "id": "18600d04",
   "metadata": {},
   "source": [
    "**Question 3.3.** Using only the Central Limit Theorem and the numbers of Yes and No voters in our sample of 400, *algebraically* compute the predicted standard deviation of the `resample_yes_proportions` array. Assign this number to `approximate_sd`. **Do not access the data in `resample_yes_proportions` in any way.** **(6 points)**\n",
    "\n",
    "Remember that the standard deviation of the sample means can be computed from the population SD and the size of the sample (the formula above might be helpful). If we do not know the population SD, we can use the sample SD as a reasonable approximation in its place. [This section](https://inferentialthinking.com/chapters/14/5/Variability_of_the_Sample_Mean.html#the-sd-of-all-the-sample-means) of the textbook also may be helpful.\n",
    "\n",
    "```\n",
    "BEGIN QUESTION\n",
    "name: q3_3\n",
    "manual: false\n",
    "points:\n",
    " - 0\n",
    " - 6\n",
    "```"
   ]
  },
  {
   "cell_type": "code",
   "execution_count": 20,
   "id": "d0a3604f",
   "metadata": {
    "ExecuteTime": {
     "end_time": "2018-03-20T04:35:33.660846Z",
     "start_time": "2018-03-20T04:35:33.652810Z"
    },
    "deletable": false,
    "execution": {
     "iopub.execute_input": "2022-03-31T07:51:22.548498Z",
     "iopub.status.busy": "2022-03-31T07:51:22.547840Z",
     "iopub.status.idle": "2022-03-31T07:51:22.553529Z",
     "shell.execute_reply": "2022-03-31T07:51:22.552853Z"
    },
    "manual_problem_id": "approximate_sd"
   },
   "outputs": [
    {
     "data": {
      "text/plain": [
       "0.024968730444297725"
      ]
     },
     "execution_count": 20,
     "metadata": {},
     "output_type": "execute_result"
    }
   ],
   "source": [
    "approx_pop_sd = (190/400 * 210/400) ** 0.5 # SOLUTION\n",
    "approximate_sd = approx_pop_sd / (400 ** 0.5) # SOLUTION\n",
    "approximate_sd"
   ]
  },
  {
   "cell_type": "code",
   "execution_count": 21,
   "id": "4e371532",
   "metadata": {
    "deletable": false,
    "execution": {
     "iopub.execute_input": "2022-03-31T07:51:22.556802Z",
     "iopub.status.busy": "2022-03-31T07:51:22.556565Z",
     "iopub.status.idle": "2022-03-31T07:51:22.561268Z",
     "shell.execute_reply": "2022-03-31T07:51:22.560604Z"
    }
   },
   "outputs": [
    {
     "data": {
      "text/plain": [
       "True"
      ]
     },
     "execution_count": 21,
     "metadata": {},
     "output_type": "execute_result"
    }
   ],
   "source": [
    "# TEST\n",
    "approximate_sd < 0.025"
   ]
  },
  {
   "cell_type": "code",
   "execution_count": 22,
   "id": "a3389a06",
   "metadata": {
    "deletable": false,
    "execution": {
     "iopub.execute_input": "2022-03-31T07:51:22.584598Z",
     "iopub.status.busy": "2022-03-31T07:51:22.584291Z",
     "iopub.status.idle": "2022-03-31T07:51:22.590254Z",
     "shell.execute_reply": "2022-03-31T07:51:22.589560Z"
    }
   },
   "outputs": [
    {
     "data": {
      "text/plain": [
       "True"
      ]
     },
     "execution_count": 22,
     "metadata": {},
     "output_type": "execute_result"
    }
   ],
   "source": [
    "# HIDDEN TEST\n",
    "np.isclose(approximate_sd, ((210/400) * (190/400) / 400) ** 0.5)"
   ]
  },
  {
   "cell_type": "markdown",
   "id": "b3d5d000",
   "metadata": {},
   "source": [
    "**Question 3.4.** Compute the standard deviation of the array `resample_yes_proportions`, which will act as an approximation to the true SD of the possible sample proportions. This will help verify whether your answer to question 3.3 is approximately correct. **(6 points)**\n",
    "\n",
    "```\n",
    "BEGIN QUESTION\n",
    "name: q3_4\n",
    "manual: false\n",
    "points:\n",
    " - 0\n",
    " - 6\n",
    "```"
   ]
  },
  {
   "cell_type": "code",
   "execution_count": 23,
   "id": "772d752c",
   "metadata": {
    "ExecuteTime": {
     "end_time": "2018-03-20T04:35:34.753988Z",
     "start_time": "2018-03-20T04:35:34.745953Z"
    },
    "deletable": false,
    "execution": {
     "iopub.execute_input": "2022-03-31T07:51:22.593367Z",
     "iopub.status.busy": "2022-03-31T07:51:22.593118Z",
     "iopub.status.idle": "2022-03-31T07:51:22.598680Z",
     "shell.execute_reply": "2022-03-31T07:51:22.598082Z"
    },
    "manual_problem_id": "exact_sd"
   },
   "outputs": [
    {
     "data": {
      "text/plain": [
       "0.025231711153823878"
      ]
     },
     "execution_count": 23,
     "metadata": {},
     "output_type": "execute_result"
    }
   ],
   "source": [
    "exact_sd = np.std(resample_yes_proportions) #SOLUTION\n",
    "exact_sd"
   ]
  },
  {
   "cell_type": "code",
   "execution_count": 24,
   "id": "5a9ecda8",
   "metadata": {
    "deletable": false,
    "execution": {
     "iopub.execute_input": "2022-03-31T07:51:22.602158Z",
     "iopub.status.busy": "2022-03-31T07:51:22.601509Z",
     "iopub.status.idle": "2022-03-31T07:51:22.606143Z",
     "shell.execute_reply": "2022-03-31T07:51:22.605486Z"
    }
   },
   "outputs": [
    {
     "data": {
      "text/plain": [
       "True"
      ]
     },
     "execution_count": 24,
     "metadata": {},
     "output_type": "execute_result"
    }
   ],
   "source": [
    "# TEST\n",
    "exact_sd < 0.05"
   ]
  },
  {
   "cell_type": "code",
   "execution_count": 25,
   "id": "6bdabad2",
   "metadata": {
    "deletable": false,
    "execution": {
     "iopub.execute_input": "2022-03-31T07:51:22.609234Z",
     "iopub.status.busy": "2022-03-31T07:51:22.608811Z",
     "iopub.status.idle": "2022-03-31T07:51:22.613436Z",
     "shell.execute_reply": "2022-03-31T07:51:22.612710Z"
    }
   },
   "outputs": [
    {
     "data": {
      "text/plain": [
       "True"
      ]
     },
     "execution_count": 25,
     "metadata": {},
     "output_type": "execute_result"
    }
   ],
   "source": [
    "# HIDDEN TEST\n",
    "0.02 <= exact_sd <= 0.03"
   ]
  },
  {
   "cell_type": "markdown",
   "id": "f8430a5c",
   "metadata": {},
   "source": [
    "**Question 3.5.** **Again, without accessing `resample_yes_proportions` in any way**, compute an approximate 95% confidence interval for the proportion of Yes voters in California. **(6 points)**\n",
    "\n",
    "The cell below draws your interval as a red bar below the histogram of `resample_yes_proportions`; use that to verify that your answer looks right.\n",
    "\n",
    "*Hint:* How many SDs corresponds to 95% of the distribution promised by the CLT? Recall the discussion in the textbook [here](https://inferentialthinking.com/chapters/14/3/SD_and_the_Normal_Curve.html).\n",
    "\n",
    "*Hint:* The `approximate_sd` variable you previously defined may be helpful!\n",
    "\n",
    "```\n",
    "BEGIN QUESTION\n",
    "name: q3_5\n",
    "manual: false\n",
    "points:\n",
    " - 0\n",
    " - 3\n",
    " - 3\n",
    "```"
   ]
  },
  {
   "cell_type": "code",
   "execution_count": 26,
   "id": "6f62b81c",
   "metadata": {
    "ExecuteTime": {
     "end_time": "2018-03-20T04:35:42.572582Z",
     "start_time": "2018-03-20T04:35:42.560545Z"
    },
    "deletable": false,
    "execution": {
     "iopub.execute_input": "2022-03-31T07:51:22.616458Z",
     "iopub.status.busy": "2022-03-31T07:51:22.616257Z",
     "iopub.status.idle": "2022-03-31T07:51:22.620975Z",
     "shell.execute_reply": "2022-03-31T07:51:22.620228Z"
    },
    "manual_problem_id": "ci_without_data"
   },
   "outputs": [
    {
     "name": "stdout",
     "output_type": "stream",
     "text": [
      "lower: 0.47506253911140456 upper: 0.5749374608885954\n"
     ]
    }
   ],
   "source": [
    "lower_limit = 210/400 - 2*approximate_sd #SOLUTION\n",
    "upper_limit = 210/400 + 2*approximate_sd #SOLUTION\n",
    "print('lower:', lower_limit, 'upper:', upper_limit)"
   ]
  },
  {
   "cell_type": "code",
   "execution_count": 27,
   "id": "877625ca",
   "metadata": {
    "deletable": false,
    "execution": {
     "iopub.execute_input": "2022-03-31T07:51:22.623884Z",
     "iopub.status.busy": "2022-03-31T07:51:22.623680Z",
     "iopub.status.idle": "2022-03-31T07:51:22.628271Z",
     "shell.execute_reply": "2022-03-31T07:51:22.627435Z"
    }
   },
   "outputs": [
    {
     "data": {
      "text/plain": [
       "True"
      ]
     },
     "execution_count": 27,
     "metadata": {},
     "output_type": "execute_result"
    }
   ],
   "source": [
    "# TEST\n",
    "0.4 <= lower_limit < upper_limit <= 0.7"
   ]
  },
  {
   "cell_type": "code",
   "execution_count": 28,
   "id": "cd36d209",
   "metadata": {
    "deletable": false,
    "execution": {
     "iopub.execute_input": "2022-03-31T07:51:22.631062Z",
     "iopub.status.busy": "2022-03-31T07:51:22.630839Z",
     "iopub.status.idle": "2022-03-31T07:51:22.635870Z",
     "shell.execute_reply": "2022-03-31T07:51:22.635213Z"
    }
   },
   "outputs": [
    {
     "data": {
      "text/plain": [
       "True"
      ]
     },
     "execution_count": 28,
     "metadata": {},
     "output_type": "execute_result"
    }
   ],
   "source": [
    "# HIDDEN TEST\n",
    "np.isclose(lower_limit, 0.47506253911140456)"
   ]
  },
  {
   "cell_type": "code",
   "execution_count": 29,
   "id": "7bc0e263",
   "metadata": {
    "deletable": false,
    "execution": {
     "iopub.execute_input": "2022-03-31T07:51:22.639181Z",
     "iopub.status.busy": "2022-03-31T07:51:22.638525Z",
     "iopub.status.idle": "2022-03-31T07:51:22.643373Z",
     "shell.execute_reply": "2022-03-31T07:51:22.642688Z"
    }
   },
   "outputs": [
    {
     "data": {
      "text/plain": [
       "True"
      ]
     },
     "execution_count": 29,
     "metadata": {},
     "output_type": "execute_result"
    }
   ],
   "source": [
    "# HIDDEN TEST\n",
    "np.isclose(upper_limit, 0.5749374608885954)"
   ]
  },
  {
   "cell_type": "code",
   "execution_count": 30,
   "id": "a1d46690",
   "metadata": {
    "deletable": false,
    "editable": false,
    "execution": {
     "iopub.execute_input": "2022-03-31T07:51:22.646169Z",
     "iopub.status.busy": "2022-03-31T07:51:22.645942Z",
     "iopub.status.idle": "2022-03-31T07:51:23.029199Z",
     "shell.execute_reply": "2022-03-31T07:51:23.028329Z"
    }
   },
   "outputs": [
    {
     "data": {
      "image/png": "[encoded data removed]",
      "text/plain": [
       "<Figure size 432x288 with 1 Axes>"
      ]
     },
     "metadata": {},
     "output_type": "display_data"
    }
   ],
   "source": [
    "# Run this cell to plot your confidence interval.\n",
    "Table().with_column(\"Resample Yes proportion\", resample_yes_proportions).hist(bins=np.arange(.2, .8, .01))\n",
    "plt.plot(make_array(lower_limit, upper_limit), make_array(0, 0), c='r', lw=10);"
   ]
  },
  {
   "cell_type": "markdown",
   "id": "ad8863d8",
   "metadata": {},
   "source": [
    "<div class=\"hide\">\\pagebreak</div>\n",
    "Your confidence interval should overlap the number 0.5.  That means we can't be very sure whether Proposition 68 is winning, even though the sample Yes proportion is a bit above 0.5.\n",
    "\n",
    "The Yes on 68 campaign really needs to know whether they're winning.  It's impossible to be absolutely sure without polling the whole population, but they'd be okay if the standard deviation of the sample mean were only 0.005.  They ask Michelle to run a new poll with a sample size that's large enough to achieve that.  (Polling is expensive, so the sample also shouldn't be bigger than necessary.)\n",
    "\n",
    "Michelle consults Chapter 14 of your textbook.  Instead of making the conservative assumption that the population standard deviation is 0.5 (coding Yes voters as 1 and No voters as 0), she decides to assume that it's equal to the standard deviation of the sample,\n",
    "\n",
    "$$\\sqrt{(\\text{Yes proportion in the sample}) \\times (\\text{No proportion in the sample})}.$$\n",
    "\n",
    "Under that assumption, Michelle decides that a sample of 9,975 would suffice."
   ]
  },
  {
   "cell_type": "markdown",
   "id": "733da27f",
   "metadata": {},
   "source": [
    "**Question 3.6.** Does Michelle's sample size achieve the desired standard deviation of sample means? What SD would you achieve with a smaller sample size? A higher sample size?\n",
    "\n",
    "To explore this, first compute the SD of sample means obtained by using Michelle's sample size. **(6 points)**\n",
    "\n",
    "```\n",
    "BEGIN QUESTION\n",
    "name: q3_6\n",
    "manual: false\n",
    "points:\n",
    " - 0\n",
    " - 2\n",
    " - 2\n",
    " - 2\n",
    "```"
   ]
  },
  {
   "cell_type": "code",
   "execution_count": 31,
   "id": "e6c787c6",
   "metadata": {
    "ExecuteTime": {
     "end_time": "2018-03-20T04:35:45.882794Z",
     "start_time": "2018-03-20T04:35:45.870760Z"
    },
    "deletable": false,
    "execution": {
     "iopub.execute_input": "2022-03-31T07:51:23.032801Z",
     "iopub.status.busy": "2022-03-31T07:51:23.032579Z",
     "iopub.status.idle": "2022-03-31T07:51:23.038119Z",
     "shell.execute_reply": "2022-03-31T07:51:23.037353Z"
    },
    "manual_problem_id": "michelle_sample_mean_sd",
    "scrolled": true
   },
   "outputs": [
    {
     "name": "stdout",
     "output_type": "stream",
     "text": [
      "With Michelle's sample size, you would predict a sample mean SD of 0.005000.\n"
     ]
    }
   ],
   "source": [
    "estimated_population_sd = np.sqrt((210/400)*(1 - 210/400)) #SOLUTION\n",
    "michelle_sample_size = 9975 #SOLUTION\n",
    "michelle_sample_mean_sd = estimated_population_sd/(michelle_sample_size**.5) #SOLUTION\n",
    "print(\"With Michelle's sample size, you would predict a sample mean SD of %f.\" % michelle_sample_mean_sd)"
   ]
  },
  {
   "cell_type": "code",
   "execution_count": 32,
   "id": "4f265c45",
   "metadata": {
    "deletable": false,
    "execution": {
     "iopub.execute_input": "2022-03-31T07:51:23.041303Z",
     "iopub.status.busy": "2022-03-31T07:51:23.040746Z",
     "iopub.status.idle": "2022-03-31T07:51:23.045556Z",
     "shell.execute_reply": "2022-03-31T07:51:23.044863Z"
    }
   },
   "outputs": [
    {
     "data": {
      "text/plain": [
       "True"
      ]
     },
     "execution_count": 32,
     "metadata": {},
     "output_type": "execute_result"
    }
   ],
   "source": [
    "# TEST\n",
    "type(michelle_sample_size) == int"
   ]
  },
  {
   "cell_type": "code",
   "execution_count": 33,
   "id": "5c56f570",
   "metadata": {
    "execution": {
     "iopub.execute_input": "2022-03-31T07:51:23.048496Z",
     "iopub.status.busy": "2022-03-31T07:51:23.048296Z",
     "iopub.status.idle": "2022-03-31T07:51:23.053059Z",
     "shell.execute_reply": "2022-03-31T07:51:23.052417Z"
    }
   },
   "outputs": [
    {
     "data": {
      "text/plain": [
       "True"
      ]
     },
     "execution_count": 33,
     "metadata": {},
     "output_type": "execute_result"
    }
   ],
   "source": [
    "# HIDDEN TEST\n",
    "np.isclose(estimated_population_sd, 0.4993746088859545)"
   ]
  },
  {
   "cell_type": "code",
   "execution_count": 34,
   "id": "e7d0d721",
   "metadata": {
    "execution": {
     "iopub.execute_input": "2022-03-31T07:51:23.055737Z",
     "iopub.status.busy": "2022-03-31T07:51:23.055549Z",
     "iopub.status.idle": "2022-03-31T07:51:23.059738Z",
     "shell.execute_reply": "2022-03-31T07:51:23.059124Z"
    }
   },
   "outputs": [
    {
     "data": {
      "text/plain": [
       "True"
      ]
     },
     "execution_count": 34,
     "metadata": {},
     "output_type": "execute_result"
    }
   ],
   "source": [
    "# HIDDEN TEST\n",
    "michelle_sample_size == 9975"
   ]
  },
  {
   "cell_type": "code",
   "execution_count": 35,
   "id": "250c9de7",
   "metadata": {
    "execution": {
     "iopub.execute_input": "2022-03-31T07:51:23.081620Z",
     "iopub.status.busy": "2022-03-31T07:51:23.081032Z",
     "iopub.status.idle": "2022-03-31T07:51:23.086978Z",
     "shell.execute_reply": "2022-03-31T07:51:23.086185Z"
    }
   },
   "outputs": [
    {
     "data": {
      "text/plain": [
       "True"
      ]
     },
     "execution_count": 35,
     "metadata": {},
     "output_type": "execute_result"
    }
   ],
   "source": [
    "# HIDDEN TEST\n",
    "np.isclose(michelle_sample_mean_sd, .005)"
   ]
  },
  {
   "cell_type": "markdown",
   "id": "0ba6e6e5",
   "metadata": {},
   "source": [
    "**Question 3.7.** Next, compute the SD of sample means that you would get from a smaller sample size. Ideally, you should pick a number that is significantly smaller, but any sample size smaller than Michelle's will do. **(5 points)**\n",
    "\n",
    "```\n",
    "BEGIN QUESTION\n",
    "name: q3_7\n",
    "manual: false\n",
    "points:\n",
    " - 1\n",
    " - 4\n",
    "```"
   ]
  },
  {
   "cell_type": "code",
   "execution_count": 36,
   "id": "ba4269d5",
   "metadata": {
    "ExecuteTime": {
     "end_time": "2018-03-20T04:35:47.010246Z",
     "start_time": "2018-03-20T04:35:47.002724Z"
    },
    "deletable": false,
    "execution": {
     "iopub.execute_input": "2022-03-31T07:51:23.090325Z",
     "iopub.status.busy": "2022-03-31T07:51:23.090060Z",
     "iopub.status.idle": "2022-03-31T07:51:23.095558Z",
     "shell.execute_reply": "2022-03-31T07:51:23.094729Z"
    },
    "manual_problem_id": "smaller_sample_size"
   },
   "outputs": [
    {
     "name": "stdout",
     "output_type": "stream",
     "text": [
      "With this smaller sample size, you would predict a sample mean SD of 0.007062\n"
     ]
    }
   ],
   "source": [
    "smaller_sample_size = 5000 #SOLUTION\n",
    "smaller_sample_mean_sd = estimated_population_sd/(smaller_sample_size**.5) #SOLUTION\n",
    "print(\"With this smaller sample size, you would predict a sample mean SD of %f\" % smaller_sample_mean_sd)"
   ]
  },
  {
   "cell_type": "code",
   "execution_count": 37,
   "id": "b87e2d5e",
   "metadata": {
    "deletable": false,
    "execution": {
     "iopub.execute_input": "2022-03-31T07:51:23.098676Z",
     "iopub.status.busy": "2022-03-31T07:51:23.098428Z",
     "iopub.status.idle": "2022-03-31T07:51:23.103403Z",
     "shell.execute_reply": "2022-03-31T07:51:23.102638Z"
    }
   },
   "outputs": [
    {
     "data": {
      "text/plain": [
       "True"
      ]
     },
     "execution_count": 37,
     "metadata": {},
     "output_type": "execute_result"
    }
   ],
   "source": [
    "# TEST\n",
    "smaller_sample_size < michelle_sample_size"
   ]
  },
  {
   "cell_type": "code",
   "execution_count": 38,
   "id": "6c161452",
   "metadata": {
    "execution": {
     "iopub.execute_input": "2022-03-31T07:51:23.106725Z",
     "iopub.status.busy": "2022-03-31T07:51:23.106468Z",
     "iopub.status.idle": "2022-03-31T07:51:23.111374Z",
     "shell.execute_reply": "2022-03-31T07:51:23.110635Z"
    }
   },
   "outputs": [
    {
     "data": {
      "text/plain": [
       "True"
      ]
     },
     "execution_count": 38,
     "metadata": {},
     "output_type": "execute_result"
    }
   ],
   "source": [
    "# HIDDEN TEST\n",
    "smaller_sample_mean_sd > .005"
   ]
  },
  {
   "cell_type": "markdown",
   "id": "7e77c5a0",
   "metadata": {},
   "source": [
    "**Question 3.8.** Finally, compute the SD of sample means that you would get from a larger sample size. Here, a number that is significantly larger would make any difference more obvious, but any sample size larger than Michelle's will do. **(5 points)**\n",
    "\n",
    "\n",
    "```\n",
    "BEGIN QUESTION\n",
    "name: q3_8\n",
    "manual: false\n",
    "points:\n",
    " - 1\n",
    " - 4\n",
    "```"
   ]
  },
  {
   "cell_type": "code",
   "execution_count": 39,
   "id": "18da5503",
   "metadata": {
    "ExecuteTime": {
     "end_time": "2018-03-20T04:35:48.098047Z",
     "start_time": "2018-03-20T04:35:48.089414Z"
    },
    "deletable": false,
    "execution": {
     "iopub.execute_input": "2022-03-31T07:51:23.114512Z",
     "iopub.status.busy": "2022-03-31T07:51:23.114289Z",
     "iopub.status.idle": "2022-03-31T07:51:23.118941Z",
     "shell.execute_reply": "2022-03-31T07:51:23.118241Z"
    },
    "manual_problem_id": "larger_sample_mean_sd"
   },
   "outputs": [
    {
     "name": "stdout",
     "output_type": "stream",
     "text": [
      "With this larger sample size, you would predict a sample mean SD of 0.004077\n"
     ]
    }
   ],
   "source": [
    "larger_sample_size = 15000 #SOLUTION\n",
    "larger_sample_mean_sd = estimated_population_sd/(larger_sample_size**.5) #SOLUTION\n",
    "print(\"With this larger sample size, you would predict a sample mean SD of %f\" % larger_sample_mean_sd)"
   ]
  },
  {
   "cell_type": "code",
   "execution_count": 40,
   "id": "e2340675",
   "metadata": {
    "deletable": false,
    "execution": {
     "iopub.execute_input": "2022-03-31T07:51:23.122201Z",
     "iopub.status.busy": "2022-03-31T07:51:23.121646Z",
     "iopub.status.idle": "2022-03-31T07:51:23.126482Z",
     "shell.execute_reply": "2022-03-31T07:51:23.125767Z"
    }
   },
   "outputs": [
    {
     "data": {
      "text/plain": [
       "True"
      ]
     },
     "execution_count": 40,
     "metadata": {},
     "output_type": "execute_result"
    }
   ],
   "source": [
    "# TEST\n",
    "larger_sample_size > michelle_sample_size"
   ]
  },
  {
   "cell_type": "code",
   "execution_count": 41,
   "id": "dc8407c1",
   "metadata": {
    "deletable": false,
    "execution": {
     "iopub.execute_input": "2022-03-31T07:51:23.129271Z",
     "iopub.status.busy": "2022-03-31T07:51:23.129055Z",
     "iopub.status.idle": "2022-03-31T07:51:23.133863Z",
     "shell.execute_reply": "2022-03-31T07:51:23.133180Z"
    }
   },
   "outputs": [
    {
     "data": {
      "text/plain": [
       "True"
      ]
     },
     "execution_count": 41,
     "metadata": {},
     "output_type": "execute_result"
    }
   ],
   "source": [
    "# HIDDEN TEST\n",
    "larger_sample_mean_sd < .005"
   ]
  },
  {
   "cell_type": "markdown",
   "id": "35a82d67",
   "metadata": {},
   "source": [
    "**Question 3.9.** Based off of this, was Michelle's sample size approximately the minimum sufficient sample, given her assumption that the sample SD is the same as the population SD? Assign `min_sufficient` to `True` if 9,975 was indeed approximately the minimum sufficient sample, and `False` if it wasn't. **(4 points)**\n",
    "\n",
    "```\n",
    "BEGIN QUESTION\n",
    "name: q3_9\n",
    "manual: false\n",
    "points:\n",
    " - 0\n",
    " - 4\n",
    "```"
   ]
  },
  {
   "cell_type": "code",
   "execution_count": 42,
   "id": "e326bf11",
   "metadata": {
    "ExecuteTime": {
     "end_time": "2018-03-20T04:35:49.134092Z",
     "start_time": "2018-03-20T04:35:49.126066Z"
    },
    "deletable": false,
    "execution": {
     "iopub.execute_input": "2022-03-31T07:51:23.137161Z",
     "iopub.status.busy": "2022-03-31T07:51:23.136495Z",
     "iopub.status.idle": "2022-03-31T07:51:23.141040Z",
     "shell.execute_reply": "2022-03-31T07:51:23.140466Z"
    },
    "manual_problem_id": "min_sufficient"
   },
   "outputs": [
    {
     "data": {
      "text/plain": [
       "True"
      ]
     },
     "execution_count": 42,
     "metadata": {},
     "output_type": "execute_result"
    }
   ],
   "source": [
    "min_sufficient = True #SOLUTION\n",
    "min_sufficient"
   ]
  },
  {
   "cell_type": "code",
   "execution_count": 43,
   "id": "b3c3e470",
   "metadata": {
    "deletable": false,
    "execution": {
     "iopub.execute_input": "2022-03-31T07:51:23.143785Z",
     "iopub.status.busy": "2022-03-31T07:51:23.143568Z",
     "iopub.status.idle": "2022-03-31T07:51:23.180706Z",
     "shell.execute_reply": "2022-03-31T07:51:23.147652Z"
    }
   },
   "outputs": [
    {
     "data": {
      "text/plain": [
       "True"
      ]
     },
     "execution_count": 43,
     "metadata": {},
     "output_type": "execute_result"
    }
   ],
   "source": [
    "# TEST\n",
    "min_sufficient or not min_sufficient "
   ]
  },
  {
   "cell_type": "code",
   "execution_count": 44,
   "id": "190ed9c1",
   "metadata": {
    "deletable": false,
    "execution": {
     "iopub.execute_input": "2022-03-31T07:51:23.184752Z",
     "iopub.status.busy": "2022-03-31T07:51:23.184449Z",
     "iopub.status.idle": "2022-03-31T07:51:23.189573Z",
     "shell.execute_reply": "2022-03-31T07:51:23.188875Z"
    }
   },
   "outputs": [
    {
     "data": {
      "text/plain": [
       "True"
      ]
     },
     "execution_count": 44,
     "metadata": {},
     "output_type": "execute_result"
    }
   ],
   "source": [
    "# HIDDEN TEST\n",
    "min_sufficient"
   ]
  },
  {
   "cell_type": "markdown",
   "id": "b528b238",
   "metadata": {},
   "source": [
    "## 4. Mid-Semester Survey\n",
    "\n",
    "Once you have submitted, please also take the time to complete the Mid-Semester Survey! We\n",
    "really appreciate your honest feedback and it helps us improve the course!\n",
    "\n",
    "The Mid-Semester survey is linked here: https://forms.gle/mg3E97WckJsiM5xa8"
   ]
  },
  {
   "cell_type": "markdown",
   "id": "8dfb6100",
   "metadata": {},
   "source": [
    "**Question 4.1.** Fill out the mid-semester survey linked above. Once you have submitted, a secret word will be displayed. Set `secret_word` to the secret string at the end of the form. **(2 points)**\n",
    "\n",
    "\n",
    "```\n",
    "BEGIN QUESTION\n",
    "name: q4_1\n",
    "manual: false\n",
    "points:\n",
    " - 0\n",
    " - 2\n",
    "```"
   ]
  },
  {
   "cell_type": "code",
   "execution_count": 45,
   "id": "dd1d8ba3",
   "metadata": {
    "execution": {
     "iopub.execute_input": "2022-03-31T07:51:23.192595Z",
     "iopub.status.busy": "2022-03-31T07:51:23.192349Z",
     "iopub.status.idle": "2022-03-31T07:51:23.196011Z",
     "shell.execute_reply": "2022-03-31T07:51:23.195355Z"
    }
   },
   "outputs": [],
   "source": [
    "secret_word = \"doggo8\" # SOLUTION"
   ]
  },
  {
   "cell_type": "code",
   "execution_count": 46,
   "id": "d74766bc",
   "metadata": {
    "execution": {
     "iopub.execute_input": "2022-03-31T07:51:23.198927Z",
     "iopub.status.busy": "2022-03-31T07:51:23.198540Z",
     "iopub.status.idle": "2022-03-31T07:51:23.203741Z",
     "shell.execute_reply": "2022-03-31T07:51:23.203071Z"
    }
   },
   "outputs": [
    {
     "data": {
      "text/plain": [
       "True"
      ]
     },
     "execution_count": 46,
     "metadata": {},
     "output_type": "execute_result"
    }
   ],
   "source": [
    "# TEST\n",
    "# Make sure secret_word is assigned to a string!\n",
    "type(secret_word) == str"
   ]
  },
  {
   "cell_type": "code",
   "execution_count": 47,
   "id": "0259b72a",
   "metadata": {
    "execution": {
     "iopub.execute_input": "2022-03-31T07:51:23.206693Z",
     "iopub.status.busy": "2022-03-31T07:51:23.206484Z",
     "iopub.status.idle": "2022-03-31T07:51:23.212044Z",
     "shell.execute_reply": "2022-03-31T07:51:23.211315Z"
    }
   },
   "outputs": [
    {
     "data": {
      "text/plain": [
       "True"
      ]
     },
     "execution_count": 47,
     "metadata": {},
     "output_type": "execute_result"
    }
   ],
   "source": [
    "# HIDDEN TEST\n",
    "secret_word == \"doggo8\""
   ]
  },
  {
   "cell_type": "markdown",
   "id": "704f7b96",
   "metadata": {},
   "source": [
    "You're done with Homework 9!  \n",
    "\n",
    "**Important submission steps:** \n",
    "1. Run the tests and verify that they all pass.\n",
    "2. Choose **Save Notebook** from the **File** menu, then **run the final cell**. \n",
    "3. Click the link to download the zip file.\n",
    "4. Then submit the zip file to the corresponding assignment according to your instructor's directions. \n",
    "\n",
    "**It is your responsibility to make sure your work is saved before running the last cell.**"
   ]
  }
 ],
 "metadata": {
  "kernelspec": {
   "display_name": "Python 3 (ipykernel)",
   "language": "python",
   "name": "python3"
  },
  "language_info": {
   "codemirror_mode": {
    "name": "ipython",
    "version": 3
   },
   "file_extension": ".py",
   "mimetype": "text/x-python",
   "name": "python",
   "nbconvert_exporter": "python",
   "pygments_lexer": "ipython3",
   "version": "3.9.10"
  }
 },
 "nbformat": 4,
 "nbformat_minor": 5
}
