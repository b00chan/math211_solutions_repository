{
 "cells": [
  {
   "cell_type": "markdown",
   "id": "ae313f38",
   "metadata": {},
   "source": [
    "```\n",
    "BEGIN ASSIGNMENT \n",
    "init_cell: true \n",
    "export_cell: true \n",
    "files:\n",
    "    - Austen_PrideAndPrejudice.txt\n",
    "    - comparisons.png\n",
    "    - large_srswor_salary.csv\n",
    "    - nacho_reactions.png\n",
    "    - player_data.csv\n",
    "    - salary_data.csv\n",
    "    - small_srswor_salary.csv\n",
    "    - d8error.py\n",
    "    - errorConfig.json\n",
    "    - luke_leia.jpg\n",
    "    - luke.jpg\n",
    "export_cell:\n",
    "    pdf: false\n",
    "    force_save: false\n",
    "solutions_pdf: true\n",
    "template_pdf: true\n",
    "generate:\n",
    "    points_possible: 100\n",
    "    show_stdout: true\n",
    "    zips: false\n",
    "```\n"
   ]
  },
  {
   "cell_type": "markdown",
   "id": "e2c3fef9",
   "metadata": {},
   "source": [
    "# Lab 5: Simulations\n",
    "\n",
    "Welcome to Lab 5! \n",
    "\n",
    "We will go over [iteration](https://www.inferentialthinking.com/chapters/09/2/Iteration.html) and [simulations](https://www.inferentialthinking.com/chapters/09/3/Simulation.html), as well as introduce the concept of [randomness](https://www.inferentialthinking.com/chapters/09/Randomness.html).\n",
    "\n",
    "The data used in this lab will contain salary data and other statistics for basketball players from the 2014-2015 NBA season. This data was collected from the following sports analytic sites: [Basketball Reference](http://www.basketball-reference.com) and [Spotrac](http://www.spotrac.com).\n",
    "\n",
    "**Submission**: Once you’re finished, run all cells besides the last one, select File > Save Notebook, and then execute the final cell. Then submit the downloaded zip file, that includes your notebook,  according to your instructor's directions.\n",
    "\n",
    "First, set up the notebook by running the cell below."
   ]
  },
  {
   "cell_type": "code",
   "execution_count": 1,
   "id": "e1743bcc",
   "metadata": {
    "execution": {
     "iopub.execute_input": "2022-02-21T23:19:47.790137Z",
     "iopub.status.busy": "2022-02-21T23:19:47.789646Z",
     "iopub.status.idle": "2022-02-21T23:19:49.047059Z",
     "shell.execute_reply": "2022-02-21T23:19:49.046532Z"
    }
   },
   "outputs": [],
   "source": [
    "# Run this cell, but please don't change it.\n",
    "\n",
    "# These lines import the Numpy and Datascience modules.\n",
    "import numpy as np\n",
    "from datascience import *\n",
    "\n",
    "# These lines do some fancy plotting magic\n",
    "import matplotlib\n",
    "%matplotlib inline\n",
    "import matplotlib.pyplot as plt\n",
    "plt.style.use('fivethirtyeight')\n",
    "\n",
    "import d8error"
   ]
  },
  {
   "cell_type": "markdown",
   "id": "cd46b413",
   "metadata": {},
   "source": [
    "## 1. Nachos and Conditionals"
   ]
  },
  {
   "cell_type": "markdown",
   "id": "c64fbfad",
   "metadata": {},
   "source": [
    "In Python, the boolean data type contains only two unique values:  `True` and `False`. Expressions containing comparison operators such as `<` (less than), `>` (greater than), and `==` (equal to) evaluate to Boolean values. A list of common comparison operators can be found below!\n",
    "\n",
    "<img src=\"comparisons.png\">"
   ]
  },
  {
   "cell_type": "markdown",
   "id": "f67c3117",
   "metadata": {},
   "source": [
    "Run the cell below to see an example of a comparison operator in action."
   ]
  },
  {
   "cell_type": "code",
   "execution_count": 2,
   "id": "607a1ca4",
   "metadata": {
    "execution": {
     "iopub.execute_input": "2022-02-21T23:19:49.052760Z",
     "iopub.status.busy": "2022-02-21T23:19:49.052281Z",
     "iopub.status.idle": "2022-02-21T23:19:49.055226Z",
     "shell.execute_reply": "2022-02-21T23:19:49.054838Z"
    }
   },
   "outputs": [
    {
     "data": {
      "text/plain": [
       "True"
      ]
     },
     "execution_count": 2,
     "metadata": {},
     "output_type": "execute_result"
    }
   ],
   "source": [
    "3 > (1 + 1)"
   ]
  },
  {
   "cell_type": "markdown",
   "id": "e77583c2",
   "metadata": {},
   "source": [
    "We can even assign the result of a comparison operation to a variable."
   ]
  },
  {
   "cell_type": "code",
   "execution_count": 3,
   "id": "10812819",
   "metadata": {
    "execution": {
     "iopub.execute_input": "2022-02-21T23:19:49.059001Z",
     "iopub.status.busy": "2022-02-21T23:19:49.058495Z",
     "iopub.status.idle": "2022-02-21T23:19:49.061060Z",
     "shell.execute_reply": "2022-02-21T23:19:49.060745Z"
    }
   },
   "outputs": [
    {
     "data": {
      "text/plain": [
       "True"
      ]
     },
     "execution_count": 3,
     "metadata": {},
     "output_type": "execute_result"
    }
   ],
   "source": [
    "result = 10 / 2 == 5\n",
    "result"
   ]
  },
  {
   "cell_type": "markdown",
   "id": "81fecc08",
   "metadata": {},
   "source": [
    "Arrays are compatible with comparison operators. The output is an array of boolean values."
   ]
  },
  {
   "cell_type": "code",
   "execution_count": 4,
   "id": "e8dae269",
   "metadata": {
    "execution": {
     "iopub.execute_input": "2022-02-21T23:19:49.065546Z",
     "iopub.status.busy": "2022-02-21T23:19:49.064895Z",
     "iopub.status.idle": "2022-02-21T23:19:49.067079Z",
     "shell.execute_reply": "2022-02-21T23:19:49.067419Z"
    }
   },
   "outputs": [
    {
     "data": {
      "text/plain": [
       "array([False,  True,  True,  True, False, False])"
      ]
     },
     "execution_count": 4,
     "metadata": {},
     "output_type": "execute_result"
    }
   ],
   "source": [
    "make_array(1, 5, 7, 8, 3, -1) > 3"
   ]
  },
  {
   "cell_type": "markdown",
   "id": "55f7c497",
   "metadata": {},
   "source": [
    "One day, when you come home after a long week, you see a hot bowl of nachos waiting on the dining table! Let's say that whenever you take a nacho from the bowl, it will either have only **cheese**, only **salsa**, **both** cheese and salsa, or **neither** cheese nor salsa (a sad tortilla chip indeed). \n",
    "\n",
    "Let's try and simulate taking nachos from the bowl at random using the function, `np.random.choice(...)`."
   ]
  },
  {
   "cell_type": "markdown",
   "id": "3c9fb779",
   "metadata": {},
   "source": [
    "### `np.random.choice`\n",
    "\n",
    "`np.random.choice` picks one item at random from the given array. It is equally likely to pick any of the items. Run the cell below several times, and observe how the results change."
   ]
  },
  {
   "cell_type": "code",
   "execution_count": 5,
   "id": "14d3cffd",
   "metadata": {
    "execution": {
     "iopub.execute_input": "2022-02-21T23:19:49.072218Z",
     "iopub.status.busy": "2022-02-21T23:19:49.071468Z",
     "iopub.status.idle": "2022-02-21T23:19:49.074678Z",
     "shell.execute_reply": "2022-02-21T23:19:49.074186Z"
    }
   },
   "outputs": [
    {
     "data": {
      "text/plain": [
       "'cheese'"
      ]
     },
     "execution_count": 5,
     "metadata": {},
     "output_type": "execute_result"
    }
   ],
   "source": [
    "nachos = make_array('cheese', 'salsa', 'both', 'neither')\n",
    "np.random.choice(nachos)"
   ]
  },
  {
   "cell_type": "markdown",
   "id": "895ae501",
   "metadata": {},
   "source": [
    "To repeat this process multiple times, pass in an int `n` as the second argument to return `n` different random choices. By default, `np.random.choice` samples **with replacement** and returns an *array* of items. Sampling **with replacement** means if we sample `n` times, each time, every element has an equal chance of being selected.\n",
    "\n",
    "Run the next cell to see an example of sampling with replacement 10 times from the `nachos` array."
   ]
  },
  {
   "cell_type": "code",
   "execution_count": 6,
   "id": "69fd3480",
   "metadata": {
    "execution": {
     "iopub.execute_input": "2022-02-21T23:19:49.078645Z",
     "iopub.status.busy": "2022-02-21T23:19:49.078176Z",
     "iopub.status.idle": "2022-02-21T23:19:49.080701Z",
     "shell.execute_reply": "2022-02-21T23:19:49.081091Z"
    }
   },
   "outputs": [
    {
     "data": {
      "text/plain": [
       "array(['salsa', 'salsa', 'both', 'cheese', 'cheese', 'salsa', 'neither',\n",
       "       'both', 'salsa', 'salsa'], dtype='<U7')"
      ]
     },
     "execution_count": 6,
     "metadata": {},
     "output_type": "execute_result"
    }
   ],
   "source": [
    "np.random.choice(nachos, 10)"
   ]
  },
  {
   "cell_type": "markdown",
   "id": "6ee8c20c",
   "metadata": {},
   "source": [
    "To count the number of times a certain type of nacho is randomly chosen, we can use `np.count_nonzero`"
   ]
  },
  {
   "cell_type": "markdown",
   "id": "fe92c67f",
   "metadata": {},
   "source": [
    "### `np.count_nonzero`\n",
    "\n",
    "`np.count_nonzero` counts the number of non-zero values that appear in an array. When an array of boolean values are passed through the function, it will count the number of `True` values (remember that in Python, `True` is coded as 1 and `False` is coded as 0.)\n",
    "\n",
    "Run the next cell to see an example that uses `np.count_nonzero`."
   ]
  },
  {
   "cell_type": "code",
   "execution_count": 7,
   "id": "65291302",
   "metadata": {
    "execution": {
     "iopub.execute_input": "2022-02-21T23:19:49.085247Z",
     "iopub.status.busy": "2022-02-21T23:19:49.084888Z",
     "iopub.status.idle": "2022-02-21T23:19:49.087595Z",
     "shell.execute_reply": "2022-02-21T23:19:49.087143Z"
    }
   },
   "outputs": [
    {
     "data": {
      "text/plain": [
       "3"
      ]
     },
     "execution_count": 7,
     "metadata": {},
     "output_type": "execute_result"
    }
   ],
   "source": [
    "np.count_nonzero(make_array(True, False, False, True, True))"
   ]
  },
  {
   "cell_type": "markdown",
   "id": "a0bc4311",
   "metadata": {},
   "source": [
    "**Question 1.1** Assume we took ten nachos at random, and stored the results in an array called `ten_nachos` as done below. Find the number of nachos with only cheese using code (do not hardcode the answer).  \n",
    "\n",
    "*Hint:* Our solution involves a comparison operator (e.g. `==`, `<`, ...) and the `np.count_nonzero` method.\n",
    "\n",
    "```\n",
    "BEGIN QUESTION\n",
    "name: q11\n",
    "```"
   ]
  },
  {
   "cell_type": "code",
   "execution_count": 8,
   "id": "d686a489",
   "metadata": {
    "execution": {
     "iopub.execute_input": "2022-02-21T23:19:49.092368Z",
     "iopub.status.busy": "2022-02-21T23:19:49.091899Z",
     "iopub.status.idle": "2022-02-21T23:19:49.094512Z",
     "shell.execute_reply": "2022-02-21T23:19:49.094855Z"
    }
   },
   "outputs": [
    {
     "data": {
      "text/plain": [
       "3"
      ]
     },
     "execution_count": 8,
     "metadata": {},
     "output_type": "execute_result"
    }
   ],
   "source": [
    "ten_nachos = make_array('neither', 'cheese', 'both', 'both', 'cheese', 'salsa', 'both', 'neither', 'cheese', 'both')\n",
    "number_cheese = np.count_nonzero(ten_nachos == 'cheese') #SOLUTION\n",
    "number_cheese"
   ]
  },
  {
   "cell_type": "code",
   "execution_count": 9,
   "id": "d72a46be",
   "metadata": {
    "deletable": false,
    "execution": {
     "iopub.execute_input": "2022-02-21T23:19:49.098455Z",
     "iopub.status.busy": "2022-02-21T23:19:49.097964Z",
     "iopub.status.idle": "2022-02-21T23:19:49.100626Z",
     "shell.execute_reply": "2022-02-21T23:19:49.100244Z"
    }
   },
   "outputs": [
    {
     "data": {
      "text/plain": [
       "True"
      ]
     },
     "execution_count": 9,
     "metadata": {},
     "output_type": "execute_result"
    }
   ],
   "source": [
    "# TEST\n",
    "number_cheese == 3"
   ]
  },
  {
   "cell_type": "markdown",
   "id": "cc8bd05f",
   "metadata": {},
   "source": [
    "**Conditional Statements**\n",
    "\n",
    "A conditional statement is a multi-line statement that allows Python to choose among different alternatives based on the truth value of an expression.\n",
    "\n",
    "Here is a basic example.\n",
    "\n",
    "```\n",
    "def sign(x):\n",
    "    if x > 0:\n",
    "        return 'Positive'\n",
    "    else:\n",
    "        return 'Negative'\n",
    "```\n",
    "\n",
    "If the input `x` is greater than `0`, we return the string `'Positive'`. Otherwise, we return `'Negative'`.\n",
    "\n",
    "If we want to test multiple conditions at once, we use the following general format.\n",
    "\n",
    "```\n",
    "if <if expression>:\n",
    "    <if body>\n",
    "elif <elif expression 0>:\n",
    "    <elif body 0>\n",
    "elif <elif expression 1>:\n",
    "    <elif body 1>\n",
    "...\n",
    "else:\n",
    "    <else body>\n",
    "```\n",
    "\n",
    "Only the body for the first conditional expression that is true will be evaluated. Each `if` and `elif` expression is evaluated and considered in order, starting at the top. `elif` can only be used if an `if` clause precedes it. As soon as a true value is found, the corresponding body is executed, and the rest of the conditional statement is skipped. If none of the `if` or `elif` expressions are true, then the `else body` is executed. \n",
    "\n",
    "For more examples and explanation, refer to the section on conditional statements [here](https://inferentialthinking.com/chapters/09/1/Conditional_Statements.html)."
   ]
  },
  {
   "cell_type": "markdown",
   "id": "cfaf90e5",
   "metadata": {},
   "source": [
    "**Question 1.2** Complete the following conditional statement so that the string `'More please'` is assigned to the variable `say_please` if the number of nachos with cheese in `ten_nachos` is less than `5`. Use the if statement to do this (do not directly reassign the variable `say_please`). \n",
    "\n",
    "*Hint*: You should be using `number_cheese` from Question 1.\n",
    "\n",
    "```\n",
    "BEGIN QUESTION\n",
    "name: q12\n",
    "```"
   ]
  },
  {
   "cell_type": "code",
   "execution_count": 10,
   "id": "02dab2f9",
   "metadata": {
    "execution": {
     "iopub.execute_input": "2022-02-21T23:19:49.105336Z",
     "iopub.status.busy": "2022-02-21T23:19:49.104723Z",
     "iopub.status.idle": "2022-02-21T23:19:49.108021Z",
     "shell.execute_reply": "2022-02-21T23:19:49.107597Z"
    },
    "for_assignment_type": "student"
   },
   "outputs": [
    {
     "data": {
      "text/plain": [
       "'More please'"
      ]
     },
     "execution_count": 10,
     "metadata": {},
     "output_type": "execute_result"
    }
   ],
   "source": [
    "\"\"\" # BEGIN PROMPT\n",
    "say_please = '?'\n",
    "\n",
    "if ...:\n",
    "    say_please = 'More please'\n",
    "\"\"\"; # END PROMPT\n",
    "# BEGIN SOLUTION NO PROMPT\n",
    "say_please = '?'\n",
    "\n",
    "if number_cheese < 5:\n",
    "    say_please = 'More please'\n",
    "# END SOLUTION\n",
    "say_please"
   ]
  },
  {
   "cell_type": "code",
   "execution_count": 11,
   "id": "c542ad37",
   "metadata": {
    "deletable": false,
    "execution": {
     "iopub.execute_input": "2022-02-21T23:19:49.132065Z",
     "iopub.status.busy": "2022-02-21T23:19:49.131560Z",
     "iopub.status.idle": "2022-02-21T23:19:49.135077Z",
     "shell.execute_reply": "2022-02-21T23:19:49.134757Z"
    }
   },
   "outputs": [
    {
     "data": {
      "text/plain": [
       "True"
      ]
     },
     "execution_count": 11,
     "metadata": {},
     "output_type": "execute_result"
    }
   ],
   "source": [
    "# TEST\n",
    "say_please == 'More please'"
   ]
  },
  {
   "cell_type": "markdown",
   "id": "1362ab7c",
   "metadata": {},
   "source": [
    "**Question 1.3** Write a function called `nacho_reaction` that returns a reaction (as a string) based on the type of nacho passed in as an argument. Use the table below to match the nacho type to the appropriate reaction.\n",
    "\n",
    "<img src=\"nacho_reactions.png\">\n",
    "\n",
    "*Hint:* If you're failing the test, double check the spelling of your reactions.\n",
    "\n",
    "```\n",
    "BEGIN QUESTION\n",
    "name: q13\n",
    "```"
   ]
  },
  {
   "cell_type": "code",
   "execution_count": 12,
   "id": "835d17ed",
   "metadata": {
    "execution": {
     "iopub.execute_input": "2022-02-21T23:19:49.140322Z",
     "iopub.status.busy": "2022-02-21T23:19:49.139788Z",
     "iopub.status.idle": "2022-02-21T23:19:49.142262Z",
     "shell.execute_reply": "2022-02-21T23:19:49.142597Z"
    },
    "for_assignment_type": "student"
   },
   "outputs": [
    {
     "data": {
      "text/plain": [
       "'Spicy!'"
      ]
     },
     "execution_count": 12,
     "metadata": {},
     "output_type": "execute_result"
    }
   ],
   "source": [
    "\"\"\" # BEGIN PROMPT\n",
    "def nacho_reaction(nacho):\n",
    "    if nacho == \"cheese\":\n",
    "        return ...\n",
    "    ... :\n",
    "        ...\n",
    "    ... :\n",
    "        ...\n",
    "    ... :\n",
    "        ...\n",
    "\"\"\"; # END PROMPT\n",
    "\n",
    "# BEGIN SOLUTION NO PROMPT\n",
    "def nacho_reaction(nacho):\n",
    "    if nacho == 'cheese':\n",
    "        return 'Cheesy!'\n",
    "    elif nacho == 'salsa':\n",
    "        return 'Spicy!'\n",
    "    elif nacho == 'both':\n",
    "        return 'Wow!'\n",
    "    else:\n",
    "        return 'Meh.'\n",
    "# END SOLUTION\n",
    "spicy_nacho = nacho_reaction('salsa')\n",
    "spicy_nacho"
   ]
  },
  {
   "cell_type": "code",
   "execution_count": 13,
   "id": "5887c0ce",
   "metadata": {
    "deletable": false,
    "execution": {
     "iopub.execute_input": "2022-02-21T23:19:49.146630Z",
     "iopub.status.busy": "2022-02-21T23:19:49.145980Z",
     "iopub.status.idle": "2022-02-21T23:19:49.148642Z",
     "shell.execute_reply": "2022-02-21T23:19:49.148984Z"
    }
   },
   "outputs": [
    {
     "data": {
      "text/plain": [
       "'Spicy!'"
      ]
     },
     "execution_count": 13,
     "metadata": {},
     "output_type": "execute_result"
    }
   ],
   "source": [
    "# TEST\n",
    "nacho_reaction('salsa')"
   ]
  },
  {
   "cell_type": "code",
   "execution_count": 14,
   "id": "7c9f4d53",
   "metadata": {
    "execution": {
     "iopub.execute_input": "2022-02-21T23:19:49.152893Z",
     "iopub.status.busy": "2022-02-21T23:19:49.152364Z",
     "iopub.status.idle": "2022-02-21T23:19:49.155282Z",
     "shell.execute_reply": "2022-02-21T23:19:49.154924Z"
    }
   },
   "outputs": [
    {
     "data": {
      "text/plain": [
       "'Cheesy!'"
      ]
     },
     "execution_count": 14,
     "metadata": {},
     "output_type": "execute_result"
    }
   ],
   "source": [
    "# TEST\n",
    "nacho_reaction('cheese')"
   ]
  },
  {
   "cell_type": "code",
   "execution_count": 15,
   "id": "811d9318",
   "metadata": {
    "execution": {
     "iopub.execute_input": "2022-02-21T23:19:49.159558Z",
     "iopub.status.busy": "2022-02-21T23:19:49.158843Z",
     "iopub.status.idle": "2022-02-21T23:19:49.162115Z",
     "shell.execute_reply": "2022-02-21T23:19:49.161787Z"
    }
   },
   "outputs": [
    {
     "data": {
      "text/plain": [
       "'Wow!'"
      ]
     },
     "execution_count": 15,
     "metadata": {},
     "output_type": "execute_result"
    }
   ],
   "source": [
    "# TEST\n",
    "nacho_reaction('both')"
   ]
  },
  {
   "cell_type": "code",
   "execution_count": 16,
   "id": "e3f99208",
   "metadata": {
    "execution": {
     "iopub.execute_input": "2022-02-21T23:19:49.165818Z",
     "iopub.status.busy": "2022-02-21T23:19:49.165377Z",
     "iopub.status.idle": "2022-02-21T23:19:49.168780Z",
     "shell.execute_reply": "2022-02-21T23:19:49.168297Z"
    }
   },
   "outputs": [
    {
     "data": {
      "text/plain": [
       "'Meh.'"
      ]
     },
     "execution_count": 16,
     "metadata": {},
     "output_type": "execute_result"
    }
   ],
   "source": [
    "# TEST\n",
    "nacho_reaction('neither')"
   ]
  },
  {
   "cell_type": "markdown",
   "id": "98e5f0a3",
   "metadata": {},
   "source": [
    "**Question 1.4** Create a table `ten_nachos_reactions` that consists of the nachos in `ten_nachos` as well as the reactions for each of those nachos. The columns should be called `Nachos` and `Reactions`.\n",
    "\n",
    "*Hint:* Use the `apply` method. \n",
    "\n",
    "```\n",
    "BEGIN QUESTION\n",
    "name: q14\n",
    "```"
   ]
  },
  {
   "cell_type": "code",
   "execution_count": 17,
   "id": "72e0335a",
   "metadata": {
    "execution": {
     "iopub.execute_input": "2022-02-21T23:19:49.175596Z",
     "iopub.status.busy": "2022-02-21T23:19:49.171421Z",
     "iopub.status.idle": "2022-02-21T23:19:49.178475Z",
     "shell.execute_reply": "2022-02-21T23:19:49.178097Z"
    },
    "for_assignment_type": "student"
   },
   "outputs": [
    {
     "data": {
      "text/html": [
       "<table border=\"1\" class=\"dataframe\">\n",
       "    <thead>\n",
       "        <tr>\n",
       "            <th>Nachos</th> <th>Reactions</th>\n",
       "        </tr>\n",
       "    </thead>\n",
       "    <tbody>\n",
       "        <tr>\n",
       "            <td>neither</td> <td>Meh.     </td>\n",
       "        </tr>\n",
       "        <tr>\n",
       "            <td>cheese </td> <td>Cheesy!  </td>\n",
       "        </tr>\n",
       "        <tr>\n",
       "            <td>both   </td> <td>Wow!     </td>\n",
       "        </tr>\n",
       "        <tr>\n",
       "            <td>both   </td> <td>Wow!     </td>\n",
       "        </tr>\n",
       "        <tr>\n",
       "            <td>cheese </td> <td>Cheesy!  </td>\n",
       "        </tr>\n",
       "        <tr>\n",
       "            <td>salsa  </td> <td>Spicy!   </td>\n",
       "        </tr>\n",
       "        <tr>\n",
       "            <td>both   </td> <td>Wow!     </td>\n",
       "        </tr>\n",
       "        <tr>\n",
       "            <td>neither</td> <td>Meh.     </td>\n",
       "        </tr>\n",
       "        <tr>\n",
       "            <td>cheese </td> <td>Cheesy!  </td>\n",
       "        </tr>\n",
       "        <tr>\n",
       "            <td>both   </td> <td>Wow!     </td>\n",
       "        </tr>\n",
       "    </tbody>\n",
       "</table>"
      ],
      "text/plain": [
       "Nachos  | Reactions\n",
       "neither | Meh.\n",
       "cheese  | Cheesy!\n",
       "both    | Wow!\n",
       "both    | Wow!\n",
       "cheese  | Cheesy!\n",
       "salsa   | Spicy!\n",
       "both    | Wow!\n",
       "neither | Meh.\n",
       "cheese  | Cheesy!\n",
       "both    | Wow!"
      ]
     },
     "execution_count": 17,
     "metadata": {},
     "output_type": "execute_result"
    }
   ],
   "source": [
    "ten_nachos_tbl = Table().with_column('Nachos', ten_nachos)\n",
    "ten_nachos_reactions = ten_nachos_tbl.with_column('Reactions', ten_nachos_tbl.apply(nacho_reaction, 'Nachos')) #SOLUTION\n",
    "ten_nachos_reactions"
   ]
  },
  {
   "cell_type": "code",
   "execution_count": 18,
   "id": "ecd1bb83",
   "metadata": {
    "deletable": false,
    "execution": {
     "iopub.execute_input": "2022-02-21T23:19:49.183672Z",
     "iopub.status.busy": "2022-02-21T23:19:49.182933Z",
     "iopub.status.idle": "2022-02-21T23:19:49.185788Z",
     "shell.execute_reply": "2022-02-21T23:19:49.186296Z"
    },
    "scrolled": true
   },
   "outputs": [
    {
     "data": {
      "text/plain": [
       "True"
      ]
     },
     "execution_count": 18,
     "metadata": {},
     "output_type": "execute_result"
    }
   ],
   "source": [
    "# TEST\n",
    "# One or more of the reaction results could be incorrect\n",
    "np.count_nonzero(ten_nachos_reactions.column('Reactions') == make_array('Meh.', 'Cheesy!', 'Wow!', 'Wow!', 'Cheesy!', 'Spicy!', 'Wow!', 'Meh.', 'Cheesy!', 'Wow!')) == 10"
   ]
  },
  {
   "cell_type": "markdown",
   "id": "66a8dba1",
   "metadata": {},
   "source": [
    "**Question 1.5** Using code, find the number of 'Wow!' reactions for the nachos in `ten_nachos_reactions`.\n",
    "\n",
    "```\n",
    "BEGIN QUESTION\n",
    "name: q15\n",
    "```"
   ]
  },
  {
   "cell_type": "code",
   "execution_count": 19,
   "id": "46186f58",
   "metadata": {
    "execution": {
     "iopub.execute_input": "2022-02-21T23:19:49.191131Z",
     "iopub.status.busy": "2022-02-21T23:19:49.190456Z",
     "iopub.status.idle": "2022-02-21T23:19:49.229417Z",
     "shell.execute_reply": "2022-02-21T23:19:49.192962Z"
    }
   },
   "outputs": [
    {
     "data": {
      "text/plain": [
       "4"
      ]
     },
     "execution_count": 19,
     "metadata": {},
     "output_type": "execute_result"
    }
   ],
   "source": [
    "number_wow_reactions = np.count_nonzero(ten_nachos_reactions.column('Reactions') == 'Wow!') #SOLUTION\n",
    "number_wow_reactions"
   ]
  },
  {
   "cell_type": "code",
   "execution_count": 20,
   "id": "cef150a6",
   "metadata": {
    "execution": {
     "iopub.execute_input": "2022-02-21T23:19:49.233853Z",
     "iopub.status.busy": "2022-02-21T23:19:49.233100Z",
     "iopub.status.idle": "2022-02-21T23:19:49.236400Z",
     "shell.execute_reply": "2022-02-21T23:19:49.235846Z"
    }
   },
   "outputs": [
    {
     "data": {
      "text/plain": [
       "True"
      ]
     },
     "execution_count": 20,
     "metadata": {},
     "output_type": "execute_result"
    }
   ],
   "source": [
    "# TEST\n",
    "2 < number_wow_reactions < 6"
   ]
  },
  {
   "cell_type": "code",
   "execution_count": 21,
   "id": "9590d7a7",
   "metadata": {
    "execution": {
     "iopub.execute_input": "2022-02-21T23:19:49.240412Z",
     "iopub.status.busy": "2022-02-21T23:19:49.239773Z",
     "iopub.status.idle": "2022-02-21T23:19:49.242991Z",
     "shell.execute_reply": "2022-02-21T23:19:49.242330Z"
    }
   },
   "outputs": [
    {
     "data": {
      "text/plain": [
       "True"
      ]
     },
     "execution_count": 21,
     "metadata": {},
     "output_type": "execute_result"
    }
   ],
   "source": [
    "# TEST\n",
    "# Incorrect value for number_wow_reactions\n",
    "number_wow_reactions == 4"
   ]
  },
  {
   "cell_type": "markdown",
   "id": "c6bee6ce",
   "metadata": {},
   "source": [
    "## 2. Simulations and For Loops\n",
    "Using a `for` statement, we can perform a task multiple times. This is known as iteration. The general structure of a for loop is:\n",
    "\n",
    "`for <placeholder> in <array>:` followed by indented lines of code that are repeated for each element of the `array` being iterated over. You can read more about for loops [here](https://www.inferentialthinking.com/chapters/09/2/Iteration.html). \n",
    "\n",
    "**NOTE:** We often use `i` as the `placeholder` in our class examples, but you could name it anything! Some examples can be found below."
   ]
  },
  {
   "cell_type": "markdown",
   "id": "6705bd01",
   "metadata": {},
   "source": [
    "One use of iteration is to loop through a set of values. For instance, we can print out all of the colors of the rainbow."
   ]
  },
  {
   "cell_type": "code",
   "execution_count": 22,
   "id": "26711e4b",
   "metadata": {
    "execution": {
     "iopub.execute_input": "2022-02-21T23:19:49.247295Z",
     "iopub.status.busy": "2022-02-21T23:19:49.246669Z",
     "iopub.status.idle": "2022-02-21T23:19:49.249924Z",
     "shell.execute_reply": "2022-02-21T23:19:49.249569Z"
    }
   },
   "outputs": [
    {
     "name": "stdout",
     "output_type": "stream",
     "text": [
      "red\n",
      "orange\n",
      "yellow\n",
      "green\n",
      "blue\n",
      "indigo\n",
      "violet\n"
     ]
    }
   ],
   "source": [
    "rainbow = make_array(\"red\", \"orange\", \"yellow\", \"green\", \"blue\", \"indigo\", \"violet\")\n",
    "\n",
    "for color in rainbow:\n",
    "    print(color)"
   ]
  },
  {
   "cell_type": "markdown",
   "id": "a11fcc1c",
   "metadata": {},
   "source": [
    "We can see that the indented part of the `for` loop, known as the body, is executed once for each item in `rainbow`. The name `color` is assigned to the next value in `rainbow` at the start of each iteration. Note that the name `color` is arbitrary; we could easily have named it something else. The important thing is we stay consistent throughout the `for` loop. "
   ]
  },
  {
   "cell_type": "code",
   "execution_count": 23,
   "id": "09683c3b",
   "metadata": {
    "execution": {
     "iopub.execute_input": "2022-02-21T23:19:49.253642Z",
     "iopub.status.busy": "2022-02-21T23:19:49.253048Z",
     "iopub.status.idle": "2022-02-21T23:19:49.255553Z",
     "shell.execute_reply": "2022-02-21T23:19:49.255841Z"
    }
   },
   "outputs": [
    {
     "name": "stdout",
     "output_type": "stream",
     "text": [
      "red\n",
      "orange\n",
      "yellow\n",
      "green\n",
      "blue\n",
      "indigo\n",
      "violet\n"
     ]
    }
   ],
   "source": [
    "for another_name in rainbow:\n",
    "    print(another_name)"
   ]
  },
  {
   "cell_type": "markdown",
   "id": "c4c4ab91",
   "metadata": {},
   "source": [
    "In general, however, we would like the variable name to be somewhat informative. "
   ]
  },
  {
   "cell_type": "markdown",
   "id": "21b685d5",
   "metadata": {},
   "source": [
    "**Question 2.1** In the following cell, we've loaded the text of _Pride and Prejudice_ by Jane Austen, split it into individual words, and stored these words in an array `p_and_p_words`. Using a `for` loop, assign `longer_than_five` to the number of words in the novel that are more than 5 letters long.\n",
    "\n",
    "*Hint*: You can find the number of letters in a word with the `len` function.\n",
    "\n",
    "*Hint*: How can you use `longer_than_five` to keep track of the number of words that are more than five letters long?\n",
    "\n",
    "```\n",
    "BEGIN QUESTION\n",
    "name: q21\n",
    "```"
   ]
  },
  {
   "cell_type": "code",
   "execution_count": 24,
   "id": "de651369",
   "metadata": {
    "execution": {
     "iopub.execute_input": "2022-02-21T23:19:49.260303Z",
     "iopub.status.busy": "2022-02-21T23:19:49.259639Z",
     "iopub.status.idle": "2022-02-21T23:19:49.378270Z",
     "shell.execute_reply": "2022-02-21T23:19:49.378640Z"
    },
    "for_assignment_type": "student"
   },
   "outputs": [
    {
     "data": {
      "text/plain": [
       "35453"
      ]
     },
     "execution_count": 24,
     "metadata": {},
     "output_type": "execute_result"
    }
   ],
   "source": [
    "austen_string = open('Austen_PrideAndPrejudice.txt', encoding='utf-8').read()\n",
    "p_and_p_words = np.array(austen_string.split())\n",
    "\n",
    "\"\"\" # BEGIN PROMPT\n",
    "longer_than_five = ...\n",
    "\n",
    "for ... in ...:\n",
    "    ...\n",
    "\"\"\"; # END PROMPT\n",
    "# BEGIN SOLUTION NO PROMPT\n",
    "longer_than_five = 0\n",
    "\n",
    "for word in p_and_p_words:\n",
    "    if len(word) > 5:\n",
    "        longer_than_five = longer_than_five + 1\n",
    "# END SOLUTION\n",
    "longer_than_five"
   ]
  },
  {
   "cell_type": "code",
   "execution_count": 25,
   "id": "39b6c949",
   "metadata": {
    "deletable": false,
    "execution": {
     "iopub.execute_input": "2022-02-21T23:19:49.382718Z",
     "iopub.status.busy": "2022-02-21T23:19:49.382212Z",
     "iopub.status.idle": "2022-02-21T23:19:49.385647Z",
     "shell.execute_reply": "2022-02-21T23:19:49.385144Z"
    }
   },
   "outputs": [
    {
     "data": {
      "text/plain": [
       "True"
      ]
     },
     "execution_count": 25,
     "metadata": {},
     "output_type": "execute_result"
    }
   ],
   "source": [
    "# TEST\n",
    "longer_than_five == 35453"
   ]
  },
  {
   "cell_type": "markdown",
   "id": "a786d954",
   "metadata": {},
   "source": [
    "Another way we can use `for` loops is to repeat lines of code many times. Recall the structure of a `for` loop: \n",
    "\n",
    "`for <placeholder> in <array>:` followed by indented lines of code that are repeated for each element of the array being iterated over. \n",
    "\n",
    "Sometimes, we don't care about what the value of the placeholder is. We instead take advantage of the fact that the `for` loop will repeat as many times as the length of our array. In the following cell, we iterate through an array of length 5 and print out \"Hello, world!\" in each iteration. "
   ]
  },
  {
   "cell_type": "code",
   "execution_count": 26,
   "id": "76daa740",
   "metadata": {
    "execution": {
     "iopub.execute_input": "2022-02-21T23:19:49.389367Z",
     "iopub.status.busy": "2022-02-21T23:19:49.388810Z",
     "iopub.status.idle": "2022-02-21T23:19:49.391999Z",
     "shell.execute_reply": "2022-02-21T23:19:49.391705Z"
    }
   },
   "outputs": [
    {
     "name": "stdout",
     "output_type": "stream",
     "text": [
      "Hello, world!\n",
      "Hello, world!\n",
      "Hello, world!\n",
      "Hello, world!\n",
      "Hello, world!\n"
     ]
    }
   ],
   "source": [
    "for i in np.arange(5):\n",
    "    print(\"Hello, world!\")"
   ]
  },
  {
   "cell_type": "markdown",
   "id": "38fb1deb",
   "metadata": {},
   "source": [
    "**Question 2.2** Using a simulation with 10,000 trials, assign `num_different` to the number of times, in 10,000 trials, that two words picked uniformly at random (with replacement) from Pride and Prejudice have different lengths. \n",
    "\n",
    "*Hint 1*: What function did we use in section 1 to sample at random with replacement from an array? \n",
    "\n",
    "*Hint 2*: Remember that `!=` checks for non-equality between two items.\n",
    "\n",
    "```\n",
    "BEGIN QUESTION\n",
    "name: q22\n",
    "```"
   ]
  },
  {
   "cell_type": "code",
   "execution_count": 27,
   "id": "fcfae0d2",
   "metadata": {
    "execution": {
     "iopub.execute_input": "2022-02-21T23:19:49.429852Z",
     "iopub.status.busy": "2022-02-21T23:19:49.410943Z",
     "iopub.status.idle": "2022-02-21T23:19:49.589291Z",
     "shell.execute_reply": "2022-02-21T23:19:49.588900Z"
    },
    "for_assignment_type": "student"
   },
   "outputs": [
    {
     "data": {
      "text/plain": [
       "8537"
      ]
     },
     "execution_count": 27,
     "metadata": {},
     "output_type": "execute_result"
    }
   ],
   "source": [
    "\"\"\" # BEGIN PROMPT\n",
    "trials = 10000\n",
    "num_different = ...\n",
    "\n",
    "for ... in ...:\n",
    "    ...\n",
    "\"\"\"; # END PROMPT\n",
    "# BEGIN SOLUTION NO PROMPT\n",
    "trials = 10000\n",
    "num_different = 0\n",
    "\n",
    "for i in np.arange(trials):\n",
    "    words = np.random.choice(p_and_p_words, 2)\n",
    "    if len(words.item(0)) != len(words.item(1)):\n",
    "        num_different = num_different + 1\n",
    "# END SOLUTION\n",
    "num_different"
   ]
  },
  {
   "cell_type": "code",
   "execution_count": 28,
   "id": "a45e8012",
   "metadata": {
    "deletable": false,
    "execution": {
     "iopub.execute_input": "2022-02-21T23:19:49.593170Z",
     "iopub.status.busy": "2022-02-21T23:19:49.592697Z",
     "iopub.status.idle": "2022-02-21T23:19:49.595439Z",
     "shell.execute_reply": "2022-02-21T23:19:49.595760Z"
    }
   },
   "outputs": [
    {
     "data": {
      "text/plain": [
       "True"
      ]
     },
     "execution_count": 28,
     "metadata": {},
     "output_type": "execute_result"
    }
   ],
   "source": [
    "# TEST\n",
    "8100 <= num_different <= 9100"
   ]
  },
  {
   "cell_type": "markdown",
   "id": "c5153184",
   "metadata": {},
   "source": [
    "## 3. Sampling Basketball Data\n",
    "\n",
    "We will now introduce the topic of sampling, which we’ll be discussing in more depth in this week’s lectures. We’ll guide you through this code, but if you wish to read more about different kinds of samples before attempting this question, you can check out [section 10 of the textbook](https://www.inferentialthinking.com/chapters/10/Sampling_and_Empirical_Distributions.html).\n",
    "\n",
    "Run the cell below to load player and salary data that we will use for our sampling. "
   ]
  },
  {
   "cell_type": "code",
   "execution_count": 29,
   "id": "c1846350",
   "metadata": {
    "execution": {
     "iopub.execute_input": "2022-02-21T23:19:49.600112Z",
     "iopub.status.busy": "2022-02-21T23:19:49.597997Z",
     "iopub.status.idle": "2022-02-21T23:19:49.641680Z",
     "shell.execute_reply": "2022-02-21T23:19:49.642013Z"
    }
   },
   "outputs": [
    {
     "data": {
      "text/html": [
       "<table border=\"1\" class=\"dataframe\">\n",
       "    <thead>\n",
       "        <tr>\n",
       "            <th>Name</th> <th>Age</th> <th>Team</th> <th>Games</th> <th>Rebounds</th> <th>Assists</th> <th>Steals</th> <th>Blocks</th> <th>Turnovers</th> <th>Points</th>\n",
       "        </tr>\n",
       "    </thead>\n",
       "    <tbody>\n",
       "        <tr>\n",
       "            <td>James Harden </td> <td>25  </td> <td>HOU </td> <td>81   </td> <td>459     </td> <td>565    </td> <td>154   </td> <td>60    </td> <td>321      </td> <td>2217  </td>\n",
       "        </tr>\n",
       "        <tr>\n",
       "            <td>Chris Paul   </td> <td>29  </td> <td>LAC </td> <td>82   </td> <td>376     </td> <td>838    </td> <td>156   </td> <td>15    </td> <td>190      </td> <td>1564  </td>\n",
       "        </tr>\n",
       "        <tr>\n",
       "            <td>Stephen Curry</td> <td>26  </td> <td>GSW </td> <td>80   </td> <td>341     </td> <td>619    </td> <td>163   </td> <td>16    </td> <td>249      </td> <td>1900  </td>\n",
       "        </tr>\n",
       "    </tbody>\n",
       "</table>\n",
       "<p>... (489 rows omitted)</p>"
      ],
      "text/plain": [
       "<IPython.core.display.HTML object>"
      ]
     },
     "metadata": {},
     "output_type": "display_data"
    },
    {
     "data": {
      "text/html": [
       "<table border=\"1\" class=\"dataframe\">\n",
       "    <thead>\n",
       "        <tr>\n",
       "            <th>PlayerName</th> <th>Salary</th>\n",
       "        </tr>\n",
       "    </thead>\n",
       "    <tbody>\n",
       "        <tr>\n",
       "            <td>Kobe Bryant      </td> <td>23500000</td>\n",
       "        </tr>\n",
       "        <tr>\n",
       "            <td>Amar'e Stoudemire</td> <td>23410988</td>\n",
       "        </tr>\n",
       "        <tr>\n",
       "            <td>Joe Johnson      </td> <td>23180790</td>\n",
       "        </tr>\n",
       "    </tbody>\n",
       "</table>\n",
       "<p>... (489 rows omitted)</p>"
      ],
      "text/plain": [
       "<IPython.core.display.HTML object>"
      ]
     },
     "metadata": {},
     "output_type": "display_data"
    },
    {
     "data": {
      "text/html": [
       "<table border=\"1\" class=\"dataframe\">\n",
       "    <thead>\n",
       "        <tr>\n",
       "            <th>PlayerName</th> <th>Salary</th> <th>Age</th> <th>Team</th> <th>Games</th> <th>Rebounds</th> <th>Assists</th> <th>Steals</th> <th>Blocks</th> <th>Turnovers</th> <th>Points</th>\n",
       "        </tr>\n",
       "    </thead>\n",
       "    <tbody>\n",
       "        <tr>\n",
       "            <td>A.J. Price  </td> <td>62552  </td> <td>28  </td> <td>TOT </td> <td>26   </td> <td>32      </td> <td>46     </td> <td>7     </td> <td>0     </td> <td>14       </td> <td>133   </td>\n",
       "        </tr>\n",
       "        <tr>\n",
       "            <td>Aaron Brooks</td> <td>1145685</td> <td>30  </td> <td>CHI </td> <td>82   </td> <td>166     </td> <td>261    </td> <td>54    </td> <td>15    </td> <td>157      </td> <td>954   </td>\n",
       "        </tr>\n",
       "        <tr>\n",
       "            <td>Aaron Gordon</td> <td>3992040</td> <td>19  </td> <td>ORL </td> <td>47   </td> <td>169     </td> <td>33     </td> <td>21    </td> <td>22    </td> <td>38       </td> <td>243   </td>\n",
       "        </tr>\n",
       "    </tbody>\n",
       "</table>\n",
       "<p>... (489 rows omitted)</p>"
      ],
      "text/plain": [
       "<IPython.core.display.HTML object>"
      ]
     },
     "metadata": {},
     "output_type": "display_data"
    }
   ],
   "source": [
    "player_data = Table().read_table(\"player_data.csv\")\n",
    "salary_data = Table().read_table(\"salary_data.csv\")\n",
    "full_data = salary_data.join(\"PlayerName\", player_data, \"Name\")\n",
    "\n",
    "# The show method immediately displays the contents of a table. \n",
    "# This way, we can display the top of two tables using a single cell.\n",
    "player_data.show(3)\n",
    "salary_data.show(3)\n",
    "full_data.show(3)"
   ]
  },
  {
   "cell_type": "markdown",
   "id": "6f9ec191",
   "metadata": {},
   "source": [
    "Rather than getting data on every player (as in the tables loaded above), imagine that we had gotten data on only a smaller subset of the players. For 492 players, it's not so unreasonable to expect to see all the data, but usually we aren't so lucky. \n",
    "\n",
    "If we want to make estimates about a certain numerical property of the population, we may have to come up with these estimates based only on a smaller sample. The numerical property of the population is known as a parameter, and the estimate is known as a statistic (e.g. the mean or median). Whether these estimates are useful or not often depends on how the sample was gathered. We have prepared some example sample datasets to see how they compare to the full NBA dataset. Later we'll ask you to create your own samples to see how they behave."
   ]
  },
  {
   "cell_type": "markdown",
   "id": "1775acf9",
   "metadata": {},
   "source": [
    "To save typing and increase the clarity of your code, we will package the analysis code into a few functions. This will be useful in the rest of the lab as we will repeatedly need to create histograms and collect summary statistics from that data."
   ]
  },
  {
   "cell_type": "markdown",
   "id": "d2f023a7",
   "metadata": {},
   "source": [
    "We've defined the `histograms` function below, which takes a table with columns `Age` and `Salary` and draws a histogram for each one. It uses bin widths of 1 year for `Age` and $1,000,000 for `Salary`."
   ]
  },
  {
   "cell_type": "code",
   "execution_count": 30,
   "id": "5dd8a36f",
   "metadata": {
    "execution": {
     "iopub.execute_input": "2022-02-21T23:19:49.666628Z",
     "iopub.status.busy": "2022-02-21T23:19:49.660288Z",
     "iopub.status.idle": "2022-02-21T23:19:50.152374Z",
     "shell.execute_reply": "2022-02-21T23:19:50.152689Z"
    },
    "scrolled": true
   },
   "outputs": [
    {
     "name": "stdout",
     "output_type": "stream",
     "text": [
      "Two histograms should be displayed below\n"
     ]
    },
    {
     "data": {
      "image/png": "[encoded data removed]",
      "text/plain": [
       "<Figure size 432x288 with 1 Axes>"
      ]
     },
     "metadata": {},
     "output_type": "display_data"
    },
    {
     "data": {
      "image/png": "[encoded data removed]",
      "text/plain": [
       "<Figure size 432x288 with 1 Axes>"
      ]
     },
     "metadata": {},
     "output_type": "display_data"
    }
   ],
   "source": [
    "def histograms(t):\n",
    "    ages = t.column('Age')\n",
    "    salaries = t.column('Salary')/1000000\n",
    "    t1 = t.drop('Salary').with_column('Salary', salaries)\n",
    "    age_bins = np.arange(min(ages), max(ages) + 2, 1) \n",
    "    salary_bins = np.arange(min(salaries), max(salaries) + 1, 1)\n",
    "    t1.hist('Age', bins=age_bins, unit='year')\n",
    "    plt.title('Age distribution')\n",
    "    t1.hist('Salary', bins=salary_bins, unit='million dollars')\n",
    "    plt.title('Salary distribution') \n",
    "    \n",
    "histograms(full_data)\n",
    "print('Two histograms should be displayed below')"
   ]
  },
  {
   "cell_type": "markdown",
   "id": "1a7666b7",
   "metadata": {},
   "source": [
    "**Question 3.1**. Create a function called `compute_statistics` that takes a table containing an \"Age\" column and a \"Salary\" column and:\n",
    "- Draws a histogram of ages\n",
    "- Draws a histogram of salaries\n",
    "- Returns a two-element array containing the average age and average salary (in that order)\n",
    "\n",
    "You can call the `histograms` function to draw the histograms! \n",
    "\n",
    "*Note:* More charts will be displayed when running the test cell. Please feel free to ignore the charts.\n",
    "\n",
    "```\n",
    "BEGIN QUESTION\n",
    "name: q31\n",
    "```"
   ]
  },
  {
   "cell_type": "code",
   "execution_count": 31,
   "id": "cd2d3da1",
   "metadata": {
    "execution": {
     "iopub.execute_input": "2022-02-21T23:19:50.171470Z",
     "iopub.status.busy": "2022-02-21T23:19:50.170872Z",
     "iopub.status.idle": "2022-02-21T23:19:50.637413Z",
     "shell.execute_reply": "2022-02-21T23:19:50.637772Z"
    }
   },
   "outputs": [
    {
     "data": {
      "text/plain": [
       "array([2.65365854e+01, 4.26977577e+06])"
      ]
     },
     "execution_count": 31,
     "metadata": {},
     "output_type": "execute_result"
    },
    {
     "data": {
      "image/png": "[encoded data removed]",
      "text/plain": [
       "<Figure size 432x288 with 1 Axes>"
      ]
     },
     "metadata": {},
     "output_type": "display_data"
    },
    {
     "data": {
      "image/png": "[encoded data removed]",
      "text/plain": [
       "<Figure size 432x288 with 1 Axes>"
      ]
     },
     "metadata": {},
     "output_type": "display_data"
    }
   ],
   "source": [
    "def compute_statistics(age_and_salary_data):\n",
    "    histograms(age_and_salary_data) #SOLUTION\n",
    "    age = age_and_salary_data.column(\"Age\") #SOLUTION\n",
    "    salary = age_and_salary_data.column(\"Salary\") #SOLUTION\n",
    "    return make_array(np.mean(age), np.mean(salary)) #SOLUTION\n",
    "    \n",
    "\n",
    "full_stats = compute_statistics(full_data)\n",
    "full_stats"
   ]
  },
  {
   "cell_type": "code",
   "execution_count": 32,
   "id": "b1d95d3f",
   "metadata": {
    "deletable": false,
    "execution": {
     "iopub.execute_input": "2022-02-21T23:19:50.655055Z",
     "iopub.status.busy": "2022-02-21T23:19:50.641492Z",
     "iopub.status.idle": "2022-02-21T23:19:50.831737Z",
     "shell.execute_reply": "2022-02-21T23:19:50.831145Z"
    },
    "scrolled": true
   },
   "outputs": [
    {
     "data": {
      "text/plain": [
       "True"
      ]
     },
     "execution_count": 32,
     "metadata": {},
     "output_type": "execute_result"
    }
   ],
   "source": [
    "# TEST\n",
    "stats = compute_statistics(full_data)\n",
    "plt.close()\n",
    "plt.close()\n",
    "round(float(stats[0]), 2) == 26.54"
   ]
  },
  {
   "cell_type": "code",
   "execution_count": 33,
   "id": "b6a60de4",
   "metadata": {
    "execution": {
     "iopub.execute_input": "2022-02-21T23:19:50.849253Z",
     "iopub.status.busy": "2022-02-21T23:19:50.836588Z",
     "iopub.status.idle": "2022-02-21T23:19:51.046764Z",
     "shell.execute_reply": "2022-02-21T23:19:51.047197Z"
    }
   },
   "outputs": [
    {
     "data": {
      "text/plain": [
       "True"
      ]
     },
     "execution_count": 33,
     "metadata": {},
     "output_type": "execute_result"
    }
   ],
   "source": [
    "# TEST\n",
    "stats = compute_statistics(full_data)\n",
    "plt.close()\n",
    "plt.close()\n",
    "round(float(stats[1]), 2) == 4269775.77"
   ]
  },
  {
   "cell_type": "markdown",
   "id": "68997985",
   "metadata": {},
   "source": [
    "### Simple random sampling\n",
    "A more justifiable approach is to sample uniformly at random from the players.  In a **simple random sample (SRS) without replacement**, we ensure that each player is selected at most once. Imagine writing down each player's name on a card, putting the cards in an box, and shuffling the box.  Then, pull out cards one by one and set them aside, stopping when the specified sample size is reached."
   ]
  },
  {
   "cell_type": "markdown",
   "id": "bcd204f2",
   "metadata": {},
   "source": [
    "### Producing simple random samples\n",
    "Sometimes, it’s useful to take random samples even when we have the data for the whole population. It helps us understand sampling accuracy.\n",
    "\n",
    "### `sample`\n",
    "\n",
    "The table method `sample` produces a random sample from the table. By default, it draws at random **with replacement** from the rows of a table. Sampling with replacement means for any row selected randomly, there is a chance it can be selected again if we sample multiple times. `Sample` takes in the sample size as its argument and returns a **table** with only the rows that were selected. \n",
    "\n",
    "Run the cell below to see an example call to `sample()` with a sample size of 5, with replacement."
   ]
  },
  {
   "cell_type": "code",
   "execution_count": 34,
   "id": "fa57eb53",
   "metadata": {
    "execution": {
     "iopub.execute_input": "2022-02-21T23:19:51.053018Z",
     "iopub.status.busy": "2022-02-21T23:19:51.052257Z",
     "iopub.status.idle": "2022-02-21T23:19:51.056018Z",
     "shell.execute_reply": "2022-02-21T23:19:51.055647Z"
    }
   },
   "outputs": [
    {
     "data": {
      "text/html": [
       "<table border=\"1\" class=\"dataframe\">\n",
       "    <thead>\n",
       "        <tr>\n",
       "            <th>PlayerName</th> <th>Salary</th>\n",
       "        </tr>\n",
       "    </thead>\n",
       "    <tbody>\n",
       "        <tr>\n",
       "            <td>Thaddeus Young</td> <td>9660869 </td>\n",
       "        </tr>\n",
       "        <tr>\n",
       "            <td>Reggie Evans  </td> <td>1768653 </td>\n",
       "        </tr>\n",
       "        <tr>\n",
       "            <td>Jeremy Lamb   </td> <td>2202000 </td>\n",
       "        </tr>\n",
       "        <tr>\n",
       "            <td>Meyers Leonard</td> <td>2317920 </td>\n",
       "        </tr>\n",
       "        <tr>\n",
       "            <td>Nene Hilario  </td> <td>13000000</td>\n",
       "        </tr>\n",
       "    </tbody>\n",
       "</table>"
      ],
      "text/plain": [
       "PlayerName     | Salary\n",
       "Thaddeus Young | 9660869\n",
       "Reggie Evans   | 1768653\n",
       "Jeremy Lamb    | 2202000\n",
       "Meyers Leonard | 2317920\n",
       "Nene Hilario   | 13000000"
      ]
     },
     "execution_count": 34,
     "metadata": {},
     "output_type": "execute_result"
    }
   ],
   "source": [
    "# Just run this cell\n",
    "\n",
    "salary_data.sample(5)"
   ]
  },
  {
   "cell_type": "markdown",
   "id": "b62dfadb",
   "metadata": {},
   "source": [
    "The optional argument `with_replacement=False` can be passed through `sample()` to specify that the sample should be drawn without replacement.\n",
    "\n",
    "Run the cell below to see an example call to `sample()` with a sample size of 5, without replacement."
   ]
  },
  {
   "cell_type": "code",
   "execution_count": 35,
   "id": "e0009778",
   "metadata": {
    "execution": {
     "iopub.execute_input": "2022-02-21T23:19:51.130832Z",
     "iopub.status.busy": "2022-02-21T23:19:51.130105Z",
     "iopub.status.idle": "2022-02-21T23:19:51.134273Z",
     "shell.execute_reply": "2022-02-21T23:19:51.133800Z"
    }
   },
   "outputs": [
    {
     "data": {
      "text/html": [
       "<table border=\"1\" class=\"dataframe\">\n",
       "    <thead>\n",
       "        <tr>\n",
       "            <th>PlayerName</th> <th>Salary</th>\n",
       "        </tr>\n",
       "    </thead>\n",
       "    <tbody>\n",
       "        <tr>\n",
       "            <td>Arinze Onuaku</td> <td>43226  </td>\n",
       "        </tr>\n",
       "        <tr>\n",
       "            <td>Ryan Kelly   </td> <td>1650000</td>\n",
       "        </tr>\n",
       "        <tr>\n",
       "            <td>Aaron Brooks </td> <td>1145685</td>\n",
       "        </tr>\n",
       "        <tr>\n",
       "            <td>Devin Harris </td> <td>3878896</td>\n",
       "        </tr>\n",
       "        <tr>\n",
       "            <td>Tyrus Thomas </td> <td>9388000</td>\n",
       "        </tr>\n",
       "    </tbody>\n",
       "</table>"
      ],
      "text/plain": [
       "PlayerName    | Salary\n",
       "Arinze Onuaku | 43226\n",
       "Ryan Kelly    | 1650000\n",
       "Aaron Brooks  | 1145685\n",
       "Devin Harris  | 3878896\n",
       "Tyrus Thomas  | 9388000"
      ]
     },
     "execution_count": 35,
     "metadata": {},
     "output_type": "execute_result"
    }
   ],
   "source": [
    "# Just run this cell\n",
    "\n",
    "salary_data.sample(5, with_replacement=False)"
   ]
  },
  {
   "cell_type": "markdown",
   "id": "fa9a020f",
   "metadata": {},
   "source": [
    "**Question 3.2** Produce a simple random sample **without** replacement of size **44** from `full_data`. Then, run your analysis on it again by using the `compute_statistics` function.  Run the cell a few times to see how the histograms and statistics change across different samples.\n",
    "\n",
    "- How much does the average age change across samples? \n",
    "- What about average salary?\n",
    "\n",
    "(FYI: srs = simple random sample, wor = without replacement)"
   ]
  },
  {
   "cell_type": "code",
   "execution_count": 36,
   "id": "5a0f19c3",
   "metadata": {
    "execution": {
     "iopub.execute_input": "2022-02-21T23:19:51.156659Z",
     "iopub.status.busy": "2022-02-21T23:19:51.151599Z",
     "iopub.status.idle": "2022-02-21T23:19:51.693559Z",
     "shell.execute_reply": "2022-02-21T23:19:51.693073Z"
    }
   },
   "outputs": [
    {
     "data": {
      "text/plain": [
       "array([2.68636364e+01, 3.96242375e+06])"
      ]
     },
     "execution_count": 36,
     "metadata": {},
     "output_type": "execute_result"
    },
    {
     "data": {
      "image/png": "[encoded data removed]",
      "text/plain": [
       "<Figure size 432x288 with 1 Axes>"
      ]
     },
     "metadata": {},
     "output_type": "display_data"
    },
    {
     "data": {
      "image/png": "[encoded data removed]",
      "text/plain": [
       "<Figure size 432x288 with 1 Axes>"
      ]
     },
     "metadata": {},
     "output_type": "display_data"
    }
   ],
   "source": [
    "my_small_srswor_data = full_data.sample(44, with_replacement = False) #SOLUTION\n",
    "my_small_stats = compute_statistics(my_small_srswor_data) #SOLUTION\n",
    "my_small_stats"
   ]
  },
  {
   "cell_type": "markdown",
   "id": "8473d154",
   "metadata": {
    "deletable": false,
    "manual_problem_id": "q_3_7_samples"
   },
   "source": [
    "**SOLUTION:** The average age tends to stay around the same value as there is a limited range of ages for NBA players, but the salary changes by a sizeable factor due to larger variability in salary."
   ]
  },
  {
   "cell_type": "markdown",
   "id": "c31c2b76",
   "metadata": {},
   "source": [
    "## 4. More Random Sampling Practice\n",
    "\n",
    "More practice for random sampling using `np.random.choice`."
   ]
  },
  {
   "cell_type": "markdown",
   "id": "7e1267e2",
   "metadata": {},
   "source": [
    "###  Simulations and For Loops (cont.)"
   ]
  },
  {
   "cell_type": "markdown",
   "id": "652eb98f",
   "metadata": {},
   "source": [
    "**Question 4.1** We can use `np.random.choice` to simulate multiple trials.\n",
    "\n",
    "After finishing the Data 8 project, Stephanie decides to spend the rest of her night rolling a standard six-sided die. She wants to know what her total score would be if she rolled the die 1000 times. Write code that simulates her total score after 1000 rolls. \n",
    "\n",
    "*Hint:* First decide the possible values you can take in the experiment (point values in this case). Then use `np.random.choice` to simulate Stephanie’s rolls. Finally, sum up the rolls to get Stephanie's total score.\n",
    "\n",
    "```\n",
    "BEGIN QUESTION\n",
    "name: q41\n",
    "```"
   ]
  },
  {
   "cell_type": "code",
   "execution_count": 37,
   "id": "4b8aadbd",
   "metadata": {
    "execution": {
     "iopub.execute_input": "2022-02-21T23:19:51.698993Z",
     "iopub.status.busy": "2022-02-21T23:19:51.698520Z",
     "iopub.status.idle": "2022-02-21T23:19:51.701639Z",
     "shell.execute_reply": "2022-02-21T23:19:51.701295Z"
    }
   },
   "outputs": [
    {
     "data": {
      "text/plain": [
       "3562"
      ]
     },
     "execution_count": 37,
     "metadata": {},
     "output_type": "execute_result"
    }
   ],
   "source": [
    "\"\"\" # BEGIN PROMPT\n",
    "possible_point_values = ...\n",
    "num_tosses = 1000\n",
    "simulated_tosses = ...\n",
    "total_score = ...\n",
    "\"\"\"; # END PROMPT\n",
    "# BEGIN SOLUTION NO PROMPT\n",
    "possible_point_values = np.arange(1, 7)\n",
    "num_rolls = 1000\n",
    "simulated_rolls = np.random.choice(possible_point_values, num_rolls)\n",
    "total_score = sum(simulated_rolls)\n",
    "# END SOLUTION\n",
    "total_score"
   ]
  },
  {
   "cell_type": "code",
   "execution_count": 38,
   "id": "a93e541b",
   "metadata": {
    "execution": {
     "iopub.execute_input": "2022-02-21T23:19:51.705081Z",
     "iopub.status.busy": "2022-02-21T23:19:51.703587Z",
     "iopub.status.idle": "2022-02-21T23:19:51.708018Z",
     "shell.execute_reply": "2022-02-21T23:19:51.708369Z"
    }
   },
   "outputs": [
    {
     "data": {
      "text/plain": [
       "True"
      ]
     },
     "execution_count": 38,
     "metadata": {},
     "output_type": "execute_result"
    }
   ],
   "source": [
    "# TEST\n",
    "3000 <= total_score <= 4000"
   ]
  },
  {
   "cell_type": "markdown",
   "id": "9564b1f4",
   "metadata": {},
   "source": [
    "### Simple random sampling (cont.)"
   ]
  },
  {
   "cell_type": "markdown",
   "id": "e7e8d196",
   "metadata": {},
   "source": [
    "**Question 4.2** As in the previous question, analyze several simple random samples of size 100 from `full_data` by using the `compute_statistics` function.  \n",
    "- Do the histogram shapes seem to change more or less across samples of 100 than across samples of size 44?  \n",
    "- Are the sample averages and histograms closer to their true values/shape for age or for salary?  What did you expect to see?"
   ]
  },
  {
   "cell_type": "code",
   "execution_count": 39,
   "id": "dc4f654b",
   "metadata": {
    "execution": {
     "iopub.execute_input": "2022-02-21T23:19:51.805810Z",
     "iopub.status.busy": "2022-02-21T23:19:51.798821Z",
     "iopub.status.idle": "2022-02-21T23:19:52.245252Z",
     "shell.execute_reply": "2022-02-21T23:19:52.244612Z"
    }
   },
   "outputs": [
    {
     "data": {
      "text/plain": [
       "array([2.63900000e+01, 4.04243142e+06])"
      ]
     },
     "execution_count": 39,
     "metadata": {},
     "output_type": "execute_result"
    },
    {
     "data": {
      "image/png": "[encoded data removed]",
      "text/plain": [
       "<Figure size 432x288 with 1 Axes>"
      ]
     },
     "metadata": {},
     "output_type": "display_data"
    },
    {
     "data": {
      "image/png": "[encoded data removed]",
      "text/plain": [
       "<Figure size 432x288 with 1 Axes>"
      ]
     },
     "metadata": {},
     "output_type": "display_data"
    }
   ],
   "source": [
    "my_large_srswor_data = full_data.sample(100, with_replacement = False) #SOLUTION\n",
    "my_large_stats = compute_statistics(my_large_srswor_data) #SOLUTION\n",
    "my_large_stats"
   ]
  },
  {
   "cell_type": "markdown",
   "id": "33d725b6",
   "metadata": {},
   "source": [
    "**SOLUTION:** The average and histogram statistics seem to change less across samples of 100. They are closer to their true values, which is what we'd expect to see because we are sampling a larger subset of the population. The histogram and sample average for age seem closer to their true value or shape. We'd expect this because players' ages are less variable than their salaries."
   ]
  },
  {
   "cell_type": "markdown",
   "id": "d6eaa42b",
   "metadata": {},
   "source": [
    "## 5. Submission\n",
    "<img src=\"luke_leia.jpg\" alt=\"drawing\" width=\"300\"/>\n",
    "\n",
    "Luke & Leia wants to congratulate you on finishing lab 5!\n",
    "\n",
    "<img src=\"luke.jpg\" alt=\"drawing\" width=\"300\"/>\n",
    "\n",
    "**Important submission steps:** \n",
    "1. Run the tests and verify that they all pass.\n",
    "2. Choose **Save Notebook** from the **File** menu, then **run the final cell**. \n",
    "3. Click the link to download the zip file.\n",
    "4. Then submit the zip file to the corresponding assignment according to your instructor's directions. \n",
    "\n",
    "**It is your responsibility to make sure your work is saved before running the last cell.**"
   ]
  }
 ],
 "metadata": {
  "kernelspec": {
   "display_name": "Python 3 (ipykernel)",
   "language": "python",
   "name": "python3"
  },
  "language_info": {
   "codemirror_mode": {
    "name": "ipython",
    "version": 3
   },
   "file_extension": ".py",
   "mimetype": "text/x-python",
   "name": "python",
   "nbconvert_exporter": "python",
   "pygments_lexer": "ipython3",
   "version": "3.9.13"
  }
 },
 "nbformat": 4,
 "nbformat_minor": 5
}
